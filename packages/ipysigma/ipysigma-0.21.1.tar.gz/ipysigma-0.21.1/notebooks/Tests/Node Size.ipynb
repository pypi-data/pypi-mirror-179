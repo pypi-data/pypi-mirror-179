{
 "cells": [
  {
   "cell_type": "code",
   "execution_count": 1,
   "id": "ea946c77-543e-4f7b-b1e7-0bb73979bde5",
   "metadata": {},
   "outputs": [],
   "source": [
    "import networkx as nx\n",
    "from ipysigma import Sigma"
   ]
  },
  {
   "cell_type": "code",
   "execution_count": 2,
   "id": "a656fd1d-1f75-452e-a59b-35193e4333fe",
   "metadata": {},
   "outputs": [],
   "source": [
    "Sigma.set_defaults(height=250)"
   ]
  },
  {
   "cell_type": "code",
   "execution_count": 3,
   "id": "474bdaf2-ced8-4bc7-a3de-48f24c342a07",
   "metadata": {},
   "outputs": [],
   "source": [
    "g = nx.karate_club_graph()"
   ]
  },
  {
   "cell_type": "code",
   "execution_count": 4,
   "id": "b83a42a1-9c81-4c3f-91a8-013e9aab52f8",
   "metadata": {},
   "outputs": [
    {
     "data": {
      "application/vnd.jupyter.widget-view+json": {
       "model_id": "6ce8264a8c3f472ab2ea7e17df6f2f82",
       "version_major": 2,
       "version_minor": 0
      },
      "text/plain": [
       "Sigma(nx.Graph with 34 nodes and 78 edges)"
      ]
     },
     "metadata": {},
     "output_type": "display_data"
    }
   ],
   "source": [
    "Sigma(g)"
   ]
  },
  {
   "cell_type": "code",
   "execution_count": 5,
   "id": "5c7b7c36-21c8-433d-b157-aacfa0b89cf2",
   "metadata": {},
   "outputs": [
    {
     "data": {
      "application/vnd.jupyter.widget-view+json": {
       "model_id": "a6e7bed9226c4e949fbf9cfe3b709460",
       "version_major": 2,
       "version_minor": 0
      },
      "text/plain": [
       "Sigma(nx.Graph with 34 nodes and 78 edges)"
      ]
     },
     "metadata": {},
     "output_type": "display_data"
    }
   ],
   "source": [
    "Sigma(g, node_size=g.degree)"
   ]
  },
  {
   "cell_type": "code",
   "execution_count": 6,
   "id": "abc318d6-ac2f-4475-8144-84e5bb616d6c",
   "metadata": {},
   "outputs": [
    {
     "data": {
      "application/vnd.jupyter.widget-view+json": {
       "model_id": "6e62b2ec9e784411bd5e94b5778cd416",
       "version_major": 2,
       "version_minor": 0
      },
      "text/plain": [
       "Sigma(nx.Graph with 34 nodes and 78 edges)"
      ]
     },
     "metadata": {},
     "output_type": "display_data"
    }
   ],
   "source": [
    "Sigma(g, node_size=g.degree, node_size_range=(1, 5))"
   ]
  },
  {
   "cell_type": "code",
   "execution_count": 7,
   "id": "5cfe6a52-3121-4504-8791-95ceb71e09ca",
   "metadata": {},
   "outputs": [],
   "source": [
    "for i, (node, attr) in enumerate(g.nodes.data()):\n",
    "    attr['count'] = i / 2.0"
   ]
  },
  {
   "cell_type": "code",
   "execution_count": 8,
   "id": "d197a6d6-e07d-4f3a-9a43-bcf05eb997c7",
   "metadata": {},
   "outputs": [
    {
     "data": {
      "application/vnd.jupyter.widget-view+json": {
       "model_id": "a66ebca617ce4707a3fb88721dc556fa",
       "version_major": 2,
       "version_minor": 0
      },
      "text/plain": [
       "Sigma(nx.Graph with 34 nodes and 78 edges)"
      ]
     },
     "metadata": {},
     "output_type": "display_data"
    }
   ],
   "source": [
    "Sigma(g, raw_node_size='count')"
   ]
  },
  {
   "cell_type": "code",
   "execution_count": 9,
   "id": "f926d9bd-d0cf-4d61-a195-af3c13780251",
   "metadata": {},
   "outputs": [
    {
     "data": {
      "application/vnd.jupyter.widget-view+json": {
       "model_id": "59982d9cfec74c41b4784f2a838fbd04",
       "version_major": 2,
       "version_minor": 0
      },
      "text/plain": [
       "Sigma(nx.Graph with 34 nodes and 78 edges)"
      ]
     },
     "metadata": {},
     "output_type": "display_data"
    }
   ],
   "source": [
    "Sigma(g, default_node_size=10, raw_node_size={1: 20})"
   ]
  },
  {
   "cell_type": "code",
   "execution_count": 10,
   "id": "1d8ca4c0-678e-471f-af5d-94d25e160987",
   "metadata": {},
   "outputs": [
    {
     "data": {
      "application/vnd.jupyter.widget-view+json": {
       "model_id": "5347841bcf4c4ec785a76c0c7837e821",
       "version_major": 2,
       "version_minor": 0
      },
      "text/plain": [
       "Sigma(nx.Graph with 34 nodes and 78 edges)"
      ]
     },
     "metadata": {},
     "output_type": "display_data"
    }
   ],
   "source": [
    "Sigma(g, default_node_size=10, node_size={1: 0, 2: 1}, node_size_range=(15, 25))"
   ]
  }
 ],
 "metadata": {
  "kernelspec": {
   "display_name": "Python 3",
   "language": "python",
   "name": "python3"
  },
  "language_info": {
   "codemirror_mode": {
    "name": "ipython",
    "version": 3
   },
   "file_extension": ".py",
   "mimetype": "text/x-python",
   "name": "python",
   "nbconvert_exporter": "python",
   "pygments_lexer": "ipython3",
   "version": "3.6.10"
  }
 },
 "nbformat": 4,
 "nbformat_minor": 5
}
