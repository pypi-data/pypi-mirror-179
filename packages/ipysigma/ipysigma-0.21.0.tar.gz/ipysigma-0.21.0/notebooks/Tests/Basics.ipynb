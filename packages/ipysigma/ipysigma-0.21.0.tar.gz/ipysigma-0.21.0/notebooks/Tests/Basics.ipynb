{
 "cells": [
  {
   "cell_type": "code",
   "execution_count": 1,
   "id": "414ad4c9",
   "metadata": {},
   "outputs": [],
   "source": [
    "import networkx as nx\n",
    "from ipysigma import Sigma"
   ]
  },
  {
   "cell_type": "code",
   "execution_count": 2,
   "id": "1ae22a6d-771e-412e-9a14-10d953f25bde",
   "metadata": {},
   "outputs": [
    {
     "data": {
      "application/vnd.jupyter.widget-view+json": {
       "model_id": "152e7d6b5c8941afab3950bc736504a0",
       "version_major": 2,
       "version_minor": 0
      },
      "text/plain": [
       "Sigma(nx.Graph with 34 nodes and 78 edges)"
      ]
     },
     "metadata": {},
     "output_type": "display_data"
    }
   ],
   "source": [
    "g = nx.karate_club_graph()\n",
    "from random import random\n",
    "categ = {}\n",
    "for k, a in g.nodes(data=True):\n",
    "    a['size'] = 20 * random()\n",
    "    a['random'] = random()\n",
    "    categ[k] = random() > 0.5\n",
    "for _, _, a in g.edges(data=True):\n",
    "    a['random'] = random()\n",
    "    a['partition'] = random() > 0.5\n",
    "    a['label'] = 'Test'\n",
    "    \n",
    "    if random() > 0.5:\n",
    "        a['half'] = True\n",
    "\n",
    "sigma = Sigma(\n",
    "    g,\n",
    "    node_size=g.degree,\n",
    "    node_size_range=[5, 10],\n",
    "    edge_label='label',\n",
    "    edge_size='random',\n",
    "    clickable_edges=True,\n",
    "    edge_weight='random',\n",
    "    edge_color_palette={True: 'yellow'},\n",
    "    default_edge_color='cyan',\n",
    "    node_color='club',\n",
    "    node_color_palette={'Mr. Hi': 'green', 'Officer': 'pink'},\n",
    "    default_edge_type='line',\n",
    "    edge_zindex=lambda s, t, a: a.get('half', 0)\n",
    ")\n",
    "sigma"
   ]
  },
  {
   "cell_type": "code",
   "execution_count": 4,
   "id": "ff0f2886-0fc6-4a66-a1bf-5d6e52f4378f",
   "metadata": {
    "tags": []
   },
   "outputs": [
    {
     "data": {
      "application/vnd.jupyter.widget-view+json": {
       "model_id": "d2e917c17bb8437bab6be2c22d65c59a",
       "version_major": 2,
       "version_minor": 0
      },
      "text/plain": [
       "Sigma(nx.DiGraph with 366 nodes and 1,107 edges)"
      ]
     },
     "metadata": {},
     "output_type": "display_data"
    }
   ],
   "source": [
    "g = nx.read_gexf('../data/rio.gexf')\n",
    "\n",
    "for s, t, a in g.edges.data():\n",
    "    a['lang'] = g.nodes[s]['Language']\n",
    "\n",
    "sigma = Sigma(\n",
    "    g,\n",
    "    node_color='category',\n",
    "    edge_size_range=5,\n",
    "    node_size=g.in_degree,\n",
    "    clickable_edges=True,\n",
    "    default_edge_type='line',\n",
    "    default_node_border_ratio=0.1,\n",
    "    default_node_border_color='black',\n",
    "    node_metrics={'category': 'louvain'}\n",
    ")\n",
    "sigma"
   ]
  },
  {
   "cell_type": "code",
   "execution_count": 5,
   "id": "061b0816-f865-4766-bfd2-861927912929",
   "metadata": {},
   "outputs": [
    {
     "data": {
      "application/vnd.jupyter.widget-view+json": {
       "model_id": "92c3abfb4e6143cb8a2dd81c6528d29a",
       "version_major": 2,
       "version_minor": 0
      },
      "text/plain": [
       "Sigma(nx.Graph with 5 nodes and 3 edges)"
      ]
     },
     "metadata": {},
     "output_type": "display_data"
    }
   ],
   "source": [
    "g = nx.Graph()\n",
    "g.add_edge(1, 2)\n",
    "g.add_edge(4, 5, size=10)\n",
    "g.add_edge(2, 3, key='test', size=20)\n",
    "Sigma(g, clickable_edges=True)"
   ]
  },
  {
   "cell_type": "code",
   "execution_count": 8,
   "id": "f0221d02-b343-4e6a-9e73-eeb479d54523",
   "metadata": {},
   "outputs": [
    {
     "data": {
      "application/vnd.jupyter.widget-view+json": {
       "model_id": "d0e06cfbc96d48efb2c80b9cb4f22af0",
       "version_major": 2,
       "version_minor": 0
      },
      "text/plain": [
       "Sigma(nx.DiGraph with 1,715 nodes and 6,676 edges)"
      ]
     },
     "metadata": {},
     "output_type": "display_data"
    }
   ],
   "source": [
    "g = nx.read_gexf('../data/arctic.gexf')\n",
    "sigma = Sigma(\n",
    "    g,\n",
    "    node_size=g.in_degree,\n",
    "    default_node_border_color='#000',\n",
    "    node_size_range=(2, 15),\n",
    "    default_node_border_ratio=0.05,\n",
    "    node_color='nodedef',\n",
    "    max_category_colors=100\n",
    ")\n",
    "sigma"
   ]
  },
  {
   "cell_type": "code",
   "execution_count": 9,
   "id": "240a66d7-7a4b-4e24-a3be-9e1d229ca126",
   "metadata": {},
   "outputs": [
    {
     "data": {
      "application/vnd.jupyter.widget-view+json": {
       "model_id": "39ef7a5258d045c89b8f92bdf9185b60",
       "version_major": 2,
       "version_minor": 0
      },
      "text/plain": [
       "Sigma(nx.Graph with 6 nodes and 7 edges)"
      ]
     },
     "metadata": {},
     "output_type": "display_data"
    }
   ],
   "source": [
    "g = nx.Graph()\n",
    "g.add_node(1, category=1, subcategory=1)\n",
    "g.add_node(2, category=1, subcategory=2)\n",
    "g.add_node(3, category=1, subcategory=3)\n",
    "g.add_node(4, category=2, subcategory=1)\n",
    "g.add_node(5, category=2, subcategory=2)\n",
    "g.add_node(6, category=2, subcategory=3)\n",
    "\n",
    "g.add_edge(1, 2)\n",
    "g.add_edge(1, 3)\n",
    "g.add_edge(2, 3)\n",
    "g.add_edge(4, 5)\n",
    "g.add_edge(4, 6)\n",
    "g.add_edge(5, 6)\n",
    "g.add_edge(1, 4)\n",
    "\n",
    "Sigma(\n",
    "    g,\n",
    "    node_size_range=10\n",
    ")"
   ]
  }
 ],
 "metadata": {
  "kernelspec": {
   "display_name": "Python 3",
   "language": "python",
   "name": "python3"
  },
  "language_info": {
   "codemirror_mode": {
    "name": "ipython",
    "version": 3
   },
   "file_extension": ".py",
   "mimetype": "text/x-python",
   "name": "python",
   "nbconvert_exporter": "python",
   "pygments_lexer": "ipython3",
   "version": "3.6.10"
  }
 },
 "nbformat": 4,
 "nbformat_minor": 5
}
