{
 "cells": [
  {
   "cell_type": "markdown",
   "id": "579f0cbf",
   "metadata": {},
   "source": [
    "## End to end examples logging data to Galileo for Text Classification, MLTC, and NER"
   ]
  },
  {
   "cell_type": "markdown",
   "id": "27921069",
   "metadata": {},
   "source": [
    "### For understanding the client and how to get started, see the [Dataquality Demo](./Dataquality-Client-Demo.ipynb)\n",
    "### Check out the full documentation [here](https://rungalileo.gitbook.io/galileo/getting-started)\n",
    "### To see real end-to-end notebooks training real ML models, see [here](https://drive.google.com/drive/folders/17-cHuRzXIpWaD8rYwy69RMQr__HiAiDk?usp=sharing)"
   ]
  },
  {
   "cell_type": "code",
   "execution_count": 17,
   "id": "df9b0c5a",
   "metadata": {},
   "outputs": [],
   "source": [
    "## Local\n",
    "\n",
    "import os\n",
    "\n",
    "os.environ['GALILEO_CONSOLE_URL']=\"http://localhost:8088\"\n",
    "os.environ[\"GALILEO_USERNAME\"]=\"user@example.com\"\n",
    "os.environ[\"GALILEO_PASSWORD\"]=\"Th3secret_\""
   ]
  },
  {
   "cell_type": "code",
   "execution_count": 13,
   "id": "9d05418f",
   "metadata": {},
   "outputs": [],
   "source": [
    "## Local\n",
    "\n",
    "import os\n",
    "\n",
    "os.environ['GALILEO_CONSOLE_URL']=\"http://console.dev.rungalileo.io\"\n",
    "os.environ[\"GALILEO_USERNAME\"]=\"galileo@rungalileo.io\"\n",
    "os.environ[\"GALILEO_PASSWORD\"]=\"A11a1una!\""
   ]
  },
  {
   "cell_type": "code",
   "execution_count": null,
   "id": "6f1800dc",
   "metadata": {},
   "outputs": [],
   "source": []
  },
  {
   "cell_type": "code",
   "execution_count": null,
   "id": "8e7512a4",
   "metadata": {},
   "outputs": [],
   "source": [
    "dq.metrics.api_client"
   ]
  },
  {
   "cell_type": "code",
   "execution_count": 10,
   "id": "cfe0711c",
   "metadata": {
    "scrolled": true
   },
   "outputs": [
    {
     "name": "stdout",
     "output_type": "stream",
     "text": [
      "📡 https://console.dev.rungalileo.io\n",
      "🔭 Logging you into Galileo\n",
      "\n",
      "🚀 You're logged in to Galileo as galileo@rungalileo.io!\n",
      "CPU times: user 1.07 s, sys: 438 ms, total: 1.51 s\n",
      "Wall time: 2.98 s\n"
     ]
    },
    {
     "data": {
      "text/plain": [
       "'v0.8.0'"
      ]
     },
     "execution_count": 10,
     "metadata": {},
     "output_type": "execute_result"
    }
   ],
   "source": [
    "%%time\n",
    "import dataquality as dq\n",
    "dq.configure()\n",
    "dq.__version__"
   ]
  },
  {
   "cell_type": "code",
   "execution_count": 11,
   "id": "13574b3e",
   "metadata": {
    "scrolled": true
   },
   "outputs": [
    {
     "name": "stdout",
     "output_type": "stream",
     "text": [
      "📡 Retrieving run from existing project, foo\n"
     ]
    },
    {
     "name": "stderr",
     "output_type": "stream",
     "text": [
      "/Users/benepstein/Documents/GitHub/dataquality/.venv/lib/python3.9/site-packages/dataquality/core/init.py:178: UserWarning: Run: foo/bar already exists! The existing run will get overwritten on call to finish()!\n",
      "  warnings.warn(\n"
     ]
    },
    {
     "name": "stdout",
     "output_type": "stream",
     "text": [
      "🛰 Connected to project, foo, and run, bar.\n",
      "Logging input data\n",
      "Logging 200 samples [########################################] 100.00% elapsed time  :     0.00s =  0.0m =  0.0h\n",
      "Logging 200 samples [########################################] 100.00% elapsed time  :     0.00s =  0.0m =  0.0h\n",
      " Done\n",
      "Input logging took 6.895177125930786 seconds\n",
      "\n",
      "\n",
      "Logging model outputs\n",
      "Epoch 0\n",
      "----------------------------------------------------------------------------------------------------\n",
      "Training\n"
     ]
    },
    {
     "data": {
      "application/json": {
       "ascii": false,
       "bar_format": null,
       "colour": null,
       "elapsed": 0.03027200698852539,
       "initial": 0,
       "n": 0,
       "ncols": null,
       "nrows": 63,
       "postfix": null,
       "prefix": "",
       "rate": null,
       "total": 13,
       "unit": "it",
       "unit_divisor": 1000,
       "unit_scale": false
      },
      "application/vnd.jupyter.widget-view+json": {
       "model_id": "12d82e336a314bb993360e4067a07a63",
       "version_major": 2,
       "version_minor": 0
      },
      "text/plain": [
       "  0%|          | 0/13 [00:00<?, ?it/s]"
      ]
     },
     "metadata": {},
     "output_type": "display_data"
    },
    {
     "name": "stdout",
     "output_type": "stream",
     "text": [
      "Test\n"
     ]
    },
    {
     "name": "stderr",
     "output_type": "stream",
     "text": [
      "/Users/benepstein/Documents/GitHub/dataquality/.venv/lib/python3.9/site-packages/dataquality/loggers/model_logger/text_classification.py:132: UserWarning: Usage of probs is deprecated, use logits instead\n",
      "  warnings.warn(\"Usage of probs is deprecated, use logits instead\")\n"
     ]
    },
    {
     "data": {
      "application/json": {
       "ascii": false,
       "bar_format": null,
       "colour": null,
       "elapsed": 0.01883077621459961,
       "initial": 0,
       "n": 0,
       "ncols": null,
       "nrows": 63,
       "postfix": null,
       "prefix": "",
       "rate": null,
       "total": 13,
       "unit": "it",
       "unit_divisor": 1000,
       "unit_scale": false
      },
      "application/vnd.jupyter.widget-view+json": {
       "model_id": "720ab8480faf414489ce8c5b7bf9d9da",
       "version_major": 2,
       "version_minor": 0
      },
      "text/plain": [
       "  0%|          | 0/13 [00:00<?, ?it/s]"
      ]
     },
     "metadata": {},
     "output_type": "display_data"
    },
    {
     "name": "stdout",
     "output_type": "stream",
     "text": [
      "----------------------------------------------------------------------------------------------------\n",
      "\n",
      "Done\n",
      "Logging output took 0.23681902885437012 seconds\n",
      "☁️ Uploading Data\n"
     ]
    },
    {
     "data": {
      "application/json": {
       "ascii": false,
       "bar_format": null,
       "colour": null,
       "elapsed": 0.01645803451538086,
       "initial": 0,
       "n": 0,
       "ncols": null,
       "nrows": 63,
       "postfix": null,
       "prefix": "training",
       "rate": null,
       "total": 1,
       "unit": "it",
       "unit_divisor": 1000,
       "unit_scale": false
      },
      "application/vnd.jupyter.widget-view+json": {
       "model_id": "b3ea55186f88479bbacb76128881289a",
       "version_major": 2,
       "version_minor": 0
      },
      "text/plain": [
       "training:   0%|          | 0/1 [00:00<?, ?it/s]"
      ]
     },
     "metadata": {},
     "output_type": "display_data"
    },
    {
     "data": {
      "application/json": {
       "ascii": false,
       "bar_format": null,
       "colour": null,
       "elapsed": 0.017578125,
       "initial": 0,
       "n": 0,
       "ncols": null,
       "nrows": 63,
       "postfix": null,
       "prefix": "Processing data for upload",
       "rate": null,
       "total": 13,
       "unit": "it",
       "unit_divisor": 1000,
       "unit_scale": false
      },
      "application/vnd.jupyter.widget-view+json": {
       "model_id": "",
       "version_major": 2,
       "version_minor": 0
      },
      "text/plain": [
       "Processing data for upload:   0%|          | 0/13 [00:00<?, ?it/s]"
      ]
     },
     "metadata": {},
     "output_type": "display_data"
    },
    {
     "data": {
      "application/json": {
       "ascii": false,
       "bar_format": null,
       "colour": null,
       "elapsed": 0.016218185424804688,
       "initial": 0,
       "n": 0,
       "ncols": null,
       "nrows": 63,
       "postfix": null,
       "prefix": "training (epoch=0)",
       "rate": null,
       "total": 3,
       "unit": "it",
       "unit_divisor": 1000,
       "unit_scale": false
      },
      "application/vnd.jupyter.widget-view+json": {
       "model_id": "",
       "version_major": 2,
       "version_minor": 0
      },
      "text/plain": [
       "training (epoch=0):   0%|          | 0/3 [00:00<?, ?it/s]"
      ]
     },
     "metadata": {},
     "output_type": "display_data"
    },
    {
     "data": {
      "application/json": {
       "ascii": false,
       "bar_format": null,
       "colour": null,
       "elapsed": 0.0201718807220459,
       "initial": 0,
       "n": 0,
       "ncols": null,
       "nrows": 63,
       "postfix": null,
       "prefix": "Uploading data to Galileo",
       "rate": null,
       "total": 148824,
       "unit": "B",
       "unit_divisor": 1024,
       "unit_scale": true
      },
      "application/vnd.jupyter.widget-view+json": {
       "model_id": "",
       "version_major": 2,
       "version_minor": 0
      },
      "text/plain": [
       "Uploading data to Galileo:   0%|          | 0.00/145k [00:00<?, ?B/s]"
      ]
     },
     "metadata": {},
     "output_type": "display_data"
    },
    {
     "data": {
      "application/json": {
       "ascii": false,
       "bar_format": null,
       "colour": null,
       "elapsed": 0.020396709442138672,
       "initial": 0,
       "n": 0,
       "ncols": null,
       "nrows": 63,
       "postfix": null,
       "prefix": "Uploading data to Galileo",
       "rate": null,
       "total": 50815,
       "unit": "B",
       "unit_divisor": 1024,
       "unit_scale": true
      },
      "application/vnd.jupyter.widget-view+json": {
       "model_id": "",
       "version_major": 2,
       "version_minor": 0
      },
      "text/plain": [
       "Uploading data to Galileo:   0%|          | 0.00/49.6k [00:00<?, ?B/s]"
      ]
     },
     "metadata": {},
     "output_type": "display_data"
    },
    {
     "data": {
      "application/json": {
       "ascii": false,
       "bar_format": null,
       "colour": null,
       "elapsed": 0.01961207389831543,
       "initial": 0,
       "n": 0,
       "ncols": null,
       "nrows": 63,
       "postfix": null,
       "prefix": "Uploading data to Galileo",
       "rate": null,
       "total": 293206,
       "unit": "B",
       "unit_divisor": 1024,
       "unit_scale": true
      },
      "application/vnd.jupyter.widget-view+json": {
       "model_id": "",
       "version_major": 2,
       "version_minor": 0
      },
      "text/plain": [
       "Uploading data to Galileo:   0%|          | 0.00/286k [00:00<?, ?B/s]"
      ]
     },
     "metadata": {},
     "output_type": "display_data"
    },
    {
     "data": {
      "application/json": {
       "ascii": false,
       "bar_format": null,
       "colour": null,
       "elapsed": 0.020457983016967773,
       "initial": 0,
       "n": 0,
       "ncols": null,
       "nrows": 63,
       "postfix": null,
       "prefix": "test",
       "rate": null,
       "total": 1,
       "unit": "it",
       "unit_divisor": 1000,
       "unit_scale": false
      },
      "application/vnd.jupyter.widget-view+json": {
       "model_id": "1060dca3fb0d496098c0332b5dbd0150",
       "version_major": 2,
       "version_minor": 0
      },
      "text/plain": [
       "test:   0%|          | 0/1 [00:00<?, ?it/s]"
      ]
     },
     "metadata": {},
     "output_type": "display_data"
    },
    {
     "data": {
      "application/json": {
       "ascii": false,
       "bar_format": null,
       "colour": null,
       "elapsed": 0.01843404769897461,
       "initial": 0,
       "n": 0,
       "ncols": null,
       "nrows": 63,
       "postfix": null,
       "prefix": "Processing data for upload",
       "rate": null,
       "total": 13,
       "unit": "it",
       "unit_divisor": 1000,
       "unit_scale": false
      },
      "application/vnd.jupyter.widget-view+json": {
       "model_id": "",
       "version_major": 2,
       "version_minor": 0
      },
      "text/plain": [
       "Processing data for upload:   0%|          | 0/13 [00:00<?, ?it/s]"
      ]
     },
     "metadata": {},
     "output_type": "display_data"
    },
    {
     "data": {
      "application/json": {
       "ascii": false,
       "bar_format": null,
       "colour": null,
       "elapsed": 0.016060829162597656,
       "initial": 0,
       "n": 0,
       "ncols": null,
       "nrows": 63,
       "postfix": null,
       "prefix": "test (epoch=0)",
       "rate": null,
       "total": 3,
       "unit": "it",
       "unit_divisor": 1000,
       "unit_scale": false
      },
      "application/vnd.jupyter.widget-view+json": {
       "model_id": "",
       "version_major": 2,
       "version_minor": 0
      },
      "text/plain": [
       "test (epoch=0):   0%|          | 0/3 [00:00<?, ?it/s]"
      ]
     },
     "metadata": {},
     "output_type": "display_data"
    },
    {
     "data": {
      "application/json": {
       "ascii": false,
       "bar_format": null,
       "colour": null,
       "elapsed": 0.01970195770263672,
       "initial": 0,
       "n": 0,
       "ncols": null,
       "nrows": 63,
       "postfix": null,
       "prefix": "Uploading data to Galileo",
       "rate": null,
       "total": 148824,
       "unit": "B",
       "unit_divisor": 1024,
       "unit_scale": true
      },
      "application/vnd.jupyter.widget-view+json": {
       "model_id": "",
       "version_major": 2,
       "version_minor": 0
      },
      "text/plain": [
       "Uploading data to Galileo:   0%|          | 0.00/145k [00:00<?, ?B/s]"
      ]
     },
     "metadata": {},
     "output_type": "display_data"
    },
    {
     "data": {
      "application/json": {
       "ascii": false,
       "bar_format": null,
       "colour": null,
       "elapsed": 0.016265392303466797,
       "initial": 0,
       "n": 0,
       "ncols": null,
       "nrows": 63,
       "postfix": null,
       "prefix": "Uploading data to Galileo",
       "rate": null,
       "total": 50815,
       "unit": "B",
       "unit_divisor": 1024,
       "unit_scale": true
      },
      "application/vnd.jupyter.widget-view+json": {
       "model_id": "",
       "version_major": 2,
       "version_minor": 0
      },
      "text/plain": [
       "Uploading data to Galileo:   0%|          | 0.00/49.6k [00:00<?, ?B/s]"
      ]
     },
     "metadata": {},
     "output_type": "display_data"
    },
    {
     "data": {
      "application/json": {
       "ascii": false,
       "bar_format": null,
       "colour": null,
       "elapsed": 0.01616692543029785,
       "initial": 0,
       "n": 0,
       "ncols": null,
       "nrows": 63,
       "postfix": null,
       "prefix": "Uploading data to Galileo",
       "rate": null,
       "total": 292410,
       "unit": "B",
       "unit_divisor": 1024,
       "unit_scale": true
      },
      "application/vnd.jupyter.widget-view+json": {
       "model_id": "",
       "version_major": 2,
       "version_minor": 0
      },
      "text/plain": [
       "Uploading data to Galileo:   0%|          | 0.00/286k [00:00<?, ?B/s]"
      ]
     },
     "metadata": {},
     "output_type": "display_data"
    },
    {
     "name": "stdout",
     "output_type": "stream",
     "text": [
      "Job default successfully submitted. Results will be available soon at https://console.dev.rungalileo.io/insights?projectId=113c8883-7320-45c2-9f63-9abdcae89ec2&runId=c5be7886-a521-4494-9da7-2ec220527e31&split=training&metric=f1&depHigh=1&depLow=0&taskType=0\n",
      "Waiting for job...\n",
      "\tFound embs. Analyzing dimensions\n",
      "\tApplying dimensionality reduction to training embs\n",
      "\tApplying dimensionality reduction to test embs\n",
      "\tCalculating data error potential\n",
      "\tLooking for likely mislabeled samples\n",
      "\tSaving processed training data\n",
      "\tLooking for likely mislabeled samples\n",
      "\tMeasuring class overlap\n",
      "\tSaving processed test data\n",
      "Done! Job finished with status completed\n",
      "Click here to see your run! https://console.dev.rungalileo.io/insights?projectId=113c8883-7320-45c2-9f63-9abdcae89ec2&runId=c5be7886-a521-4494-9da7-2ec220527e31&split=training&metric=f1&depHigh=1&depLow=0&taskType=0\n",
      "🧹 Cleaning up\n"
     ]
    },
    {
     "data": {
      "text/plain": [
       "'https://console.dev.rungalileo.io/insights?projectId=113c8883-7320-45c2-9f63-9abdcae89ec2&runId=c5be7886-a521-4494-9da7-2ec220527e31&split=training&metric=f1&depHigh=1&depLow=0&taskType=0'"
      ]
     },
     "execution_count": 11,
     "metadata": {},
     "output_type": "execute_result"
    }
   ],
   "source": [
    "from tqdm.notebook import tqdm\n",
    "import time\n",
    "import numpy as np\n",
    "from uuid import uuid4\n",
    "import pandas as pd\n",
    "from sklearn.datasets import fetch_20newsgroups\n",
    "import os\n",
    "\n",
    "# os.environ[\"GALILEO_DATA_EMBS_ENCODER\"] = \"hf-internal-testing/tiny-random-distilbert\"\n",
    "os.environ[\"GALILEO_DATA_EMBS_ENCODER\"] = \"tmp/testing-random-distilbert-sq\"\n",
    "\n",
    "BATCH_SIZE=16\n",
    "EMB_DIM=85\n",
    "NUM_EPOCHS=1\n",
    "\n",
    "dq.init(\"text_classification\", \"foo\",\"bar\")\n",
    "\n",
    "newsgroups = fetch_20newsgroups(subset=\"train\", remove=('headers', 'footers', 'quotes'))\n",
    "dataset = pd.DataFrame()\n",
    "dataset[\"text\"] = newsgroups.data\n",
    "label_ind = newsgroups.target_names\n",
    "dataset[\"label\"] = [label_ind[i] for i in newsgroups.target]\n",
    "dataset[\"id\"] = list(range(len(dataset)))\n",
    "\n",
    "dataset = dataset[:200]\n",
    "\n",
    "\n",
    "def generate_random_embeddings(batch_size: int, emb_dims: int) -> np.ndarray:\n",
    "    return np.random.rand(batch_size, emb_dims)\n",
    "\n",
    "\n",
    "def generate_random_probabilities(batch_size: int, num_classes: int) -> np.ndarray:\n",
    "    probs = np.random.rand(batch_size, num_classes)\n",
    "    return probs / probs.sum(axis=-1).reshape(-1, 1)  # Normalize to sum to 1\n",
    "\n",
    "\n",
    "t_start = time.time()\n",
    "dq.set_labels_for_run(dataset[\"label\"].unique())\n",
    "\n",
    "print(\"Logging input data\")\n",
    "for split in [\"training\", \"test\"]:\n",
    "    dq.log_dataset(dataset, split=split)\n",
    "    \n",
    "print(\"Done\")\n",
    "print(f\"Input logging took {time.time() - t_start} seconds\\n\\n\")\n",
    "\n",
    "\n",
    "print(\"Logging model outputs\")\n",
    "t_start = time.time()\n",
    "num_classes = dataset[\"label\"].nunique()\n",
    "# Simulates model training loop\n",
    "for epoch_idx in range(NUM_EPOCHS):\n",
    "    print(f\"Epoch {epoch_idx}\")\n",
    "    print('-'*100)\n",
    "    for split in [\"training\", \"test\"]:\n",
    "        print(split.capitalize())\n",
    "        dq.set_split(split)\n",
    "        for i in tqdm(range(0, len(dataset), BATCH_SIZE)):\n",
    "            batch = dataset[i : i + BATCH_SIZE]\n",
    "            embeddings = generate_random_embeddings(len(batch), EMB_DIM)\n",
    "            probs = generate_random_probabilities(len(batch), num_classes)\n",
    "            dq.log_model_outputs(\n",
    "                embs=embeddings,\n",
    "                probs=probs,\n",
    "                epoch=epoch_idx,\n",
    "                ids=batch[\"id\"],\n",
    "            )\n",
    "    print('-'*100,end=\"\\n\\n\")\n",
    "            \n",
    "print(\"Done\")\n",
    "\n",
    "time_spent = time.time() - t_start\n",
    "print(f\"Logging output took {time_spent} seconds\")\n",
    "dq.finish(create_data_embs=False)"
   ]
  },
  {
   "cell_type": "code",
   "execution_count": 25,
   "id": "540a25f6",
   "metadata": {},
   "outputs": [
    {
     "data": {
      "text/plain": [
       "(4, 6)"
      ]
     },
     "execution_count": 25,
     "metadata": {},
     "output_type": "execute_result"
    }
   ],
   "source": [
    "len(\"____\"), len(\"______\")"
   ]
  },
  {
   "cell_type": "code",
   "execution_count": 36,
   "id": "578ad827-21fb-499e-8926-e6c3e4ba7f73",
   "metadata": {
    "scrolled": true
   },
   "outputs": [
    {
     "data": {
      "text/plain": [
       "{'input_ids': tensor([ 101, 2023, 2003, 1037, 2146, 6251, 2055, 2129, 6285, 2003, 2428, 3492,\n",
       "         1998, 4206, 1998, 2038, 2307, 2159,  102]),\n",
       " 'attention_mask': tensor([1, 1, 1, 1, 1, 1, 1, 1, 1, 1, 1, 1, 1, 1, 1, 1, 1, 1, 1]),\n",
       " 'token_embeddings': tensor([[-0.0989, -0.1244, -0.0870,  ...,  0.1521,  0.4170,  0.0777],\n",
       "         [-0.1934, -0.1937, -0.3912,  ...,  0.1710,  0.5467,  0.0530],\n",
       "         [-0.1983, -0.0436, -0.0218,  ...,  0.3699,  0.0821,  0.4078],\n",
       "         ...,\n",
       "         [ 0.1655,  0.3409,  0.2666,  ..., -0.1975,  0.1927, -0.1595],\n",
       "         [-0.0490,  0.0316, -0.0028,  ...,  0.0534,  0.2502, -0.5220],\n",
       "         [ 0.7531, -0.0019, -0.3970,  ...,  0.1781, -0.3043, -0.6650]]),\n",
       " 'sentence_embedding': tensor([ 1.1392e-02,  5.2962e-03,  2.4081e-02,  5.5669e-02,  2.9600e-01,\n",
       "         -2.5092e-01,  3.5211e-04,  1.0010e+00, -3.2073e-01, -2.2458e-01,\n",
       "          1.2752e-01, -5.7345e-01, -3.2998e-02,  4.6655e-01, -2.2689e-01,\n",
       "          2.9207e-01,  2.8244e-01,  2.1811e-01, -8.0712e-02,  3.0576e-01,\n",
       "          2.7469e-01,  5.3710e-02,  1.9045e-01,  3.6077e-01,  4.5815e-01,\n",
       "          8.2167e-02,  1.4547e-01,  2.5421e-01, -1.1535e-01,  2.6799e-02,\n",
       "          2.3248e-01, -7.7745e-02, -1.8132e-01, -2.4103e-01, -6.5632e-02,\n",
       "         -3.5214e-01, -1.6535e-01,  1.3723e-02, -2.2975e-01,  1.5200e-01,\n",
       "         -4.9539e-01, -1.8832e-01,  8.3789e-02, -5.9530e-02, -2.5808e-01,\n",
       "         -4.4183e-01,  2.4390e-01, -1.2906e-01,  9.5001e-02, -1.1353e-01,\n",
       "         -1.6921e-01,  5.3950e-02, -2.4512e-01,  2.9358e-02,  1.9541e-01,\n",
       "          4.2529e-01, -2.9699e-01, -5.1303e-01, -3.5026e-01, -2.1796e-01,\n",
       "          1.3224e-01, -2.0634e-01, -1.8047e-01, -5.0598e-01,  9.7234e-02,\n",
       "         -1.9788e-02, -1.0854e-01, -7.8112e-02, -4.4564e-01,  8.0830e-02,\n",
       "         -8.9116e-03, -2.1776e-01,  2.0513e-01,  5.0424e-02, -9.4022e-03,\n",
       "          3.8012e-01, -1.9113e-02,  1.9720e-01,  8.9961e-02,  7.2577e-02,\n",
       "         -2.0502e-01,  4.6547e-01, -1.6648e-01,  4.6486e-01, -9.6593e-02,\n",
       "          1.0830e-01, -1.0673e-02,  1.3329e-01, -5.0995e-01,  4.8968e-01,\n",
       "          4.5829e-03, -1.0829e-01, -1.6079e-02,  1.8655e-01,  2.9842e-01,\n",
       "         -4.1971e-01,  2.7326e-01, -2.1992e-01, -1.9172e-01,  3.9743e-01,\n",
       "          2.6366e-01, -6.3996e-01,  1.7971e-01,  6.5486e-03, -1.2325e-01,\n",
       "          6.0355e-02,  2.2873e-01,  2.8494e-01,  1.8410e-02,  1.6279e-01,\n",
       "         -1.1511e-01, -2.9115e-01,  4.2223e-02, -2.2351e-01, -4.4505e-01,\n",
       "          4.4137e-01,  1.0072e-01,  5.9464e-02,  1.4795e-01,  3.6761e-01,\n",
       "         -3.0530e-01, -1.3515e-02,  3.5576e-02,  4.8078e-01, -9.3495e-02,\n",
       "          4.4208e-02, -4.7698e-01,  3.3521e-01,  2.6743e-01, -3.5285e-01,\n",
       "          2.9134e-01,  9.9610e-02,  4.2098e-01, -2.5347e-01, -2.8290e-01,\n",
       "         -8.4248e-02, -3.4389e-02, -4.5771e-01, -5.0597e-01,  2.1287e-02,\n",
       "          1.0286e-01,  5.5314e-02,  3.7423e-02,  4.9777e-02, -1.6836e-01,\n",
       "         -1.5166e-01, -8.8541e-02, -3.8723e-01, -7.8507e-02,  1.7081e-01,\n",
       "          2.8988e-03,  1.6263e-01,  2.2655e-02, -2.2579e-01,  5.7417e-02,\n",
       "          1.0681e-01, -5.1893e-01, -6.3542e-02,  3.3226e-01,  2.1563e-01,\n",
       "          4.1458e-01, -4.6844e-02, -8.4006e-02,  3.3045e-01,  2.6748e-02,\n",
       "          2.7111e-01, -2.0712e-02,  1.5155e-01, -4.8559e-01,  5.7139e-02,\n",
       "         -2.9123e-02,  1.4782e-01,  6.2717e-01, -2.8398e-01,  5.3627e-04,\n",
       "         -1.8843e-01,  2.8242e-01,  2.1926e-01,  2.1996e-01, -9.9596e-02,\n",
       "         -7.6918e-01,  3.3845e-01,  3.2229e-01, -6.2660e-02,  3.4074e-01,\n",
       "         -3.8047e-02,  7.5865e-02, -3.4114e-02, -1.1448e-01, -8.7040e-02,\n",
       "         -8.2155e-02,  5.2064e-02, -1.9569e-01, -1.2828e-01,  1.9376e-01,\n",
       "         -4.2706e-01, -1.4742e-01, -2.9002e-01, -2.5733e-01,  1.7860e-01,\n",
       "         -1.3671e-01, -7.7727e-02,  2.2263e-01,  9.1730e-02, -2.1855e-01,\n",
       "          1.8513e-02,  1.6959e-01,  1.7729e-02,  7.2667e-02,  3.8054e-01,\n",
       "         -1.6910e-01,  5.1365e-01,  9.4094e-02,  7.6894e-02,  6.1594e-03,\n",
       "          1.4054e-01,  1.6373e-01, -4.7644e-02,  1.7202e-01, -3.3443e-02,\n",
       "          1.8334e-01, -8.4444e-02, -5.2179e-01,  3.9457e-01, -7.8837e-02,\n",
       "          5.0402e-01,  3.8183e-01, -2.8390e-01, -7.0735e-02,  8.6541e-03,\n",
       "         -3.5242e-02, -1.5207e-01,  2.1521e-01, -9.0631e-02,  1.5917e-02,\n",
       "         -1.0705e-01,  6.2114e-03,  3.3445e-02,  1.3081e-01, -3.6984e-01,\n",
       "         -1.3194e-01,  2.4035e-01,  2.3988e-01, -1.5959e-02,  1.9512e-01,\n",
       "         -8.5066e-02, -4.1775e-02, -5.5355e-02, -4.8116e-01, -1.8347e-01,\n",
       "         -3.7739e-01, -4.3332e-01,  2.7188e-01, -3.5597e-01, -3.8012e-03,\n",
       "         -2.0162e-01, -1.5509e-01,  3.1918e-03, -5.1865e-02,  1.7640e-01,\n",
       "         -3.2334e-02, -6.3497e-02, -1.0131e-01, -2.4323e-02, -6.2256e-01,\n",
       "         -9.2724e-02, -1.1376e-01,  1.2915e-01,  3.3695e-01,  4.6887e-01,\n",
       "          9.7209e-02,  1.3455e-01,  6.5994e-02,  2.9609e-01,  9.5565e-02,\n",
       "         -5.3219e-01,  2.6727e-01,  2.0129e-02,  3.2007e-03, -7.2247e-02,\n",
       "          1.7581e-01,  8.8353e-01, -3.1399e-01,  2.6659e-01,  7.4127e-02,\n",
       "         -2.8947e-01,  1.9891e-01,  1.9203e-01, -2.0137e-01, -2.0416e-01,\n",
       "         -1.1030e-01,  1.0189e-02, -4.0250e-01, -2.8762e-01,  5.4071e-01,\n",
       "          1.7903e-01,  5.1137e-01,  8.8119e-02,  1.4180e-01, -1.2137e-01,\n",
       "          8.5005e-02,  6.5159e-02,  6.7675e-02, -1.5437e-02, -2.4719e-02,\n",
       "          3.7398e-01, -1.6207e-01, -2.0109e-01, -4.0210e+00,  8.5324e-02,\n",
       "         -6.7554e-02, -2.2634e-01,  2.8908e-01, -5.2328e-02, -1.2590e-01,\n",
       "         -3.6344e-01, -4.8890e-01, -2.0820e-01, -3.7995e-01,  5.4459e-02,\n",
       "          2.2773e-01,  2.4013e-01,  3.7076e-01, -1.8112e-01, -1.3197e-01,\n",
       "         -2.5714e-01, -1.3390e-01,  6.6179e-01,  1.4823e-01, -4.8201e-01,\n",
       "         -1.6425e-01,  4.4141e-02,  5.0490e-01,  3.3622e-01, -2.5714e-01,\n",
       "         -1.2338e-01, -2.7133e-01, -1.7350e-01, -1.5187e-01, -1.9840e-03,\n",
       "          7.7395e-02, -4.9854e-02,  8.0597e-02, -2.0408e-01,  1.4627e-02,\n",
       "         -3.1368e-01,  1.3440e-01, -1.2658e-02, -5.7729e-02, -5.1915e-01,\n",
       "         -3.1310e-02,  4.9496e-02,  7.8208e-01, -3.6150e-01, -2.1779e-02,\n",
       "         -5.0088e-01,  3.1648e-02,  4.0803e-01,  1.8139e-01, -8.9297e-02,\n",
       "         -5.2002e-02, -9.9042e-02, -1.0845e-02, -1.5071e-01,  5.9253e-01,\n",
       "          5.8553e-01, -2.5331e-01, -6.5531e-01,  3.3281e-02,  1.6624e-04,\n",
       "         -4.3912e-01, -7.5575e-02,  9.0251e-02, -3.0859e-01,  3.6712e-02,\n",
       "         -1.1124e-01,  1.5113e-01,  1.2283e-01,  1.0626e-01,  6.5695e-02,\n",
       "         -1.0398e-01, -9.0645e-01,  1.5322e-01, -2.3665e-01,  1.0480e-02,\n",
       "         -1.4299e-01,  2.3204e-01, -2.8410e-01, -2.8635e-01, -4.3033e-01,\n",
       "         -1.2408e-01, -6.3580e-02,  5.7015e-02, -4.2851e-01, -1.8384e-01,\n",
       "         -2.0830e-01, -2.0893e-01, -1.6356e-01,  3.6640e-01,  1.0315e-01,\n",
       "         -1.6040e-01,  2.1269e-01,  7.8722e-02, -8.7550e-03,  9.9306e-02,\n",
       "         -1.6216e-01,  3.7976e-01, -2.0468e-01,  1.3676e-01,  1.6505e-01,\n",
       "          5.2914e-01,  4.1347e-02,  3.1958e-01,  1.3053e-01, -2.6001e-01,\n",
       "          1.2922e-01, -1.9518e-01,  1.4334e-01,  3.7588e-01, -6.7754e-01,\n",
       "          1.9218e-01, -2.9058e-01, -2.4571e-02, -9.7788e-02,  2.0909e-01,\n",
       "          6.6174e-01, -1.2733e-01,  2.0203e-01, -1.0214e-01,  7.3493e-01,\n",
       "         -3.8523e-01, -4.6633e-01, -5.5963e-01,  1.5041e-02, -2.0156e-01,\n",
       "         -7.1447e-02, -1.5583e-01, -6.1813e-02, -1.3312e-01, -2.9933e-01,\n",
       "          8.6354e-04,  1.1378e-01,  2.0772e-01,  1.1310e-01, -7.4858e-02,\n",
       "         -6.4020e-01,  2.5069e-01, -2.2282e-02,  2.8440e-01,  2.2639e-01,\n",
       "         -7.2871e-02,  1.9651e-01,  1.6443e-01,  2.8564e-01, -3.1031e-02,\n",
       "          1.7672e-01, -3.7901e-01,  1.1620e-01, -1.5313e-01, -2.2919e-01,\n",
       "         -5.8084e-02, -3.4367e-01,  7.0092e-02, -1.3493e-01,  9.0669e-02,\n",
       "          1.3985e-01, -4.1359e-01, -2.4130e-01, -4.3633e-02, -5.4039e-02,\n",
       "          1.5262e-01,  4.3628e-01,  6.0823e-02,  1.5543e-01, -2.3101e-01,\n",
       "          2.0765e-01,  2.9416e-02,  6.8938e-01, -2.2358e-01, -1.0177e-02,\n",
       "         -2.1833e-01, -1.5682e-01, -2.2408e-01,  2.5613e-01,  5.1766e-02,\n",
       "         -8.5808e-02, -2.1211e-01,  2.0686e-01, -1.7152e-01, -6.0646e-02,\n",
       "          1.4722e-01, -3.4693e-02,  8.6367e-02,  2.9937e-01,  1.4560e-01,\n",
       "          1.2359e-01, -8.0142e-02,  2.0293e-01, -2.5380e-01,  3.6987e-01,\n",
       "         -2.4286e-01,  1.9524e-01, -3.1588e-01, -1.7654e-01,  2.0917e-01,\n",
       "         -5.0745e-01,  3.0036e-01, -1.3353e-01,  6.2064e-02, -1.7466e-01,\n",
       "         -1.5484e-01,  6.3518e-02, -1.2090e-01, -7.2787e-02,  3.4406e-01,\n",
       "          2.5792e-01,  1.1277e-01,  2.5613e-01, -1.8724e-01, -3.9471e-01,\n",
       "         -6.0714e-02, -3.0741e-01, -1.7451e-01, -3.1767e-02,  6.5218e-02,\n",
       "         -1.9948e-01, -2.2295e-01,  5.3080e-05, -1.1229e-01, -1.6738e-01,\n",
       "         -3.0757e-02,  1.4273e-01, -4.4629e-01, -2.9204e-01,  5.4968e-02,\n",
       "          8.5205e-02, -7.8034e-02, -3.1669e-01,  1.4151e-01, -2.0722e-01,\n",
       "          2.0326e-01,  1.1828e-02, -3.1264e-01,  1.5891e-01, -4.0115e-01,\n",
       "         -3.4042e-01,  3.9219e-01,  2.6768e-03,  1.0325e-01, -1.7280e-01,\n",
       "         -8.0645e-02, -1.9038e-02,  2.0837e-01,  2.5300e-01, -6.5345e-03,\n",
       "          2.8269e-01, -1.9753e-01, -6.6869e-02, -2.6267e-01, -4.1013e-02,\n",
       "         -1.4476e-01, -8.2906e-03,  2.1116e-01, -4.4558e-01, -4.3240e-01,\n",
       "          2.0925e-01, -8.1070e-02, -2.1068e-01,  1.4389e-02,  3.5882e-02,\n",
       "         -1.3693e-01,  2.1779e-02,  4.0682e-01, -6.1284e-02, -3.8736e-02,\n",
       "          5.4192e-01,  1.3365e-01, -1.4269e-01, -1.6969e-01, -1.4849e-01,\n",
       "          1.9586e-01, -6.6570e-02, -2.3770e-01,  9.9152e-02, -2.9221e-01,\n",
       "         -3.8447e-01,  8.1693e-02, -1.6909e-01, -2.1772e-01,  5.0069e-01,\n",
       "         -4.7514e-02, -8.1939e-02,  2.0082e-01, -1.3630e-01, -1.3252e-01,\n",
       "          4.6974e-01, -1.0709e-03,  5.4430e-02,  2.7995e-02,  3.8877e-01,\n",
       "         -1.9558e-01, -1.2269e-01,  1.2485e-01, -2.5642e-01,  4.5524e-01,\n",
       "          1.0359e-01,  3.8421e-01, -1.2510e-01,  4.1274e-02,  1.9068e-01,\n",
       "          7.7873e-02,  2.5812e-01, -1.3599e-01,  1.4347e-01,  4.8629e-01,\n",
       "         -1.0391e-01,  2.7729e-01,  6.2744e-01, -2.4775e-01, -2.3509e-01,\n",
       "          3.1880e-01,  5.3285e-01, -3.1502e-01, -5.0480e-01,  1.4084e-01,\n",
       "         -2.7850e-01,  1.6420e-01,  1.4042e-01,  1.7955e-01, -2.8913e-01,\n",
       "          2.5880e-01, -1.4523e-01, -1.7570e-01,  7.3327e-01, -3.2169e-01,\n",
       "         -1.3923e-01, -1.1386e-01,  3.5750e-01, -5.6117e-02,  4.2171e-01,\n",
       "         -2.5535e-01,  4.2149e-01, -6.7256e-02, -3.9427e-01,  1.4525e-01,\n",
       "          1.9030e-01,  2.9285e-01, -1.3378e-01, -5.9044e-02, -1.5429e-01,\n",
       "          3.5822e-02,  7.3128e-01,  2.5435e-01,  5.2847e-02, -2.1914e-02,\n",
       "         -6.0610e-02,  4.5792e-01,  2.3036e-01, -6.7099e-02,  5.2746e-01,\n",
       "          4.4636e-01, -2.3118e-01,  2.6614e-01,  1.8959e-02,  4.7192e-02,\n",
       "          2.3927e-01, -1.8042e-01,  4.2831e-01,  2.3145e-01, -1.4109e-01,\n",
       "          2.5409e-01, -3.8707e-01,  7.8856e-02,  2.3676e-01,  1.3623e-01,\n",
       "         -4.0162e-01, -5.7877e-01, -7.2583e-02, -1.4716e-01,  1.7763e-01,\n",
       "         -5.7216e-02, -3.4490e-01, -4.5434e-01,  3.9197e-01, -3.8628e-01,\n",
       "         -3.5367e-01, -1.2507e-01,  1.3358e-01,  2.7171e-01,  1.0438e-02,\n",
       "         -6.1337e-01, -2.0194e-01, -4.0407e-01, -2.1477e-01, -1.2558e-03,\n",
       "         -7.8969e-02, -8.4106e-02, -2.1752e-01,  2.2467e-01,  4.4723e-02,\n",
       "          3.5867e-01, -2.3570e-01,  1.1436e-01, -5.9364e-01,  1.8532e-01,\n",
       "          5.3397e-01,  3.9998e-01, -4.3296e-02,  2.4215e-01, -1.7944e-01,\n",
       "         -5.4258e-02,  7.3780e-02, -1.7807e-02, -9.2648e-02,  8.2534e-02,\n",
       "          1.5911e-01, -2.7780e-01, -2.8005e-01,  8.2518e-02,  6.3396e-01,\n",
       "         -6.8192e-01,  2.4689e-02, -5.8509e-02,  3.2303e-02, -2.1574e-02,\n",
       "         -9.1721e-02, -1.9877e-01,  3.9146e-02, -1.1446e-01, -1.0762e-01,\n",
       "         -1.1257e-01,  4.5552e-01,  1.6310e-02, -3.3742e-01,  1.5295e-02,\n",
       "          3.4362e-01, -3.4764e-01, -2.5112e-01,  5.1104e-02,  1.5952e-01,\n",
       "          1.4294e-01,  2.6565e-01, -5.8818e-02, -4.3034e-01,  1.1260e-02,\n",
       "          1.2374e-01, -4.3925e-01, -2.0646e-01, -1.3380e-01,  4.0371e-02,\n",
       "         -2.0577e-02, -2.3684e-01,  5.9119e-02,  8.0159e-02, -1.4503e-01,\n",
       "         -1.3458e-01,  3.4376e-01, -3.0944e-01, -1.0240e-01, -4.5577e-01,\n",
       "          2.8453e-02, -2.6825e-01, -1.5072e-01,  1.0946e-01,  1.1948e-01,\n",
       "          4.0993e-02,  2.8012e-01, -1.5612e-01])}"
      ]
     },
     "execution_count": 36,
     "metadata": {},
     "output_type": "execute_result"
    }
   ],
   "source": [
    "token_embs = data_model.encode(\n",
    "    [\n",
    "        \"this is a long sentence about how jon is really pretty and tall and has great eyes\",\n",
    "        \"this is a long sentence about how jon is \"\n",
    "    ],\n",
    "    output_value=None, \n",
    "    convert_to_numpy=True\n",
    ")\n",
    "token_embs[0]"
   ]
  },
  {
   "cell_type": "code",
   "execution_count": 38,
   "id": "4f3e67f7",
   "metadata": {},
   "outputs": [
    {
     "data": {
      "text/plain": [
       "SentenceTransformer(\n",
       "  (0): Transformer({'max_seq_length': 256, 'do_lower_case': False}) with Transformer model: BertModel \n",
       "  (1): Pooling({'word_embedding_dimension': 384, 'pooling_mode_cls_token': False, 'pooling_mode_mean_tokens': True, 'pooling_mode_max_tokens': False, 'pooling_mode_mean_sqrt_len_tokens': False})\n",
       "  (2): Normalize()\n",
       ")"
      ]
     },
     "execution_count": 38,
     "metadata": {},
     "output_type": "execute_result"
    }
   ],
   "source": [
    "SentenceTransformer(\"all-MiniLM-L6-v2\")"
   ]
  },
  {
   "cell_type": "code",
   "execution_count": 32,
   "id": "a5bef815",
   "metadata": {},
   "outputs": [
    {
     "data": {
      "text/plain": [
       "[101,\n",
       " 2023,\n",
       " 2003,\n",
       " 1037,\n",
       " 2146,\n",
       " 6251,\n",
       " 2055,\n",
       " 2129,\n",
       " 6285,\n",
       " 2003,\n",
       " 2428,\n",
       " 3492,\n",
       " 1998,\n",
       " 4206,\n",
       " 1998,\n",
       " 2038,\n",
       " 2307,\n",
       " 2159,\n",
       " 102]"
      ]
     },
     "execution_count": 32,
     "metadata": {},
     "output_type": "execute_result"
    }
   ],
   "source": [
    "from transformers import AutoTokenizer\n",
    "tok = AutoTokenizer.from_pretrained(\"distilbert-base-uncased\")\n",
    "\n",
    "toks = tok.encode(\"this is a long sentence about how jon is really pretty and tall and has great eyes\")\n",
    "toks"
   ]
  },
  {
   "cell_type": "code",
   "execution_count": null,
   "id": "e3232fab",
   "metadata": {},
   "outputs": [],
   "source": []
  },
  {
   "cell_type": "markdown",
   "id": "d4684dd5",
   "metadata": {},
   "source": [
    "## Multi Label"
   ]
  },
  {
   "cell_type": "code",
   "execution_count": 15,
   "id": "06f17ab5",
   "metadata": {
    "scrolled": true
   },
   "outputs": [
    {
     "name": "stdout",
     "output_type": "stream",
     "text": [
      "📡 Retrieved project, test-mltc-run, and starting a new run\n",
      "🏃‍♂️ Starting run near_beige_sole\n",
      "🛰 Connected to project, test-mltc-run, and created run, near_beige_sole.\n",
      "Logging 5000 samples [########################################] 100.00% elapsed time  :     0.00s =  0.0m =  0.0h\n",
      "Logging 5000 samples [########################################] 100.00% elapsed time  :     0.00s =  0.0m =  0.0h\n",
      "Logging 5000 samples [########################################] 100.00% elapsed time  :     0.00s =  0.0m =  0.0h\n",
      " ☁️ Uploading Data\n"
     ]
    },
    {
     "data": {
      "application/json": {
       "ascii": false,
       "bar_format": null,
       "colour": null,
       "elapsed": 0.016469955444335938,
       "initial": 0,
       "n": 0,
       "ncols": null,
       "nrows": 63,
       "postfix": null,
       "prefix": "training",
       "rate": null,
       "total": 5,
       "unit": "it",
       "unit_divisor": 1000,
       "unit_scale": false
      },
      "application/vnd.jupyter.widget-view+json": {
       "model_id": "66ffa90e06b14b0bb470932cf3be2d3a",
       "version_major": 2,
       "version_minor": 0
      },
      "text/plain": [
       "training:   0%|          | 0/5 [00:00<?, ?it/s]"
      ]
     },
     "metadata": {},
     "output_type": "display_data"
    },
    {
     "data": {
      "application/json": {
       "ascii": false,
       "bar_format": null,
       "colour": null,
       "elapsed": 0.01552271842956543,
       "initial": 0,
       "n": 0,
       "ncols": null,
       "nrows": 63,
       "postfix": null,
       "prefix": "Processing data for upload",
       "rate": null,
       "total": 157,
       "unit": "it",
       "unit_divisor": 1000,
       "unit_scale": false
      },
      "application/vnd.jupyter.widget-view+json": {
       "model_id": "",
       "version_major": 2,
       "version_minor": 0
      },
      "text/plain": [
       "Processing data for upload:   0%|          | 0/157 [00:00<?, ?it/s]"
      ]
     },
     "metadata": {},
     "output_type": "display_data"
    },
    {
     "data": {
      "application/json": {
       "ascii": false,
       "bar_format": null,
       "colour": null,
       "elapsed": 0.015157938003540039,
       "initial": 0,
       "n": 0,
       "ncols": null,
       "nrows": 63,
       "postfix": null,
       "prefix": "training (epoch=0)",
       "rate": null,
       "total": 3,
       "unit": "it",
       "unit_divisor": 1000,
       "unit_scale": false
      },
      "application/vnd.jupyter.widget-view+json": {
       "model_id": "",
       "version_major": 2,
       "version_minor": 0
      },
      "text/plain": [
       "training (epoch=0):   0%|          | 0/3 [00:00<?, ?it/s]"
      ]
     },
     "metadata": {},
     "output_type": "display_data"
    },
    {
     "data": {
      "application/json": {
       "ascii": false,
       "bar_format": null,
       "colour": null,
       "elapsed": 0.01597285270690918,
       "initial": 0,
       "n": 0,
       "ncols": null,
       "nrows": 63,
       "postfix": null,
       "prefix": "Uploading data to Galileo",
       "rate": null,
       "total": 137993,
       "unit": "B",
       "unit_divisor": 1024,
       "unit_scale": true
      },
      "application/vnd.jupyter.widget-view+json": {
       "model_id": "",
       "version_major": 2,
       "version_minor": 0
      },
      "text/plain": [
       "Uploading data to Galileo:   0%|          | 0.00/135k [00:00<?, ?B/s]"
      ]
     },
     "metadata": {},
     "output_type": "display_data"
    },
    {
     "data": {
      "application/json": {
       "ascii": false,
       "bar_format": null,
       "colour": null,
       "elapsed": 0.01615595817565918,
       "initial": 0,
       "n": 0,
       "ncols": null,
       "nrows": 63,
       "postfix": null,
       "prefix": "Processing data for upload",
       "rate": null,
       "total": 157,
       "unit": "it",
       "unit_divisor": 1000,
       "unit_scale": false
      },
      "application/vnd.jupyter.widget-view+json": {
       "model_id": "",
       "version_major": 2,
       "version_minor": 0
      },
      "text/plain": [
       "Processing data for upload:   0%|          | 0/157 [00:00<?, ?it/s]"
      ]
     },
     "metadata": {},
     "output_type": "display_data"
    },
    {
     "data": {
      "application/json": {
       "ascii": false,
       "bar_format": null,
       "colour": null,
       "elapsed": 0.01562190055847168,
       "initial": 0,
       "n": 0,
       "ncols": null,
       "nrows": 63,
       "postfix": null,
       "prefix": "training (epoch=1)",
       "rate": null,
       "total": 3,
       "unit": "it",
       "unit_divisor": 1000,
       "unit_scale": false
      },
      "application/vnd.jupyter.widget-view+json": {
       "model_id": "",
       "version_major": 2,
       "version_minor": 0
      },
      "text/plain": [
       "training (epoch=1):   0%|          | 0/3 [00:00<?, ?it/s]"
      ]
     },
     "metadata": {},
     "output_type": "display_data"
    },
    {
     "data": {
      "application/json": {
       "ascii": false,
       "bar_format": null,
       "colour": null,
       "elapsed": 0.016965150833129883,
       "initial": 0,
       "n": 0,
       "ncols": null,
       "nrows": 63,
       "postfix": null,
       "prefix": "Uploading data to Galileo",
       "rate": null,
       "total": 137993,
       "unit": "B",
       "unit_divisor": 1024,
       "unit_scale": true
      },
      "application/vnd.jupyter.widget-view+json": {
       "model_id": "",
       "version_major": 2,
       "version_minor": 0
      },
      "text/plain": [
       "Uploading data to Galileo:   0%|          | 0.00/135k [00:00<?, ?B/s]"
      ]
     },
     "metadata": {},
     "output_type": "display_data"
    },
    {
     "data": {
      "application/json": {
       "ascii": false,
       "bar_format": null,
       "colour": null,
       "elapsed": 0.01632404327392578,
       "initial": 0,
       "n": 0,
       "ncols": null,
       "nrows": 63,
       "postfix": null,
       "prefix": "Processing data for upload",
       "rate": null,
       "total": 157,
       "unit": "it",
       "unit_divisor": 1000,
       "unit_scale": false
      },
      "application/vnd.jupyter.widget-view+json": {
       "model_id": "",
       "version_major": 2,
       "version_minor": 0
      },
      "text/plain": [
       "Processing data for upload:   0%|          | 0/157 [00:00<?, ?it/s]"
      ]
     },
     "metadata": {},
     "output_type": "display_data"
    },
    {
     "data": {
      "application/json": {
       "ascii": false,
       "bar_format": null,
       "colour": null,
       "elapsed": 0.01642298698425293,
       "initial": 0,
       "n": 0,
       "ncols": null,
       "nrows": 63,
       "postfix": null,
       "prefix": "training (epoch=2)",
       "rate": null,
       "total": 3,
       "unit": "it",
       "unit_divisor": 1000,
       "unit_scale": false
      },
      "application/vnd.jupyter.widget-view+json": {
       "model_id": "",
       "version_major": 2,
       "version_minor": 0
      },
      "text/plain": [
       "training (epoch=2):   0%|          | 0/3 [00:00<?, ?it/s]"
      ]
     },
     "metadata": {},
     "output_type": "display_data"
    },
    {
     "data": {
      "application/json": {
       "ascii": false,
       "bar_format": null,
       "colour": null,
       "elapsed": 0.01680898666381836,
       "initial": 0,
       "n": 0,
       "ncols": null,
       "nrows": 63,
       "postfix": null,
       "prefix": "Uploading data to Galileo",
       "rate": null,
       "total": 137993,
       "unit": "B",
       "unit_divisor": 1024,
       "unit_scale": true
      },
      "application/vnd.jupyter.widget-view+json": {
       "model_id": "",
       "version_major": 2,
       "version_minor": 0
      },
      "text/plain": [
       "Uploading data to Galileo:   0%|          | 0.00/135k [00:00<?, ?B/s]"
      ]
     },
     "metadata": {},
     "output_type": "display_data"
    },
    {
     "data": {
      "application/json": {
       "ascii": false,
       "bar_format": null,
       "colour": null,
       "elapsed": 0.016659021377563477,
       "initial": 0,
       "n": 0,
       "ncols": null,
       "nrows": 63,
       "postfix": null,
       "prefix": "Processing data for upload",
       "rate": null,
       "total": 157,
       "unit": "it",
       "unit_divisor": 1000,
       "unit_scale": false
      },
      "application/vnd.jupyter.widget-view+json": {
       "model_id": "",
       "version_major": 2,
       "version_minor": 0
      },
      "text/plain": [
       "Processing data for upload:   0%|          | 0/157 [00:00<?, ?it/s]"
      ]
     },
     "metadata": {},
     "output_type": "display_data"
    },
    {
     "data": {
      "application/json": {
       "ascii": false,
       "bar_format": null,
       "colour": null,
       "elapsed": 0.016340017318725586,
       "initial": 0,
       "n": 0,
       "ncols": null,
       "nrows": 63,
       "postfix": null,
       "prefix": "training (epoch=3)",
       "rate": null,
       "total": 3,
       "unit": "it",
       "unit_divisor": 1000,
       "unit_scale": false
      },
      "application/vnd.jupyter.widget-view+json": {
       "model_id": "",
       "version_major": 2,
       "version_minor": 0
      },
      "text/plain": [
       "training (epoch=3):   0%|          | 0/3 [00:00<?, ?it/s]"
      ]
     },
     "metadata": {},
     "output_type": "display_data"
    },
    {
     "data": {
      "application/json": {
       "ascii": false,
       "bar_format": null,
       "colour": null,
       "elapsed": 0.016499042510986328,
       "initial": 0,
       "n": 0,
       "ncols": null,
       "nrows": 63,
       "postfix": null,
       "prefix": "Uploading data to Galileo",
       "rate": null,
       "total": 4840096,
       "unit": "B",
       "unit_divisor": 1024,
       "unit_scale": true
      },
      "application/vnd.jupyter.widget-view+json": {
       "model_id": "",
       "version_major": 2,
       "version_minor": 0
      },
      "text/plain": [
       "Uploading data to Galileo:   0%|          | 0.00/4.62M [00:00<?, ?B/s]"
      ]
     },
     "metadata": {},
     "output_type": "display_data"
    },
    {
     "data": {
      "application/json": {
       "ascii": false,
       "bar_format": null,
       "colour": null,
       "elapsed": 0.018615007400512695,
       "initial": 0,
       "n": 0,
       "ncols": null,
       "nrows": 63,
       "postfix": null,
       "prefix": "Uploading data to Galileo",
       "rate": null,
       "total": 137993,
       "unit": "B",
       "unit_divisor": 1024,
       "unit_scale": true
      },
      "application/vnd.jupyter.widget-view+json": {
       "model_id": "",
       "version_major": 2,
       "version_minor": 0
      },
      "text/plain": [
       "Uploading data to Galileo:   0%|          | 0.00/135k [00:00<?, ?B/s]"
      ]
     },
     "metadata": {},
     "output_type": "display_data"
    },
    {
     "data": {
      "application/json": {
       "ascii": false,
       "bar_format": null,
       "colour": null,
       "elapsed": 0.016490936279296875,
       "initial": 0,
       "n": 0,
       "ncols": null,
       "nrows": 63,
       "postfix": null,
       "prefix": "Uploading data to Galileo",
       "rate": null,
       "total": 104528,
       "unit": "B",
       "unit_divisor": 1024,
       "unit_scale": true
      },
      "application/vnd.jupyter.widget-view+json": {
       "model_id": "",
       "version_major": 2,
       "version_minor": 0
      },
      "text/plain": [
       "Uploading data to Galileo:   0%|          | 0.00/102k [00:00<?, ?B/s]"
      ]
     },
     "metadata": {},
     "output_type": "display_data"
    },
    {
     "data": {
      "application/json": {
       "ascii": false,
       "bar_format": null,
       "colour": null,
       "elapsed": 0.016143083572387695,
       "initial": 0,
       "n": 0,
       "ncols": null,
       "nrows": 63,
       "postfix": null,
       "prefix": "Processing data for upload",
       "rate": null,
       "total": 157,
       "unit": "it",
       "unit_divisor": 1000,
       "unit_scale": false
      },
      "application/vnd.jupyter.widget-view+json": {
       "model_id": "",
       "version_major": 2,
       "version_minor": 0
      },
      "text/plain": [
       "Processing data for upload:   0%|          | 0/157 [00:00<?, ?it/s]"
      ]
     },
     "metadata": {},
     "output_type": "display_data"
    },
    {
     "data": {
      "application/json": {
       "ascii": false,
       "bar_format": null,
       "colour": null,
       "elapsed": 0.01712489128112793,
       "initial": 0,
       "n": 0,
       "ncols": null,
       "nrows": 63,
       "postfix": null,
       "prefix": "training (epoch=4)",
       "rate": null,
       "total": 3,
       "unit": "it",
       "unit_divisor": 1000,
       "unit_scale": false
      },
      "application/vnd.jupyter.widget-view+json": {
       "model_id": "",
       "version_major": 2,
       "version_minor": 0
      },
      "text/plain": [
       "training (epoch=4):   0%|          | 0/3 [00:00<?, ?it/s]"
      ]
     },
     "metadata": {},
     "output_type": "display_data"
    },
    {
     "data": {
      "application/json": {
       "ascii": false,
       "bar_format": null,
       "colour": null,
       "elapsed": 0.017113685607910156,
       "initial": 0,
       "n": 0,
       "ncols": null,
       "nrows": 63,
       "postfix": null,
       "prefix": "Uploading data to Galileo",
       "rate": null,
       "total": 4840096,
       "unit": "B",
       "unit_divisor": 1024,
       "unit_scale": true
      },
      "application/vnd.jupyter.widget-view+json": {
       "model_id": "",
       "version_major": 2,
       "version_minor": 0
      },
      "text/plain": [
       "Uploading data to Galileo:   0%|          | 0.00/4.62M [00:00<?, ?B/s]"
      ]
     },
     "metadata": {},
     "output_type": "display_data"
    },
    {
     "data": {
      "application/json": {
       "ascii": false,
       "bar_format": null,
       "colour": null,
       "elapsed": 0.016197919845581055,
       "initial": 0,
       "n": 0,
       "ncols": null,
       "nrows": 63,
       "postfix": null,
       "prefix": "Uploading data to Galileo",
       "rate": null,
       "total": 137993,
       "unit": "B",
       "unit_divisor": 1024,
       "unit_scale": true
      },
      "application/vnd.jupyter.widget-view+json": {
       "model_id": "",
       "version_major": 2,
       "version_minor": 0
      },
      "text/plain": [
       "Uploading data to Galileo:   0%|          | 0.00/135k [00:00<?, ?B/s]"
      ]
     },
     "metadata": {},
     "output_type": "display_data"
    },
    {
     "data": {
      "application/json": {
       "ascii": false,
       "bar_format": null,
       "colour": null,
       "elapsed": 0.01641392707824707,
       "initial": 0,
       "n": 0,
       "ncols": null,
       "nrows": 63,
       "postfix": null,
       "prefix": "Uploading data to Galileo",
       "rate": null,
       "total": 104528,
       "unit": "B",
       "unit_divisor": 1024,
       "unit_scale": true
      },
      "application/vnd.jupyter.widget-view+json": {
       "model_id": "",
       "version_major": 2,
       "version_minor": 0
      },
      "text/plain": [
       "Uploading data to Galileo:   0%|          | 0.00/102k [00:00<?, ?B/s]"
      ]
     },
     "metadata": {},
     "output_type": "display_data"
    },
    {
     "data": {
      "application/json": {
       "ascii": false,
       "bar_format": null,
       "colour": null,
       "elapsed": 0.017901897430419922,
       "initial": 0,
       "n": 0,
       "ncols": null,
       "nrows": 63,
       "postfix": null,
       "prefix": "validation",
       "rate": null,
       "total": 5,
       "unit": "it",
       "unit_divisor": 1000,
       "unit_scale": false
      },
      "application/vnd.jupyter.widget-view+json": {
       "model_id": "50edbe1c508545bf851dec004db6db93",
       "version_major": 2,
       "version_minor": 0
      },
      "text/plain": [
       "validation:   0%|          | 0/5 [00:00<?, ?it/s]"
      ]
     },
     "metadata": {},
     "output_type": "display_data"
    },
    {
     "data": {
      "application/json": {
       "ascii": false,
       "bar_format": null,
       "colour": null,
       "elapsed": 0.01580190658569336,
       "initial": 0,
       "n": 0,
       "ncols": null,
       "nrows": 63,
       "postfix": null,
       "prefix": "Processing data for upload",
       "rate": null,
       "total": 157,
       "unit": "it",
       "unit_divisor": 1000,
       "unit_scale": false
      },
      "application/vnd.jupyter.widget-view+json": {
       "model_id": "",
       "version_major": 2,
       "version_minor": 0
      },
      "text/plain": [
       "Processing data for upload:   0%|          | 0/157 [00:00<?, ?it/s]"
      ]
     },
     "metadata": {},
     "output_type": "display_data"
    },
    {
     "data": {
      "application/json": {
       "ascii": false,
       "bar_format": null,
       "colour": null,
       "elapsed": 0.016947031021118164,
       "initial": 0,
       "n": 0,
       "ncols": null,
       "nrows": 63,
       "postfix": null,
       "prefix": "validation (epoch=0)",
       "rate": null,
       "total": 3,
       "unit": "it",
       "unit_divisor": 1000,
       "unit_scale": false
      },
      "application/vnd.jupyter.widget-view+json": {
       "model_id": "",
       "version_major": 2,
       "version_minor": 0
      },
      "text/plain": [
       "validation (epoch=0):   0%|          | 0/3 [00:00<?, ?it/s]"
      ]
     },
     "metadata": {},
     "output_type": "display_data"
    },
    {
     "data": {
      "application/json": {
       "ascii": false,
       "bar_format": null,
       "colour": null,
       "elapsed": 0.016236066818237305,
       "initial": 0,
       "n": 0,
       "ncols": null,
       "nrows": 63,
       "postfix": null,
       "prefix": "Uploading data to Galileo",
       "rate": null,
       "total": 137993,
       "unit": "B",
       "unit_divisor": 1024,
       "unit_scale": true
      },
      "application/vnd.jupyter.widget-view+json": {
       "model_id": "",
       "version_major": 2,
       "version_minor": 0
      },
      "text/plain": [
       "Uploading data to Galileo:   0%|          | 0.00/135k [00:00<?, ?B/s]"
      ]
     },
     "metadata": {},
     "output_type": "display_data"
    },
    {
     "data": {
      "application/json": {
       "ascii": false,
       "bar_format": null,
       "colour": null,
       "elapsed": 0.01625800132751465,
       "initial": 0,
       "n": 0,
       "ncols": null,
       "nrows": 63,
       "postfix": null,
       "prefix": "Processing data for upload",
       "rate": null,
       "total": 157,
       "unit": "it",
       "unit_divisor": 1000,
       "unit_scale": false
      },
      "application/vnd.jupyter.widget-view+json": {
       "model_id": "",
       "version_major": 2,
       "version_minor": 0
      },
      "text/plain": [
       "Processing data for upload:   0%|          | 0/157 [00:00<?, ?it/s]"
      ]
     },
     "metadata": {},
     "output_type": "display_data"
    },
    {
     "data": {
      "application/json": {
       "ascii": false,
       "bar_format": null,
       "colour": null,
       "elapsed": 0.01786017417907715,
       "initial": 0,
       "n": 0,
       "ncols": null,
       "nrows": 63,
       "postfix": null,
       "prefix": "validation (epoch=1)",
       "rate": null,
       "total": 3,
       "unit": "it",
       "unit_divisor": 1000,
       "unit_scale": false
      },
      "application/vnd.jupyter.widget-view+json": {
       "model_id": "",
       "version_major": 2,
       "version_minor": 0
      },
      "text/plain": [
       "validation (epoch=1):   0%|          | 0/3 [00:00<?, ?it/s]"
      ]
     },
     "metadata": {},
     "output_type": "display_data"
    },
    {
     "data": {
      "application/json": {
       "ascii": false,
       "bar_format": null,
       "colour": null,
       "elapsed": 0.017739057540893555,
       "initial": 0,
       "n": 0,
       "ncols": null,
       "nrows": 63,
       "postfix": null,
       "prefix": "Uploading data to Galileo",
       "rate": null,
       "total": 137993,
       "unit": "B",
       "unit_divisor": 1024,
       "unit_scale": true
      },
      "application/vnd.jupyter.widget-view+json": {
       "model_id": "",
       "version_major": 2,
       "version_minor": 0
      },
      "text/plain": [
       "Uploading data to Galileo:   0%|          | 0.00/135k [00:00<?, ?B/s]"
      ]
     },
     "metadata": {},
     "output_type": "display_data"
    },
    {
     "data": {
      "application/json": {
       "ascii": false,
       "bar_format": null,
       "colour": null,
       "elapsed": 0.016744136810302734,
       "initial": 0,
       "n": 0,
       "ncols": null,
       "nrows": 63,
       "postfix": null,
       "prefix": "Processing data for upload",
       "rate": null,
       "total": 157,
       "unit": "it",
       "unit_divisor": 1000,
       "unit_scale": false
      },
      "application/vnd.jupyter.widget-view+json": {
       "model_id": "",
       "version_major": 2,
       "version_minor": 0
      },
      "text/plain": [
       "Processing data for upload:   0%|          | 0/157 [00:00<?, ?it/s]"
      ]
     },
     "metadata": {},
     "output_type": "display_data"
    },
    {
     "data": {
      "application/json": {
       "ascii": false,
       "bar_format": null,
       "colour": null,
       "elapsed": 0.0186769962310791,
       "initial": 0,
       "n": 0,
       "ncols": null,
       "nrows": 63,
       "postfix": null,
       "prefix": "validation (epoch=2)",
       "rate": null,
       "total": 3,
       "unit": "it",
       "unit_divisor": 1000,
       "unit_scale": false
      },
      "application/vnd.jupyter.widget-view+json": {
       "model_id": "",
       "version_major": 2,
       "version_minor": 0
      },
      "text/plain": [
       "validation (epoch=2):   0%|          | 0/3 [00:00<?, ?it/s]"
      ]
     },
     "metadata": {},
     "output_type": "display_data"
    },
    {
     "data": {
      "application/json": {
       "ascii": false,
       "bar_format": null,
       "colour": null,
       "elapsed": 0.01771092414855957,
       "initial": 0,
       "n": 0,
       "ncols": null,
       "nrows": 63,
       "postfix": null,
       "prefix": "Uploading data to Galileo",
       "rate": null,
       "total": 137993,
       "unit": "B",
       "unit_divisor": 1024,
       "unit_scale": true
      },
      "application/vnd.jupyter.widget-view+json": {
       "model_id": "",
       "version_major": 2,
       "version_minor": 0
      },
      "text/plain": [
       "Uploading data to Galileo:   0%|          | 0.00/135k [00:00<?, ?B/s]"
      ]
     },
     "metadata": {},
     "output_type": "display_data"
    },
    {
     "data": {
      "application/json": {
       "ascii": false,
       "bar_format": null,
       "colour": null,
       "elapsed": 0.016616106033325195,
       "initial": 0,
       "n": 0,
       "ncols": null,
       "nrows": 63,
       "postfix": null,
       "prefix": "Processing data for upload",
       "rate": null,
       "total": 157,
       "unit": "it",
       "unit_divisor": 1000,
       "unit_scale": false
      },
      "application/vnd.jupyter.widget-view+json": {
       "model_id": "",
       "version_major": 2,
       "version_minor": 0
      },
      "text/plain": [
       "Processing data for upload:   0%|          | 0/157 [00:00<?, ?it/s]"
      ]
     },
     "metadata": {},
     "output_type": "display_data"
    },
    {
     "data": {
      "application/json": {
       "ascii": false,
       "bar_format": null,
       "colour": null,
       "elapsed": 0.0157620906829834,
       "initial": 0,
       "n": 0,
       "ncols": null,
       "nrows": 63,
       "postfix": null,
       "prefix": "validation (epoch=3)",
       "rate": null,
       "total": 3,
       "unit": "it",
       "unit_divisor": 1000,
       "unit_scale": false
      },
      "application/vnd.jupyter.widget-view+json": {
       "model_id": "",
       "version_major": 2,
       "version_minor": 0
      },
      "text/plain": [
       "validation (epoch=3):   0%|          | 0/3 [00:00<?, ?it/s]"
      ]
     },
     "metadata": {},
     "output_type": "display_data"
    },
    {
     "data": {
      "application/json": {
       "ascii": false,
       "bar_format": null,
       "colour": null,
       "elapsed": 0.016531944274902344,
       "initial": 0,
       "n": 0,
       "ncols": null,
       "nrows": 63,
       "postfix": null,
       "prefix": "Uploading data to Galileo",
       "rate": null,
       "total": 4840096,
       "unit": "B",
       "unit_divisor": 1024,
       "unit_scale": true
      },
      "application/vnd.jupyter.widget-view+json": {
       "model_id": "",
       "version_major": 2,
       "version_minor": 0
      },
      "text/plain": [
       "Uploading data to Galileo:   0%|          | 0.00/4.62M [00:00<?, ?B/s]"
      ]
     },
     "metadata": {},
     "output_type": "display_data"
    },
    {
     "data": {
      "application/json": {
       "ascii": false,
       "bar_format": null,
       "colour": null,
       "elapsed": 0.016572952270507812,
       "initial": 0,
       "n": 0,
       "ncols": null,
       "nrows": 63,
       "postfix": null,
       "prefix": "Uploading data to Galileo",
       "rate": null,
       "total": 137993,
       "unit": "B",
       "unit_divisor": 1024,
       "unit_scale": true
      },
      "application/vnd.jupyter.widget-view+json": {
       "model_id": "",
       "version_major": 2,
       "version_minor": 0
      },
      "text/plain": [
       "Uploading data to Galileo:   0%|          | 0.00/135k [00:00<?, ?B/s]"
      ]
     },
     "metadata": {},
     "output_type": "display_data"
    },
    {
     "data": {
      "application/json": {
       "ascii": false,
       "bar_format": null,
       "colour": null,
       "elapsed": 0.01684403419494629,
       "initial": 0,
       "n": 0,
       "ncols": null,
       "nrows": 63,
       "postfix": null,
       "prefix": "Uploading data to Galileo",
       "rate": null,
       "total": 106098,
       "unit": "B",
       "unit_divisor": 1024,
       "unit_scale": true
      },
      "application/vnd.jupyter.widget-view+json": {
       "model_id": "",
       "version_major": 2,
       "version_minor": 0
      },
      "text/plain": [
       "Uploading data to Galileo:   0%|          | 0.00/104k [00:00<?, ?B/s]"
      ]
     },
     "metadata": {},
     "output_type": "display_data"
    },
    {
     "data": {
      "application/json": {
       "ascii": false,
       "bar_format": null,
       "colour": null,
       "elapsed": 0.01609206199645996,
       "initial": 0,
       "n": 0,
       "ncols": null,
       "nrows": 63,
       "postfix": null,
       "prefix": "Processing data for upload",
       "rate": null,
       "total": 157,
       "unit": "it",
       "unit_divisor": 1000,
       "unit_scale": false
      },
      "application/vnd.jupyter.widget-view+json": {
       "model_id": "",
       "version_major": 2,
       "version_minor": 0
      },
      "text/plain": [
       "Processing data for upload:   0%|          | 0/157 [00:00<?, ?it/s]"
      ]
     },
     "metadata": {},
     "output_type": "display_data"
    },
    {
     "data": {
      "application/json": {
       "ascii": false,
       "bar_format": null,
       "colour": null,
       "elapsed": 0.01682901382446289,
       "initial": 0,
       "n": 0,
       "ncols": null,
       "nrows": 63,
       "postfix": null,
       "prefix": "validation (epoch=4)",
       "rate": null,
       "total": 3,
       "unit": "it",
       "unit_divisor": 1000,
       "unit_scale": false
      },
      "application/vnd.jupyter.widget-view+json": {
       "model_id": "",
       "version_major": 2,
       "version_minor": 0
      },
      "text/plain": [
       "validation (epoch=4):   0%|          | 0/3 [00:00<?, ?it/s]"
      ]
     },
     "metadata": {},
     "output_type": "display_data"
    },
    {
     "data": {
      "application/json": {
       "ascii": false,
       "bar_format": null,
       "colour": null,
       "elapsed": 0.016517162322998047,
       "initial": 0,
       "n": 0,
       "ncols": null,
       "nrows": 63,
       "postfix": null,
       "prefix": "Uploading data to Galileo",
       "rate": null,
       "total": 4840096,
       "unit": "B",
       "unit_divisor": 1024,
       "unit_scale": true
      },
      "application/vnd.jupyter.widget-view+json": {
       "model_id": "",
       "version_major": 2,
       "version_minor": 0
      },
      "text/plain": [
       "Uploading data to Galileo:   0%|          | 0.00/4.62M [00:00<?, ?B/s]"
      ]
     },
     "metadata": {},
     "output_type": "display_data"
    },
    {
     "data": {
      "application/json": {
       "ascii": false,
       "bar_format": null,
       "colour": null,
       "elapsed": 0.016871213912963867,
       "initial": 0,
       "n": 0,
       "ncols": null,
       "nrows": 63,
       "postfix": null,
       "prefix": "Uploading data to Galileo",
       "rate": null,
       "total": 137993,
       "unit": "B",
       "unit_divisor": 1024,
       "unit_scale": true
      },
      "application/vnd.jupyter.widget-view+json": {
       "model_id": "",
       "version_major": 2,
       "version_minor": 0
      },
      "text/plain": [
       "Uploading data to Galileo:   0%|          | 0.00/135k [00:00<?, ?B/s]"
      ]
     },
     "metadata": {},
     "output_type": "display_data"
    },
    {
     "data": {
      "application/json": {
       "ascii": false,
       "bar_format": null,
       "colour": null,
       "elapsed": 0.016590118408203125,
       "initial": 0,
       "n": 0,
       "ncols": null,
       "nrows": 63,
       "postfix": null,
       "prefix": "Uploading data to Galileo",
       "rate": null,
       "total": 106098,
       "unit": "B",
       "unit_divisor": 1024,
       "unit_scale": true
      },
      "application/vnd.jupyter.widget-view+json": {
       "model_id": "",
       "version_major": 2,
       "version_minor": 0
      },
      "text/plain": [
       "Uploading data to Galileo:   0%|          | 0.00/104k [00:00<?, ?B/s]"
      ]
     },
     "metadata": {},
     "output_type": "display_data"
    },
    {
     "data": {
      "application/json": {
       "ascii": false,
       "bar_format": null,
       "colour": null,
       "elapsed": 0.020016908645629883,
       "initial": 0,
       "n": 0,
       "ncols": null,
       "nrows": 63,
       "postfix": null,
       "prefix": "test",
       "rate": null,
       "total": 5,
       "unit": "it",
       "unit_divisor": 1000,
       "unit_scale": false
      },
      "application/vnd.jupyter.widget-view+json": {
       "model_id": "3776737e7966447c9948ac174c1f55ac",
       "version_major": 2,
       "version_minor": 0
      },
      "text/plain": [
       "test:   0%|          | 0/5 [00:00<?, ?it/s]"
      ]
     },
     "metadata": {},
     "output_type": "display_data"
    },
    {
     "data": {
      "application/json": {
       "ascii": false,
       "bar_format": null,
       "colour": null,
       "elapsed": 0.016848087310791016,
       "initial": 0,
       "n": 0,
       "ncols": null,
       "nrows": 63,
       "postfix": null,
       "prefix": "Processing data for upload",
       "rate": null,
       "total": 157,
       "unit": "it",
       "unit_divisor": 1000,
       "unit_scale": false
      },
      "application/vnd.jupyter.widget-view+json": {
       "model_id": "",
       "version_major": 2,
       "version_minor": 0
      },
      "text/plain": [
       "Processing data for upload:   0%|          | 0/157 [00:00<?, ?it/s]"
      ]
     },
     "metadata": {},
     "output_type": "display_data"
    },
    {
     "data": {
      "application/json": {
       "ascii": false,
       "bar_format": null,
       "colour": null,
       "elapsed": 0.015604019165039062,
       "initial": 0,
       "n": 0,
       "ncols": null,
       "nrows": 63,
       "postfix": null,
       "prefix": "test (epoch=0)",
       "rate": null,
       "total": 3,
       "unit": "it",
       "unit_divisor": 1000,
       "unit_scale": false
      },
      "application/vnd.jupyter.widget-view+json": {
       "model_id": "",
       "version_major": 2,
       "version_minor": 0
      },
      "text/plain": [
       "test (epoch=0):   0%|          | 0/3 [00:00<?, ?it/s]"
      ]
     },
     "metadata": {},
     "output_type": "display_data"
    },
    {
     "data": {
      "application/json": {
       "ascii": false,
       "bar_format": null,
       "colour": null,
       "elapsed": 0.016607046127319336,
       "initial": 0,
       "n": 0,
       "ncols": null,
       "nrows": 63,
       "postfix": null,
       "prefix": "Uploading data to Galileo",
       "rate": null,
       "total": 137993,
       "unit": "B",
       "unit_divisor": 1024,
       "unit_scale": true
      },
      "application/vnd.jupyter.widget-view+json": {
       "model_id": "",
       "version_major": 2,
       "version_minor": 0
      },
      "text/plain": [
       "Uploading data to Galileo:   0%|          | 0.00/135k [00:00<?, ?B/s]"
      ]
     },
     "metadata": {},
     "output_type": "display_data"
    },
    {
     "data": {
      "application/json": {
       "ascii": false,
       "bar_format": null,
       "colour": null,
       "elapsed": 0.0162203311920166,
       "initial": 0,
       "n": 0,
       "ncols": null,
       "nrows": 63,
       "postfix": null,
       "prefix": "Processing data for upload",
       "rate": null,
       "total": 157,
       "unit": "it",
       "unit_divisor": 1000,
       "unit_scale": false
      },
      "application/vnd.jupyter.widget-view+json": {
       "model_id": "",
       "version_major": 2,
       "version_minor": 0
      },
      "text/plain": [
       "Processing data for upload:   0%|          | 0/157 [00:00<?, ?it/s]"
      ]
     },
     "metadata": {},
     "output_type": "display_data"
    },
    {
     "data": {
      "application/json": {
       "ascii": false,
       "bar_format": null,
       "colour": null,
       "elapsed": 0.017222166061401367,
       "initial": 0,
       "n": 0,
       "ncols": null,
       "nrows": 63,
       "postfix": null,
       "prefix": "test (epoch=1)",
       "rate": null,
       "total": 3,
       "unit": "it",
       "unit_divisor": 1000,
       "unit_scale": false
      },
      "application/vnd.jupyter.widget-view+json": {
       "model_id": "",
       "version_major": 2,
       "version_minor": 0
      },
      "text/plain": [
       "test (epoch=1):   0%|          | 0/3 [00:00<?, ?it/s]"
      ]
     },
     "metadata": {},
     "output_type": "display_data"
    },
    {
     "data": {
      "application/json": {
       "ascii": false,
       "bar_format": null,
       "colour": null,
       "elapsed": 0.01712203025817871,
       "initial": 0,
       "n": 0,
       "ncols": null,
       "nrows": 63,
       "postfix": null,
       "prefix": "Uploading data to Galileo",
       "rate": null,
       "total": 137993,
       "unit": "B",
       "unit_divisor": 1024,
       "unit_scale": true
      },
      "application/vnd.jupyter.widget-view+json": {
       "model_id": "",
       "version_major": 2,
       "version_minor": 0
      },
      "text/plain": [
       "Uploading data to Galileo:   0%|          | 0.00/135k [00:00<?, ?B/s]"
      ]
     },
     "metadata": {},
     "output_type": "display_data"
    },
    {
     "data": {
      "application/json": {
       "ascii": false,
       "bar_format": null,
       "colour": null,
       "elapsed": 0.016688108444213867,
       "initial": 0,
       "n": 0,
       "ncols": null,
       "nrows": 63,
       "postfix": null,
       "prefix": "Processing data for upload",
       "rate": null,
       "total": 157,
       "unit": "it",
       "unit_divisor": 1000,
       "unit_scale": false
      },
      "application/vnd.jupyter.widget-view+json": {
       "model_id": "",
       "version_major": 2,
       "version_minor": 0
      },
      "text/plain": [
       "Processing data for upload:   0%|          | 0/157 [00:00<?, ?it/s]"
      ]
     },
     "metadata": {},
     "output_type": "display_data"
    },
    {
     "data": {
      "application/json": {
       "ascii": false,
       "bar_format": null,
       "colour": null,
       "elapsed": 0.015951156616210938,
       "initial": 0,
       "n": 0,
       "ncols": null,
       "nrows": 63,
       "postfix": null,
       "prefix": "test (epoch=2)",
       "rate": null,
       "total": 3,
       "unit": "it",
       "unit_divisor": 1000,
       "unit_scale": false
      },
      "application/vnd.jupyter.widget-view+json": {
       "model_id": "",
       "version_major": 2,
       "version_minor": 0
      },
      "text/plain": [
       "test (epoch=2):   0%|          | 0/3 [00:00<?, ?it/s]"
      ]
     },
     "metadata": {},
     "output_type": "display_data"
    },
    {
     "data": {
      "application/json": {
       "ascii": false,
       "bar_format": null,
       "colour": null,
       "elapsed": 0.016448020935058594,
       "initial": 0,
       "n": 0,
       "ncols": null,
       "nrows": 63,
       "postfix": null,
       "prefix": "Uploading data to Galileo",
       "rate": null,
       "total": 137993,
       "unit": "B",
       "unit_divisor": 1024,
       "unit_scale": true
      },
      "application/vnd.jupyter.widget-view+json": {
       "model_id": "",
       "version_major": 2,
       "version_minor": 0
      },
      "text/plain": [
       "Uploading data to Galileo:   0%|          | 0.00/135k [00:00<?, ?B/s]"
      ]
     },
     "metadata": {},
     "output_type": "display_data"
    },
    {
     "data": {
      "application/json": {
       "ascii": false,
       "bar_format": null,
       "colour": null,
       "elapsed": 0.017121076583862305,
       "initial": 0,
       "n": 0,
       "ncols": null,
       "nrows": 63,
       "postfix": null,
       "prefix": "Processing data for upload",
       "rate": null,
       "total": 157,
       "unit": "it",
       "unit_divisor": 1000,
       "unit_scale": false
      },
      "application/vnd.jupyter.widget-view+json": {
       "model_id": "",
       "version_major": 2,
       "version_minor": 0
      },
      "text/plain": [
       "Processing data for upload:   0%|          | 0/157 [00:00<?, ?it/s]"
      ]
     },
     "metadata": {},
     "output_type": "display_data"
    },
    {
     "data": {
      "application/json": {
       "ascii": false,
       "bar_format": null,
       "colour": null,
       "elapsed": 0.015736103057861328,
       "initial": 0,
       "n": 0,
       "ncols": null,
       "nrows": 63,
       "postfix": null,
       "prefix": "test (epoch=3)",
       "rate": null,
       "total": 3,
       "unit": "it",
       "unit_divisor": 1000,
       "unit_scale": false
      },
      "application/vnd.jupyter.widget-view+json": {
       "model_id": "",
       "version_major": 2,
       "version_minor": 0
      },
      "text/plain": [
       "test (epoch=3):   0%|          | 0/3 [00:00<?, ?it/s]"
      ]
     },
     "metadata": {},
     "output_type": "display_data"
    },
    {
     "data": {
      "application/json": {
       "ascii": false,
       "bar_format": null,
       "colour": null,
       "elapsed": 0.017241954803466797,
       "initial": 0,
       "n": 0,
       "ncols": null,
       "nrows": 63,
       "postfix": null,
       "prefix": "Uploading data to Galileo",
       "rate": null,
       "total": 4840096,
       "unit": "B",
       "unit_divisor": 1024,
       "unit_scale": true
      },
      "application/vnd.jupyter.widget-view+json": {
       "model_id": "",
       "version_major": 2,
       "version_minor": 0
      },
      "text/plain": [
       "Uploading data to Galileo:   0%|          | 0.00/4.62M [00:00<?, ?B/s]"
      ]
     },
     "metadata": {},
     "output_type": "display_data"
    },
    {
     "data": {
      "application/json": {
       "ascii": false,
       "bar_format": null,
       "colour": null,
       "elapsed": 0.016671419143676758,
       "initial": 0,
       "n": 0,
       "ncols": null,
       "nrows": 63,
       "postfix": null,
       "prefix": "Uploading data to Galileo",
       "rate": null,
       "total": 137993,
       "unit": "B",
       "unit_divisor": 1024,
       "unit_scale": true
      },
      "application/vnd.jupyter.widget-view+json": {
       "model_id": "",
       "version_major": 2,
       "version_minor": 0
      },
      "text/plain": [
       "Uploading data to Galileo:   0%|          | 0.00/135k [00:00<?, ?B/s]"
      ]
     },
     "metadata": {},
     "output_type": "display_data"
    },
    {
     "data": {
      "application/json": {
       "ascii": false,
       "bar_format": null,
       "colour": null,
       "elapsed": 0.017907381057739258,
       "initial": 0,
       "n": 0,
       "ncols": null,
       "nrows": 63,
       "postfix": null,
       "prefix": "Uploading data to Galileo",
       "rate": null,
       "total": 101388,
       "unit": "B",
       "unit_divisor": 1024,
       "unit_scale": true
      },
      "application/vnd.jupyter.widget-view+json": {
       "model_id": "",
       "version_major": 2,
       "version_minor": 0
      },
      "text/plain": [
       "Uploading data to Galileo:   0%|          | 0.00/99.0k [00:00<?, ?B/s]"
      ]
     },
     "metadata": {},
     "output_type": "display_data"
    },
    {
     "data": {
      "application/json": {
       "ascii": false,
       "bar_format": null,
       "colour": null,
       "elapsed": 0.016939878463745117,
       "initial": 0,
       "n": 0,
       "ncols": null,
       "nrows": 63,
       "postfix": null,
       "prefix": "Processing data for upload",
       "rate": null,
       "total": 157,
       "unit": "it",
       "unit_divisor": 1000,
       "unit_scale": false
      },
      "application/vnd.jupyter.widget-view+json": {
       "model_id": "",
       "version_major": 2,
       "version_minor": 0
      },
      "text/plain": [
       "Processing data for upload:   0%|          | 0/157 [00:00<?, ?it/s]"
      ]
     },
     "metadata": {},
     "output_type": "display_data"
    },
    {
     "data": {
      "application/json": {
       "ascii": false,
       "bar_format": null,
       "colour": null,
       "elapsed": 0.016344070434570312,
       "initial": 0,
       "n": 0,
       "ncols": null,
       "nrows": 63,
       "postfix": null,
       "prefix": "test (epoch=4)",
       "rate": null,
       "total": 3,
       "unit": "it",
       "unit_divisor": 1000,
       "unit_scale": false
      },
      "application/vnd.jupyter.widget-view+json": {
       "model_id": "",
       "version_major": 2,
       "version_minor": 0
      },
      "text/plain": [
       "test (epoch=4):   0%|          | 0/3 [00:00<?, ?it/s]"
      ]
     },
     "metadata": {},
     "output_type": "display_data"
    },
    {
     "data": {
      "application/json": {
       "ascii": false,
       "bar_format": null,
       "colour": null,
       "elapsed": 0.016451120376586914,
       "initial": 0,
       "n": 0,
       "ncols": null,
       "nrows": 63,
       "postfix": null,
       "prefix": "Uploading data to Galileo",
       "rate": null,
       "total": 4840096,
       "unit": "B",
       "unit_divisor": 1024,
       "unit_scale": true
      },
      "application/vnd.jupyter.widget-view+json": {
       "model_id": "",
       "version_major": 2,
       "version_minor": 0
      },
      "text/plain": [
       "Uploading data to Galileo:   0%|          | 0.00/4.62M [00:00<?, ?B/s]"
      ]
     },
     "metadata": {},
     "output_type": "display_data"
    },
    {
     "data": {
      "application/json": {
       "ascii": false,
       "bar_format": null,
       "colour": null,
       "elapsed": 0.01676487922668457,
       "initial": 0,
       "n": 0,
       "ncols": null,
       "nrows": 63,
       "postfix": null,
       "prefix": "Uploading data to Galileo",
       "rate": null,
       "total": 137993,
       "unit": "B",
       "unit_divisor": 1024,
       "unit_scale": true
      },
      "application/vnd.jupyter.widget-view+json": {
       "model_id": "",
       "version_major": 2,
       "version_minor": 0
      },
      "text/plain": [
       "Uploading data to Galileo:   0%|          | 0.00/135k [00:00<?, ?B/s]"
      ]
     },
     "metadata": {},
     "output_type": "display_data"
    },
    {
     "data": {
      "application/json": {
       "ascii": false,
       "bar_format": null,
       "colour": null,
       "elapsed": 0.016408681869506836,
       "initial": 0,
       "n": 0,
       "ncols": null,
       "nrows": 63,
       "postfix": null,
       "prefix": "Uploading data to Galileo",
       "rate": null,
       "total": 101388,
       "unit": "B",
       "unit_divisor": 1024,
       "unit_scale": true
      },
      "application/vnd.jupyter.widget-view+json": {
       "model_id": "",
       "version_major": 2,
       "version_minor": 0
      },
      "text/plain": [
       "Uploading data to Galileo:   0%|          | 0.00/99.0k [00:00<?, ?B/s]"
      ]
     },
     "metadata": {},
     "output_type": "display_data"
    },
    {
     "name": "stdout",
     "output_type": "stream",
     "text": [
      "Job default successfully submitted. Results will be available soon at http://127.0.0.1:3000/insights?projectId=2a0464fe-78e1-49d9-a0ea-0d3b92bd2a12&runId=ee9e8834-050b-485f-81df-63f0182dc297&split=training&metric=f1&depHigh=1&depLow=0&taskType=1\n",
      "Waiting for job...\n",
      "\tApplying dimensionality reduction to training embs\n",
      "\tApplying dimensionality reduction to validation embs\n",
      "\tApplying dimensionality reduction to test embs\n",
      "\tCalculating data error potential\n",
      "\tLooking for likely mislabeled samples\n",
      "\tMeasuring sample similarity for training\n",
      "\tMeasuring class overlap\n",
      "\tSaving processed training data\n",
      "\tCalculating data error potential\n",
      "\tLooking for likely mislabeled samples\n",
      "\tMeasuring class overlap\n",
      "\tSaving processed validation data\n",
      "\tCalculating data error potential\n",
      "\tLooking for likely mislabeled samples\n",
      "\tMeasuring class overlap\n",
      "\tSaving processed test data\n",
      "Done! Job finished with status completed\n",
      "huggingface/tokenizers: The current process just got forked, after parallelism has already been used. Disabling parallelism to avoid deadlocks...\n",
      "To disable this warning, you can either:\n",
      "\t- Avoid using `tokenizers` before the fork if possible\n",
      "\t- Explicitly set the environment variable TOKENIZERS_PARALLELISM=(true | false)\n",
      "Click here to see your run! http://127.0.0.1:3000/insights?projectId=2a0464fe-78e1-49d9-a0ea-0d3b92bd2a12&runId=ee9e8834-050b-485f-81df-63f0182dc297&split=training&metric=f1&depHigh=1&depLow=0&taskType=1\n",
      "🧹 Cleaning up\n"
     ]
    },
    {
     "ename": "NameError",
     "evalue": "name 'see_results' is not defined",
     "output_type": "error",
     "traceback": [
      "\u001b[0;31m---------------------------------------------------------------------------\u001b[0m",
      "\u001b[0;31mNameError\u001b[0m                                 Traceback (most recent call last)",
      "Cell \u001b[0;32mIn [15], line 42\u001b[0m\n\u001b[1;32m     33\u001b[0m             dq\u001b[38;5;241m.\u001b[39mlog_model_outputs(\n\u001b[1;32m     34\u001b[0m                 embs\u001b[38;5;241m=\u001b[39memb[i:i\u001b[38;5;241m+\u001b[39m\u001b[38;5;241m5\u001b[39m],\n\u001b[1;32m     35\u001b[0m                 logits\u001b[38;5;241m=\u001b[39mlogits[i:i\u001b[38;5;241m+\u001b[39m\u001b[38;5;241m5\u001b[39m],\n\u001b[0;32m   (...)\u001b[0m\n\u001b[1;32m     38\u001b[0m                 epoch\u001b[38;5;241m=\u001b[39mepoch\n\u001b[1;32m     39\u001b[0m             )\n\u001b[1;32m     41\u001b[0m dq\u001b[38;5;241m.\u001b[39mfinish()\n\u001b[0;32m---> 42\u001b[0m df_train, df_test, df_val \u001b[38;5;241m=\u001b[39m \u001b[43msee_results\u001b[49m()\n",
      "\u001b[0;31mNameError\u001b[0m: name 'see_results' is not defined"
     ]
    }
   ],
   "source": [
    "from typing import *\n",
    "from random import choice\n",
    "import numpy as np\n",
    "\n",
    "\n",
    "dq.init(\"text_multi_label\", \"test-mltc-run\")\n",
    "dq.set_labels_for_run([[\"not \"+_label, _label] for _label in ['toxic', 'severe_toxic', 'obscene', 'threat', 'insult','identity_hate']]) \n",
    "dq.set_tasks_for_run(['task_0', 'task_1', 'task_2', 'task_3', 'task_4', 'task_5'], binary=False)\n",
    "\n",
    "n = 5000\n",
    "\n",
    "texts: List[str] = [f\"text sample {i}\" for i in range(n)]\n",
    "\n",
    "labels: List[str] = [\n",
    "    [choice(i) for i in dq.get_data_logger().logger_config.labels]\n",
    "    for _ in range(n)\n",
    "]\n",
    "\n",
    "ids = list(range(n))\n",
    "\n",
    "\n",
    "dq.log_data_samples(texts=texts, task_labels=labels, ids=ids, split=\"training\")\n",
    "dq.log_data_samples(texts=texts, task_labels=labels, ids=ids, split=\"test\")\n",
    "dq.log_data_samples(texts=texts, task_labels=labels, ids=ids, split=\"validation\")\n",
    "\n",
    "for split in [\"training\", \"test\", \"validation\"]:\n",
    "    for epoch in range(5):\n",
    "        emb=np.random.rand(n, 768)\n",
    "        logits=[[np.random.rand(2)] * 6] * n\n",
    "        ids=list(range(n))\n",
    "        \n",
    "        for i in range(0, n, 32):\n",
    "            dq.log_model_outputs(\n",
    "                embs=emb[i:i+5],\n",
    "                logits=logits[i:i+5],\n",
    "                ids=ids[i:i+5],\n",
    "                split=split,\n",
    "                epoch=epoch\n",
    "            )\n",
    "\n",
    "dq.finish()\n",
    "df_train, df_test, df_val = see_results()\n"
   ]
  },
  {
   "cell_type": "markdown",
   "id": "fe82cc51",
   "metadata": {},
   "source": [
    "## NER"
   ]
  },
  {
   "cell_type": "code",
   "execution_count": 12,
   "id": "eb6ba254",
   "metadata": {
    "scrolled": true
   },
   "outputs": [
    {
     "name": "stdout",
     "output_type": "stream",
     "text": [
      "📡 Retrieved project, test-ner-run, and starting a new run\n",
      "🏃‍♂️ Starting run elegant_magenta_pelican\n",
      "🛰 Connected to project, test-ner-run, and created run, elegant_magenta_pelican.\n",
      "Logging 5 samples [########################################] 100.00% elapsed time  :     0.00s =  0.0m =  0.0h\n",
      "Logging 5 samples [########################################] 100.00% elapsed time  :     0.00s =  0.0m =  0.0h\n",
      "Logging 5 samples [########################################] 100.00% elapsed time  :     0.00s =  0.0m =  0.0h\n",
      " "
     ]
    },
    {
     "data": {
      "application/json": {
       "ascii": false,
       "bar_format": null,
       "colour": null,
       "elapsed": 0.019551992416381836,
       "initial": 0,
       "n": 0,
       "ncols": null,
       "nrows": 63,
       "postfix": null,
       "prefix": "",
       "rate": null,
       "total": 6,
       "unit": "it",
       "unit_divisor": 1000,
       "unit_scale": false
      },
      "application/vnd.jupyter.widget-view+json": {
       "model_id": "70bba47edf954232b7e7a090d75f6ec5",
       "version_major": 2,
       "version_minor": 0
      },
      "text/plain": [
       "  0%|          | 0/6 [00:00<?, ?it/s]"
      ]
     },
     "metadata": {},
     "output_type": "display_data"
    },
    {
     "name": "stdout",
     "output_type": "stream",
     "text": [
      "☁️ Uploading Data\n"
     ]
    },
    {
     "data": {
      "application/json": {
       "ascii": false,
       "bar_format": null,
       "colour": null,
       "elapsed": 0.018730878829956055,
       "initial": 0,
       "n": 0,
       "ncols": null,
       "nrows": 63,
       "postfix": null,
       "prefix": "training",
       "rate": null,
       "total": 6,
       "unit": "it",
       "unit_divisor": 1000,
       "unit_scale": false
      },
      "application/vnd.jupyter.widget-view+json": {
       "model_id": "a9564f7095e144c897cc6342ff40e2b8",
       "version_major": 2,
       "version_minor": 0
      },
      "text/plain": [
       "training:   0%|          | 0/6 [00:00<?, ?it/s]"
      ]
     },
     "metadata": {},
     "output_type": "display_data"
    },
    {
     "data": {
      "application/json": {
       "ascii": false,
       "bar_format": null,
       "colour": null,
       "elapsed": 0.016785860061645508,
       "initial": 0,
       "n": 0,
       "ncols": null,
       "nrows": 63,
       "postfix": null,
       "prefix": "Processing data for upload",
       "rate": null,
       "total": 1,
       "unit": "it",
       "unit_divisor": 1000,
       "unit_scale": false
      },
      "application/vnd.jupyter.widget-view+json": {
       "model_id": "",
       "version_major": 2,
       "version_minor": 0
      },
      "text/plain": [
       "Processing data for upload:   0%|          | 0/1 [00:00<?, ?it/s]"
      ]
     },
     "metadata": {},
     "output_type": "display_data"
    },
    {
     "data": {
      "application/json": {
       "ascii": false,
       "bar_format": null,
       "colour": null,
       "elapsed": 0.014936208724975586,
       "initial": 0,
       "n": 0,
       "ncols": null,
       "nrows": 63,
       "postfix": null,
       "prefix": "training (epoch=0)",
       "rate": null,
       "total": 3,
       "unit": "it",
       "unit_divisor": 1000,
       "unit_scale": false
      },
      "application/vnd.jupyter.widget-view+json": {
       "model_id": "",
       "version_major": 2,
       "version_minor": 0
      },
      "text/plain": [
       "training (epoch=0):   0%|          | 0/3 [00:00<?, ?it/s]"
      ]
     },
     "metadata": {},
     "output_type": "display_data"
    },
    {
     "data": {
      "application/json": {
       "ascii": false,
       "bar_format": null,
       "colour": null,
       "elapsed": 0.020229816436767578,
       "initial": 0,
       "n": 0,
       "ncols": null,
       "nrows": 63,
       "postfix": null,
       "prefix": "Uploading data to Galileo",
       "rate": null,
       "total": 44744,
       "unit": "B",
       "unit_divisor": 1024,
       "unit_scale": true
      },
      "application/vnd.jupyter.widget-view+json": {
       "model_id": "",
       "version_major": 2,
       "version_minor": 0
      },
      "text/plain": [
       "Uploading data to Galileo:   0%|          | 0.00/43.7k [00:00<?, ?B/s]"
      ]
     },
     "metadata": {},
     "output_type": "display_data"
    },
    {
     "data": {
      "application/json": {
       "ascii": false,
       "bar_format": null,
       "colour": null,
       "elapsed": 0.017843961715698242,
       "initial": 0,
       "n": 0,
       "ncols": null,
       "nrows": 63,
       "postfix": null,
       "prefix": "Processing data for upload",
       "rate": null,
       "total": 1,
       "unit": "it",
       "unit_divisor": 1000,
       "unit_scale": false
      },
      "application/vnd.jupyter.widget-view+json": {
       "model_id": "",
       "version_major": 2,
       "version_minor": 0
      },
      "text/plain": [
       "Processing data for upload:   0%|          | 0/1 [00:00<?, ?it/s]"
      ]
     },
     "metadata": {},
     "output_type": "display_data"
    },
    {
     "data": {
      "application/json": {
       "ascii": false,
       "bar_format": null,
       "colour": null,
       "elapsed": 0.013319969177246094,
       "initial": 0,
       "n": 0,
       "ncols": null,
       "nrows": 63,
       "postfix": null,
       "prefix": "training (epoch=1)",
       "rate": null,
       "total": 3,
       "unit": "it",
       "unit_divisor": 1000,
       "unit_scale": false
      },
      "application/vnd.jupyter.widget-view+json": {
       "model_id": "",
       "version_major": 2,
       "version_minor": 0
      },
      "text/plain": [
       "training (epoch=1):   0%|          | 0/3 [00:00<?, ?it/s]"
      ]
     },
     "metadata": {},
     "output_type": "display_data"
    },
    {
     "data": {
      "application/json": {
       "ascii": false,
       "bar_format": null,
       "colour": null,
       "elapsed": 0.01970696449279785,
       "initial": 0,
       "n": 0,
       "ncols": null,
       "nrows": 63,
       "postfix": null,
       "prefix": "Uploading data to Galileo",
       "rate": null,
       "total": 44744,
       "unit": "B",
       "unit_divisor": 1024,
       "unit_scale": true
      },
      "application/vnd.jupyter.widget-view+json": {
       "model_id": "",
       "version_major": 2,
       "version_minor": 0
      },
      "text/plain": [
       "Uploading data to Galileo:   0%|          | 0.00/43.7k [00:00<?, ?B/s]"
      ]
     },
     "metadata": {},
     "output_type": "display_data"
    },
    {
     "data": {
      "application/json": {
       "ascii": false,
       "bar_format": null,
       "colour": null,
       "elapsed": 0.01728987693786621,
       "initial": 0,
       "n": 0,
       "ncols": null,
       "nrows": 63,
       "postfix": null,
       "prefix": "Processing data for upload",
       "rate": null,
       "total": 1,
       "unit": "it",
       "unit_divisor": 1000,
       "unit_scale": false
      },
      "application/vnd.jupyter.widget-view+json": {
       "model_id": "",
       "version_major": 2,
       "version_minor": 0
      },
      "text/plain": [
       "Processing data for upload:   0%|          | 0/1 [00:00<?, ?it/s]"
      ]
     },
     "metadata": {},
     "output_type": "display_data"
    },
    {
     "data": {
      "application/json": {
       "ascii": false,
       "bar_format": null,
       "colour": null,
       "elapsed": 0.013594865798950195,
       "initial": 0,
       "n": 0,
       "ncols": null,
       "nrows": 63,
       "postfix": null,
       "prefix": "training (epoch=2)",
       "rate": null,
       "total": 3,
       "unit": "it",
       "unit_divisor": 1000,
       "unit_scale": false
      },
      "application/vnd.jupyter.widget-view+json": {
       "model_id": "",
       "version_major": 2,
       "version_minor": 0
      },
      "text/plain": [
       "training (epoch=2):   0%|          | 0/3 [00:00<?, ?it/s]"
      ]
     },
     "metadata": {},
     "output_type": "display_data"
    },
    {
     "data": {
      "application/json": {
       "ascii": false,
       "bar_format": null,
       "colour": null,
       "elapsed": 0.020054101943969727,
       "initial": 0,
       "n": 0,
       "ncols": null,
       "nrows": 63,
       "postfix": null,
       "prefix": "Uploading data to Galileo",
       "rate": null,
       "total": 44744,
       "unit": "B",
       "unit_divisor": 1024,
       "unit_scale": true
      },
      "application/vnd.jupyter.widget-view+json": {
       "model_id": "",
       "version_major": 2,
       "version_minor": 0
      },
      "text/plain": [
       "Uploading data to Galileo:   0%|          | 0.00/43.7k [00:00<?, ?B/s]"
      ]
     },
     "metadata": {},
     "output_type": "display_data"
    },
    {
     "data": {
      "application/json": {
       "ascii": false,
       "bar_format": null,
       "colour": null,
       "elapsed": 0.017123937606811523,
       "initial": 0,
       "n": 0,
       "ncols": null,
       "nrows": 63,
       "postfix": null,
       "prefix": "Processing data for upload",
       "rate": null,
       "total": 1,
       "unit": "it",
       "unit_divisor": 1000,
       "unit_scale": false
      },
      "application/vnd.jupyter.widget-view+json": {
       "model_id": "",
       "version_major": 2,
       "version_minor": 0
      },
      "text/plain": [
       "Processing data for upload:   0%|          | 0/1 [00:00<?, ?it/s]"
      ]
     },
     "metadata": {},
     "output_type": "display_data"
    },
    {
     "data": {
      "application/json": {
       "ascii": false,
       "bar_format": null,
       "colour": null,
       "elapsed": 0.013815164566040039,
       "initial": 0,
       "n": 0,
       "ncols": null,
       "nrows": 63,
       "postfix": null,
       "prefix": "training (epoch=3)",
       "rate": null,
       "total": 3,
       "unit": "it",
       "unit_divisor": 1000,
       "unit_scale": false
      },
      "application/vnd.jupyter.widget-view+json": {
       "model_id": "",
       "version_major": 2,
       "version_minor": 0
      },
      "text/plain": [
       "training (epoch=3):   0%|          | 0/3 [00:00<?, ?it/s]"
      ]
     },
     "metadata": {},
     "output_type": "display_data"
    },
    {
     "data": {
      "application/json": {
       "ascii": false,
       "bar_format": null,
       "colour": null,
       "elapsed": 0.020432710647583008,
       "initial": 0,
       "n": 0,
       "ncols": null,
       "nrows": 63,
       "postfix": null,
       "prefix": "Uploading data to Galileo",
       "rate": null,
       "total": 44744,
       "unit": "B",
       "unit_divisor": 1024,
       "unit_scale": true
      },
      "application/vnd.jupyter.widget-view+json": {
       "model_id": "",
       "version_major": 2,
       "version_minor": 0
      },
      "text/plain": [
       "Uploading data to Galileo:   0%|          | 0.00/43.7k [00:00<?, ?B/s]"
      ]
     },
     "metadata": {},
     "output_type": "display_data"
    },
    {
     "data": {
      "application/json": {
       "ascii": false,
       "bar_format": null,
       "colour": null,
       "elapsed": 0.015906095504760742,
       "initial": 0,
       "n": 0,
       "ncols": null,
       "nrows": 63,
       "postfix": null,
       "prefix": "Processing data for upload",
       "rate": null,
       "total": 1,
       "unit": "it",
       "unit_divisor": 1000,
       "unit_scale": false
      },
      "application/vnd.jupyter.widget-view+json": {
       "model_id": "",
       "version_major": 2,
       "version_minor": 0
      },
      "text/plain": [
       "Processing data for upload:   0%|          | 0/1 [00:00<?, ?it/s]"
      ]
     },
     "metadata": {},
     "output_type": "display_data"
    },
    {
     "data": {
      "application/json": {
       "ascii": false,
       "bar_format": null,
       "colour": null,
       "elapsed": 0.013292074203491211,
       "initial": 0,
       "n": 0,
       "ncols": null,
       "nrows": 63,
       "postfix": null,
       "prefix": "training (epoch=4)",
       "rate": null,
       "total": 3,
       "unit": "it",
       "unit_divisor": 1000,
       "unit_scale": false
      },
      "application/vnd.jupyter.widget-view+json": {
       "model_id": "",
       "version_major": 2,
       "version_minor": 0
      },
      "text/plain": [
       "training (epoch=4):   0%|          | 0/3 [00:00<?, ?it/s]"
      ]
     },
     "metadata": {},
     "output_type": "display_data"
    },
    {
     "data": {
      "application/json": {
       "ascii": false,
       "bar_format": null,
       "colour": null,
       "elapsed": 0.019624948501586914,
       "initial": 0,
       "n": 0,
       "ncols": null,
       "nrows": 63,
       "postfix": null,
       "prefix": "Uploading data to Galileo",
       "rate": null,
       "total": 184856,
       "unit": "B",
       "unit_divisor": 1024,
       "unit_scale": true
      },
      "application/vnd.jupyter.widget-view+json": {
       "model_id": "",
       "version_major": 2,
       "version_minor": 0
      },
      "text/plain": [
       "Uploading data to Galileo:   0%|          | 0.00/181k [00:00<?, ?B/s]"
      ]
     },
     "metadata": {},
     "output_type": "display_data"
    },
    {
     "data": {
      "application/json": {
       "ascii": false,
       "bar_format": null,
       "colour": null,
       "elapsed": 0.019793987274169922,
       "initial": 0,
       "n": 0,
       "ncols": null,
       "nrows": 63,
       "postfix": null,
       "prefix": "Uploading data to Galileo",
       "rate": null,
       "total": 44472,
       "unit": "B",
       "unit_divisor": 1024,
       "unit_scale": true
      },
      "application/vnd.jupyter.widget-view+json": {
       "model_id": "",
       "version_major": 2,
       "version_minor": 0
      },
      "text/plain": [
       "Uploading data to Galileo:   0%|          | 0.00/43.4k [00:00<?, ?B/s]"
      ]
     },
     "metadata": {},
     "output_type": "display_data"
    },
    {
     "data": {
      "application/json": {
       "ascii": false,
       "bar_format": null,
       "colour": null,
       "elapsed": 0.020094871520996094,
       "initial": 0,
       "n": 0,
       "ncols": null,
       "nrows": 63,
       "postfix": null,
       "prefix": "Uploading data to Galileo",
       "rate": null,
       "total": 2216,
       "unit": "B",
       "unit_divisor": 1024,
       "unit_scale": true
      },
      "application/vnd.jupyter.widget-view+json": {
       "model_id": "",
       "version_major": 2,
       "version_minor": 0
      },
      "text/plain": [
       "Uploading data to Galileo:   0%|          | 0.00/2.16k [00:00<?, ?B/s]"
      ]
     },
     "metadata": {},
     "output_type": "display_data"
    },
    {
     "data": {
      "application/json": {
       "ascii": false,
       "bar_format": null,
       "colour": null,
       "elapsed": 0.016401052474975586,
       "initial": 0,
       "n": 0,
       "ncols": null,
       "nrows": 63,
       "postfix": null,
       "prefix": "Processing data for upload",
       "rate": null,
       "total": 1,
       "unit": "it",
       "unit_divisor": 1000,
       "unit_scale": false
      },
      "application/vnd.jupyter.widget-view+json": {
       "model_id": "",
       "version_major": 2,
       "version_minor": 0
      },
      "text/plain": [
       "Processing data for upload:   0%|          | 0/1 [00:00<?, ?it/s]"
      ]
     },
     "metadata": {},
     "output_type": "display_data"
    },
    {
     "data": {
      "application/json": {
       "ascii": false,
       "bar_format": null,
       "colour": null,
       "elapsed": 0.014029741287231445,
       "initial": 0,
       "n": 0,
       "ncols": null,
       "nrows": 63,
       "postfix": null,
       "prefix": "training (epoch=5)",
       "rate": null,
       "total": 3,
       "unit": "it",
       "unit_divisor": 1000,
       "unit_scale": false
      },
      "application/vnd.jupyter.widget-view+json": {
       "model_id": "",
       "version_major": 2,
       "version_minor": 0
      },
      "text/plain": [
       "training (epoch=5):   0%|          | 0/3 [00:00<?, ?it/s]"
      ]
     },
     "metadata": {},
     "output_type": "display_data"
    },
    {
     "data": {
      "application/json": {
       "ascii": false,
       "bar_format": null,
       "colour": null,
       "elapsed": 0.020083904266357422,
       "initial": 0,
       "n": 0,
       "ncols": null,
       "nrows": 63,
       "postfix": null,
       "prefix": "Uploading data to Galileo",
       "rate": null,
       "total": 184856,
       "unit": "B",
       "unit_divisor": 1024,
       "unit_scale": true
      },
      "application/vnd.jupyter.widget-view+json": {
       "model_id": "",
       "version_major": 2,
       "version_minor": 0
      },
      "text/plain": [
       "Uploading data to Galileo:   0%|          | 0.00/181k [00:00<?, ?B/s]"
      ]
     },
     "metadata": {},
     "output_type": "display_data"
    },
    {
     "data": {
      "application/json": {
       "ascii": false,
       "bar_format": null,
       "colour": null,
       "elapsed": 0.017323970794677734,
       "initial": 0,
       "n": 0,
       "ncols": null,
       "nrows": 63,
       "postfix": null,
       "prefix": "Uploading data to Galileo",
       "rate": null,
       "total": 44472,
       "unit": "B",
       "unit_divisor": 1024,
       "unit_scale": true
      },
      "application/vnd.jupyter.widget-view+json": {
       "model_id": "",
       "version_major": 2,
       "version_minor": 0
      },
      "text/plain": [
       "Uploading data to Galileo:   0%|          | 0.00/43.4k [00:00<?, ?B/s]"
      ]
     },
     "metadata": {},
     "output_type": "display_data"
    },
    {
     "data": {
      "application/json": {
       "ascii": false,
       "bar_format": null,
       "colour": null,
       "elapsed": 0.01955389976501465,
       "initial": 0,
       "n": 0,
       "ncols": null,
       "nrows": 63,
       "postfix": null,
       "prefix": "Uploading data to Galileo",
       "rate": null,
       "total": 2216,
       "unit": "B",
       "unit_divisor": 1024,
       "unit_scale": true
      },
      "application/vnd.jupyter.widget-view+json": {
       "model_id": "",
       "version_major": 2,
       "version_minor": 0
      },
      "text/plain": [
       "Uploading data to Galileo:   0%|          | 0.00/2.16k [00:00<?, ?B/s]"
      ]
     },
     "metadata": {},
     "output_type": "display_data"
    },
    {
     "name": "stdout",
     "output_type": "stream",
     "text": [
      "Job default successfully submitted. Results will be available soon at https://console.dev.rungalileo.io/insights?projectId=9683fbaa-5f4b-471d-9c68-40095c543d5c&runId=8a4b7381-3446-4308-a7ba-f6bc288b858a&split=training&metric=f1&depHigh=1&depLow=0&taskType=2\n",
      "Waiting for job...\n",
      "\tApplying dimensionality reduction to training embs\n",
      "\tMeasuring class overlap\n",
      "\tSaving processed training data\n",
      "Done! Job finished with status completed\n",
      "Click here to see your run! https://console.dev.rungalileo.io/insights?projectId=9683fbaa-5f4b-471d-9c68-40095c543d5c&runId=8a4b7381-3446-4308-a7ba-f6bc288b858a&split=training&metric=f1&depHigh=1&depLow=0&taskType=2\n",
      "🧹 Cleaning up\n",
      "CPU times: user 3.05 s, sys: 340 ms, total: 3.39 s\n",
      "Wall time: 24.8 s\n"
     ]
    },
    {
     "data": {
      "text/plain": [
       "'https://console.dev.rungalileo.io/insights?projectId=9683fbaa-5f4b-471d-9c68-40095c543d5c&runId=8a4b7381-3446-4308-a7ba-f6bc288b858a&split=training&metric=f1&depHigh=1&depLow=0&taskType=2'"
      ]
     },
     "execution_count": 12,
     "metadata": {},
     "output_type": "execute_result"
    }
   ],
   "source": [
    "from dataquality.schemas.task_type import TaskType\n",
    "from dataquality import config \n",
    "from uuid import uuid4\n",
    "import numpy as np\n",
    "from time import sleep\n",
    "from tqdm.notebook import tqdm\n",
    "\n",
    "\n",
    "dq.init(\"text_ner\", \"test-ner-run\")\n",
    "\n",
    "\n",
    "def log_inputs():\n",
    "    text_inputs = ['what movies star bruce willis', 'show me films with drew barrymore from the 1980s', 'what movies starred both al pacino and robert deniro', 'find me all of the movies that starred harold ramis and bill murray', 'find me a movie with a quote about baseball in it']\n",
    "    tokens = [[(0, 4), (5, 11), (12, 16), (17, 22), (17, 22), (23, 29), (23, 29)], [(0, 4), (5, 7), (8, 13), (14, 18), (19, 23), (24, 33), (24, 33), (24, 33), (34, 38), (39, 42), (43, 48)], [(0, 4), (5, 11), (12, 19), (20, 24), (25, 27), (28, 34), (28, 34), (28, 34), (35, 38), (39, 45), (39, 45), (46, 52), (46, 52)], [(0, 4), (5, 7), (8, 11), (12, 14), (15, 18), (19, 25), (26, 30), (31, 38), (39, 45), (39, 45), (39, 45), (46, 51), (46, 51), (52, 55), (56, 60), (61, 67), (61, 67), (61, 67)], [(0, 4), (5, 7), (8, 9), (10, 15), (16, 20), (21, 22), (23, 28), (29, 34), (35, 43), (44, 46), (47, 49)]]\n",
    "    gold_spans = [[{'start': 17, 'end': 29, 'label': 'ACTOR'}], [{'start': 19, 'end': 33, 'label': 'ACTOR'}, {'start': 43, 'end': 48, 'label': 'YEAR'}], [{'start': 25, 'end': 34, 'label': 'ACTOR'}, {'start': 39, 'end': 52, 'label': 'ACTOR'}], [{'start': 39, 'end': 51, 'label': 'ACTOR'}, {'start': 56, 'end': 67, 'label': 'ACTOR'}], []]\n",
    "    ids = [0, 1, 2, 3, 4]\n",
    "\n",
    "    labels = ['[PAD]', '[CLS]', '[SEP]', 'O', 'B-ACTOR', 'I-ACTOR', 'B-YEAR', 'B-TITLE', 'B-GENRE', 'I-GENRE', 'B-DIRECTOR', 'I-DIRECTOR', 'B-SONG', 'I-SONG', 'B-PLOT', 'I-PLOT', 'B-REVIEW', 'B-CHARACTER', 'I-CHARACTER', 'B-RATING', 'B-RATINGS_AVERAGE', 'I-RATINGS_AVERAGE', 'I-TITLE', 'I-RATING', 'B-TRAILER', 'I-TRAILER', 'I-REVIEW', 'I-YEAR']\n",
    "    dq.set_labels_for_run(labels)\n",
    "    dq.set_tagging_schema(\"BIO\")\n",
    "    dq.log_data_samples(texts=text_inputs, text_token_indices=tokens, ids=ids, gold_spans=gold_spans, split=\"training\")\n",
    "    dq.log_data_samples(texts=text_inputs, text_token_indices=tokens, ids=ids, gold_spans=gold_spans, split=\"validation\")\n",
    "    dq.log_data_samples(texts=text_inputs, text_token_indices=tokens, ids=ids, gold_spans=gold_spans, split=\"test\")\n",
    "\n",
    "def log_outputs():\n",
    "    num_classes = 28\n",
    "    embs = [np.random.rand(119, 768) for _ in range(5)]\n",
    "    logits= [np.random.rand(119, 28) for _ in range(5)]                                      \n",
    "    ids= list(range(5))\n",
    "    for epoch in tqdm(range(6)):\n",
    "        for split in [\"training\"]:#, \"test\", \"validation\"]:\n",
    "            dq.log_model_outputs(\n",
    "                embs=embs, logits=logits, ids=ids, split=split, epoch=epoch\n",
    "            )\n",
    "    \n",
    "def finish():\n",
    "    dq.finish()\n",
    "    \n",
    "    \n",
    "def runit():\n",
    "    log_inputs()\n",
    "    log_outputs()\n",
    "#     finish()\n",
    "    \n",
    "runit()\n",
    "# df_train, df_test, df_val = see_results()\n",
    "%time dq.finish()\n",
    "# %time dq.wait_for_run()\n"
   ]
  },
  {
   "cell_type": "code",
   "execution_count": 7,
   "id": "63d6c39b",
   "metadata": {
    "scrolled": true
   },
   "outputs": [
    {
     "name": "stdout",
     "output_type": "stream",
     "text": [
      "Collecting vaex-core==4.12.0\n",
      "  Using cached vaex_core-4.12.0-cp39-cp39-macosx_10_9_x86_64.whl (5.1 MB)\n",
      "Requirement already satisfied: numpy>=1.16 in /Users/benepstein/Documents/GitHub/dataquality/.venv/lib/python3.9/site-packages (from vaex-core==4.12.0) (1.23.4)\n",
      "Requirement already satisfied: pyyaml in /Users/benepstein/Documents/GitHub/dataquality/.venv/lib/python3.9/site-packages (from vaex-core==4.12.0) (6.0)\n",
      "Requirement already satisfied: rich in /Users/benepstein/Documents/GitHub/dataquality/.venv/lib/python3.9/site-packages (from vaex-core==4.12.0) (12.6.0)\n",
      "Requirement already satisfied: pyarrow>=5.0.0 in /Users/benepstein/Documents/GitHub/dataquality/.venv/lib/python3.9/site-packages (from vaex-core==4.12.0) (10.0.0)\n",
      "Requirement already satisfied: blake3 in /Users/benepstein/Documents/GitHub/dataquality/.venv/lib/python3.9/site-packages (from vaex-core==4.12.0) (0.2.1)\n",
      "Requirement already satisfied: progressbar2 in /Users/benepstein/Documents/GitHub/dataquality/.venv/lib/python3.9/site-packages (from vaex-core==4.12.0) (4.2.0)\n",
      "Requirement already satisfied: tabulate>=0.8.3 in /Users/benepstein/Documents/GitHub/dataquality/.venv/lib/python3.9/site-packages (from vaex-core==4.12.0) (0.9.0)\n",
      "Requirement already satisfied: requests in /Users/benepstein/Documents/GitHub/dataquality/.venv/lib/python3.9/site-packages (from vaex-core==4.12.0) (2.26.0)\n",
      "Requirement already satisfied: cloudpickle in /Users/benepstein/Documents/GitHub/dataquality/.venv/lib/python3.9/site-packages (from vaex-core==4.12.0) (2.2.0)\n",
      "Requirement already satisfied: pandas in /Users/benepstein/Documents/GitHub/dataquality/.venv/lib/python3.9/site-packages (from vaex-core==4.12.0) (1.5.1)\n",
      "Requirement already satisfied: frozendict!=2.2.0 in /Users/benepstein/Documents/GitHub/dataquality/.venv/lib/python3.9/site-packages (from vaex-core==4.12.0) (2.3.4)\n",
      "Requirement already satisfied: future>=0.15.2 in /Users/benepstein/Documents/GitHub/dataquality/.venv/lib/python3.9/site-packages (from vaex-core==4.12.0) (0.18.2)\n",
      "Requirement already satisfied: aplus in /Users/benepstein/Documents/GitHub/dataquality/.venv/lib/python3.9/site-packages (from vaex-core==4.12.0) (0.11.0)\n",
      "Requirement already satisfied: filelock in /Users/benepstein/Documents/GitHub/dataquality/.venv/lib/python3.9/site-packages (from vaex-core==4.12.0) (3.8.0)\n",
      "Requirement already satisfied: six in /Users/benepstein/Documents/GitHub/dataquality/.venv/lib/python3.9/site-packages (from vaex-core==4.12.0) (1.16.0)\n",
      "Requirement already satisfied: pydantic>=1.8.0 in /Users/benepstein/Documents/GitHub/dataquality/.venv/lib/python3.9/site-packages (from vaex-core==4.12.0) (1.8.2)\n",
      "Requirement already satisfied: nest-asyncio>=1.3.3 in /Users/benepstein/Documents/GitHub/dataquality/.venv/lib/python3.9/site-packages (from vaex-core==4.12.0) (1.5.6)\n",
      "Requirement already satisfied: dask!=2022.4.0 in /Users/benepstein/Documents/GitHub/dataquality/.venv/lib/python3.9/site-packages (from vaex-core==4.12.0) (2022.10.2)\n",
      "Requirement already satisfied: toolz>=0.8.2 in /Users/benepstein/Documents/GitHub/dataquality/.venv/lib/python3.9/site-packages (from dask!=2022.4.0->vaex-core==4.12.0) (0.12.0)\n",
      "Requirement already satisfied: click>=7.0 in /Users/benepstein/Documents/GitHub/dataquality/.venv/lib/python3.9/site-packages (from dask!=2022.4.0->vaex-core==4.12.0) (8.1.3)\n",
      "Requirement already satisfied: packaging>=20.0 in /Users/benepstein/Documents/GitHub/dataquality/.venv/lib/python3.9/site-packages (from dask!=2022.4.0->vaex-core==4.12.0) (21.3)\n",
      "Requirement already satisfied: partd>=0.3.10 in /Users/benepstein/Documents/GitHub/dataquality/.venv/lib/python3.9/site-packages (from dask!=2022.4.0->vaex-core==4.12.0) (1.3.0)\n",
      "Requirement already satisfied: fsspec>=0.6.0 in /Users/benepstein/Documents/GitHub/dataquality/.venv/lib/python3.9/site-packages (from dask!=2022.4.0->vaex-core==4.12.0) (2022.11.0)\n",
      "Requirement already satisfied: typing-extensions>=3.7.4.3 in /Users/benepstein/Documents/GitHub/dataquality/.venv/lib/python3.9/site-packages (from pydantic>=1.8.0->vaex-core==4.12.0) (4.4.0)\n",
      "Requirement already satisfied: python-dateutil>=2.8.1 in /Users/benepstein/Documents/GitHub/dataquality/.venv/lib/python3.9/site-packages (from pandas->vaex-core==4.12.0) (2.8.2)\n",
      "Requirement already satisfied: pytz>=2020.1 in /Users/benepstein/Documents/GitHub/dataquality/.venv/lib/python3.9/site-packages (from pandas->vaex-core==4.12.0) (2022.6)\n",
      "Requirement already satisfied: python-utils>=3.0.0 in /Users/benepstein/Documents/GitHub/dataquality/.venv/lib/python3.9/site-packages (from progressbar2->vaex-core==4.12.0) (3.4.5)\n",
      "Requirement already satisfied: charset-normalizer~=2.0.0 in /Users/benepstein/Documents/GitHub/dataquality/.venv/lib/python3.9/site-packages (from requests->vaex-core==4.12.0) (2.0.12)\n",
      "Requirement already satisfied: certifi>=2017.4.17 in /Users/benepstein/Documents/GitHub/dataquality/.venv/lib/python3.9/site-packages (from requests->vaex-core==4.12.0) (2022.9.24)\n",
      "Requirement already satisfied: idna<4,>=2.5 in /Users/benepstein/Documents/GitHub/dataquality/.venv/lib/python3.9/site-packages (from requests->vaex-core==4.12.0) (3.4)\n",
      "Requirement already satisfied: urllib3<1.27,>=1.21.1 in /Users/benepstein/Documents/GitHub/dataquality/.venv/lib/python3.9/site-packages (from requests->vaex-core==4.12.0) (1.26.12)\n",
      "Requirement already satisfied: commonmark<0.10.0,>=0.9.0 in /Users/benepstein/Documents/GitHub/dataquality/.venv/lib/python3.9/site-packages (from rich->vaex-core==4.12.0) (0.9.1)\n",
      "Requirement already satisfied: pygments<3.0.0,>=2.6.0 in /Users/benepstein/Documents/GitHub/dataquality/.venv/lib/python3.9/site-packages (from rich->vaex-core==4.12.0) (2.13.0)\n",
      "Requirement already satisfied: pyparsing!=3.0.5,>=2.0.2 in /Users/benepstein/Documents/GitHub/dataquality/.venv/lib/python3.9/site-packages (from packaging>=20.0->dask!=2022.4.0->vaex-core==4.12.0) (3.0.9)\n",
      "Requirement already satisfied: locket in /Users/benepstein/Documents/GitHub/dataquality/.venv/lib/python3.9/site-packages (from partd>=0.3.10->dask!=2022.4.0->vaex-core==4.12.0) (1.0.0)\n",
      "Installing collected packages: vaex-core\n",
      "  Attempting uninstall: vaex-core\n",
      "    Found existing installation: vaex-core 4.15.0\n",
      "    Uninstalling vaex-core-4.15.0:\n",
      "      Successfully uninstalled vaex-core-4.15.0\n",
      "Successfully installed vaex-core-4.12.0\n"
     ]
    }
   ],
   "source": [
    "!pip install --upgrade vaex-core==4.12.0"
   ]
  },
  {
   "cell_type": "code",
   "execution_count": 2,
   "id": "2cbb3254",
   "metadata": {},
   "outputs": [
    {
     "data": {
      "text/plain": [
       "nan"
      ]
     },
     "execution_count": 2,
     "metadata": {},
     "output_type": "execute_result"
    }
   ],
   "source": [
    "import vaex\n",
    "df = vaex.example()[:1].export(\"file.hdf5\")\n",
    "\n",
    "\n",
    "df2 = vaex.open(\"file.hdf5\")\n",
    "df_copy = df2.copy()\n",
    "df_copy = df_copy[df_copy[\"x\"] > 50]\n",
    "float(df_copy[\"x\"].mean())"
   ]
  },
  {
   "cell_type": "code",
   "execution_count": 8,
   "id": "01210e98",
   "metadata": {},
   "outputs": [
    {
     "data": {
      "text/plain": [
       "nan"
      ]
     },
     "execution_count": 8,
     "metadata": {},
     "output_type": "execute_result"
    }
   ],
   "source": [
    "import numpy as np\n",
    "\n",
    "avg = df_copy[\"x\"].mean()\n",
    "std = df_copy[\"x\"].std()\n",
    "\n",
    "np.min((avg + std, 1.0))"
   ]
  },
  {
   "cell_type": "code",
   "execution_count": 12,
   "id": "90d73606",
   "metadata": {},
   "outputs": [],
   "source": [
    "df = vaex.example()\n",
    "df[\"id\"] = np.array(list(range(len(df))))\n",
    "df2 = df.copy()\n",
    "df2[\"d\"] = df2.x * df2.y\n",
    "df = df.join(df2[[\"id\",\"d\"]], on=\"id\")"
   ]
  },
  {
   "cell_type": "code",
   "execution_count": 13,
   "id": "fe5596b6",
   "metadata": {},
   "outputs": [
    {
     "data": {
      "text/html": [
       "<table>\n",
       "<thead>\n",
       "<tr><th>#                                  </th><th>id    </th><th>x           </th><th>y          </th><th>z          </th><th>vx        </th><th>vy         </th><th>vz        </th><th>E         </th><th>L        </th><th>Lz        </th><th>FeH       </th><th>d          </th></tr>\n",
       "</thead>\n",
       "<tbody>\n",
       "<tr><td><i style='opacity: 0.6'>0</i>      </td><td>0     </td><td>1.2318684   </td><td>-0.39692867</td><td>-0.59805775</td><td>301.15527 </td><td>174.05948  </td><td>27.427546 </td><td>-149431.4 </td><td>407.38898</td><td>333.95554 </td><td>-1.0053853</td><td>-0.48896387</td></tr>\n",
       "<tr><td><i style='opacity: 0.6'>1</i>      </td><td>1     </td><td>-0.16370061 </td><td>3.6542213  </td><td>-0.25490645</td><td>-195.00023</td><td>170.47217  </td><td>142.53023 </td><td>-124247.95</td><td>890.24115</td><td>684.6676  </td><td>-1.708667 </td><td>-0.59819824</td></tr>\n",
       "<tr><td><i style='opacity: 0.6'>2</i>      </td><td>2     </td><td>-2.120256   </td><td>3.3260527  </td><td>1.7078403  </td><td>-48.63423 </td><td>171.6473   </td><td>-2.0794373</td><td>-138500.55</td><td>372.2411 </td><td>-202.17618</td><td>-1.8336141</td><td>-7.052083  </td></tr>\n",
       "<tr><td><i style='opacity: 0.6'>3</i>      </td><td>3     </td><td>4.715589    </td><td>4.585251   </td><td>2.2515438  </td><td>-232.42084</td><td>-294.85083 </td><td>62.85865  </td><td>-60037.04 </td><td>1297.6304</td><td>-324.6875 </td><td>-1.4786882</td><td>21.622158  </td></tr>\n",
       "<tr><td><i style='opacity: 0.6'>4</i>      </td><td>4     </td><td>7.217187    </td><td>11.994717  </td><td>-1.0645622 </td><td>-1.6891745</td><td>181.32935  </td><td>-11.333611</td><td>-83206.84 </td><td>1332.799 </td><td>1328.949  </td><td>-1.8570484</td><td>86.568115  </td></tr>\n",
       "<tr><td>...                                </td><td>...   </td><td>...         </td><td>...        </td><td>...        </td><td>...       </td><td>...        </td><td>...       </td><td>...       </td><td>...      </td><td>...       </td><td>...       </td><td>...        </td></tr>\n",
       "<tr><td><i style='opacity: 0.6'>329,995</i></td><td>329995</td><td>1.9938701   </td><td>0.7892761  </td><td>0.2220599  </td><td>-216.9299 </td><td>16.12442   </td><td>-211.24438</td><td>-146457.44</td><td>457.72247</td><td>203.36758 </td><td>-1.7451677</td><td>1.5737141  </td></tr>\n",
       "<tr><td><i style='opacity: 0.6'>329,996</i></td><td>329996</td><td>3.7180912   </td><td>0.7213376  </td><td>1.6415337  </td><td>-185.9216 </td><td>-117.250824</td><td>-105.49866</td><td>-126627.11</td><td>335.00256</td><td>-301.837  </td><td>-0.9822322</td><td>2.681999   </td></tr>\n",
       "<tr><td><i style='opacity: 0.6'>329,997</i></td><td>329997</td><td>0.36885077  </td><td>13.029609  </td><td>-3.6339347 </td><td>-53.677147</td><td>-145.15771 </td><td>76.7091   </td><td>-84912.26 </td><td>817.1376 </td><td>645.8507  </td><td>-1.7645613</td><td>4.805981   </td></tr>\n",
       "<tr><td><i style='opacity: 0.6'>329,998</i></td><td>329998</td><td>-0.112592645</td><td>1.4529126  </td><td>2.1689527  </td><td>179.30865 </td><td>205.7971   </td><td>-68.75873 </td><td>-133498.47</td><td>724.00024</td><td>-283.69104</td><td>-1.8808953</td><td>-0.16358727</td></tr>\n",
       "<tr><td><i style='opacity: 0.6'>329,999</i></td><td>329999</td><td>20.79622    </td><td>-3.3313878 </td><td>12.188416  </td><td>42.690002 </td><td>69.204796  </td><td>29.542751 </td><td>-65519.33 </td><td>1843.0747</td><td>1581.4152 </td><td>-1.1231084</td><td>-69.28027  </td></tr>\n",
       "</tbody>\n",
       "</table>"
      ],
      "text/plain": [
       "#        id      x             y            z            vx          vy           vz          E           L          Lz          FeH         d\n",
       "0        0       1.2318684     -0.39692867  -0.59805775  301.15527   174.05948    27.427546   -149431.4   407.38898  333.95554   -1.0053853  -0.48896387\n",
       "1        1       -0.16370061   3.6542213    -0.25490645  -195.00023  170.47217    142.53023   -124247.95  890.24115  684.6676    -1.708667   -0.59819824\n",
       "2        2       -2.120256     3.3260527    1.7078403    -48.63423   171.6473     -2.0794373  -138500.55  372.2411   -202.17618  -1.8336141  -7.052083\n",
       "3        3       4.715589      4.585251     2.2515438    -232.42084  -294.85083   62.85865    -60037.04   1297.6304  -324.6875   -1.4786882  21.622158\n",
       "4        4       7.217187      11.994717    -1.0645622   -1.6891745  181.32935    -11.333611  -83206.84   1332.799   1328.949    -1.8570484  86.568115\n",
       "...      ...     ...           ...          ...          ...         ...          ...         ...         ...        ...         ...         ...\n",
       "329,995  329995  1.9938701     0.7892761    0.2220599    -216.9299   16.12442     -211.24438  -146457.44  457.72247  203.36758   -1.7451677  1.5737141\n",
       "329,996  329996  3.7180912     0.7213376    1.6415337    -185.9216   -117.250824  -105.49866  -126627.11  335.00256  -301.837    -0.9822322  2.681999\n",
       "329,997  329997  0.36885077    13.029609    -3.6339347   -53.677147  -145.15771   76.7091     -84912.26   817.1376   645.8507    -1.7645613  4.805981\n",
       "329,998  329998  -0.112592645  1.4529126    2.1689527    179.30865   205.7971     -68.75873   -133498.47  724.00024  -283.69104  -1.8808953  -0.16358727\n",
       "329,999  329999  20.79622      -3.3313878   12.188416    42.690002   69.204796    29.542751   -65519.33   1843.0747  1581.4152   -1.1231084  -69.28027"
      ]
     },
     "execution_count": 13,
     "metadata": {},
     "output_type": "execute_result"
    }
   ],
   "source": [
    "df"
   ]
  },
  {
   "cell_type": "code",
   "execution_count": 54,
   "id": "fbf5d65c",
   "metadata": {},
   "outputs": [
    {
     "data": {
      "text/plain": [
       "{'vaex-core': '4.12.0', 'vaex-hdf5': '0.12.3'}"
      ]
     },
     "execution_count": 54,
     "metadata": {},
     "output_type": "execute_result"
    }
   ],
   "source": [
    "vaex.__version__"
   ]
  },
  {
   "cell_type": "code",
   "execution_count": null,
   "id": "1deab0d7",
   "metadata": {},
   "outputs": [],
   "source": []
  }
 ],
 "metadata": {
  "kernelspec": {
   "display_name": "Python 3 (ipykernel)",
   "language": "python",
   "name": "python3"
  },
  "language_info": {
   "codemirror_mode": {
    "name": "ipython",
    "version": 3
   },
   "file_extension": ".py",
   "mimetype": "text/x-python",
   "name": "python",
   "nbconvert_exporter": "python",
   "pygments_lexer": "ipython3",
   "version": "3.9.6"
  }
 },
 "nbformat": 4,
 "nbformat_minor": 5
}
