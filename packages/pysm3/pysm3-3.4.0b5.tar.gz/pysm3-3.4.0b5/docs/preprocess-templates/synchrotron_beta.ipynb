{
 "cells": [
  {
   "cell_type": "markdown",
   "id": "a086c311-a05a-4077-85d2-717bcbbc215a",
   "metadata": {},
   "source": [
    "###  Small scales on the PySM2 beta synchrotron template"
   ]
  },
  {
   "cell_type": "markdown",
   "id": "56cb133d-1d33-422c-82b2-c2c4ccfab7d0",
   "metadata": {},
   "source": [
    "- we subtract the offset term from the $\\beta_s$ map  \n",
    "- we use the fitted power law from the study by Nicoletta Krachmalnicoff to inject small scales on to the spectral index map\n",
    "- we rescale the large scale $\\beta_s$ map by a factor `~1.572` which comes from the SPASS latest results \n",
    "- we modulate the small scales on the $\\beta_s$ map by the same  modulation map adopted for intensity  "
   ]
  },
  {
   "cell_type": "code",
   "execution_count": 1,
   "id": "989c7685-3708-45eb-914f-719da0319837",
   "metadata": {},
   "outputs": [],
   "source": [
    "import os\n",
    "\n",
    "os.environ[\n",
    "    \"OMP_NUM_THREADS\"\n",
    "] = \"64\"  # for jupyter.nersc.gov otherwise the notebook only uses 2 cores"
   ]
  },
  {
   "cell_type": "code",
   "execution_count": 2,
   "id": "4f48bbb4-a285-4585-813f-93de83f91f7f",
   "metadata": {},
   "outputs": [],
   "source": [
    "from pathlib import Path\n",
    "import healpy as hp\n",
    "import matplotlib.pyplot as plt\n",
    "import numpy as np\n",
    "\n",
    "# import pymaster as nmt\n",
    "from astropy.io import fits\n",
    "\n",
    "%matplotlib inline"
   ]
  },
  {
   "cell_type": "code",
   "execution_count": 3,
   "id": "0d4ad523-661b-4981-937c-2d882020b616",
   "metadata": {},
   "outputs": [],
   "source": [
    "plt.style.use(\"seaborn-talk\")"
   ]
  },
  {
   "cell_type": "code",
   "execution_count": 4,
   "id": "b0c70a96-13c7-4963-8c71-b5c16f6a4898",
   "metadata": {},
   "outputs": [],
   "source": [
    "import pysm3 as pysm\n",
    "import pysm3.units as u"
   ]
  },
  {
   "cell_type": "code",
   "execution_count": 5,
   "id": "e09fa591-c024-4325-8feb-439ebac13f3e",
   "metadata": {},
   "outputs": [],
   "source": [
    "nside = 512\n",
    "lmax = 3 * nside - 1"
   ]
  },
  {
   "cell_type": "code",
   "execution_count": 6,
   "id": "306e6dc4-66c6-4639-8c37-1b0af5f4a2ad",
   "metadata": {},
   "outputs": [],
   "source": [
    "datadir = Path(\"data\")"
   ]
  },
  {
   "cell_type": "code",
   "execution_count": 7,
   "id": "a1f4fb6a-03a5-46dc-81bf-cd45194f736e",
   "metadata": {},
   "outputs": [],
   "source": [
    "output_dir = Path(\"production-data/synch\")"
   ]
  },
  {
   "cell_type": "code",
   "execution_count": 8,
   "id": "af7d24e1-c47e-401c-8c06-342594effcc1",
   "metadata": {
    "tags": [
     "parameters"
    ]
   },
   "outputs": [],
   "source": [
    "output_nside = 2048"
   ]
  },
  {
   "cell_type": "code",
   "execution_count": 9,
   "id": "abea969d-d50a-45d3-ba66-3d4fc6fe0d21",
   "metadata": {},
   "outputs": [],
   "source": [
    "output_lmax = 2 * output_nside\n",
    "output_ell = np.arange(output_lmax + 1)\n",
    "output_cl_norm = output_ell * (output_ell + 1) / np.pi / 2\n",
    "output_cl_norm[0] = 1"
   ]
  },
  {
   "cell_type": "code",
   "execution_count": 10,
   "id": "c5ab2cbe-8b48-4f06-9ee1-309750b35663",
   "metadata": {},
   "outputs": [],
   "source": [
    "name=\"temperature\"\n",
    "modulate_amp = hp.alm2map(hp.read_alm(output_dir / \"raw\" / f\"synch_{name}_modulation_alms_lmax{int(lmax):d}.fits\").astype(complex), output_nside)\n"
   ]
  },
  {
   "cell_type": "code",
   "execution_count": 11,
   "id": "8739464f-3c93-48dd-a59e-15f7f85a0c76",
   "metadata": {},
   "outputs": [
    {
     "name": "stdout",
     "output_type": "stream",
     "text": [
      "-2.9999962\n",
      "7.461009e-08\n"
     ]
    }
   ],
   "source": [
    "template_dir = \"/global/project/projectdirs/cmb/www/pysm-data/pysm_2/\"\n",
    "beta_s_pysm = hp.read_map(template_dir + \"synch_beta.fits\")\n",
    "print(beta_s_pysm.mean())\n",
    "beta_s_pysm_nomono = hp.remove_monopole(beta_s_pysm)\n",
    "print(beta_s_pysm_nomono.mean())"
   ]
  },
  {
   "cell_type": "code",
   "execution_count": 12,
   "id": "56bae391-7618-44cc-945e-fbf27023e9fc",
   "metadata": {},
   "outputs": [
    {
     "name": "stderr",
     "output_type": "stream",
     "text": [
      "/tmp/ipykernel_56422/1304331963.py:2: RuntimeWarning: divide by zero encountered in power\n",
      "  cl_spass_fit = 10 ** (-0.82655497) * ell ** (-2.60860208)\n"
     ]
    }
   ],
   "source": [
    "ell = np.arange(lmax + 1)\n",
    "cl_spass_fit = 10 ** (-0.82655497) * ell ** (-2.60860208)\n",
    "cl_spass_fit[0] = 0"
   ]
  },
  {
   "cell_type": "code",
   "execution_count": 13,
   "id": "736969cf-d2c3-4361-972f-41b5d87a99e7",
   "metadata": {},
   "outputs": [],
   "source": [
    "from pysm3.utils import sigmoid"
   ]
  },
  {
   "cell_type": "code",
   "execution_count": 14,
   "id": "4e0b6047-4011-4fe5-b1f3-08f10951266b",
   "metadata": {},
   "outputs": [],
   "source": [
    "ell_fit_low = {\"TT\": 10, \"EE\": 10, \"BB\": 10}\n",
    "ell_fit_high = {\"TT\": 36, \"EE\": 36, \"BB\": 36}\n",
    "\n",
    "sig_func = sigmoid(ell, x0=ell_fit_high[\"TT\"] - 15, width=ell_fit_high[\"TT\"] / 10)"
   ]
  },
  {
   "cell_type": "markdown",
   "id": "d7a65d0b-eb10-452e-ac0a-d4a0490f14ad",
   "metadata": {},
   "source": [
    "## Large scales"
   ]
  },
  {
   "cell_type": "code",
   "execution_count": 15,
   "id": "f1245e83-2f58-4c04-b9d5-1f40665aa8b9",
   "metadata": {},
   "outputs": [],
   "source": [
    "np.random.seed(444)\n",
    "\n",
    "cl_spass_fit *= np.sqrt(sig_func)\n",
    "\n",
    "bs_ss_alm = hp.synalm(cl_spass_fit, lmax=output_lmax)\n",
    "bs_ss = hp.alm2map(bs_ss_alm, nside=output_nside)\n",
    "\n",
    "bs_ss *= modulate_amp"
   ]
  },
  {
   "cell_type": "code",
   "execution_count": 16,
   "id": "0f2aa5d1-a6b7-42e3-ae47-5d2b9f481cf1",
   "metadata": {},
   "outputs": [],
   "source": [
    "## Includes rescaling from S-pass\n",
    "\n",
    "alm_bs = hp.map2alm(beta_s_pysm_nomono * 1.5722501, lmax=output_lmax, use_pixel_weights=True)\n",
    "\n",
    "bs_LS_alm = np.empty_like(alm_bs)\n",
    "\n",
    "bs_LS_alm = hp.almxfl(alm_bs, np.sqrt(1.0 - sig_func))\n",
    "\n",
    "bs_ls = hp.alm2map(bs_LS_alm, nside=output_nside)"
   ]
  },
  {
   "cell_type": "code",
   "execution_count": 17,
   "id": "059293d5-95bd-43ae-b8df-1226a68d893c",
   "metadata": {},
   "outputs": [],
   "source": [
    "if output_nside > 4096: # only write at 8192\n",
    "\n",
    "    hp.write_cl(\n",
    "        output_dir / \"raw\" / f\"synch_small_scales_beta_cl_lmax{output_lmax}.fits\",\n",
    "        cl_spass_fit,\n",
    "        dtype=np.complex128,\n",
    "        overwrite=True,\n",
    "    )\n",
    "\n",
    "    hp.write_alm(\n",
    "        output_dir / \"raw\" / f\"synch_largescale_beta_alm_nside{nside}_lmax{lmax:d}_complex64.fits\",\n",
    "        bs_LS_alm,\n",
    "        lmax=lmax,\n",
    "        out_dtype=np.complex64,\n",
    "        overwrite=True,\n",
    "    )"
   ]
  },
  {
   "cell_type": "code",
   "execution_count": 18,
   "id": "210409a6-f7b9-451a-9f8b-da50dd8c9f89",
   "metadata": {},
   "outputs": [],
   "source": [
    "bs_out = bs_ss + bs_ls - 3.1"
   ]
  },
  {
   "cell_type": "code",
   "execution_count": 19,
   "id": "1dc9d071-57f0-4e17-bcdf-5b6ef0cb9e04",
   "metadata": {},
   "outputs": [],
   "source": [
    "output_map_alm = hp.map2alm(bs_out, lmax=output_lmax)"
   ]
  },
  {
   "cell_type": "code",
   "execution_count": 20,
   "id": "9f624957-2d37-4b2e-8ba3-5e1d21e7054a",
   "metadata": {},
   "outputs": [],
   "source": [
    "if output_nside > 4096:\n",
    "\n",
    "    hp.write_alm(\n",
    "        output_dir / \"raw\" / f\"synch_beta_alm_nside{output_nside}_lmax{output_lmax}_complex64.fits\",\n",
    "        output_map_alm,\n",
    "        out_dtype = np.complex64,\n",
    "        overwrite=True,\n",
    "    )"
   ]
  },
  {
   "cell_type": "code",
   "execution_count": 21,
   "id": "0e2d2ef0-2b83-40ca-805e-5fe71bd8f15d",
   "metadata": {},
   "outputs": [
    {
     "data": {
      "image/png": "[encoded data removed]",
      "text/plain": [
       "<Figure size 748.8x514.8 with 1 Axes>"
      ]
     },
     "metadata": {
      "needs_background": "light"
     },
     "output_type": "display_data"
    }
   ],
   "source": [
    "if output_nside < 4096:\n",
    "    clout = hp.anafast(bs_out, lmax=lmax)\n",
    "    clin = hp.anafast(beta_s_pysm, lmax=lmax)\n",
    "\n",
    "    for ii in range(1):\n",
    "        plt.loglog(ell, clin, alpha=0.5, color=\"C%d\" % ii, label=r\"$ \\beta_s$ PySM2\")\n",
    "        plt.loglog(\n",
    "            ell, clin * 1.5722501 ** 2, alpha=1, label=r\"$ \\beta_s$ PySM2 rescaled SPASS\"\n",
    "        )\n",
    "        plt.loglog(\n",
    "            ell,\n",
    "            clout,\n",
    "            label=r\"$  \\beta_s$ PySM3 \",\n",
    "        )\n",
    "\n",
    "        plt.grid(True)\n",
    "        plt.plot(ell, cl_spass_fit, \"--\", label=\"Power law fit \", color=\"red\")\n",
    "\n",
    "        plt.legend()\n",
    "\n",
    "        plt.ylabel(\"$ C_\\ell $\")\n",
    "        plt.xlabel((\"$\\ell$\"))\n",
    "        # plt.xlim(10, 55 )\n",
    "        plt.xlim(2, lmax)\n",
    "    plt.ylim(1e-10, 1e-2)"
   ]
  }
 ],
 "metadata": {
  "kernelspec": {
   "display_name": "condanamaster2",
   "language": "python",
   "name": "condanamaster2"
  },
  "language_info": {
   "codemirror_mode": {
    "name": "ipython",
    "version": 3
   },
   "file_extension": ".py",
   "mimetype": "text/x-python",
   "name": "python",
   "nbconvert_exporter": "python",
   "pygments_lexer": "ipython3",
   "version": "3.8.0"
  }
 },
 "nbformat": 4,
 "nbformat_minor": 5
}
