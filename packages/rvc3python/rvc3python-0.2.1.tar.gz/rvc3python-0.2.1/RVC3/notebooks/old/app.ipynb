{
 "cells": [
  {
   "cell_type": "markdown",
   "metadata": {},
   "source": [
    "------ standard imports ------ #"
   ]
  },
  {
   "cell_type": "code",
   "execution_count": null,
   "metadata": {},
   "outputs": [],
   "source": [
    "!pip install roboticstoolbox-python\n",
    "import numpy as np\n",
    "import scipy as sp\n",
    "import matplotlib.pyplot as plt\n",
    "import math\n",
    "from math import pi\n",
    "np.set_printoptions(\n",
    "    linewidth=120, formatter={\n",
    "        'float': lambda x: f\"{0:8.4g}\" if abs(x) < 1e-10 else f\"{x:8.4g}\"})\n",
    "np.random.seed(0)\n",
    "from spatialmath import *\n",
    "from spatialmath.base import *\n",
    "from roboticstoolbox import *"
   ]
  },
  {
   "cell_type": "markdown",
   "metadata": {
    "lines_to_next_cell": 2
   },
   "source": [
    "------------------------------ #"
   ]
  },
  {
   "cell_type": "markdown",
   "metadata": {},
   "source": [
    "Square Matrices"
   ]
  },
  {
   "cell_type": "code",
   "execution_count": null,
   "metadata": {},
   "outputs": [],
   "source": [
    "%run -m eigdemo 1 2 3 4"
   ]
  },
  {
   "cell_type": "markdown",
   "metadata": {
    "lines_to_next_cell": 2
   },
   "source": [
    "Non-Square and Singular Matrices"
   ]
  },
  {
   "cell_type": "markdown",
   "metadata": {
    "lines_to_next_cell": 2
   },
   "source": [
    "Euclidean Geometry"
   ]
  },
  {
   "cell_type": "markdown",
   "metadata": {
    "lines_to_next_cell": 2
   },
   "source": [
    "Points"
   ]
  },
  {
   "cell_type": "markdown",
   "metadata": {
    "lines_to_next_cell": 2
   },
   "source": [
    "Lines"
   ]
  },
  {
   "cell_type": "markdown",
   "metadata": {
    "lines_to_next_cell": 2
   },
   "source": [
    "Lines in 2D"
   ]
  },
  {
   "cell_type": "markdown",
   "metadata": {},
   "source": [
    "Lines in 3D and Plücker Coordinates"
   ]
  },
  {
   "cell_type": "code",
   "execution_count": null,
   "metadata": {},
   "outputs": [],
   "source": [
    "P = [2, 3, 4]; Q = [3, 5, 7];\n",
    "L = Line3.Join(P, Q)\n",
    "L.v.T\n",
    "L.w.T\n",
    "L.skew()\n",
    "plotvol3([-5, 5]);\n",
    "L.plot(\"b\");\n",
    "L.point([0, 1, 2])\n",
    "[x, d] = L.closest_to_point([1, 2, 3])\n",
    "x\n",
    "d\n",
    "p, _ = L.intersect_plane([0, 0, 1, 0])\n",
    "p"
   ]
  },
  {
   "cell_type": "markdown",
   "metadata": {
    "lines_to_next_cell": 2
   },
   "source": [
    "Planes"
   ]
  },
  {
   "cell_type": "markdown",
   "metadata": {},
   "source": [
    "Ellipses and Ellipsoids"
   ]
  },
  {
   "cell_type": "code",
   "execution_count": null,
   "metadata": {},
   "outputs": [],
   "source": [
    "E = np.array([[1, 1], [1, 2]])\n",
    "plot_ellipse(E)\n",
    "e, v = np.linalg.eig(E)\n",
    "e\n",
    "v\n",
    "r = 1 / np.sqrt(e)\n",
    "plot_arrow((0, 0), v[:,0]*r[0], color=\"r\", width=0.02);\n",
    "plot_arrow((0, 0), v[:,1]*r[1], color=\"b\", width=0.02);\n",
    "np.arctan2(v[1, 0], v[0, 0]) * np.rad2deg(1)"
   ]
  },
  {
   "cell_type": "markdown",
   "metadata": {},
   "source": [
    "Drawing an Ellipse"
   ]
  },
  {
   "cell_type": "code",
   "execution_count": null,
   "metadata": {},
   "outputs": [],
   "source": [
    "E = np.array([[1, 1], [1, 2]]);\n",
    "th = np.linspace(0, 2*pi, 50);\n",
    "y = np.vstack([np.cos(th), np.sin(th)]);\n",
    "x = sp.linalg.sqrtm(sp.linalg.inv(E)) @ y;\n",
    "plt.plot(x[0, :], x[1, :], '.');\n",
    "plot_ellipse(E, [0, 0])"
   ]
  },
  {
   "cell_type": "markdown",
   "metadata": {},
   "source": [
    "Fitting an Ellipse to Data"
   ]
  },
  {
   "cell_type": "code",
   "execution_count": null,
   "metadata": {},
   "outputs": [],
   "source": [
    "rng = np.random.default_rng(0);\n",
    "# create 200 random points inside the ellipse\n",
    "x = [];\n",
    "while len(x) < 200:\n",
    "  p = rng.uniform(low=-2, high=2, size=(2,1))\n",
    "  if np.linalg.norm(p.T @ E @ p) <= 1:\n",
    "    x.append(p)\n",
    "x = np.hstack(x);  # create 2 x 50 array\n",
    "plt.plot(x[0, :], x[1, :], \"k.\"); # plot them\n",
    "# compute the moments\n",
    "m00 = mpq_point(x, 0, 0);\n",
    "m10 = mpq_point(x, 1, 0);\n",
    "m01 = mpq_point(x, 0, 1);\n",
    "xc = np.c_[m10, m01] / m00;\n",
    "# compute the central second moments\n",
    "x0 = x - xc.T;\n",
    "u20 = mpq_point(x0, 2, 0);\n",
    "u02 = mpq_point(x0, 0, 2);\n",
    "u11 = mpq_point(x0, 1, 1);\n",
    "# compute inertia tensor and ellipse matrix\n",
    "J = np.array([[u20, u11], [u11, u02]]);\n",
    "E_est = m00 / 4 * np.linalg.inv(J);\n",
    "E_est\n",
    "plot_ellipse(E_est, \"r\")"
   ]
  },
  {
   "cell_type": "markdown",
   "metadata": {
    "lines_to_next_cell": 2
   },
   "source": [
    "Homogeneous Coordinates"
   ]
  },
  {
   "cell_type": "markdown",
   "metadata": {
    "lines_to_next_cell": 2
   },
   "source": [
    "Two Dimensions"
   ]
  },
  {
   "cell_type": "markdown",
   "metadata": {},
   "source": [
    "Points and lines"
   ]
  },
  {
   "cell_type": "code",
   "execution_count": null,
   "metadata": {},
   "outputs": [],
   "source": [
    "l1 = [1, -1, 0];\n",
    "l2 = [1, -1, -1];\n",
    "plot_homline(l1, \"b\");\n",
    "plot_homline(l2, \"r\");\n",
    "np.cross(l1, l2)"
   ]
  },
  {
   "cell_type": "markdown",
   "metadata": {
    "lines_to_next_cell": 2
   },
   "source": [
    "Conics"
   ]
  },
  {
   "cell_type": "markdown",
   "metadata": {
    "lines_to_next_cell": 2
   },
   "source": [
    "Three Dimensions"
   ]
  },
  {
   "cell_type": "markdown",
   "metadata": {
    "lines_to_next_cell": 2
   },
   "source": [
    "Lines"
   ]
  },
  {
   "cell_type": "markdown",
   "metadata": {
    "lines_to_next_cell": 2
   },
   "source": [
    "Planes"
   ]
  },
  {
   "cell_type": "markdown",
   "metadata": {
    "lines_to_next_cell": 2
   },
   "source": [
    "Quadrics"
   ]
  },
  {
   "cell_type": "markdown",
   "metadata": {
    "lines_to_next_cell": 2
   },
   "source": [
    "Geometric Transformations"
   ]
  },
  {
   "cell_type": "markdown",
   "metadata": {
    "lines_to_next_cell": 2
   },
   "source": [
    "Scalar Function of a Scalar"
   ]
  },
  {
   "cell_type": "markdown",
   "metadata": {
    "lines_to_next_cell": 2
   },
   "source": [
    "Scalar Function of a Vector"
   ]
  },
  {
   "cell_type": "markdown",
   "metadata": {
    "lines_to_next_cell": 2
   },
   "source": [
    "Vector Function of a Vector"
   ]
  },
  {
   "cell_type": "markdown",
   "metadata": {},
   "source": [
    "Deriving Jacobians"
   ]
  },
  {
   "cell_type": "code",
   "execution_count": null,
   "metadata": {},
   "outputs": [],
   "source": [
    "zrange = lambda xi, xv, w: np.array([\n",
    "           np.linalg.norm(xi - xv[:2]) + w[0],\n",
    "           np.arctan((xi[1] - xv[1]) / (xi[0] - xv[0])) -xv[2] + w[1]]);\n",
    "xv = np.r_[1, 2, pi/3]; xi = np.r_[10, 8]; w = np.r_[0, 0];\n",
    "h0 = zrange(xi, xv, w)\n",
    "d = 0.001;\n",
    "J = np.column_stack([\n",
    "       zrange(xi, xv + [d, 0, 0], w) - h0,\n",
    "       zrange(xi, xv + [0, d, 0], w) - h0,\n",
    "       zrange(xi, xv + [0, 0, d], w) - h0\n",
    "                    ]) / d\n",
    "numjac(lambda x: zrange(xi, x, w), xv)\n",
    "from sympy import Matrix, MatrixSymbol, sqrt, atan, simplify, pycode\n",
    "xi = MatrixSymbol(\"xi\", 2, 1)\n",
    "xv = MatrixSymbol(\"xv\", 3, 1)\n",
    "w = Matrix([0, 0])\n",
    "zrange = lambda xi, xv, w: Matrix([\n",
    "            sqrt((xi[0] - xv[0])**2 + (xi[1] - xv[1])**2) + w[0],\n",
    "            atan((xi[1] - xv[1]) / (xi[0] - xv[0])) -xv[2] + w[1]]);\n",
    "z = zrange(xi, xv, w)\n",
    "J = z.jacobian(xv)\n",
    "J.shape"
   ]
  },
  {
   "cell_type": "markdown",
   "metadata": {
    "lines_to_next_cell": 2
   },
   "source": [
    "Linear Problems"
   ]
  },
  {
   "cell_type": "markdown",
   "metadata": {
    "lines_to_next_cell": 2
   },
   "source": [
    "Nonhomogeneous Systems"
   ]
  },
  {
   "cell_type": "markdown",
   "metadata": {
    "lines_to_next_cell": 2
   },
   "source": [
    "Homogeneous Systems"
   ]
  },
  {
   "cell_type": "markdown",
   "metadata": {
    "lines_to_next_cell": 2
   },
   "source": [
    "Finding Rotation"
   ]
  },
  {
   "cell_type": "markdown",
   "metadata": {
    "lines_to_next_cell": 2
   },
   "source": [
    "Nonlinear Problems"
   ]
  },
  {
   "cell_type": "markdown",
   "metadata": {
    "lines_to_next_cell": 2
   },
   "source": [
    "Finding Roots"
   ]
  },
  {
   "cell_type": "markdown",
   "metadata": {
    "lines_to_next_cell": 2
   },
   "source": [
    "Nonlinear Minimization"
   ]
  },
  {
   "cell_type": "markdown",
   "metadata": {
    "lines_to_next_cell": 2
   },
   "source": [
    "Nonlinear Least-Squares Minimization"
   ]
  },
  {
   "cell_type": "markdown",
   "metadata": {
    "lines_to_next_cell": 2
   },
   "source": [
    "Numerical Issues"
   ]
  },
  {
   "cell_type": "markdown",
   "metadata": {
    "lines_to_next_cell": 2
   },
   "source": [
    "Sparse Nonlinear Least Squares"
   ]
  },
  {
   "cell_type": "markdown",
   "metadata": {
    "lines_to_next_cell": 2
   },
   "source": [
    "Large Scale Problems"
   ]
  },
  {
   "cell_type": "markdown",
   "metadata": {},
   "source": [
    "Anchoring"
   ]
  },
  {
   "cell_type": "code",
   "execution_count": null,
   "metadata": {},
   "outputs": [],
   "source": [
    "x = np.linspace(-6, 6, 500);\n",
    "plt.plot(x, gauss1d(0, 1, x), \"r\");\n",
    "plt.plot(x, gauss1d(0, 2**2, x), \"b--\");\n",
    "x, y = np.meshgrid(np.linspace(-5, 5, 100), np.linspace(-5, 5, 100));\n",
    "P = np.diag([1, 2])**2;\n",
    "g = gauss2d([0, 0], P, x, y);\n",
    "ax = ax = plotvol3();\n",
    "ax.plot_surface(x, y, g);\n",
    "ax.contour(x, y, g, zdir=\"z\", offset=-0.05);\n",
    "from scipy.stats.distributions import chi2\n",
    "chi2.ppf(0.5, 2)"
   ]
  },
  {
   "cell_type": "markdown",
   "metadata": {
    "lines_to_next_cell": 2
   },
   "source": [
    "Linear Systems -- Kalman Filter"
   ]
  },
  {
   "cell_type": "markdown",
   "metadata": {},
   "source": [
    "Nonlinear Systems -- Extended Kalman Filter"
   ]
  },
  {
   "cell_type": "code",
   "execution_count": null,
   "metadata": {},
   "outputs": [],
   "source": [
    "x = np.random.normal(5, 2, size=(1_000_000,));\n",
    "y = (x + 2)**2 / 4;\n",
    "plt.hist(y, bins=200, density=True, histtype=\"step\");\n",
    "import pgraph\n",
    "g = pgraph.UGraph()\n",
    "np.random.seed(0)  # ensure repeatable results\n",
    "for i in range(5):\n",
    "  g.add_vertex(np.random.rand(2));\n",
    "g[1]\n",
    "g[\"#1\"]\n",
    "g.add_edge(g[0], g[1]);\n",
    "g.add_edge(g[0], g[2]);\n",
    "g.add_edge(g[0], g[3]);\n",
    "g.add_edge(g[1], g[2]);\n",
    "g.add_edge(g[1], g[3]);\n",
    "g.add_edge(g[3], g[4]);\n",
    "print(g)\n",
    "g.plot()\n",
    "g[1].adjacent()\n",
    "g[1].edges()\n",
    "g[1].edges()[0].endpoints\n",
    "g[1].edges()[0].cost\n",
    "g.closest((0.5, 0.5))\n",
    "path, length, _ = g.path_Astar(g[2], g[4])\n",
    "path\n",
    "length\n",
    "y = mvtb_load_matfile(\"data/peakfit.mat\")[\"y\"];\n",
    "plt.plot(y, \"-o\");\n",
    "k = np.argmax(y)\n",
    "y[k]\n",
    "k, ypk = findpeaks(y)\n",
    "k\n",
    "ypk\n",
    "ypk[1] / ypk[0]\n",
    "findpeaks(y, interp=True)\n",
    "findpeaks(y, scale=5)\n",
    "img = mvtb_load_matfile(\"data/peakfit.mat\")[\"image\"]\n",
    "k = np.argmax(img)\n",
    "img.ravel()[k]\n",
    "np.unravel_index(k, img.shape)\n",
    "xy = findpeaks2d(img)\n",
    "xy = findpeaks2d(img, interp=True)"
   ]
  }
 ],
 "metadata": {
  "jupytext": {
   "cell_metadata_filter": "-all",
   "main_language": "python",
   "notebook_metadata_filter": "-all"
  },
  "kernelspec": {
   "display_name": "Python 3.8.5 ('dev')",
   "language": "python",
   "name": "python3"
  },
  "language_info": {
   "name": "python",
   "version": "3.8.5"
  },
  "vscode": {
   "interpreter": {
    "hash": "b7d6b0d76025b9176285a6442c3dd6dd39bcfe7241029b7898b7106bd5e9b472"
   }
  }
 },
 "nbformat": 4,
 "nbformat_minor": 4
}
