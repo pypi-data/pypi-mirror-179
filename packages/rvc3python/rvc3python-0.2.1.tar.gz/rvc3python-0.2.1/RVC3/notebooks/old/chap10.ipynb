{
 "cells": [
  {
   "cell_type": "markdown",
   "metadata": {},
   "source": [
    "------ standard imports ------ #"
   ]
  },
  {
   "cell_type": "code",
   "execution_count": null,
   "metadata": {},
   "outputs": [],
   "source": [
    "import numpy as np\n",
    "import scipy as sp\n",
    "import matplotlib.pyplot as plt\n",
    "import math\n",
    "from math import pi\n",
    "np.set_printoptions(\n",
    "    linewidth=120, formatter={\n",
    "        'float': lambda x: f\"{0:8.4g}\" if abs(x) < 1e-10 else f\"{x:8.4g}\"})"
   ]
  },
  {
   "cell_type": "code",
   "execution_count": null,
   "metadata": {},
   "outputs": [],
   "source": [
    "np.random.seed(0)"
   ]
  },
  {
   "cell_type": "code",
   "execution_count": null,
   "metadata": {},
   "outputs": [],
   "source": [
    "from machinevisiontoolbox.base import *\n",
    "from machinevisiontoolbox import Image\n",
    "from spatialmath.base import *"
   ]
  },
  {
   "cell_type": "markdown",
   "metadata": {},
   "source": [
    "------------------------------ #"
   ]
  },
  {
   "cell_type": "markdown",
   "metadata": {},
   "source": [
    "# 10.1 Spectral Representation of Light\n"
   ]
  },
  {
   "cell_type": "code",
   "execution_count": null,
   "metadata": {},
   "outputs": [],
   "source": [
    "nm = 1e-9;\n",
    "lmbda = np.linspace(300, 1_000, 100) * nm;"
   ]
  },
  {
   "cell_type": "code",
   "execution_count": null,
   "metadata": {},
   "outputs": [],
   "source": [
    "for T in np.arange(3_000, 6_001, 1_000):\n",
    "  plt.plot(lmbda, blackbody(lmbda, T))"
   ]
  },
  {
   "cell_type": "code",
   "execution_count": null,
   "metadata": {},
   "outputs": [],
   "source": [
    "lamp = blackbody(lmbda, 2_600);\n",
    "sun = blackbody(lmbda, 5_778);\n",
    "plt.plot(lmbda / nm, np.c_[lamp / np.max(lamp), sun / np.max(sun)]);"
   ]
  },
  {
   "cell_type": "markdown",
   "metadata": {},
   "source": [
    "## 10.1.1 Absorption\n"
   ]
  },
  {
   "cell_type": "code",
   "execution_count": null,
   "metadata": {},
   "outputs": [],
   "source": [
    "sun_ground = loadspectrum(lmbda, \"solar\");\n",
    "plt.plot(lmbda, sun_ground);"
   ]
  },
  {
   "cell_type": "code",
   "execution_count": null,
   "metadata": {},
   "outputs": [],
   "source": [
    "lmbda = np.linspace(300, 1_000, 100) * nm;\n",
    "A = loadspectrum(lmbda, \"water\");"
   ]
  },
  {
   "cell_type": "code",
   "execution_count": null,
   "metadata": {},
   "outputs": [],
   "source": [
    "d = 5;\n",
    "T = 10 ** (-A * d);\n",
    "plt.plot(lmbda, T);"
   ]
  },
  {
   "cell_type": "markdown",
   "metadata": {},
   "source": [
    "## 10.1.2 Reflectance\n"
   ]
  },
  {
   "cell_type": "code",
   "execution_count": null,
   "metadata": {},
   "outputs": [],
   "source": [
    "lmbda = np.linspace(100, 10_000, 100) * nm;\n",
    "R = loadspectrum(lmbda, \"redbrick\");\n",
    "plt.plot(lmbda / (1_000 * nm), R);"
   ]
  },
  {
   "cell_type": "markdown",
   "metadata": {},
   "source": [
    "## 10.1.3 Luminance\n"
   ]
  },
  {
   "cell_type": "code",
   "execution_count": null,
   "metadata": {},
   "outputs": [],
   "source": [
    "lmbda = np.arange(400, 701) * nm;\n",
    "E = loadspectrum(lmbda, \"solar\");"
   ]
  },
  {
   "cell_type": "code",
   "execution_count": null,
   "metadata": {},
   "outputs": [],
   "source": [
    "R = loadspectrum(lmbda, \"redbrick\");"
   ]
  },
  {
   "cell_type": "code",
   "execution_count": null,
   "metadata": {},
   "outputs": [],
   "source": [
    "L = E * R;\n",
    "plt.plot(lmbda / nm, L);"
   ]
  },
  {
   "cell_type": "markdown",
   "metadata": {},
   "source": [
    "# 10.2 Color\n",
    "## 10.2.1 The Human Eye\n"
   ]
  },
  {
   "cell_type": "code",
   "execution_count": null,
   "metadata": {},
   "outputs": [],
   "source": [
    "cones = loadspectrum(lmbda, \"cones\");\n",
    "plt.plot(lmbda, cones);"
   ]
  },
  {
   "cell_type": "code",
   "execution_count": null,
   "metadata": {},
   "outputs": [],
   "source": [
    "### 10.2.1.1 Perceived Brightness\n",
    "human = luminos(lmbda);\n",
    "plt.plot(lmbda,  human);"
   ]
  },
  {
   "cell_type": "code",
   "execution_count": null,
   "metadata": {},
   "outputs": [],
   "source": [
    "luminos(450 * nm) / luminos(550 * nm)"
   ]
  },
  {
   "cell_type": "code",
   "execution_count": null,
   "metadata": {},
   "outputs": [],
   "source": [
    "## 10.2.2 Camera sensor\n",
    "## 10.2.3 Measuring Color\n",
    "np.sum(np.c_[L, L, L] * cones * nm, axis=0)"
   ]
  },
  {
   "cell_type": "code",
   "execution_count": null,
   "metadata": {},
   "outputs": [],
   "source": [
    "## 10.2.4 Reproducing Colors\n",
    "cmf = cmfrgb(lmbda);\n",
    "plt.plot(lmbda, cmf);"
   ]
  },
  {
   "cell_type": "code",
   "execution_count": null,
   "metadata": {},
   "outputs": [],
   "source": [
    "green = cmfrgb(500 * nm)"
   ]
  },
  {
   "cell_type": "code",
   "execution_count": null,
   "metadata": {},
   "outputs": [],
   "source": [
    "w = -np.min(green)\n",
    "feasible_green = green + w"
   ]
  },
  {
   "cell_type": "code",
   "execution_count": null,
   "metadata": {},
   "outputs": [],
   "source": [
    "RGB_brick = cmfrgb(lmbda, L)"
   ]
  },
  {
   "cell_type": "code",
   "execution_count": null,
   "metadata": {},
   "outputs": [],
   "source": [
    "## 10.2.5 Chromaticity Coordinates\n",
    "rg = lambda2rg(np.linspace(400, 700, 100) * nm);\n",
    "plt.plot(rg[:, 0], rg[:, 1]);"
   ]
  },
  {
   "cell_type": "code",
   "execution_count": null,
   "metadata": {},
   "outputs": [],
   "source": [
    "plot_spectral_locus(\"rg\")"
   ]
  },
  {
   "cell_type": "code",
   "execution_count": null,
   "metadata": {},
   "outputs": [],
   "source": [
    "primaries = lambda2rg(cie_primaries()).T"
   ]
  },
  {
   "cell_type": "code",
   "execution_count": null,
   "metadata": {},
   "outputs": [],
   "source": [
    "plot_point(primaries, \"o\");"
   ]
  },
  {
   "cell_type": "code",
   "execution_count": null,
   "metadata": {},
   "outputs": [],
   "source": [
    "green_cc = lambda2rg(500 * nm)\n",
    "plot_point(green_cc, \"x\");"
   ]
  },
  {
   "cell_type": "code",
   "execution_count": null,
   "metadata": {},
   "outputs": [],
   "source": [
    "white_cc = tristim2cc([1, 1, 1])\n",
    "plot_point(white_cc, \"o\");"
   ]
  },
  {
   "cell_type": "code",
   "execution_count": null,
   "metadata": {},
   "outputs": [],
   "source": [
    "cmf = cmfxyz(lmbda);\n",
    "plt.plot(lmbda, cmf);"
   ]
  },
  {
   "cell_type": "code",
   "execution_count": null,
   "metadata": {},
   "outputs": [],
   "source": [
    "xy = lambda2xy(lmbda);\n",
    "plt.plot(xy[0], xy[1], \"ko\");"
   ]
  },
  {
   "cell_type": "code",
   "execution_count": null,
   "metadata": {},
   "outputs": [],
   "source": [
    "plot_chromaticity_diagram(\"xy\")"
   ]
  },
  {
   "cell_type": "code",
   "execution_count": null,
   "metadata": {},
   "outputs": [],
   "source": [
    "lambda2xy(550 * nm)"
   ]
  },
  {
   "cell_type": "code",
   "execution_count": null,
   "metadata": {},
   "outputs": [],
   "source": [
    "lamp = blackbody(lmbda, 2_600);\n",
    "lambda2xy(lmbda, lamp)"
   ]
  },
  {
   "cell_type": "code",
   "execution_count": null,
   "metadata": {},
   "outputs": [],
   "source": [
    "## 10.2.6 Color Names\n",
    "name2color(\"orange\")"
   ]
  },
  {
   "cell_type": "code",
   "execution_count": null,
   "metadata": {},
   "outputs": [],
   "source": [
    "bs = name2color(\"orange\", \"xy\")"
   ]
  },
  {
   "cell_type": "code",
   "execution_count": null,
   "metadata": {},
   "outputs": [],
   "source": [
    "name2color(\".*coral.*\")"
   ]
  },
  {
   "cell_type": "code",
   "execution_count": null,
   "metadata": {},
   "outputs": [],
   "source": [
    "color2name([0.45, 0.48], \"xy\")"
   ]
  },
  {
   "cell_type": "code",
   "execution_count": null,
   "metadata": {},
   "outputs": [],
   "source": [
    "## 10.2.7 Other Color and Chromaticity Spaces\n",
    "colorspace_convert([1, 0, 0], \"RGB\", \"HSV\")\n",
    "colorspace_convert([0, 1, 0], \"RGB\", \"HSV\")\n",
    "colorspace_convert([0, 0, 1], \"RGB\", \"HSV\")"
   ]
  },
  {
   "cell_type": "code",
   "execution_count": null,
   "metadata": {},
   "outputs": [],
   "source": [
    "colorspace_convert([0, 0.5, 0], \"RGB\", \"HSV\")"
   ]
  },
  {
   "cell_type": "code",
   "execution_count": null,
   "metadata": {},
   "outputs": [],
   "source": [
    "colorspace_convert([0.4, 0.4, 0.4], \"RGB\", \"HSV\")"
   ]
  },
  {
   "cell_type": "code",
   "execution_count": null,
   "metadata": {},
   "outputs": [],
   "source": [
    "colorspace_convert(np.array([0, 0.5, 0]) + np.array([0.4, 0.4, 0.4]), \"RGB\", \"HSV\")"
   ]
  },
  {
   "cell_type": "code",
   "execution_count": null,
   "metadata": {},
   "outputs": [],
   "source": [
    "flowers = Image.Read(\"flowers4.png\")"
   ]
  },
  {
   "cell_type": "code",
   "execution_count": null,
   "metadata": {},
   "outputs": [],
   "source": [
    "hsv = flowers.colorspace(\"HSV\")"
   ]
  },
  {
   "cell_type": "code",
   "execution_count": null,
   "metadata": {},
   "outputs": [],
   "source": [
    "hsv.plane(\"H\").disp();\n",
    "hsv.plane(\"S\").disp();\n",
    "hsv.plane(\"V\").disp();"
   ]
  },
  {
   "cell_type": "code",
   "execution_count": null,
   "metadata": {},
   "outputs": [],
   "source": [
    "Lab = flowers.colorspace(\"L*a*b*\")"
   ]
  },
  {
   "cell_type": "code",
   "execution_count": null,
   "metadata": {},
   "outputs": [],
   "source": [
    "Lab.plane(\"a*\").disp();\n",
    "Lab.plane(\"b*\").disp();"
   ]
  },
  {
   "cell_type": "code",
   "execution_count": null,
   "metadata": {},
   "outputs": [],
   "source": [
    "## 10.2.8 Transforming between Different Primaries\n",
    "C = np.array([\n",
    "    [0.7347,  0.2738, 0.1666],\n",
    "    [0.2653,  0.7174, 0.0088],\n",
    "    [0,       0.0089, 0.8245]]);"
   ]
  },
  {
   "cell_type": "code",
   "execution_count": null,
   "metadata": {},
   "outputs": [],
   "source": [
    "white = np.array([0.3127, 0.3290, 0.3582]);\n",
    "J = np.linalg.inv(C) @  white / white[1]\n",
    "C @ np.diag(J)"
   ]
  },
  {
   "cell_type": "code",
   "execution_count": null,
   "metadata": {},
   "outputs": [],
   "source": [
    "XYZ_brick = (C @ np.diag(J) @ RGB_brick).T"
   ]
  },
  {
   "cell_type": "code",
   "execution_count": null,
   "metadata": {},
   "outputs": [],
   "source": [
    "tri = tristim2cc(XYZ_brick)"
   ]
  },
  {
   "cell_type": "code",
   "execution_count": null,
   "metadata": {},
   "outputs": [],
   "source": [
    "color2name(tri, \"xy\")"
   ]
  },
  {
   "cell_type": "code",
   "execution_count": null,
   "metadata": {},
   "outputs": [],
   "source": [
    "## 10.2.9 What Is White?\n",
    "d65 = blackbody(lmbda, 6_500);\n",
    "lambda2xy(lmbda, d65)"
   ]
  },
  {
   "cell_type": "code",
   "execution_count": null,
   "metadata": {},
   "outputs": [],
   "source": [
    "ee = np.ones(lmbda.shape);"
   ]
  },
  {
   "cell_type": "code",
   "execution_count": null,
   "metadata": {},
   "outputs": [],
   "source": [
    "lambda2xy(lmbda, ee)"
   ]
  },
  {
   "cell_type": "code",
   "execution_count": null,
   "metadata": {},
   "outputs": [],
   "source": [
    "# 10.3 Advanced Topics\n",
    "## 10.3.1 Color Temperature\n",
    "## 10.3.2 Color Constancy\n",
    "lmbda = np.arange(400, 701) * nm;\n",
    "R = loadspectrum(lmbda, \"redbrick\");"
   ]
  },
  {
   "cell_type": "code",
   "execution_count": null,
   "metadata": {},
   "outputs": [],
   "source": [
    "sun = loadspectrum(lmbda, \"solar\");"
   ]
  },
  {
   "cell_type": "code",
   "execution_count": null,
   "metadata": {},
   "outputs": [],
   "source": [
    "lamp = blackbody(lmbda, 2_600);"
   ]
  },
  {
   "cell_type": "code",
   "execution_count": null,
   "metadata": {},
   "outputs": [],
   "source": [
    "xy_sun = lambda2xy(lmbda, sun * R)\n",
    "xy_lamp = lambda2xy(lmbda, lamp * R)"
   ]
  },
  {
   "cell_type": "code",
   "execution_count": null,
   "metadata": {},
   "outputs": [],
   "source": [
    "## 10.3.3 White Balancing\n",
    "## 10.3.4 Color Change Due to Absorption\n",
    "lmbda = np.arange(400, 701) * nm;\n",
    "R = loadspectrum(lmbda, \"redbrick\");"
   ]
  },
  {
   "cell_type": "code",
   "execution_count": null,
   "metadata": {},
   "outputs": [],
   "source": [
    "sun = loadspectrum(lmbda, \"solar\");"
   ]
  },
  {
   "cell_type": "code",
   "execution_count": null,
   "metadata": {},
   "outputs": [],
   "source": [
    "A = loadspectrum(lmbda, \"water\");"
   ]
  },
  {
   "cell_type": "code",
   "execution_count": null,
   "metadata": {},
   "outputs": [],
   "source": [
    "d = 2;"
   ]
  },
  {
   "cell_type": "code",
   "execution_count": null,
   "metadata": {},
   "outputs": [],
   "source": [
    "T = 10.0 ** (-d * A);"
   ]
  },
  {
   "cell_type": "code",
   "execution_count": null,
   "metadata": {},
   "outputs": [],
   "source": [
    "L = sun * R * T;"
   ]
  },
  {
   "cell_type": "code",
   "execution_count": null,
   "metadata": {},
   "outputs": [],
   "source": [
    "xy_water = lambda2xy(lmbda, L)"
   ]
  },
  {
   "cell_type": "code",
   "execution_count": null,
   "metadata": {},
   "outputs": [],
   "source": [
    "## 10.3.5 Dichromatic Reflection\n",
    "## 10.3.6 Gamma\n",
    "wedge = np.linspace(0, 1, 11).reshape(1,-1);\n",
    "Image(wedge).disp();"
   ]
  },
  {
   "cell_type": "code",
   "execution_count": null,
   "metadata": {},
   "outputs": [],
   "source": [
    "Image(wedge ** (1 / 2.2)).disp();"
   ]
  },
  {
   "cell_type": "code",
   "execution_count": null,
   "metadata": {},
   "outputs": [],
   "source": [
    "# 10.4 Application: Color Images\n",
    "## 10.4.1 Comparing Color Spaces\n",
    "lmbda = np.linspace(400, 700, 100) * nm;\n",
    "macbeth = loadspectrum(lmbda, \"macbeth\");"
   ]
  },
  {
   "cell_type": "code",
   "execution_count": null,
   "metadata": {},
   "outputs": [],
   "source": [
    "d65 = loadspectrum(lmbda, \"D65\") * 3e9;"
   ]
  },
  {
   "cell_type": "code",
   "execution_count": null,
   "metadata": {},
   "outputs": [],
   "source": [
    "XYZ = np.empty((18, 3));\n",
    "Lab = np.empty((18, 3));\n",
    "for i in range(18):\n",
    "  L = macbeth[:,i] * d65;\n",
    "  tristim = np.maximum(cmfrgb(lmbda, L), 0);\n",
    "  RGB = tristim.reshape((1, 1, 3)).astype(np.float32);\n",
    "  XYZ[i,:] = colorspace_convert(RGB, \"rgb\", \"xyz\");\n",
    "  Lab[i,:] = colorspace_convert(RGB, \"rgb\", \"L*a*b*\");"
   ]
  },
  {
   "cell_type": "code",
   "execution_count": null,
   "metadata": {},
   "outputs": [],
   "source": [
    "xy = tristim2cc(XYZ);\n",
    "ab = Lab[:, 1:];\n",
    "xy.shape, ab.shape"
   ]
  },
  {
   "cell_type": "code",
   "execution_count": null,
   "metadata": {},
   "outputs": [],
   "source": [
    "plot_chromaticity_diagram(\"xy\")"
   ]
  },
  {
   "cell_type": "code",
   "execution_count": null,
   "metadata": {},
   "outputs": [],
   "source": [
    "## 10.4.2 Shadow Removal\n",
    "im = Image.Read(\"parks.png\", gamma=\"sRGB\", dtype=\"float\")\n",
    "s = shadow_invariant(im.image, 0.7);\n",
    "Image(s).disp(interpolation=\"none\", badcolor=\"red\");"
   ]
  },
  {
   "cell_type": "markdown",
   "metadata": {
    "lines_to_next_cell": 2
   },
   "source": [
    "theta = esttheta(im)"
   ]
  }
 ],
 "metadata": {
  "jupytext": {
   "cell_metadata_filter": "-all",
   "main_language": "python",
   "notebook_metadata_filter": "-all"
  },
  "kernelspec": {
   "display_name": "Python 3.8.5 ('dev')",
   "language": "python",
   "name": "python3"
  },
  "language_info": {
   "name": "python",
   "version": "3.8.5"
  },
  "vscode": {
   "interpreter": {
    "hash": "b7d6b0d76025b9176285a6442c3dd6dd39bcfe7241029b7898b7106bd5e9b472"
   }
  }
 },
 "nbformat": 4,
 "nbformat_minor": 4
}
