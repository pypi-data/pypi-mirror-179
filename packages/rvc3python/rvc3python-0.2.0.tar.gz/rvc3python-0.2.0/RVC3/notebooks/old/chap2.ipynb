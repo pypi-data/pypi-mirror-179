{
 "cells": [
  {
   "cell_type": "code",
   "execution_count": 1,
   "metadata": {},
   "outputs": [
    {
     "name": "stdout",
     "output_type": "stream",
     "text": [
      "Not running on CoLab\n",
      "Requirement already satisfied: roboticstoolbox-python in /Users/corkep/Dropbox/code/robotics-toolbox-python (1.0.2)\n",
      "Requirement already satisfied: numpy>=1.17.4 in /Users/corkep/opt/miniconda3/envs/dev/lib/python3.8/site-packages (from roboticstoolbox-python) (1.22.1)\n",
      "Requirement already satisfied: spatialmath-python~=1.0.0 in /Users/corkep/opt/miniconda3/envs/dev/lib/python3.8/site-packages (from roboticstoolbox-python) (1.0.0)\n",
      "Requirement already satisfied: spatialgeometry~=1.0.0 in /Users/corkep/opt/miniconda3/envs/dev/lib/python3.8/site-packages (from roboticstoolbox-python) (1.0.1)\n",
      "Requirement already satisfied: pgraph-python in /Users/corkep/Dropbox/code/pgraph-python (from roboticstoolbox-python) (0.6.1)\n",
      "Requirement already satisfied: scipy in /Users/corkep/opt/miniconda3/envs/dev/lib/python3.8/site-packages (from roboticstoolbox-python) (1.5.0)\n",
      "Requirement already satisfied: matplotlib in /Users/corkep/opt/miniconda3/envs/dev/lib/python3.8/site-packages (from roboticstoolbox-python) (3.6.0)\n",
      "Requirement already satisfied: ansitable in /Users/corkep/Dropbox/code/ansitable (from roboticstoolbox-python) (0.9.7)\n",
      "Requirement already satisfied: swift-sim~=1.0.0 in /Users/corkep/opt/miniconda3/envs/dev/lib/python3.8/site-packages (from roboticstoolbox-python) (1.0.0)\n",
      "Requirement already satisfied: rtb-data in /Users/corkep/Dropbox/code/robotics-toolbox-python/rtb-data (from roboticstoolbox-python) (0.9.1)\n",
      "Requirement already satisfied: progress in /Users/corkep/opt/miniconda3/envs/dev/lib/python3.8/site-packages (from roboticstoolbox-python) (1.5)\n",
      "Requirement already satisfied: colored in /Users/corkep/opt/miniconda3/envs/dev/lib/python3.8/site-packages (from spatialmath-python~=1.0.0->roboticstoolbox-python) (1.4.2)\n",
      "Requirement already satisfied: websockets in /Users/corkep/opt/miniconda3/envs/dev/lib/python3.8/site-packages (from swift-sim~=1.0.0->roboticstoolbox-python) (8.1)\n",
      "Requirement already satisfied: pillow>=6.2.0 in /Users/corkep/opt/miniconda3/envs/dev/lib/python3.8/site-packages (from matplotlib->roboticstoolbox-python) (8.2.0)\n",
      "Requirement already satisfied: python-dateutil>=2.7 in /Users/corkep/opt/miniconda3/envs/dev/lib/python3.8/site-packages (from matplotlib->roboticstoolbox-python) (2.8.1)\n",
      "Requirement already satisfied: contourpy>=1.0.1 in /Users/corkep/opt/miniconda3/envs/dev/lib/python3.8/site-packages (from matplotlib->roboticstoolbox-python) (1.0.5)\n",
      "Requirement already satisfied: cycler>=0.10 in /Users/corkep/opt/miniconda3/envs/dev/lib/python3.8/site-packages (from matplotlib->roboticstoolbox-python) (0.10.0)\n",
      "Requirement already satisfied: packaging>=20.0 in /Users/corkep/opt/miniconda3/envs/dev/lib/python3.8/site-packages (from matplotlib->roboticstoolbox-python) (21.3)\n",
      "Requirement already satisfied: pyparsing>=2.2.1 in /Users/corkep/opt/miniconda3/envs/dev/lib/python3.8/site-packages (from matplotlib->roboticstoolbox-python) (2.4.7)\n",
      "Requirement already satisfied: kiwisolver>=1.0.1 in /Users/corkep/opt/miniconda3/envs/dev/lib/python3.8/site-packages (from matplotlib->roboticstoolbox-python) (1.3.1)\n",
      "Requirement already satisfied: fonttools>=4.22.0 in /Users/corkep/opt/miniconda3/envs/dev/lib/python3.8/site-packages (from matplotlib->roboticstoolbox-python) (4.28.2)\n",
      "Requirement already satisfied: six in /Users/corkep/opt/miniconda3/envs/dev/lib/python3.8/site-packages (from cycler>=0.10->matplotlib->roboticstoolbox-python) (1.15.0)\n"
     ]
    }
   ],
   "source": [
    "if 'google.colab' in str(get_ipython()):\n",
    "    print('Running on CoLab')\n",
    "    !pip install -U ipython\n",
    "else:\n",
    "    print('Not running on CoLab')\n",
    "\n",
    "from IPython.core.interactiveshell import InteractiveShell\n",
    "InteractiveShell.ast_node_interactivity = \"last_expr_or_assign\"\n",
    "\n",
    "# ------ standard imports ------ #\n",
    "!pip install roboticstoolbox-python\n",
    "import numpy as np\n",
    "import scipy as sp\n",
    "import matplotlib.pyplot as plt\n",
    "import math\n",
    "from math import pi\n",
    "np.set_printoptions(\n",
    "    linewidth=120, formatter={\n",
    "        'float': lambda x: f\"{0:8.4g}\" if abs(x) < 1e-10 else f\"{x:8.4g}\"})\n",
    "np.random.seed(0)\n",
    "from spatialmath import *\n",
    "from spatialmath.base import *\n",
    "from roboticstoolbox import *\n",
    "# -------------------------------"
   ]
  },
  {
   "cell_type": "markdown",
   "metadata": {
    "lines_to_next_cell": 2
   },
   "source": [
    "# 2.2 Working in Two Dimensions (2D)"
   ]
  },
  {
   "cell_type": "markdown",
   "metadata": {
    "lines_to_next_cell": 2
   },
   "source": [
    "## 2.2.1 Orientation in Two Dimensions"
   ]
  },
  {
   "cell_type": "markdown",
   "metadata": {},
   "source": [
    "### 2.2.1.1 2D Rotation Matrix"
   ]
  },
  {
   "cell_type": "code",
   "execution_count": 2,
   "metadata": {},
   "outputs": [
    {
     "data": {
      "text/plain": [
       "array([[  0.9553,  -0.2955],\n",
       "       [  0.2955,   0.9553]])"
      ]
     },
     "execution_count": 2,
     "metadata": {},
     "output_type": "execute_result"
    }
   ],
   "source": [
    "R = rot2(0.3)"
   ]
  },
  {
   "cell_type": "code",
   "execution_count": 3,
   "metadata": {},
   "outputs": [
    {
     "data": {
      "image/png": "[encoded data removed]",
      "text/plain": [
       "<Figure size 432x288 with 1 Axes>"
      ]
     },
     "metadata": {
      "needs_background": "light"
     },
     "output_type": "display_data"
    }
   ],
   "source": [
    "trplot2(R);"
   ]
  },
  {
   "cell_type": "code",
   "execution_count": 4,
   "metadata": {},
   "outputs": [
    {
     "data": {
      "text/plain": [
       "0.9999999999999999"
      ]
     },
     "execution_count": 4,
     "metadata": {},
     "output_type": "execute_result"
    }
   ],
   "source": [
    "np.linalg.det(R)"
   ]
  },
  {
   "cell_type": "code",
   "execution_count": 5,
   "metadata": {},
   "outputs": [
    {
     "data": {
      "text/plain": [
       "0.9999999999999998"
      ]
     },
     "execution_count": 5,
     "metadata": {},
     "output_type": "execute_result"
    }
   ],
   "source": [
    "np.linalg.det(R @ R)"
   ]
  },
  {
   "cell_type": "code",
   "execution_count": 6,
   "metadata": {},
   "outputs": [
    {
     "data": {
      "text/latex": [
       "$\\displaystyle \\left[\\begin{matrix}\\cos{\\left(\\theta \\right)} & - \\sin{\\left(\\theta \\right)}\\\\\\sin{\\left(\\theta \\right)} & \\cos{\\left(\\theta \\right)}\\end{matrix}\\right]$"
      ],
      "text/plain": [
       "Matrix([\n",
       "[cos(theta), -sin(theta)],\n",
       "[sin(theta),  cos(theta)]])"
      ]
     },
     "execution_count": 6,
     "metadata": {},
     "output_type": "execute_result"
    }
   ],
   "source": [
    "from sympy import Symbol, Matrix, simplify\n",
    "theta = Symbol('theta')\n",
    "R = Matrix(rot2(theta))  # convert to SymPy matrix"
   ]
  },
  {
   "cell_type": "code",
   "execution_count": 7,
   "metadata": {},
   "outputs": [
    {
     "data": {
      "text/latex": [
       "$\\displaystyle 1$"
      ],
      "text/plain": [
       "1"
      ]
     },
     "execution_count": 7,
     "metadata": {},
     "output_type": "execute_result"
    }
   ],
   "source": [
    "simplify(R * R)\n",
    "R.det()\n",
    "R.det().simplify()"
   ]
  },
  {
   "cell_type": "markdown",
   "metadata": {},
   "source": [
    "### 2.2.1.2 Matrix Exponential for Rotation"
   ]
  },
  {
   "cell_type": "code",
   "execution_count": 8,
   "metadata": {},
   "outputs": [
    {
     "data": {
      "text/plain": [
       "array([[       0,     -0.3],\n",
       "       [     0.3,        0]])"
      ]
     },
     "execution_count": 8,
     "metadata": {},
     "output_type": "execute_result"
    }
   ],
   "source": [
    "R = rot2(0.3);\n",
    "L = sp.linalg.logm(R)"
   ]
  },
  {
   "cell_type": "code",
   "execution_count": 9,
   "metadata": {},
   "outputs": [
    {
     "data": {
      "text/plain": [
       "array([     0.3])"
      ]
     },
     "execution_count": 9,
     "metadata": {},
     "output_type": "execute_result"
    }
   ],
   "source": [
    "S = vex(L)"
   ]
  },
  {
   "cell_type": "code",
   "execution_count": null,
   "metadata": {},
   "outputs": [],
   "source": [
    "sp.linalg.expm(L)"
   ]
  },
  {
   "cell_type": "code",
   "execution_count": null,
   "metadata": {},
   "outputs": [],
   "source": [
    "sp.linalg.expm(skew(S))"
   ]
  },
  {
   "cell_type": "code",
   "execution_count": null,
   "metadata": {},
   "outputs": [],
   "source": [
    "X = skew(2)\n",
    "vex(X)"
   ]
  },
  {
   "cell_type": "markdown",
   "metadata": {
    "lines_to_next_cell": 2
   },
   "source": [
    "## 2.2.2 Pose in Two Dimensions"
   ]
  },
  {
   "cell_type": "markdown",
   "metadata": {},
   "source": [
    "### 2.2.2.1 2D Homogeneous Transformation Matrix"
   ]
  },
  {
   "cell_type": "code",
   "execution_count": 10,
   "metadata": {},
   "outputs": [
    {
     "data": {
      "text/plain": [
       "array([[ 0.95533649, -0.29552021],\n",
       "       [ 0.29552021,  0.95533649]])"
      ]
     },
     "execution_count": 10,
     "metadata": {},
     "output_type": "execute_result"
    },
    {
     "data": {
      "text/plain": [
       "array([[ 0.95533649, -0.29552021,  0.        ],\n",
       "       [ 0.29552021,  0.95533649,  0.        ],\n",
       "       [ 0.        ,  0.        ,  1.        ]])"
      ]
     },
     "execution_count": 10,
     "metadata": {},
     "output_type": "execute_result"
    }
   ],
   "source": [
    "rot2(0.3)\n",
    "trot2(0.3)"
   ]
  },
  {
   "cell_type": "code",
   "execution_count": 19,
   "metadata": {},
   "outputs": [
    {
     "data": {
      "text/plain": [
       "<AxesSubplot:xlabel='X', ylabel='Y'>"
      ]
     },
     "execution_count": 19,
     "metadata": {},
     "output_type": "execute_result"
    },
    {
     "data": {
      "text/plain": [
       "<AxesSubplot:xlabel='X', ylabel='Y'>"
      ]
     },
     "execution_count": 19,
     "metadata": {},
     "output_type": "execute_result"
    },
    {
     "data": {
      "text/plain": [
       "<AxesSubplot:xlabel='X', ylabel='Y'>"
      ]
     },
     "execution_count": 19,
     "metadata": {},
     "output_type": "execute_result"
    },
    {
     "data": {
      "text/plain": [
       "<AxesSubplot:xlabel='X', ylabel='Y'>"
      ]
     },
     "execution_count": 19,
     "metadata": {},
     "output_type": "execute_result"
    },
    {
     "data": {
      "text/plain": [
       "<AxesSubplot:xlabel='X', ylabel='Y'>"
      ]
     },
     "execution_count": 19,
     "metadata": {},
     "output_type": "execute_result"
    },
    {
     "data": {
      "text/plain": [
       "<AxesSubplot:xlabel='X', ylabel='Y'>"
      ]
     },
     "execution_count": 19,
     "metadata": {},
     "output_type": "execute_result"
    },
    {
     "data": {
      "text/plain": [
       "[[<matplotlib.lines.Line2D at 0x7fcef2547640>]]"
      ]
     },
     "execution_count": 19,
     "metadata": {},
     "output_type": "execute_result"
    },
    {
     "name": "stdout",
     "output_type": "stream",
     "text": [
      "[[ 0.8660254 -0.5        1.       ]\n",
      " [ 0.5        0.8660254  2.       ]\n",
      " [ 0.         0.         1.       ]]\n",
      "[3 2]\n"
     ]
    },
    {
     "data": {
      "text/plain": [
       "array([ 1.73205081, -1.        ,  1.        ])"
      ]
     },
     "execution_count": 19,
     "metadata": {},
     "output_type": "execute_result"
    },
    {
     "data": {
      "image/png": "[encoded data removed]",
      "text/plain": [
       "<Figure size 432x288 with 1 Axes>"
      ]
     },
     "metadata": {},
     "output_type": "display_data"
    }
   ],
   "source": [
    "TA = transl2(1, 2) @ trot2(30, \"deg\")\n",
    "plotvol2([0, 5]); # new plot with both axes from 0 to 5\n",
    "trplot2(TA, frame=\"A\", color=\"b\");\n",
    "T0 = transl2(0, 0);\n",
    "trplot2(T0, frame=\"0\", color=\"k\");  # reference frame\n",
    "TB = transl2(2, 1)\n",
    "trplot2(TB, frame=\"B\", color=\"r\");\n",
    "TAB = TA @ TB\n",
    "trplot2(TAB, frame=\"AB\", color=\"g\");\n",
    "TBA = TB @ TA;\n",
    "trplot2(TBA, frame=\"BA\", color=\"c\");\n",
    "P = np.array([3, 2]);\n",
    "plot_point(P, \"ko\", label=\"P\");\n",
    "print(TA)\n",
    "print(P)\n",
    "np.linalg.inv(TA) @ np.hstack([P, 1])"
   ]
  },
  {
   "cell_type": "code",
   "execution_count": 17,
   "metadata": {},
   "outputs": [
    {
     "data": {
      "text/plain": [
       "array([[ 1.73205081],\n",
       "       [-1.        ]])"
      ]
     },
     "execution_count": 17,
     "metadata": {},
     "output_type": "execute_result"
    }
   ],
   "source": [
    "h2e(np.linalg.inv(TA) @ e2h(P))"
   ]
  },
  {
   "cell_type": "code",
   "execution_count": 18,
   "metadata": {},
   "outputs": [
    {
     "data": {
      "text/plain": [
       "array([[ 1.73205081],\n",
       "       [-1.        ]])"
      ]
     },
     "execution_count": 18,
     "metadata": {},
     "output_type": "execute_result"
    }
   ],
   "source": [
    "homtrans(np.linalg.inv(TA), P)"
   ]
  },
  {
   "cell_type": "markdown",
   "metadata": {},
   "source": [
    "### 2.2.2.2 Rotating a Coordinate Frame"
   ]
  },
  {
   "cell_type": "code",
   "execution_count": 2,
   "metadata": {},
   "outputs": [
    {
     "data": {
      "image/png": "[encoded data removed]",
      "text/plain": [
       "<Figure size 432x288 with 1 Axes>"
      ]
     },
     "metadata": {},
     "output_type": "display_data"
    }
   ],
   "source": [
    "plotvol2([-5, 4, -1, 5]);\n",
    "T0 = transl2(0, 0);\n",
    "trplot2(T0, frame=\"0\", color=\"k\");\n",
    "TX = transl2(2, 3);\n",
    "trplot2(TX, frame=\"X\", color=\"b\");\n",
    "TR = trot2(2);\n",
    "trplot2(TR @ TX, framelabel=\"RX\", color=\"g\");\n",
    "trplot2(TX @ TR, framelabel=\"XR\", color=\"g\");\n",
    "C = np.array([3, 2]);\n",
    "plot_point(C, \"ko\", text=\"C\");\n",
    "TC = transl2(C) @ TR @ transl2(-C)\n",
    "trplot2(TC @ TX, framelabel=\"XC\", color=\"r\");"
   ]
  },
  {
   "cell_type": "markdown",
   "metadata": {},
   "source": [
    "### 2.2.2.3 Matrix exponential for Pose"
   ]
  },
  {
   "cell_type": "code",
   "execution_count": 3,
   "metadata": {},
   "outputs": [
    {
     "data": {
      "text/plain": [
       "array([[ 2.10900770e-16, -2.00000000e+00,  4.00000000e+00],\n",
       "       [ 2.00000000e+00, -1.55389618e-16, -6.00000000e+00],\n",
       "       [ 0.00000000e+00,  0.00000000e+00,  0.00000000e+00]])"
      ]
     },
     "execution_count": 3,
     "metadata": {},
     "output_type": "execute_result"
    }
   ],
   "source": [
    "L = sp.linalg.logm(TC)"
   ]
  },
  {
   "cell_type": "code",
   "execution_count": 4,
   "metadata": {},
   "outputs": [
    {
     "data": {
      "text/plain": [
       "array([ 4., -6.,  2.])"
      ]
     },
     "execution_count": 4,
     "metadata": {},
     "output_type": "execute_result"
    }
   ],
   "source": [
    "S = vexa(L)"
   ]
  },
  {
   "cell_type": "code",
   "execution_count": 5,
   "metadata": {},
   "outputs": [
    {
     "data": {
      "text/plain": [
       "array([[-0.41614684, -0.90929743,  6.06703536],\n",
       "       [ 0.90929743, -0.41614684,  0.10440139],\n",
       "       [ 0.        ,  0.        ,  1.        ]])"
      ]
     },
     "execution_count": 5,
     "metadata": {},
     "output_type": "execute_result"
    }
   ],
   "source": [
    "sp.linalg.expm(skewa(S))"
   ]
  },
  {
   "cell_type": "code",
   "execution_count": 6,
   "metadata": {},
   "outputs": [
    {
     "data": {
      "text/plain": [
       "array([[ 0., -3.,  1.],\n",
       "       [ 3.,  0.,  2.],\n",
       "       [ 0.,  0.,  0.]])"
      ]
     },
     "execution_count": 6,
     "metadata": {},
     "output_type": "execute_result"
    }
   ],
   "source": [
    "X = skewa([1, 2, 3])"
   ]
  },
  {
   "cell_type": "code",
   "execution_count": 7,
   "metadata": {},
   "outputs": [
    {
     "data": {
      "text/plain": [
       "array([1., 2., 3.])"
      ]
     },
     "execution_count": 7,
     "metadata": {},
     "output_type": "execute_result"
    }
   ],
   "source": [
    "vexa(X)"
   ]
  },
  {
   "cell_type": "markdown",
   "metadata": {},
   "source": [
    "### 2.2.2.4 2D Twists"
   ]
  },
  {
   "cell_type": "code",
   "execution_count": null,
   "metadata": {},
   "outputs": [],
   "source": [
    "S = Twist2.UnitRevolute(C)\n",
    "sp.linalg.expm(skewa(2 * S.S))\n",
    "S.exp(2)\n",
    "S.pole\n",
    "S = Twist2.UnitPrismatic([0, 1])\n",
    "S.exp(2)\n",
    "T = transl2(3, 4) @ trot2(0.5)\n",
    "S = Twist2(T)\n",
    "S.w\n",
    "S.pole\n",
    "S.exp(1)"
   ]
  },
  {
   "cell_type": "markdown",
   "metadata": {
    "lines_to_next_cell": 2
   },
   "source": [
    "# 2.3 Working in Three Dimensions (3D)"
   ]
  },
  {
   "cell_type": "markdown",
   "metadata": {
    "lines_to_next_cell": 2
   },
   "source": [
    "## 2.3.1 Orientation in Three Dimensions"
   ]
  },
  {
   "cell_type": "markdown",
   "metadata": {},
   "source": [
    "### 2.3.1.1 3D Rotation Matrix"
   ]
  },
  {
   "cell_type": "code",
   "execution_count": null,
   "metadata": {},
   "outputs": [],
   "source": [
    "R = rotx(pi / 2)\n",
    "trplot(R);\n",
    "#tranimate(R)\n",
    "trplot(R, anaglyph=True)\n",
    "tranimate(R, anaglyph=True);\n",
    "R = rotx(pi / 2) @ roty(pi / 2)\n",
    "trplot(R);\n",
    "roty(pi / 2) @ rotx(pi / 2)"
   ]
  },
  {
   "cell_type": "markdown",
   "metadata": {},
   "source": [
    "### 2.3.1.2 Three-Angle Representations"
   ]
  },
  {
   "cell_type": "code",
   "execution_count": null,
   "metadata": {},
   "outputs": [],
   "source": [
    "R = rotz(0.1) @ roty(0.2) @ rotz(0.3);\n",
    "R = eul2r(0.1, 0.2, 0.3)\n",
    "gamma = tr2eul(R)\n",
    "R = eul2r(0.1, -0.2, 0.3)\n",
    "gamma = tr2eul(R)\n",
    "eul2r(gamma)\n",
    "R = eul2r(0.1, 0, 0.3)\n",
    "tr2eul(R)\n",
    "R = rpy2r(0.1, 0.2, 0.3, order=\"zyx\")\n",
    "gamma = tr2rpy(R, order=\"zyx\")\n",
    "R = rpy2r(0.1, 0.2, 0.3, order=\"xyz\")\n",
    "gamma = tr2rpy(R, order=\"xyz\")"
   ]
  },
  {
   "cell_type": "markdown",
   "metadata": {},
   "source": [
    "### 2.3.1.4 Two-Vector Representation"
   ]
  },
  {
   "cell_type": "code",
   "execution_count": null,
   "metadata": {},
   "outputs": [],
   "source": [
    "a = [-1, 0, 0]\n",
    "o = [1, 1, 0]\n",
    "R = oa2r(o, a)"
   ]
  },
  {
   "cell_type": "markdown",
   "metadata": {},
   "source": [
    "### 2.3.1.5 Rotation about an Arbitrary Vector"
   ]
  },
  {
   "cell_type": "code",
   "execution_count": null,
   "metadata": {},
   "outputs": [],
   "source": [
    "R = rpy2r(0.1, 0.2, 0.3);\n",
    "theta, v = tr2angvec(R)\n",
    "theta\n",
    "v\n",
    "e, x = np.linalg.eig(R)\n",
    "e\n",
    "x\n",
    "theta = np.angle(e[0])\n",
    "R = angvec2r(0.3, [1, 0, 0])"
   ]
  },
  {
   "cell_type": "markdown",
   "metadata": {},
   "source": [
    "### 2.3.1.6 Matrix Exponential for Rotation"
   ]
  },
  {
   "cell_type": "code",
   "execution_count": null,
   "metadata": {},
   "outputs": [],
   "source": [
    "R = rotx(0.3)\n",
    "L = sp.linalg.logm(R)\n",
    "S = vex(L)\n",
    "L = trlog(R);\n",
    "sp.linalg.expm(L)\n",
    "trexp(L);\n",
    "sp.linalg.expm(skew(S))\n",
    "R = rotx(0.3);\n",
    "R = sp.linalg.expm(0.3 * skew([1, 0, 0]));\n",
    "X = skew([1, 2, 3])\n",
    "vex(X)"
   ]
  },
  {
   "cell_type": "markdown",
   "metadata": {},
   "source": [
    "### 2.3.1.7 Unit Quaternions"
   ]
  },
  {
   "cell_type": "code",
   "execution_count": null,
   "metadata": {},
   "outputs": [],
   "source": [
    "q = UnitQuaternion(rpy2r(0.1, 0.2, 0.3))\n",
    "q = q * q;\n",
    "q.inv()\n",
    "q * q.inv()\n",
    "q / q\n",
    "q.R\n",
    "q * [1, 0, 0]\n",
    "q.plot();"
   ]
  },
  {
   "cell_type": "markdown",
   "metadata": {
    "lines_to_next_cell": 2
   },
   "source": [
    "## 2.3.2 Pose in Three Dimensions"
   ]
  },
  {
   "cell_type": "markdown",
   "metadata": {},
   "source": [
    "### 2.3.2.1 Homogeneous Transformation Matrix"
   ]
  },
  {
   "cell_type": "code",
   "execution_count": null,
   "metadata": {},
   "outputs": [],
   "source": [
    "T = transl(2, 0, 0) @ trotx(pi / 2) @ transl(0, 1, 0)\n",
    "trplot(T);\n",
    "t2r(T)\n",
    "transl(T)"
   ]
  },
  {
   "cell_type": "markdown",
   "metadata": {},
   "source": [
    "### 2.3.2.2 Matrix exponential for Pose"
   ]
  },
  {
   "cell_type": "code",
   "execution_count": null,
   "metadata": {},
   "outputs": [],
   "source": [
    "T = transl(2, 3, 4) @ trotx(0.3)\n",
    "L = sp.linalg.logm(T)\n",
    "S = vexa(L)\n",
    "sp.linalg.expm(skewa(S))\n",
    "X = skewa([1, 2, 3, 4, 5, 6])\n",
    "vexa(X)"
   ]
  },
  {
   "cell_type": "markdown",
   "metadata": {},
   "source": [
    "### 2.3.2.3 3D Twists"
   ]
  },
  {
   "cell_type": "code",
   "execution_count": null,
   "metadata": {},
   "outputs": [],
   "source": [
    "S = Twist3.UnitRevolute([1, 0, 0], [0, 0, 0])\n",
    "sp.linalg.expm(0.3 * skewa(S.S));\n",
    "S.exp(0.3)\n",
    "S = Twist3.UnitRevolute([0, 0, 1], [2, 3, 2], 0.5)\n",
    "X = transl(3, 4, -4);\n",
    "for theta in np.arange(0, 15, 0.3):\n",
    "  trplot(S.exp(theta).A @ X, style=\"rgb\", width=2)\n",
    "L = S.line()\n",
    "L.plot('k:', linewidth=2);\n",
    "S = Twist3.UnitPrismatic([0, 1, 0])\n",
    "S.exp(2)\n",
    "T = transl(1, 2, 3) @ eul2tr(0.3, 0.4, 0.5);\n",
    "S = Twist3(T)\n",
    "S.w\n",
    "S.pole\n",
    "S.pitch\n",
    "S.theta"
   ]
  },
  {
   "cell_type": "markdown",
   "metadata": {
    "lines_to_next_cell": 2
   },
   "source": [
    "# 2.4 Advanced Topics"
   ]
  },
  {
   "cell_type": "markdown",
   "metadata": {},
   "source": [
    "## 2.4.5 Distance Between Orientations"
   ]
  },
  {
   "cell_type": "code",
   "execution_count": null,
   "metadata": {},
   "outputs": [],
   "source": [
    "UnitQuaternion.Rx(pi / 2).angdist(UnitQuaternion.Rz(-pi / 2))"
   ]
  },
  {
   "cell_type": "markdown",
   "metadata": {},
   "source": [
    "### 2.4.6 Normalization"
   ]
  },
  {
   "cell_type": "code",
   "execution_count": null,
   "metadata": {},
   "outputs": [],
   "source": [
    "R = np.eye(3,3);\n",
    "np.linalg.det(R) - 1\n",
    "for i in range(100):\n",
    "  R = R @ rpy2r(0.2, 0.3, 0.4);\n",
    "np.linalg.det(R) - 1\n",
    "R = trnorm(R);\n",
    "np.linalg.det(R) - 1"
   ]
  },
  {
   "cell_type": "markdown",
   "metadata": {},
   "source": [
    "### 2.4.8 More About Twists"
   ]
  },
  {
   "cell_type": "code",
   "execution_count": null,
   "metadata": {},
   "outputs": [],
   "source": [
    "S = Twist3.UnitRevolute([1, 0, 0], [0, 0, 0])\n",
    "S.S\n",
    "S.v\n",
    "S.w\n",
    "S.se3()\n",
    "trexp(0.3 * S.se3())\n",
    "S.exp(0.3)\n",
    "S2 = S * S\n",
    "S2.printline(orient=\"angvec\", unit=\"rad\")\n",
    "line = S.line()\n",
    "line.plot(\"k:\", linewidth=2);\n",
    "T = transl(1, 2, 3) @ eul2tr(0.3, 0.4, 0.5);\n",
    "S = Twist3(T)\n",
    "S / S.theta\n",
    "S.unit();\n",
    "S.exp(0)\n",
    "S.exp(1)\n",
    "S.exp(0.5)"
   ]
  },
  {
   "cell_type": "markdown",
   "metadata": {},
   "source": [
    "# 2.5 Using the Toolbox"
   ]
  },
  {
   "cell_type": "code",
   "execution_count": null,
   "metadata": {},
   "outputs": [],
   "source": [
    "from spatialmath.base import *\n",
    "from spatialmath import *\n",
    "R = rotx(0.3)  # create SO(3) matrix as NumPy array\n",
    "print(R)"
   ]
  },
  {
   "cell_type": "code",
   "execution_count": null,
   "metadata": {},
   "outputs": [],
   "source": [
    "type(R)"
   ]
  },
  {
   "cell_type": "code",
   "execution_count": null,
   "metadata": {},
   "outputs": [],
   "source": [
    "R = SO3.Rx(0.3)  # create SO3 object\n",
    "print(R)"
   ]
  },
  {
   "cell_type": "code",
   "execution_count": null,
   "metadata": {},
   "outputs": [],
   "source": [
    "type(R)"
   ]
  },
  {
   "cell_type": "code",
   "execution_count": null,
   "metadata": {},
   "outputs": [],
   "source": [
    "R.A"
   ]
  },
  {
   "cell_type": "code",
   "execution_count": null,
   "metadata": {},
   "outputs": [],
   "source": [
    "R = SO3(rotx(0.3));                   # convert an SO(3) matrix\n",
    "R = SO3.Rz(0.3);                      # rotation about z-axis\n",
    "R = SO3.RPY(10, 20, 30, unit=\"deg\");  # from roll-pitch-yaw angles\n",
    "R = SO3.AngleAxis(0.3, (1, 0, 0));    # from angle and rotation axis\n",
    "R = SO3.EulerVec((0.3, 0, 0));        # from an Euler vector"
   ]
  },
  {
   "cell_type": "code",
   "execution_count": null,
   "metadata": {},
   "outputs": [],
   "source": [
    "R.rpy();        # convert to roll-pitch-yaw angles\n",
    "R.eul();        # convert to Euler angles\n",
    "R.printline();  # compact single-line print"
   ]
  },
  {
   "cell_type": "code",
   "execution_count": null,
   "metadata": {},
   "outputs": [],
   "source": [
    "R = SO3.RPY(10, 20, 30, unit=\"deg\");             # create an SO(3) rotation\n",
    "T = SE3.RPY(10, 20, 30, unit=\"deg\");             # create a purely rotational SE(3)\n",
    "S = Twist3.RPY(10, 20, 30, unit=\"deg\");          # create a purely rotational twist\n",
    "q = UnitQuaternion.RPY(10, 20, 30, unit=\"deg\");  # create a unit quaternion"
   ]
  },
  {
   "cell_type": "code",
   "execution_count": null,
   "metadata": {},
   "outputs": [],
   "source": [
    "TA = SE2(1, 2) * SE2(30, unit=\"deg\");\n",
    "type(TA)\n",
    "TA\n",
    "TA = SE2(1, 2, 30, unit=\"deg\");\n",
    "TA.R\n",
    "TA.t\n",
    "TA.plot(frame=\"A\", color=\"b\");\n",
    "TA.printline()"
   ]
  },
  {
   "cell_type": "code",
   "execution_count": null,
   "metadata": {},
   "outputs": [],
   "source": [
    "P = [3, 2];\n",
    "TA.inv() * P\n",
    "R = SO3.Rx(np.linspace(0, 1, 5));\n",
    "len(R)\n",
    "R[3]\n",
    "R * [1, 2, 3]"
   ]
  }
 ],
 "metadata": {
  "jupytext": {
   "cell_metadata_filter": "-all",
   "main_language": "python",
   "notebook_metadata_filter": "-all"
  },
  "kernelspec": {
   "display_name": "Python 3.8.5 ('dev')",
   "language": "python",
   "name": "python3"
  },
  "language_info": {
   "codemirror_mode": {
    "name": "ipython",
    "version": 3
   },
   "file_extension": ".py",
   "mimetype": "text/x-python",
   "name": "python",
   "nbconvert_exporter": "python",
   "pygments_lexer": "ipython3",
   "version": "3.8.5"
  },
  "vscode": {
   "interpreter": {
    "hash": "b7d6b0d76025b9176285a6442c3dd6dd39bcfe7241029b7898b7106bd5e9b472"
   }
  }
 },
 "nbformat": 4,
 "nbformat_minor": 4
}
