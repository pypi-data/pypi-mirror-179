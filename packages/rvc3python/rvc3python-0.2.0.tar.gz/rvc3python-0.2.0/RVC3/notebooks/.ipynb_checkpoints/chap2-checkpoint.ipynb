{
 "cells": [
  {
   "cell_type": "markdown",
   "metadata": {},
   "source": [
    "------ standard imports ------ #"
   ]
  },
  {
   "cell_type": "code",
   "execution_count": null,
   "metadata": {},
   "outputs": [],
   "source": [
    "!pip install roboticstoolbox-python\n",
    "import numpy as np\n",
    "import scipy as sp\n",
    "import matplotlib.pyplot as plt\n",
    "import math\n",
    "from math import pi\n",
    "np.set_printoptions(\n",
    "    linewidth=120, formatter={\n",
    "        'float': lambda x: f\"{0:8.4g}\" if abs(x) < 1e-10 else f\"{x:8.4g}\"})"
   ]
  },
  {
   "cell_type": "code",
   "execution_count": null,
   "metadata": {},
   "outputs": [],
   "source": [
    "np.random.seed(0)"
   ]
  },
  {
   "cell_type": "code",
   "execution_count": null,
   "metadata": {},
   "outputs": [],
   "source": [
    "from spatialmath import *\n",
    "from spatialmath.base import *\n",
    "from roboticstoolbox import *"
   ]
  },
  {
   "cell_type": "markdown",
   "metadata": {},
   "source": [
    "------------------------------ #"
   ]
  },
  {
   "cell_type": "markdown",
   "metadata": {},
   "source": [
    " Working in Two Dimensions (2D)"
   ]
  },
  {
   "cell_type": "markdown",
   "metadata": {},
   "source": [
    " Orientation in Two Dimensions"
   ]
  },
  {
   "cell_type": "markdown",
   "metadata": {},
   "source": [
    " 2D Rotation Matrix"
   ]
  },
  {
   "cell_type": "code",
   "execution_count": null,
   "metadata": {},
   "outputs": [],
   "source": [
    "R = rot2(0.3)\n",
    "trplot2(R);\n",
    "np.linalg.det(R)\n",
    "np.linalg.det(R @ R)\n",
    "from sympy import Symbol, Matrix, simplify\n",
    "theta = Symbol('theta')\n",
    "R = Matrix(rot2(theta))  # convert to SymPy matrix\n",
    "simplify(R * R)\n",
    "R.det()\n",
    "R.det().simplify()"
   ]
  },
  {
   "cell_type": "markdown",
   "metadata": {},
   "source": [
    " Matrix Exponential for Rotation"
   ]
  },
  {
   "cell_type": "code",
   "execution_count": null,
   "metadata": {},
   "outputs": [],
   "source": [
    "R = rot2(0.3);\n",
    "L = sp.linalg.logm(R)\n",
    "S = vex(L)\n",
    "X = skew(2)\n",
    "vex(X)\n",
    "sp.linalg.expm(L)\n",
    "sp.linalg.expm(skew(S))"
   ]
  },
  {
   "cell_type": "markdown",
   "metadata": {},
   "source": [
    " Pose in Two Dimensions"
   ]
  },
  {
   "cell_type": "markdown",
   "metadata": {},
   "source": [
    " 2D Homogeneous Transformation Matrix"
   ]
  },
  {
   "cell_type": "code",
   "execution_count": null,
   "metadata": {},
   "outputs": [],
   "source": [
    "rot2(0.3)\n",
    "trot2(0.3)\n",
    "TA = transl2(1, 2) @ trot2(30, \"deg\")\n",
    "plotvol2([0, 5]); # new plot with both axes from 0 to 5\n",
    "trplot2(TA, frame=\"A\", color=\"b\");\n",
    "T0 = transl2(0, 0);\n",
    "trplot2(T0, frame=\"0\", color=\"k\");  # reference frame\n",
    "TB = transl2(2, 1)\n",
    "trplot2(TB, frame=\"B\", color=\"r\");\n",
    "TAB = TA @ TB\n",
    "trplot2(TAB, frame=\"AB\", color=\"g\");\n",
    "TBA = TB @ TA;\n",
    "trplot2(TBA, frame=\"BA\", color=\"c\");\n",
    "P = np.array([3, 2]);\n",
    "plot_point(P, \"ko\", label=\"P\");\n",
    "print(TA)\n",
    "print(P)\n",
    "np.linalg.inv(TA) @ np.hstack([P, 1])\n",
    "h2e(np.linalg.inv(TA) @ e2h(P))\n",
    "homtrans(np.linalg.inv(TA), P)"
   ]
  },
  {
   "cell_type": "markdown",
   "metadata": {},
   "source": [
    " Rotating a Coordinate Frame"
   ]
  },
  {
   "cell_type": "code",
   "execution_count": null,
   "metadata": {},
   "outputs": [],
   "source": [
    "plotvol2([-5, 4, -1, 5]);\n",
    "T0 = transl2(0, 0);\n",
    "trplot2(T0, frame=\"0\", color=\"k\");\n",
    "TX = transl2(2, 3);\n",
    "trplot2(TX, frame=\"X\", color=\"b\");\n",
    "TR = trot2(2);\n",
    "trplot2(TR @ TX, framelabel=\"RX\", color=\"g\");\n",
    "trplot2(TX @ TR, framelabel=\"XR\", color=\"g\");\n",
    "C = np.array([3, 2]);\n",
    "plot_point(C, \"ko\", text=\"C\");\n",
    "TC = transl2(C) @ TR @ transl2(-C)\n",
    "trplot2(TC @ TX, framelabel=\"XC\", color=\"r\");"
   ]
  },
  {
   "cell_type": "markdown",
   "metadata": {},
   "source": [
    " Matrix exponential for Pose"
   ]
  },
  {
   "cell_type": "code",
   "execution_count": null,
   "metadata": {},
   "outputs": [],
   "source": [
    "L = sp.linalg.logm(TC)\n",
    "S = vexa(L)\n",
    "sp.linalg.expm(skewa(S))\n",
    "X = skewa([1, 2, 3])\n",
    "vexa(X)"
   ]
  },
  {
   "cell_type": "markdown",
   "metadata": {},
   "source": [
    " 2D Twists"
   ]
  },
  {
   "cell_type": "code",
   "execution_count": null,
   "metadata": {},
   "outputs": [],
   "source": [
    "S = Twist2.UnitRevolute(C)\n",
    "sp.linalg.expm(skewa(2 * S.S))\n",
    "S.exp(2)\n",
    "S.pole\n",
    "S = Twist2.UnitPrismatic([0, 1])\n",
    "S.exp(2)\n",
    "T = transl2(3, 4) @ trot2(0.5)\n",
    "S = Twist2(T)\n",
    "S.w\n",
    "S.pole\n",
    "S.exp(1)"
   ]
  },
  {
   "cell_type": "markdown",
   "metadata": {},
   "source": [
    " Working in Three Dimensions (3D)"
   ]
  },
  {
   "cell_type": "markdown",
   "metadata": {},
   "source": [
    " Orientation in Three Dimensions"
   ]
  },
  {
   "cell_type": "markdown",
   "metadata": {},
   "source": [
    " 3D Rotation Matrix"
   ]
  },
  {
   "cell_type": "code",
   "execution_count": null,
   "metadata": {},
   "outputs": [],
   "source": [
    "R = rotx(pi / 2)\n",
    "trplot(R);\n",
    "tranimate(R)\n",
    "trplot(R, anaglyph=True)\n",
    "tranimate(R, anaglyph=True);\n",
    "R = rotx(pi / 2) @ roty(pi / 2)\n",
    "trplot(R);\n",
    "roty(pi / 2) @ rotx(pi / 2)"
   ]
  },
  {
   "cell_type": "markdown",
   "metadata": {},
   "source": [
    " Three-Angle Representations"
   ]
  },
  {
   "cell_type": "code",
   "execution_count": null,
   "metadata": {},
   "outputs": [],
   "source": [
    "R = rotz(0.1) @ roty(0.2) @ rotz(0.3);\n",
    "R = eul2r(0.1, 0.2, 0.3)\n",
    "gamma = tr2eul(R)\n",
    "R = eul2r(0.1, -0.2, 0.3)\n",
    "gamma = tr2eul(R)\n",
    "eul2r(gamma)\n",
    "R = eul2r(0.1, 0, 0.3)\n",
    "tr2eul(R)\n",
    "R = rpy2r(0.1, 0.2, 0.3, order=\"zyx\")\n",
    "gamma = tr2rpy(R, order=\"zyx\")\n",
    "R = rpy2r(0.1, 0.2, 0.3, order=\"xyz\")\n",
    "gamma = tr2rpy(R, order=\"xyz\")"
   ]
  },
  {
   "cell_type": "markdown",
   "metadata": {},
   "source": [
    " Singularities and Gimbal Lock"
   ]
  },
  {
   "cell_type": "markdown",
   "metadata": {},
   "source": [
    " Two-Vector Representation"
   ]
  },
  {
   "cell_type": "code",
   "execution_count": null,
   "metadata": {},
   "outputs": [],
   "source": [
    "a = [-1, 0, 0]\n",
    "o = [1, 1, 0]\n",
    "R = oa2r(o, a)"
   ]
  },
  {
   "cell_type": "markdown",
   "metadata": {},
   "source": [
    " Rotation about an Arbitrary Vector"
   ]
  },
  {
   "cell_type": "code",
   "execution_count": null,
   "metadata": {},
   "outputs": [],
   "source": [
    "R = rpy2r(0.1, 0.2, 0.3);\n",
    "theta, v = tr2angvec(R)\n",
    "theta\n",
    "v\n",
    "e, x = np.linalg.eig(R)\n",
    "e\n",
    "x\n",
    "theta = np.angle(e[0])\n",
    "R = angvec2r(0.3, [1, 0, 0])"
   ]
  },
  {
   "cell_type": "markdown",
   "metadata": {},
   "source": [
    " Matrix Exponential for Rotation"
   ]
  },
  {
   "cell_type": "code",
   "execution_count": null,
   "metadata": {},
   "outputs": [],
   "source": [
    "R = rotx(0.3)\n",
    "L = sp.linalg.logm(R)\n",
    "S = vex(L)\n",
    "L = trlog(R);\n",
    "sp.linalg.expm(L)\n",
    "trexp(L);\n",
    "sp.linalg.expm(skew(S))\n",
    "R = rotx(0.3);\n",
    "R = sp.linalg.expm(0.3 * skew([1, 0, 0]));\n",
    "X = skew([1, 2, 3])\n",
    "vex(X)"
   ]
  },
  {
   "cell_type": "markdown",
   "metadata": {},
   "source": [
    " Unit Quaternions"
   ]
  },
  {
   "cell_type": "code",
   "execution_count": null,
   "metadata": {},
   "outputs": [],
   "source": [
    "q = UnitQuaternion(rpy2r(0.1, 0.2, 0.3))\n",
    "q = q * q;\n",
    "q.inv()\n",
    "q * q.inv()\n",
    "q / q\n",
    "q.R\n",
    "q * [1, 0, 0]\n",
    "q.plot();"
   ]
  },
  {
   "cell_type": "markdown",
   "metadata": {},
   "source": [
    " Pose in Three Dimensions"
   ]
  },
  {
   "cell_type": "markdown",
   "metadata": {},
   "source": [
    " Homogeneous Transformation Matrix"
   ]
  },
  {
   "cell_type": "code",
   "execution_count": null,
   "metadata": {},
   "outputs": [],
   "source": [
    "T = transl(2, 0, 0) @ trotx(pi / 2) @ transl(0, 1, 0)\n",
    "trplot(T);\n",
    "t2r(T)\n",
    "transl(T)"
   ]
  },
  {
   "cell_type": "markdown",
   "metadata": {},
   "source": [
    " Matrix exponential for Pose"
   ]
  },
  {
   "cell_type": "code",
   "execution_count": null,
   "metadata": {},
   "outputs": [],
   "source": [
    "T = transl(2, 3, 4) @ trotx(0.3)\n",
    "L = sp.linalg.logm(T)\n",
    "S = vexa(L)\n",
    "sp.linalg.expm(skewa(S))\n",
    "X = skewa([1, 2, 3, 4, 5, 6])\n",
    "vexa(X)"
   ]
  },
  {
   "cell_type": "markdown",
   "metadata": {},
   "source": [
    " 3D Twists"
   ]
  },
  {
   "cell_type": "code",
   "execution_count": null,
   "metadata": {},
   "outputs": [],
   "source": [
    "S = Twist3.UnitRevolute([1, 0, 0], [0, 0, 0])\n",
    "sp.linalg.expm(0.3 * skewa(S.S));\n",
    "S.exp(0.3)\n",
    "S = Twist3.UnitRevolute([0, 0, 1], [2, 3, 2], 0.5)\n",
    "X = transl(3, 4, -4);\n",
    "for theta in np.arange(0, 15, 0.3):\n",
    "  trplot(S.exp(theta).A @ X, style=\"rgb\", width=2)\n",
    " L = S.line()\n",
    "L.plot('k:', linewidth=2);\n",
    "S = Twist3.UnitPrismatic([0, 1, 0])\n",
    "S.exp(2)\n",
    "T = transl(1, 2, 3) @ eul2tr(0.3, 0.4, 0.5);\n",
    "S = Twist3(T)\n",
    "S.w\n",
    "S.pole\n",
    "S.pitch\n",
    "S.theta"
   ]
  },
  {
   "cell_type": "markdown",
   "metadata": {},
   "source": [
    "Vector-Quaternion Pair"
   ]
  },
  {
   "cell_type": "markdown",
   "metadata": {},
   "source": [
    "Unit Dual Quaternion"
   ]
  },
  {
   "cell_type": "markdown",
   "metadata": {},
   "source": [
    "Advanced Topics"
   ]
  },
  {
   "cell_type": "markdown",
   "metadata": {},
   "source": [
    "Pre- and Post-Multiplication of Transforms"
   ]
  },
  {
   "cell_type": "markdown",
   "metadata": {},
   "source": [
    "Rotating a Frame Versus Rotating a Point"
   ]
  },
  {
   "cell_type": "markdown",
   "metadata": {},
   "source": [
    "Direction Cosine Matrix"
   ]
  },
  {
   "cell_type": "markdown",
   "metadata": {},
   "source": [
    "Efficiency of Representation"
   ]
  },
  {
   "cell_type": "markdown",
   "metadata": {},
   "source": [
    " Distance Between Orientations"
   ]
  },
  {
   "cell_type": "code",
   "execution_count": null,
   "metadata": {},
   "outputs": [],
   "source": [
    "UnitQuaternion.Rx(pi / 2).angdist(UnitQuaternion.Rz(-pi / 2))"
   ]
  },
  {
   "cell_type": "markdown",
   "metadata": {},
   "source": [
    " Normalization"
   ]
  },
  {
   "cell_type": "code",
   "execution_count": null,
   "metadata": {},
   "outputs": [],
   "source": [
    "R = np.eye(3,3);\n",
    "np.linalg.det(R) - 1\n",
    "for i in range(100):\n",
    "  R = R @ rpy2r(0.2, 0.3, 0.4);\n",
    "np.linalg.det(R) - 1\n",
    "R = trnorm(R);\n",
    "np.linalg.det(R) - 1"
   ]
  },
  {
   "cell_type": "markdown",
   "metadata": {},
   "source": [
    " Understanding the Exponential Mapping"
   ]
  },
  {
   "cell_type": "markdown",
   "metadata": {},
   "source": [
    " More About Twists"
   ]
  },
  {
   "cell_type": "code",
   "execution_count": null,
   "metadata": {},
   "outputs": [],
   "source": [
    "S = Twist3.UnitRevolute([1, 0, 0], [0, 0, 0])\n",
    "S.S\n",
    "S.v\n",
    "S.w\n",
    "S.se3()\n",
    "trexp(0.3 * S.se3())\n",
    "S.exp(0.3)\n",
    "S2 = S * S\n",
    "S2.printline(orient=\"angvec\", unit=\"rad\")\n",
    "line = S.line()\n",
    "line.plot(\"k:\", linewidth=2);\n",
    "T = transl(1, 2, 3) @ eul2tr(0.3, 0.4, 0.5);\n",
    "S = Twist3(T)\n",
    "S / S.theta\n",
    "S.unit();\n",
    "S.exp(0)\n",
    "S.exp(1)\n",
    "S.exp(0.5)"
   ]
  },
  {
   "cell_type": "markdown",
   "metadata": {},
   "source": [
    " Configuration Space"
   ]
  },
  {
   "cell_type": "markdown",
   "metadata": {},
   "source": [
    " Using the Toolbox"
   ]
  },
  {
   "cell_type": "code",
   "execution_count": null,
   "metadata": {},
   "outputs": [],
   "source": [
    "from spatialmath.base import *\n",
    "from spatialmath import *\n",
    "R = rotx(0.3)  # create SO(3) matrix as NumPy array\n",
    "type(R)\n",
    "R = SO3.Rx(0.3)  # create SO3 object\n",
    "type(R)\n",
    "R.A\n",
    "R = SO3(rotx(0.3));                   # convert an SO(3) matrix\n",
    "R = SO3.Rz(0.3);                      # rotation about z-axis\n",
    "R = SO3.RPY(10, 20, 30, unit=\"deg\");  # from roll-pitch-yaw angles\n",
    "R = SO3.AngleAxis(0.3, (1, 0, 0));    # from angle and rotation axis\n",
    "R = SO3.EulerVec((0.3, 0, 0));        # from an Euler vector\n",
    "R.rpy();        # convert to roll-pitch-yaw angles\n",
    "R.eul();        # convert to Euler angles\n",
    "R.printline();  # compact single-line print\n",
    "R = SO3.RPY(10, 20, 30, unit=\"deg\");             # create an SO(3) rotation\n",
    "T = SE3.RPY(10, 20, 30, unit=\"deg\");             # create a purely rotational SE(3)\n",
    "S = Twist3.RPY(10, 20, 30, unit=\"deg\");          # create a purely rotational twist\n",
    "q = UnitQuaternion.RPY(10, 20, 30, unit=\"deg\");  # create a unit quaternion\n",
    "TA = SE2(1, 2) * SE2(30, unit=\"deg\");\n",
    "type(TA)\n",
    "TA\n",
    "TA = SE2(1, 2, 30, unit=\"deg\");\n",
    "TA.R\n",
    "TA.t\n",
    "TA.plot(frame=\"A\", color=\"b\");\n",
    "TA.printline()\n",
    "P = [3, 2];\n",
    "TA.inv() * P\n",
    "R = SO3.Rx(np.linspace(0, 1, 5));\n",
    "len(R)\n",
    "R[3]\n",
    "R * [1, 2, 3]"
   ]
  }
 ],
 "metadata": {
  "kernelspec": {
   "display_name": "Python 3 (ipykernel)",
   "language": "python",
   "name": "python3"
  },
  "language_info": {
   "codemirror_mode": {
    "name": "ipython",
    "version": 3
   },
   "file_extension": ".py",
   "mimetype": "text/x-python",
   "name": "python",
   "nbconvert_exporter": "python",
   "pygments_lexer": "ipython3",
   "version": "3.8.5"
  },
  "varInspector": {
   "cols": {
    "lenName": 16,
    "lenType": 16,
    "lenVar": 40
   },
   "kernels_config": {
    "python": {
     "delete_cmd_postfix": "",
     "delete_cmd_prefix": "del ",
     "library": "var_list.py",
     "varRefreshCmd": "print(var_dic_list())"
    },
    "r": {
     "delete_cmd_postfix": ") ",
     "delete_cmd_prefix": "rm(",
     "library": "var_list.r",
     "varRefreshCmd": "cat(var_dic_list()) "
    }
   },
   "types_to_exclude": [
    "module",
    "function",
    "builtin_function_or_method",
    "instance",
    "_Feature"
   ],
   "window_display": false
  }
 },
 "nbformat": 4,
 "nbformat_minor": 2
}
