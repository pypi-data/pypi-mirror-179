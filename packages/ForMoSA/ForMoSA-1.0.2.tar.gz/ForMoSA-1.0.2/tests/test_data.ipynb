{
 "cells": [
  {
   "cell_type": "code",
   "execution_count": 27,
   "metadata": {},
   "outputs": [],
   "source": [
    "import numpy as np\n",
    "import pandas as pd\n",
    "from astropy.io import fits\n",
    "from astropy.table import Table\n",
    "\n"
   ]
  },
  {
   "cell_type": "code",
   "execution_count": 28,
   "metadata": {},
   "outputs": [],
   "source": [
    "# transform from .txt (old format we used) to .fits \n",
    "fileop = pd.read_csv('test_data_ABPicb.txt', header=None, sep='\\s+')\n",
    "fileop.columns=['WAV', 'FLX', 'ERR', 'a', 'b', 'RES', 'INS']\n",
    "fileop = fileop.drop(['a', 'b'], axis=1)\n",
    "t = Table.from_pandas(fileop)\n",
    "t.write('test_data_ABPicb.fits')\n",
    "\n",
    "#"
   ]
  },
  {
   "cell_type": "code",
   "execution_count": 31,
   "metadata": {},
   "outputs": [],
   "source": [
    "with fits.open('test_data_ABPicb.fits') as hdul:\n",
    "    wav = hdul[1].data['WAV']     # wavelength (µm)\n",
    "    flx = hdul[1].data['FLX']     # flux (W.m-2.um.1)\n",
    "    err = hdul[1].data['ERR']     # error (W.m-2.um.1)\n",
    "    res = hdul[1].data['RES']     # spectral resolution\n",
    "    ins = hdul[1].data['INS']     # instrument/filter name"
   ]
  },
  {
   "cell_type": "code",
   "execution_count": 30,
   "metadata": {},
   "outputs": [
    {
     "data": {
      "text/plain": [
       "array([1.95304004, 1.95328504, 1.95353004, ..., 2.44671505, 2.44696005,\n",
       "       2.44720505])"
      ]
     },
     "execution_count": 30,
     "metadata": {},
     "output_type": "execute_result"
    }
   ],
   "source": [
    "wav"
   ]
  },
  {
   "cell_type": "code",
   "execution_count": null,
   "metadata": {},
   "outputs": [],
   "source": []
  }
 ],
 "metadata": {
  "kernelspec": {
   "display_name": "Python 3.7.13 ('exo_formosa')",
   "language": "python",
   "name": "python3"
  },
  "language_info": {
   "codemirror_mode": {
    "name": "ipython",
    "version": 3
   },
   "file_extension": ".py",
   "mimetype": "text/x-python",
   "name": "python",
   "nbconvert_exporter": "python",
   "pygments_lexer": "ipython3",
   "version": "3.7.13"
  },
  "orig_nbformat": 4,
  "vscode": {
   "interpreter": {
    "hash": "9aec1e17db1a1c759b18bf85d14c335cdcfb4080f740d60b236f2747bc3cb68f"
   }
  }
 },
 "nbformat": 4,
 "nbformat_minor": 2
}
