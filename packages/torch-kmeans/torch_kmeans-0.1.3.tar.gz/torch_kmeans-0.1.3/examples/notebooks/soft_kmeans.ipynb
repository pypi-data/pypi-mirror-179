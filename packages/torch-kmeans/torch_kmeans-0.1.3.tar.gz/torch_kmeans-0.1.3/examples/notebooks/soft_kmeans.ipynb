{
 "cells": [
  {
   "cell_type": "markdown",
   "metadata": {
    "collapsed": true,
    "pycharm": {
     "name": "#%% md\n"
    }
   },
   "source": [
    "### SoftKMeans Examples"
   ]
  },
  {
   "cell_type": "code",
   "execution_count": null,
   "outputs": [],
   "source": [
    "!pip install torch-kmeans"
   ],
   "metadata": {
    "collapsed": false,
    "pycharm": {
     "name": "#%%\n"
    }
   }
  },
  {
   "cell_type": "code",
   "execution_count": 1,
   "outputs": [],
   "source": [
    "# imports\n",
    "import numpy as np\n",
    "import torch\n",
    "from sklearn.datasets import make_blobs\n",
    "from torch_kmeans import SoftKMeans\n"
   ],
   "metadata": {
    "collapsed": false,
    "pycharm": {
     "name": "#%%\n"
    }
   }
  },
  {
   "cell_type": "code",
   "execution_count": 2,
   "outputs": [],
   "source": [
    "# function to generate some clustering data\n",
    "def get_data(bs: int = 1,\n",
    "             n: int = 20,\n",
    "             d: int = 2,\n",
    "             k: int = 4,\n",
    "             different_k: bool = False,\n",
    "             k_lims = (2, 5),\n",
    "             add_noise: bool = True,\n",
    "             fp_dtype = torch.float32,\n",
    "             seed: int = 42):\n",
    "    torch.manual_seed(seed)\n",
    "    if different_k:\n",
    "        a, b = k_lims\n",
    "        k = torch.randint(low=a, high=b, size=(bs,)).long()\n",
    "    else:\n",
    "        k = torch.empty(bs).fill_(k).long()\n",
    "\n",
    "    # generate pseudo clustering data\n",
    "    x, y = [], []\n",
    "    for i, k_ in enumerate(k.numpy()):\n",
    "        x_, y_ = make_blobs(n_samples=n, centers=k_, n_features=d, random_state=seed+i)\n",
    "        x.append(x_)\n",
    "        y.append(y_)\n",
    "    x = torch.from_numpy(np.stack(x, axis=0))\n",
    "    y = torch.from_numpy(np.stack(y, axis=0))\n",
    "    if add_noise:\n",
    "        x += torch.randn(x.size())\n",
    "\n",
    "    return x.to(fp_dtype), y, k\n"
   ],
   "metadata": {
    "collapsed": false,
    "pycharm": {
     "name": "#%%\n"
    }
   }
  },
  {
   "cell_type": "code",
   "execution_count": 3,
   "outputs": [],
   "source": [
    "# create some data (BS, N, D)\n",
    "# i.e. 1 instance with N=20 points and D=2 features\n",
    "BS = 1\n",
    "K = 4\n",
    "x, y, _ = get_data(bs=BS, n=20, d=2, k=K, different_k=False)\n"
   ],
   "metadata": {
    "collapsed": false,
    "pycharm": {
     "name": "#%%\n"
    }
   }
  },
  {
   "cell_type": "code",
   "execution_count": 4,
   "outputs": [
    {
     "name": "stdout",
     "output_type": "stream",
     "text": [
      "Full batch converged at iteration 13/100 with center shifts = tensor([7.0482e-06]).\n",
      "tensor([[2, 2, 3, 2, 1, 0, 2, 1, 3, 1, 0, 3, 0, 3, 0, 2, 0, 1, 3, 1]])\n",
      "tensor([[[4.9242e-01, 6.6634e-04, 4.9243e-01, 1.4482e-02],\n",
      "         [4.9830e-01, 2.1706e-03, 4.9830e-01, 1.2309e-03],\n",
      "         [1.2966e-03, 8.5425e-05, 1.2967e-03, 9.9732e-01],\n",
      "         [4.9823e-01, 1.5513e-03, 4.9823e-01, 1.9898e-03],\n",
      "         [1.3596e-02, 9.7274e-01, 1.3595e-02, 7.3166e-05],\n",
      "         [4.7792e-01, 4.4000e-02, 4.7791e-01, 1.7134e-04],\n",
      "         [4.9830e-01, 1.7766e-03, 4.9831e-01, 1.6194e-03],\n",
      "         [4.2583e-03, 9.9136e-01, 4.2580e-03, 1.2031e-04],\n",
      "         [1.9370e-03, 7.6187e-05, 1.9371e-03, 9.9605e-01],\n",
      "         [5.3002e-03, 9.8930e-01, 5.2999e-03, 1.0367e-04],\n",
      "         [4.8609e-01, 2.7626e-02, 4.8608e-01, 1.9741e-04],\n",
      "         [4.0914e-03, 7.2767e-05, 4.0916e-03, 9.9174e-01],\n",
      "         [4.9468e-01, 1.0342e-02, 4.9467e-01, 3.1007e-04],\n",
      "         [4.6491e-04, 2.1149e-04, 4.6493e-04, 9.9886e-01],\n",
      "         [4.9521e-01, 9.2505e-03, 4.9521e-01, 3.3160e-04],\n",
      "         [4.9633e-01, 8.6337e-04, 4.9634e-01, 6.4702e-03],\n",
      "         [4.8306e-01, 3.3699e-02, 4.8305e-01, 1.8493e-04],\n",
      "         [3.9558e-03, 9.9196e-01, 3.9555e-03, 1.2749e-04],\n",
      "         [5.6584e-04, 1.5717e-04, 5.6587e-04, 9.9871e-01],\n",
      "         [7.7117e-03, 9.8449e-01, 7.7113e-03, 8.5929e-05]]])\n"
     ]
    }
   ],
   "source": [
    "model = SoftKMeans()\n",
    "result = model(x, k=K)\n",
    "# the labels are inferred via argmax\n",
    "print(result.labels)\n",
    "# the soft (fuzzy) labels are given in the soft assignment tensor\n",
    "print(result.soft_assignment)"
   ],
   "metadata": {
    "collapsed": false,
    "pycharm": {
     "name": "#%%\n"
    }
   }
  },
  {
   "cell_type": "markdown",
   "source": [
    "One nice feature of the SoftKMeans implementation is,\n",
    "that it is completely differentiable w.r.t. its inputs\n",
    "which enables its use in a neural network model.\n",
    "See [https://papers.nips.cc/paper/2019/hash/8bd39eae38511daad6152e84545e504d-Abstract.html](https://papers.nips.cc/paper/2019/hash/8bd39eae38511daad6152e84545e504d-Abstract.html)\n",
    "for more infos."
   ],
   "metadata": {
    "collapsed": false,
    "pycharm": {
     "name": "#%% md\n"
    }
   }
  },
  {
   "cell_type": "code",
   "execution_count": 5,
   "outputs": [
    {
     "name": "stdout",
     "output_type": "stream",
     "text": [
      "True\n",
      "Full batch converged at iteration 13/100 with center shifts = tensor([7.0482e-06]).\n",
      "True\n",
      "tensor([[[ 2.4434e-04,  2.3269e-05],\n",
      "         [ 1.1727e-04,  6.1593e-05],\n",
      "         [-1.5717e-05,  6.4270e-05],\n",
      "         [ 1.6618e-04,  6.9853e-05],\n",
      "         [ 3.1087e-04, -5.6229e-04],\n",
      "         [ 1.0758e-04,  1.8572e-04],\n",
      "         [ 1.0508e-04,  4.8672e-05],\n",
      "         [ 1.0294e-04, -1.0992e-04],\n",
      "         [-7.6657e-06,  2.2855e-05],\n",
      "         [ 1.3412e-04, -1.5893e-04],\n",
      "         [ 1.0319e-04,  1.5037e-04],\n",
      "         [ 1.8031e-05, -3.6327e-05],\n",
      "         [ 8.5447e-05,  8.8168e-05],\n",
      "         [ 5.6830e-06,  1.0594e-04],\n",
      "         [ 8.6794e-05,  8.6030e-05],\n",
      "         [ 1.6743e-04,  3.5864e-05],\n",
      "         [ 8.8507e-05,  1.3848e-04],\n",
      "         [ 1.1673e-04, -1.2019e-04],\n",
      "         [-1.6715e-06,  8.6334e-05],\n",
      "         [ 1.8456e-04, -2.5920e-04]]])\n"
     ]
    }
   ],
   "source": [
    "# enable gradient propagation on input\n",
    "x1 = x.clone()\n",
    "x1.requires_grad = True\n",
    "print(x1.requires_grad)\n",
    "\n",
    "result = model(x1, k=K)\n",
    "out = result.soft_assignment\n",
    "print(out.requires_grad)\n",
    "# compute loss\n",
    "loss_fn = torch.nn.CrossEntropyLoss()\n",
    "loss = loss_fn(\n",
    "    out.permute(0, 2, 1),   # expects (BS, C, N)\n",
    "    y\n",
    ")\n",
    "loss.backward()\n",
    "print(x1.grad)"
   ],
   "metadata": {
    "collapsed": false,
    "pycharm": {
     "name": "#%%\n"
    }
   }
  }
 ],
 "metadata": {
  "kernelspec": {
   "display_name": "Python 3",
   "language": "python",
   "name": "python3"
  },
  "language_info": {
   "codemirror_mode": {
    "name": "ipython",
    "version": 2
   },
   "file_extension": ".py",
   "mimetype": "text/x-python",
   "name": "python",
   "nbconvert_exporter": "python",
   "pygments_lexer": "ipython2",
   "version": "2.7.6"
  }
 },
 "nbformat": 4,
 "nbformat_minor": 0
}
