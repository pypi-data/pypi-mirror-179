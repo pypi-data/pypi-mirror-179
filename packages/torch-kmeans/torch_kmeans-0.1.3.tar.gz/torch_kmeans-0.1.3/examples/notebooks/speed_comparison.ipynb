{
 "cells": [
  {
   "cell_type": "markdown",
   "metadata": {
    "collapsed": true,
    "pycharm": {
     "name": "#%% md\n"
    }
   },
   "source": [
    "## Speed comparison: torch_kmeans vs. scikit-learn\n"
   ]
  },
  {
   "cell_type": "markdown",
   "source": [
    "### TL;DR\n",
    "\n",
    "**Use torch_kmeans on GPU.**\n",
    "It is the fastest in all relevant cases with speed-up of close to two magnitudes (~70x) for some cases."
   ],
   "metadata": {
    "collapsed": false
   }
  },
  {
   "cell_type": "markdown",
   "source": [
    "### Summary\n",
    "\n",
    "fastest < yx mid < yx slowest\n",
    "\n",
    "where yx is the approximate multiple of execution time w.r.t. the fastest model\n",
    "1. BS=1, N=20, D=2: torch_kmeans(CPU) < 2x torch_kmeans(GPU) < 3x scikit-learn\n",
    "2. BS=1, N=500, D=2: torch_kmeans(GPU) < 2x scikit-learn < 12x torch_kmeans(CPU)\n",
    "3. BS=1, N=100, D=2: torch_kmeans(GPU) < 2x scikit-learn < 4x torch_kmeans(CPU)\n",
    "4. BS=10, N=100, D=2: torch_kmeans(GPU) < 15x scikit-learn < 28x torch_kmeans(CPU)\n",
    "5. BS=64, N=100, D=2: torch_kmeans(GPU) < 60x scikit-learn < 70x torch_kmeans(CPU)\n",
    "6. BS=1, N=100, D=20: torch_kmeans(GPU) < 2x torch_kmeans(CPU) < 2.5x scikit-learn\n",
    "7. BS=1, N=100, D=200: torch_kmeans(GPU) < 15x scikit-learn < 20x torch_kmeans(CPU)\n",
    "\n",
    "Run locally on a Intel(R) Core(TM) i7-7700K CPU @ 4.20GHz and a NVIDIA GeForce 1080ti.\n"
   ],
   "metadata": {
    "collapsed": false
   }
  },
  {
   "cell_type": "code",
   "execution_count": 32,
   "outputs": [
    {
     "name": "stdout",
     "output_type": "stream",
     "text": [
      "Requirement already satisfied: torch-kmeans in /mnt/_data/PycharmProjects/torch_kmeans/src (0.0.post1.dev0)\r\n",
      "Requirement already satisfied: torch>=1.08 in /home/jones/miniconda3/envs/kmeans/lib/python3.9/site-packages (from torch-kmeans) (1.11.0)\r\n",
      "Requirement already satisfied: typing_extensions in /home/jones/miniconda3/envs/kmeans/lib/python3.9/site-packages (from torch>=1.08->torch-kmeans) (4.1.1)\r\n"
     ]
    }
   ],
   "source": [
    "!pip install torch-kmeans\n"
   ],
   "metadata": {
    "collapsed": false,
    "pycharm": {
     "name": "#%%\n"
    }
   }
  },
  {
   "cell_type": "code",
   "execution_count": 1,
   "outputs": [],
   "source": [
    "# imports\n",
    "import numpy as np\n",
    "import torch\n",
    "from sklearn.datasets import make_blobs\n",
    "from sklearn.cluster import KMeans as SKLearnKMeans\n",
    "from torch_kmeans import KMeans as TorchKMeans\n"
   ],
   "metadata": {
    "collapsed": false,
    "pycharm": {
     "name": "#%%\n"
    }
   }
  },
  {
   "cell_type": "code",
   "execution_count": 2,
   "outputs": [],
   "source": [
    "# function to generate some clustering data\n",
    "def get_data(bs: int = 1,\n",
    "             n: int = 20,\n",
    "             d: int = 2,\n",
    "             k: int = 4,\n",
    "             different_k: bool = False,\n",
    "             k_lims = (2, 5),\n",
    "             add_noise: bool = True,\n",
    "             fp_dtype = torch.float32,\n",
    "             seed: int = 42):\n",
    "    torch.manual_seed(seed)\n",
    "    if different_k:\n",
    "        a, b = k_lims\n",
    "        k = torch.randint(low=a, high=b, size=(bs,)).long()\n",
    "    else:\n",
    "        k = torch.empty(bs).fill_(k).long()\n",
    "\n",
    "    # generate pseudo clustering data\n",
    "    x, y = [], []\n",
    "    for i, k_ in enumerate(k.numpy()):\n",
    "        x_, y_ = make_blobs(n_samples=n, centers=k_, n_features=d, random_state=seed+i)\n",
    "        x.append(x_)\n",
    "        y.append(y_)\n",
    "    x = torch.from_numpy(np.stack(x, axis=0))\n",
    "    y = torch.from_numpy(np.stack(y, axis=0))\n",
    "    if add_noise:\n",
    "        x += torch.randn(x.size())\n",
    "\n",
    "    return x.to(fp_dtype), y, k\n",
    "\n",
    "\n"
   ],
   "metadata": {
    "collapsed": false,
    "pycharm": {
     "name": "#%%\n"
    }
   }
  },
  {
   "cell_type": "code",
   "execution_count": 3,
   "outputs": [],
   "source": [
    "# wrapper for scikit-learn to process full batch provided\n",
    "def eval_sklearn_km(m, x):\n",
    "    return [m.fit(x_).labels_ for x_ in x]\n"
   ],
   "metadata": {
    "collapsed": false,
    "pycharm": {
     "name": "#%%\n"
    }
   }
  },
  {
   "cell_type": "code",
   "execution_count": 4,
   "outputs": [],
   "source": [
    "def eval_torch_km(m, x):\n",
    "    return m(x)\n"
   ],
   "metadata": {
    "collapsed": false,
    "pycharm": {
     "name": "#%%\n"
    }
   }
  },
  {
   "cell_type": "markdown",
   "source": [
    "### 1) 1 instance(s), 20 points, 2 dimensions, 8 inits, K=2"
   ],
   "metadata": {
    "collapsed": false,
    "pycharm": {
     "name": "#%% md\n"
    }
   }
  },
  {
   "cell_type": "code",
   "execution_count": 5,
   "outputs": [],
   "source": [
    "N_INIT = 8\n",
    "N_ITERS = 200\n",
    "TOL = 1e-5\n",
    "SEED = 123\n",
    "BS, N, D = (1, 20, 2)\n",
    "K = 2\n",
    "assert torch.cuda.is_available()\n",
    "device = torch.device(\"cuda\")\n",
    "\n",
    "x_pt, _, _ = get_data(bs=BS, n=N, d=D, k=K)\n",
    "x_cuda = x_pt.clone().to(device=device)\n",
    "x_np = x_pt.clone().numpy()\n",
    "\n",
    "m_pt = TorchKMeans(\n",
    "    max_iter=N_ITERS,\n",
    "    n_clusters=K,\n",
    "    init_method='rnd',\n",
    "    num_init=N_INIT,\n",
    "    tol=TOL,\n",
    "    seed=SEED,\n",
    "    verbose=False,\n",
    ")\n",
    "\n",
    "m_skl = SKLearnKMeans(\n",
    "        max_iter=N_ITERS,\n",
    "        n_clusters=K,\n",
    "        init='random',\n",
    "        n_init=N_INIT,\n",
    "        tol=TOL,\n",
    "        verbose=False,\n",
    "        random_state=SEED,\n",
    "    )\n",
    "\n",
    "\n",
    "def eval_pt():\n",
    "    eval_torch_km(m_pt, x_pt)\n",
    "\n",
    "\n",
    "def eval_cuda():\n",
    "    eval_torch_km(m_pt, x_cuda)\n",
    "\n",
    "\n",
    "def eval_skl():\n",
    "    eval_sklearn_km(m_skl, x_np)\n"
   ],
   "metadata": {
    "collapsed": false,
    "pycharm": {
     "name": "#%%\n"
    }
   }
  },
  {
   "cell_type": "code",
   "execution_count": 6,
   "outputs": [
    {
     "name": "stdout",
     "output_type": "stream",
     "text": [
      "4.12 ms ± 70.7 µs per loop (mean ± std. dev. of 5 runs, 200 loops each)\n"
     ]
    }
   ],
   "source": [
    "%timeit -r 5 -n 200 eval_skl()"
   ],
   "metadata": {
    "collapsed": false,
    "pycharm": {
     "name": "#%%\n"
    }
   }
  },
  {
   "cell_type": "code",
   "execution_count": 7,
   "outputs": [
    {
     "name": "stdout",
     "output_type": "stream",
     "text": [
      "1.52 ms ± 336 µs per loop (mean ± std. dev. of 5 runs, 200 loops each)\n"
     ]
    }
   ],
   "source": [
    "%timeit -r 5 -n 200 eval_pt()"
   ],
   "metadata": {
    "collapsed": false,
    "pycharm": {
     "name": "#%%\n"
    }
   }
  },
  {
   "cell_type": "code",
   "execution_count": 8,
   "outputs": [
    {
     "name": "stdout",
     "output_type": "stream",
     "text": [
      "2.38 ms ± 1.04 ms per loop (mean ± std. dev. of 5 runs, 200 loops each)\n"
     ]
    }
   ],
   "source": [
    "%timeit -r 5 -n 200 eval_cuda()"
   ],
   "metadata": {
    "collapsed": false,
    "pycharm": {
     "name": "#%%\n"
    }
   }
  },
  {
   "cell_type": "code",
   "execution_count": null,
   "outputs": [],
   "source": [],
   "metadata": {
    "collapsed": false,
    "pycharm": {
     "name": "#%%\n"
    }
   }
  },
  {
   "cell_type": "markdown",
   "source": [
    "### 2) 1 instance(s), 500 points, 2 dimensions, 8 inits, K=20"
   ],
   "metadata": {
    "collapsed": false
   }
  },
  {
   "cell_type": "code",
   "execution_count": 9,
   "outputs": [],
   "source": [
    "N_INIT = 8\n",
    "N_ITERS = 200\n",
    "TOL = 1e-4\n",
    "SEED = 123\n",
    "BS, N, D = (1, 500, 2)\n",
    "K = 20\n",
    "assert torch.cuda.is_available()\n",
    "device = torch.device(\"cuda\")\n",
    "\n",
    "x_pt, _, _ = get_data(bs=BS, n=N, d=D, k=K)\n",
    "x_cuda = x_pt.clone().to(device=device)\n",
    "x_np = x_pt.clone().numpy()\n",
    "\n",
    "m_pt = TorchKMeans(\n",
    "    max_iter=N_ITERS,\n",
    "    n_clusters=K,\n",
    "    init_method='rnd',\n",
    "    num_init=N_INIT,\n",
    "    tol=TOL,\n",
    "    seed=SEED,\n",
    "    verbose=False,\n",
    ")\n",
    "\n",
    "m_skl = SKLearnKMeans(\n",
    "        max_iter=N_ITERS,\n",
    "        n_clusters=K,\n",
    "        init='random',\n",
    "        n_init=N_INIT,\n",
    "        tol=TOL,\n",
    "        verbose=False,\n",
    "        random_state=SEED,\n",
    "    )\n",
    "\n",
    "\n",
    "def eval_pt():\n",
    "    eval_torch_km(m_pt, x_pt)\n",
    "\n",
    "\n",
    "def eval_cuda():\n",
    "    eval_torch_km(m_pt, x_cuda)\n",
    "\n",
    "\n",
    "def eval_skl():\n",
    "    eval_sklearn_km(m_skl, x_np)\n"
   ],
   "metadata": {
    "collapsed": false,
    "pycharm": {
     "name": "#%%\n"
    }
   }
  },
  {
   "cell_type": "code",
   "execution_count": 10,
   "outputs": [
    {
     "name": "stdout",
     "output_type": "stream",
     "text": [
      "22.2 ms ± 556 µs per loop (mean ± std. dev. of 5 runs, 200 loops each)\n"
     ]
    }
   ],
   "source": [
    "%timeit -r 5 -n 200 eval_skl()"
   ],
   "metadata": {
    "collapsed": false,
    "pycharm": {
     "name": "#%%\n"
    }
   }
  },
  {
   "cell_type": "code",
   "execution_count": 11,
   "outputs": [
    {
     "name": "stdout",
     "output_type": "stream",
     "text": [
      "152 ms ± 893 µs per loop (mean ± std. dev. of 5 runs, 200 loops each)\n"
     ]
    }
   ],
   "source": [
    "%timeit -r 5 -n 200 eval_pt()"
   ],
   "metadata": {
    "collapsed": false,
    "pycharm": {
     "name": "#%%\n"
    }
   }
  },
  {
   "cell_type": "code",
   "execution_count": 12,
   "outputs": [
    {
     "name": "stdout",
     "output_type": "stream",
     "text": [
      "12.6 ms ± 728 µs per loop (mean ± std. dev. of 5 runs, 200 loops each)\n"
     ]
    }
   ],
   "source": [
    "%timeit -r 5 -n 200 eval_cuda()"
   ],
   "metadata": {
    "collapsed": false,
    "pycharm": {
     "name": "#%%\n"
    }
   }
  },
  {
   "cell_type": "code",
   "execution_count": null,
   "outputs": [],
   "source": [],
   "metadata": {
    "collapsed": false,
    "pycharm": {
     "name": "#%%\n"
    }
   }
  },
  {
   "cell_type": "markdown",
   "source": [
    "### 3) 1 instance(s), 100 points, 2 dimensions, 8 inits, K=8"
   ],
   "metadata": {
    "collapsed": false
   }
  },
  {
   "cell_type": "code",
   "execution_count": 13,
   "outputs": [],
   "source": [
    "N_INIT = 8\n",
    "N_ITERS = 200\n",
    "TOL = 1e-4\n",
    "SEED = 123\n",
    "BS, N, D = (1, 100, 2)\n",
    "K = 8\n",
    "assert torch.cuda.is_available()\n",
    "device = torch.device(\"cuda\")\n",
    "\n",
    "x_pt, _, _ = get_data(bs=BS, n=N, d=D, k=K)\n",
    "x_cuda = x_pt.clone().to(device=device)\n",
    "x_np = x_pt.clone().numpy()\n",
    "\n",
    "m_pt = TorchKMeans(\n",
    "    max_iter=N_ITERS,\n",
    "    n_clusters=K,\n",
    "    init_method='rnd',\n",
    "    num_init=N_INIT,\n",
    "    tol=TOL,\n",
    "    seed=SEED,\n",
    "    verbose=False,\n",
    ")\n",
    "\n",
    "m_skl = SKLearnKMeans(\n",
    "        max_iter=N_ITERS,\n",
    "        n_clusters=K,\n",
    "        init='random',\n",
    "        n_init=N_INIT,\n",
    "        tol=TOL,\n",
    "        verbose=False,\n",
    "        random_state=SEED,\n",
    "    )\n",
    "\n",
    "\n",
    "def eval_pt():\n",
    "    eval_torch_km(m_pt, x_pt)\n",
    "\n",
    "\n",
    "def eval_cuda():\n",
    "    eval_torch_km(m_pt, x_cuda)\n",
    "\n",
    "\n",
    "def eval_skl():\n",
    "    eval_sklearn_km(m_skl, x_np)\n"
   ],
   "metadata": {
    "collapsed": false,
    "pycharm": {
     "name": "#%%\n"
    }
   }
  },
  {
   "cell_type": "code",
   "execution_count": 14,
   "outputs": [
    {
     "name": "stdout",
     "output_type": "stream",
     "text": [
      "7.08 ms ± 452 µs per loop (mean ± std. dev. of 5 runs, 200 loops each)\n"
     ]
    }
   ],
   "source": [
    "%timeit -r 5 -n 200 eval_skl()"
   ],
   "metadata": {
    "collapsed": false,
    "pycharm": {
     "name": "#%%\n"
    }
   }
  },
  {
   "cell_type": "code",
   "execution_count": 15,
   "outputs": [
    {
     "name": "stdout",
     "output_type": "stream",
     "text": [
      "11 ms ± 338 µs per loop (mean ± std. dev. of 5 runs, 200 loops each)\n"
     ]
    }
   ],
   "source": [
    "%timeit -r 5 -n 200 eval_pt()"
   ],
   "metadata": {
    "collapsed": false,
    "pycharm": {
     "name": "#%%\n"
    }
   }
  },
  {
   "cell_type": "code",
   "execution_count": 16,
   "outputs": [
    {
     "name": "stdout",
     "output_type": "stream",
     "text": [
      "3.28 ms ± 294 µs per loop (mean ± std. dev. of 5 runs, 200 loops each)\n"
     ]
    }
   ],
   "source": [
    "%timeit -r 5 -n 200 eval_cuda()"
   ],
   "metadata": {
    "collapsed": false,
    "pycharm": {
     "name": "#%%\n"
    }
   }
  },
  {
   "cell_type": "code",
   "execution_count": null,
   "outputs": [],
   "source": [],
   "metadata": {
    "collapsed": false,
    "pycharm": {
     "name": "#%%\n"
    }
   }
  },
  {
   "cell_type": "markdown",
   "source": [
    "### 4) 10 instances, 100 points, 2 dimensions, 8 inits, K=8"
   ],
   "metadata": {
    "collapsed": false
   }
  },
  {
   "cell_type": "code",
   "execution_count": 17,
   "outputs": [],
   "source": [
    "N_INIT = 8\n",
    "N_ITERS = 200\n",
    "TOL = 1e-4\n",
    "SEED = 123\n",
    "BS, N, D = (10, 100, 2)\n",
    "K = 8\n",
    "assert torch.cuda.is_available()\n",
    "device = torch.device(\"cuda\")\n",
    "\n",
    "x_pt, _, _ = get_data(bs=BS, n=N, d=D, k=K)\n",
    "x_cuda = x_pt.clone().to(device=device)\n",
    "x_np = x_pt.clone().numpy()\n",
    "\n",
    "m_pt = TorchKMeans(\n",
    "    max_iter=N_ITERS,\n",
    "    n_clusters=K,\n",
    "    init_method='rnd',\n",
    "    num_init=N_INIT,\n",
    "    tol=TOL,\n",
    "    seed=SEED,\n",
    "    verbose=False,\n",
    ")\n",
    "\n",
    "m_skl = SKLearnKMeans(\n",
    "        max_iter=N_ITERS,\n",
    "        n_clusters=K,\n",
    "        init='random',\n",
    "        n_init=N_INIT,\n",
    "        tol=TOL,\n",
    "        verbose=False,\n",
    "        random_state=SEED,\n",
    "    )\n",
    "\n",
    "\n",
    "def eval_pt():\n",
    "    eval_torch_km(m_pt, x_pt)\n",
    "\n",
    "\n",
    "def eval_cuda():\n",
    "    eval_torch_km(m_pt, x_cuda)\n",
    "\n",
    "\n",
    "def eval_skl():\n",
    "    eval_sklearn_km(m_skl, x_np)\n"
   ],
   "metadata": {
    "collapsed": false,
    "pycharm": {
     "name": "#%%\n"
    }
   }
  },
  {
   "cell_type": "code",
   "execution_count": 18,
   "outputs": [
    {
     "name": "stdout",
     "output_type": "stream",
     "text": [
      "89.4 ms ± 338 µs per loop (mean ± std. dev. of 5 runs, 200 loops each)\n"
     ]
    }
   ],
   "source": [
    "%timeit -r 5 -n 200 eval_skl()"
   ],
   "metadata": {
    "collapsed": false,
    "pycharm": {
     "name": "#%%\n"
    }
   }
  },
  {
   "cell_type": "code",
   "execution_count": 17,
   "outputs": [
    {
     "name": "stdout",
     "output_type": "stream",
     "text": [
      "154 ms ± 3.18 ms per loop (mean ± std. dev. of 5 runs, 200 loops each)\n"
     ]
    }
   ],
   "source": [
    "%timeit -r 5 -n 200 eval_pt()"
   ],
   "metadata": {
    "collapsed": false,
    "pycharm": {
     "name": "#%%\n"
    }
   }
  },
  {
   "cell_type": "code",
   "execution_count": 19,
   "outputs": [
    {
     "name": "stdout",
     "output_type": "stream",
     "text": [
      "6.54 ms ± 741 µs per loop (mean ± std. dev. of 5 runs, 200 loops each)\n"
     ]
    }
   ],
   "source": [
    "%timeit -r 5 -n 200 eval_cuda()\n",
    "\n"
   ],
   "metadata": {
    "collapsed": false,
    "pycharm": {
     "name": "#%%\n"
    }
   }
  },
  {
   "cell_type": "markdown",
   "source": [
    "### 5) 64 instances, 100 points, 2 dimensions, 8 inits, K=8"
   ],
   "metadata": {
    "collapsed": false
   }
  },
  {
   "cell_type": "code",
   "execution_count": 20,
   "outputs": [],
   "source": [
    "N_INIT = 8\n",
    "N_ITERS = 200\n",
    "TOL = 1e-4\n",
    "SEED = 123\n",
    "BS, N, D = (64, 100, 2)\n",
    "K = 8\n",
    "assert torch.cuda.is_available()\n",
    "device = torch.device(\"cuda\")\n",
    "\n",
    "x_pt, _, _ = get_data(bs=BS, n=N, d=D, k=K)\n",
    "x_cuda = x_pt.clone().to(device=device)\n",
    "x_np = x_pt.clone().numpy()\n",
    "\n",
    "m_pt = TorchKMeans(\n",
    "    max_iter=N_ITERS,\n",
    "    n_clusters=K,\n",
    "    init_method='rnd',\n",
    "    num_init=N_INIT,\n",
    "    tol=TOL,\n",
    "    seed=SEED,\n",
    "    verbose=False,\n",
    ")\n",
    "\n",
    "m_skl = SKLearnKMeans(\n",
    "        max_iter=N_ITERS,\n",
    "        n_clusters=K,\n",
    "        init='random',\n",
    "        n_init=N_INIT,\n",
    "        tol=TOL,\n",
    "        verbose=False,\n",
    "        random_state=SEED,\n",
    "    )\n",
    "\n",
    "\n",
    "def eval_pt():\n",
    "    eval_torch_km(m_pt, x_pt)\n",
    "\n",
    "\n",
    "def eval_cuda():\n",
    "    eval_torch_km(m_pt, x_cuda)\n",
    "\n",
    "\n",
    "def eval_skl():\n",
    "    eval_sklearn_km(m_skl, x_np)\n"
   ],
   "metadata": {
    "collapsed": false,
    "pycharm": {
     "name": "#%%\n"
    }
   }
  },
  {
   "cell_type": "code",
   "execution_count": 21,
   "outputs": [
    {
     "name": "stdout",
     "output_type": "stream",
     "text": [
      "599 ms ± 11.1 ms per loop (mean ± std. dev. of 5 runs, 200 loops each)\n"
     ]
    }
   ],
   "source": [
    "%timeit -r 5 -n 200 eval_skl()"
   ],
   "metadata": {
    "collapsed": false,
    "pycharm": {
     "name": "#%%\n"
    }
   }
  },
  {
   "cell_type": "code",
   "execution_count": 22,
   "outputs": [
    {
     "name": "stdout",
     "output_type": "stream",
     "text": [
      "701 ms ± 11.2 ms per loop (mean ± std. dev. of 5 runs, 200 loops each)\n"
     ]
    }
   ],
   "source": [
    "%timeit -r 5 -n 200 eval_pt()"
   ],
   "metadata": {
    "collapsed": false,
    "pycharm": {
     "name": "#%%\n"
    }
   }
  },
  {
   "cell_type": "code",
   "execution_count": 23,
   "outputs": [
    {
     "name": "stdout",
     "output_type": "stream",
     "text": [
      "9.72 ms ± 389 µs per loop (mean ± std. dev. of 5 runs, 200 loops each)\n"
     ]
    }
   ],
   "source": [
    "%timeit -r 5 -n 200 eval_cuda()"
   ],
   "metadata": {
    "collapsed": false,
    "pycharm": {
     "name": "#%%\n"
    }
   }
  },
  {
   "cell_type": "code",
   "execution_count": null,
   "outputs": [],
   "source": [],
   "metadata": {
    "collapsed": false,
    "pycharm": {
     "name": "#%%\n"
    }
   }
  },
  {
   "cell_type": "markdown",
   "source": [
    "### 6) 1 instances, 100 points, 20 dimensions, 8 inits, K=8"
   ],
   "metadata": {
    "collapsed": false
   }
  },
  {
   "cell_type": "code",
   "execution_count": 24,
   "outputs": [],
   "source": [
    "N_INIT = 8\n",
    "N_ITERS = 200\n",
    "TOL = 1e-4\n",
    "SEED = 123\n",
    "BS, N, D = (1, 100, 20)\n",
    "K = 8\n",
    "assert torch.cuda.is_available()\n",
    "device = torch.device(\"cuda\")\n",
    "\n",
    "x_pt, _, _ = get_data(bs=BS, n=N, d=D, k=K)\n",
    "x_cuda = x_pt.clone().to(device=device)\n",
    "x_np = x_pt.clone().numpy()\n",
    "\n",
    "m_pt = TorchKMeans(\n",
    "    max_iter=N_ITERS,\n",
    "    n_clusters=K,\n",
    "    init_method='rnd',\n",
    "    num_init=N_INIT,\n",
    "    tol=TOL,\n",
    "    seed=SEED,\n",
    "    verbose=False,\n",
    ")\n",
    "\n",
    "m_skl = SKLearnKMeans(\n",
    "        max_iter=N_ITERS,\n",
    "        n_clusters=K,\n",
    "        init='random',\n",
    "        n_init=N_INIT,\n",
    "        tol=TOL,\n",
    "        verbose=False,\n",
    "        random_state=SEED,\n",
    "    )\n",
    "\n",
    "\n",
    "def eval_pt():\n",
    "    eval_torch_km(m_pt, x_pt)\n",
    "\n",
    "\n",
    "def eval_cuda():\n",
    "    eval_torch_km(m_pt, x_cuda)\n",
    "\n",
    "\n",
    "def eval_skl():\n",
    "    eval_sklearn_km(m_skl, x_np)\n"
   ],
   "metadata": {
    "collapsed": false,
    "pycharm": {
     "name": "#%%\n"
    }
   }
  },
  {
   "cell_type": "code",
   "execution_count": 25,
   "outputs": [
    {
     "name": "stdout",
     "output_type": "stream",
     "text": [
      "5.29 ms ± 307 µs per loop (mean ± std. dev. of 5 runs, 200 loops each)\n"
     ]
    }
   ],
   "source": [
    "%timeit -r 5 -n 200 eval_skl()"
   ],
   "metadata": {
    "collapsed": false,
    "pycharm": {
     "name": "#%%\n"
    }
   }
  },
  {
   "cell_type": "code",
   "execution_count": 26,
   "outputs": [
    {
     "name": "stdout",
     "output_type": "stream",
     "text": [
      "4.28 ms ± 408 µs per loop (mean ± std. dev. of 5 runs, 200 loops each)\n"
     ]
    }
   ],
   "source": [
    "%timeit -r 5 -n 200 eval_pt()"
   ],
   "metadata": {
    "collapsed": false,
    "pycharm": {
     "name": "#%%\n"
    }
   }
  },
  {
   "cell_type": "code",
   "execution_count": 27,
   "outputs": [
    {
     "name": "stdout",
     "output_type": "stream",
     "text": [
      "2.35 ms ± 275 µs per loop (mean ± std. dev. of 5 runs, 200 loops each)\n"
     ]
    }
   ],
   "source": [
    "%timeit -r 5 -n 200 eval_cuda()"
   ],
   "metadata": {
    "collapsed": false,
    "pycharm": {
     "name": "#%%\n"
    }
   }
  },
  {
   "cell_type": "code",
   "execution_count": null,
   "outputs": [],
   "source": [],
   "metadata": {
    "collapsed": false,
    "pycharm": {
     "name": "#%%\n"
    }
   }
  },
  {
   "cell_type": "markdown",
   "source": [
    "### 7) 1 instances, 100 points, 200 dimensions, 8 inits, K=8"
   ],
   "metadata": {
    "collapsed": false
   }
  },
  {
   "cell_type": "code",
   "execution_count": 28,
   "outputs": [],
   "source": [
    "N_INIT = 8\n",
    "N_ITERS = 200\n",
    "TOL = 1e-4\n",
    "SEED = 123\n",
    "BS, N, D = (10, 100, 2)\n",
    "K = 8\n",
    "assert torch.cuda.is_available()\n",
    "device = torch.device(\"cuda\")\n",
    "\n",
    "x_pt, _, _ = get_data(bs=BS, n=N, d=D, k=K)\n",
    "x_cuda = x_pt.clone().to(device=device)\n",
    "x_np = x_pt.clone().numpy()\n",
    "\n",
    "m_pt = TorchKMeans(\n",
    "    max_iter=N_ITERS,\n",
    "    n_clusters=K,\n",
    "    init_method='rnd',\n",
    "    num_init=N_INIT,\n",
    "    tol=TOL,\n",
    "    seed=SEED,\n",
    "    verbose=False,\n",
    ")\n",
    "\n",
    "m_skl = SKLearnKMeans(\n",
    "        max_iter=N_ITERS,\n",
    "        n_clusters=K,\n",
    "        init='random',\n",
    "        n_init=N_INIT,\n",
    "        tol=TOL,\n",
    "        verbose=False,\n",
    "        random_state=SEED,\n",
    "    )\n",
    "\n",
    "\n",
    "def eval_pt():\n",
    "    eval_torch_km(m_pt, x_pt)\n",
    "\n",
    "\n",
    "def eval_cuda():\n",
    "    eval_torch_km(m_pt, x_cuda)\n",
    "\n",
    "\n",
    "def eval_skl():\n",
    "    eval_sklearn_km(m_skl, x_np)\n"
   ],
   "metadata": {
    "collapsed": false,
    "pycharm": {
     "name": "#%%\n"
    }
   }
  },
  {
   "cell_type": "code",
   "execution_count": 29,
   "outputs": [
    {
     "name": "stdout",
     "output_type": "stream",
     "text": [
      "89.9 ms ± 526 µs per loop (mean ± std. dev. of 5 runs, 200 loops each)\n"
     ]
    }
   ],
   "source": [
    "%timeit -r 5 -n 200 eval_skl()"
   ],
   "metadata": {
    "collapsed": false,
    "pycharm": {
     "name": "#%%\n"
    }
   }
  },
  {
   "cell_type": "code",
   "execution_count": 30,
   "outputs": [
    {
     "name": "stdout",
     "output_type": "stream",
     "text": [
      "115 ms ± 1.55 ms per loop (mean ± std. dev. of 5 runs, 200 loops each)\n"
     ]
    }
   ],
   "source": [
    "%timeit -r 5 -n 200 eval_pt()"
   ],
   "metadata": {
    "collapsed": false,
    "pycharm": {
     "name": "#%%\n"
    }
   }
  },
  {
   "cell_type": "code",
   "execution_count": 31,
   "outputs": [
    {
     "name": "stdout",
     "output_type": "stream",
     "text": [
      "6.34 ms ± 427 µs per loop (mean ± std. dev. of 5 runs, 200 loops each)\n"
     ]
    }
   ],
   "source": [
    "%timeit -r 5 -n 200 eval_cuda()"
   ],
   "metadata": {
    "collapsed": false,
    "pycharm": {
     "name": "#%%\n"
    }
   }
  },
  {
   "cell_type": "code",
   "execution_count": null,
   "outputs": [],
   "source": [],
   "metadata": {
    "collapsed": false,
    "pycharm": {
     "name": "#%%\n"
    }
   }
  }
 ],
 "metadata": {
  "kernelspec": {
   "display_name": "Python 3",
   "language": "python",
   "name": "python3"
  },
  "language_info": {
   "codemirror_mode": {
    "name": "ipython",
    "version": 2
   },
   "file_extension": ".py",
   "mimetype": "text/x-python",
   "name": "python",
   "nbconvert_exporter": "python",
   "pygments_lexer": "ipython2",
   "version": "2.7.6"
  }
 },
 "nbformat": 4,
 "nbformat_minor": 0
}
