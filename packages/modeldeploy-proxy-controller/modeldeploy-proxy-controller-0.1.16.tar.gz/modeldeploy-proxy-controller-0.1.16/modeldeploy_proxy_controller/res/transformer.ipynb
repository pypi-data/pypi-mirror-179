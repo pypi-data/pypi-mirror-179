{
 "cells": [
  {
   "cell_type": "code",
   "execution_count": null,
   "id": "f5066c69-d3c6-49ea-a87b-4da847b5b01e",
   "metadata": {
    "tags": [],
    "transformer": "requirements"
   },
   "outputs": [],
   "source": []
  },
  {
   "cell_type": "code",
   "execution_count": null,
   "id": "7e091d9f-d18a-496e-8205-8298049e783d",
   "metadata": {
    "tags": [],
    "transformer": "preprocessor"
   },
   "outputs": [],
   "source": [
    "from typing import Dict\n",
    "def preprocess(input: Dict) -> Dict:\n",
    "    return input"
   ]
  },
  {
   "cell_type": "code",
   "execution_count": null,
   "id": "81e7c63d-d64b-48cd-b283-05f8b764ab22",
   "metadata": {
    "tags": [],
    "transformer": "postprocessor"
   },
   "outputs": [],
   "source": [
    "from typing import Dict\n",
    "def postprocess(input: Dict) -> Dict:\n",
    "    return input"
   ]
  }
 ],
 "metadata": {
 },
 "nbformat": 4,
 "nbformat_minor": 5
}
