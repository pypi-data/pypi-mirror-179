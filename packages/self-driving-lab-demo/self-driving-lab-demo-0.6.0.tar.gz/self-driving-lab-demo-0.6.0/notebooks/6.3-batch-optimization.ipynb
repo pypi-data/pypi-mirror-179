{
 "cells": [
  {
   "cell_type": "markdown",
   "metadata": {},
   "source": [
    "# Batch Optimization\n",
    "\n",
    "Previously, we looked at multi-fidelity optimization. In this notebook, we will look at\n",
    "batch optimization in the context of networking a set of cloud-based experiments\n",
    "together. Batch optimization is a technique that allows us to evaluate\n",
    "multiple points at once. This can be useful when we have a computationally expensive\n",
    "objective function, and we want to evaluate multiple points at once to reduce the\n",
    "overall time it takes to find the optimal point.\n",
    "\n",
    "With batch optimization, suggested points should not be decided on independently from\n",
    "one another. This can lead to highly inefficient searches. For example, what if you end\n",
    "up suggesting practically the same point over and over again? Instead, we should try to choose points that are likely to be good\n",
    "together. This is a technique called \"batch conditioning\". A naive approach to batch\n",
    "conditioning that's easy to understand is via what's called \"fantasy models\". While Ax\n",
    "uses a more sophisticated Monte Carlo approach, this gets the point across.\n",
    "\n",
    "![](./sequential-vs-fantasy-batch-conditioning.png?a)\n",
    "\n",
    "See the following resources for additional context:\n",
    "- [Batching (BoTorch\n",
    "docs)](https://botorch.org/docs/batching#batch-acquisition-functions)\n",
    "- [Discussion about batch conditioning methods (GitHub issue)](https://github.com/facebook/Ax/issues/778#issuecomment-1013762749)\n",
    "- [Why do I need to condition batches during Bayesian optimization? (YouTube)](https://www.youtube.com/watch?v=JzgkSR6FFyM&t=2s)\n",
    "\n",
    "In this notebook, we'll compare the tradeoff between clock runtime and number of\n",
    "experimental evaluations as a function of batch size. We'll compare batch sizes of 1, 2,\n",
    "and 3. This notebook assumes access to multiple physical SDL-Demo's. While the\n",
    "experiments can be in the same location, they could also be set up in multiple\n",
    "locations: for example, one in Utah, one in Ohio, and one in Singapore. This notebook\n",
    "performs the \"central brain\" functions of requesting experiments from each of the\n",
    "individual experiments and making decisions based on the collective data.\n",
    "\n",
    "For now, we'll\n",
    "perform the decision making in sequential batches; however, later on we will take a look at\n",
    "asynchronous optimization, where decisions for next experiments are made on-the-fly as\n",
    "soon as experimental resources are made available."
   ]
  },
  {
   "cell_type": "code",
   "execution_count": 1,
   "metadata": {},
   "outputs": [],
   "source": [
    "try:\n",
    "    import google.colab\n",
    "    %pip install self-driving-lab-demo\n",
    "except:\n",
    "    pass"
   ]
  },
  {
   "cell_type": "markdown",
   "metadata": {},
   "source": [
    "Instead of instantiating one class per campaign, we'll instantiate multiple per\n",
    "campaign. Each will have the same `target_seed`, meaning the RGB color that each\n",
    "experiment is trying to match (within a given campaign) will effectively be the same. If you don't have access to multiple demos, you can toggle the\n",
    "`only_one_available` flag to `True` which treats the public demo as if it were three\n",
    "separate devices. However, this should not be used to compare performance across batch\n",
    "sizes, since there's only one physical experimental device.\n",
    "\n",
    "This also assumes that you have a file named `secrets.json` in the same directory as this notebook that looks\n",
    "like the following:\n",
    "```json\n",
    "{\n",
    "    \"PICO_ID_0\": \"test\",\n",
    "    \"PICO_ID_1\": \"e66141abc123def456\",\n",
    "    \"PICO_ID_2\": \"e66141ghi789jkl012\"\n",
    "}\n",
    "\n",
    "```\n",
    "Note that `\"e66141abc123def456\"` and `\"e66141ghi789jkl012\"` are fake IDs, so you'll need\n",
    "to replace these with ones that correspond to real devices. You can leave `\"test\"`\n",
    "as-is, since this corresponds to the public SDL-Demo, or you can replace this with your own."
   ]
  },
  {
   "cell_type": "code",
   "execution_count": 2,
   "metadata": {},
   "outputs": [
    {
     "name": "stdout",
     "output_type": "stream",
     "text": [
      "session IDs: ['d950fcca-a35a-4240-b57e-145925a6491f', 'debeb21e-291b-4499-a16b-d2034e020901', '4c218b0a-b10f-4caa-89b1-f95fe49cc439']\n"
     ]
    }
   ],
   "source": [
    "from uuid import uuid4  # universally unique identifier\n",
    "from self_driving_lab_demo import SelfDrivingLabDemo, mqtt_observe_sensor_data\n",
    "import json\n",
    "\n",
    "only_one_available = False  # @param {type:\"boolean\"}\n",
    "\n",
    "if only_one_available:\n",
    "    # pretend like the public demo is three different devices\n",
    "    pico_ids = [\"test\", \"test\", \"test\"]\n",
    "else:\n",
    "    # # use two additional devices\n",
    "    with open(\"secrets.json\") as f:\n",
    "        secrets = json.load(f)\n",
    "        PICO_ID_0 = secrets[\"PICO_ID_0\"] # public test demo\n",
    "        PICO_ID_1 = secrets[\"PICO_ID_1\"]\n",
    "        PICO_ID_2 = secrets[\"PICO_ID_2\"]\n",
    "    pico_ids = [PICO_ID_0, PICO_ID_1, PICO_ID_2]\n",
    "\n",
    "dummy = True # @param {type:\"boolean\"}\n",
    "\n",
    "if dummy:\n",
    "    num_repeats  = 2\n",
    "    num_iter = 9\n",
    "else:\n",
    "    num_repeats = 5  # @param {type:\"integer\"}\n",
    "    num_iter = 20  # @param {type:\"integer\"}\n",
    "    \n",
    "    \n",
    "simulation = False  # @param {type:\"boolean\"}\n",
    "SESSION_IDS = [str(uuid4()) for _ in range(3)]  # random session IDs\n",
    "seeds = range(10, 10 + num_repeats)\n",
    "print(f\"session IDs: {SESSION_IDS}\")\n",
    "\n",
    "sdl_batches = [\n",
    "    [\n",
    "        SelfDrivingLabDemo(\n",
    "            autoload=True,  # perform target data experiment automatically\n",
    "            simulation=simulation,\n",
    "            observe_sensor_data_fn=mqtt_observe_sensor_data,  # (default)\n",
    "            observe_sensor_data_kwargs=dict(pico_id=pico_id, session_id=session_id),\n",
    "            target_seed=seed,\n",
    "        )\n",
    "        for pico_id, session_id in zip(pico_ids, SESSION_IDS)\n",
    "    ]\n",
    "    for seed in seeds\n",
    "]\n"
   ]
  },
  {
   "cell_type": "code",
   "execution_count": 3,
   "metadata": {},
   "outputs": [
    {
     "data": {
      "text/plain": [
       "[{'name': 'R', 'type': 'range', 'bounds': [0, 89]},\n",
       " {'name': 'G', 'type': 'range', 'bounds': [0, 89]},\n",
       " {'name': 'B', 'type': 'range', 'bounds': [0, 89]}]"
      ]
     },
     "execution_count": 3,
     "metadata": {},
     "output_type": "execute_result"
    }
   ],
   "source": [
    "sdl = sdl_batches[0][0]\n",
    "bounds = dict(R=sdl.bounds[\"R\"], G=sdl.bounds[\"G\"], B=sdl.bounds[\"B\"])\n",
    "params = [dict(name=nm, type=\"range\", bounds=bnd) for nm, bnd in bounds.items()]\n",
    "params"
   ]
  },
  {
   "cell_type": "markdown",
   "metadata": {},
   "source": [
    "In order to actually run the experiments in parallel, we'll need to use separate CPU threads\n",
    "(i.e. run each experiment on a different process). For this, we'll use [Ray](https://docs.ray.io/en/latest/index.html), though\n",
    "you could also use `multiprocessing` or some other library. The implementation is based\n",
    "on [this stack exchange post](https://stackoverflow.com/a/54564836/13697228)."
   ]
  },
  {
   "cell_type": "code",
   "execution_count": 12,
   "metadata": {},
   "outputs": [
    {
     "name": "stderr",
     "output_type": "stream",
     "text": [
      "2022-10-22 16:57:36,318\tINFO worker.py:1518 -- Started a local Ray instance.\n",
      "[INFO 10-22 16:57:37] ax.service.ax_client: Starting optimization with verbose logging. To disable logging, set the `verbose_logging` argument to `False`. Note that float values in the logs are rounded to 6 decimal points.\n",
      "[INFO 10-22 16:57:37] ax.service.utils.instantiation: Inferred value type of ParameterType.INT for parameter R. If that is not the expected value type, you can explicity specify 'value_type' ('int', 'float', 'bool' or 'str') in parameter dict.\n",
      "[INFO 10-22 16:57:37] ax.service.utils.instantiation: Inferred value type of ParameterType.INT for parameter G. If that is not the expected value type, you can explicity specify 'value_type' ('int', 'float', 'bool' or 'str') in parameter dict.\n",
      "[INFO 10-22 16:57:37] ax.service.utils.instantiation: Inferred value type of ParameterType.INT for parameter B. If that is not the expected value type, you can explicity specify 'value_type' ('int', 'float', 'bool' or 'str') in parameter dict.\n",
      "[INFO 10-22 16:57:37] ax.service.utils.instantiation: Created search space: SearchSpace(parameters=[RangeParameter(name='R', parameter_type=INT, range=[0, 89]), RangeParameter(name='G', parameter_type=INT, range=[0, 89]), RangeParameter(name='B', parameter_type=INT, range=[0, 89])], parameter_constraints=[]).\n",
      "[INFO 10-22 16:57:37] ax.service.ax_client: Generated new trial 0 with parameters {'R': 64, 'G': 5, 'B': 42}.\n",
      "[INFO 10-22 16:57:37] ax.service.ax_client: Generated new trial 1 with parameters {'R': 19, 'G': 35, 'B': 65}.\n",
      "[INFO 10-22 16:57:37] ax.service.ax_client: Generated new trial 2 with parameters {'R': 79, 'G': 29, 'B': 15}.\n",
      "[INFO 10-22 16:57:44] ax.service.ax_client: Completed trial 0 with data: {'frechet': (5515.0, None)}.\n",
      "[INFO 10-22 16:57:44] ax.service.ax_client: Completed trial 1 with data: {'frechet': (8574.373213, None)}.\n",
      "[INFO 10-22 16:57:44] ax.service.ax_client: Completed trial 2 with data: {'frechet': (5652.809036, None)}.\n",
      "[INFO 10-22 16:57:44] ax.service.ax_client: Generated new trial 3 with parameters {'R': 77, 'G': 1, 'B': 54}.\n",
      "[INFO 10-22 16:57:44] ax.service.ax_client: Generated new trial 4 with parameters {'R': 75, 'G': 10, 'B': 8}.\n",
      "[INFO 10-22 16:57:44] ax.service.ax_client: Generated new trial 5 with parameters {'R': 52, 'G': 64, 'B': 45}.\n",
      "[INFO 10-22 16:57:47] ax.service.ax_client: Completed trial 3 with data: {'frechet': (3433.0, None)}.\n",
      "[INFO 10-22 16:57:47] ax.service.ax_client: Completed trial 4 with data: {'frechet': (7046.451164, None)}.\n",
      "[INFO 10-22 16:57:47] ax.service.ax_client: Completed trial 5 with data: {'frechet': (6118.0, None)}.\n",
      "[INFO 10-22 16:57:47] ax.service.ax_client: Generated new trial 6 with parameters {'R': 89, 'G': 8, 'B': 63}.\n",
      "[INFO 10-22 16:57:48] ax.service.ax_client: Generated new trial 7 with parameters {'R': 74, 'G': 0, 'B': 74}.\n",
      "[INFO 10-22 16:57:49] ax.service.ax_client: Generated new trial 8 with parameters {'R': 89, 'G': 0, 'B': 46}.\n",
      "[INFO 10-22 16:57:53] ax.service.ax_client: Completed trial 6 with data: {'frechet': (1894.0, None)}.\n",
      "[INFO 10-22 16:57:53] ax.service.ax_client: Completed trial 7 with data: {'frechet': (2184.0, None)}.\n",
      "[INFO 10-22 16:57:53] ax.service.ax_client: Completed trial 8 with data: {'frechet': (5350.0, None)}.\n",
      "[INFO 10-22 16:57:53] ax.service.ax_client: Starting optimization with verbose logging. To disable logging, set the `verbose_logging` argument to `False`. Note that float values in the logs are rounded to 6 decimal points.\n",
      "[INFO 10-22 16:57:53] ax.service.utils.instantiation: Inferred value type of ParameterType.INT for parameter R. If that is not the expected value type, you can explicity specify 'value_type' ('int', 'float', 'bool' or 'str') in parameter dict.\n",
      "[INFO 10-22 16:57:53] ax.service.utils.instantiation: Inferred value type of ParameterType.INT for parameter G. If that is not the expected value type, you can explicity specify 'value_type' ('int', 'float', 'bool' or 'str') in parameter dict.\n",
      "[INFO 10-22 16:57:53] ax.service.utils.instantiation: Inferred value type of ParameterType.INT for parameter B. If that is not the expected value type, you can explicity specify 'value_type' ('int', 'float', 'bool' or 'str') in parameter dict.\n",
      "[INFO 10-22 16:57:53] ax.service.utils.instantiation: Created search space: SearchSpace(parameters=[RangeParameter(name='R', parameter_type=INT, range=[0, 89]), RangeParameter(name='G', parameter_type=INT, range=[0, 89]), RangeParameter(name='B', parameter_type=INT, range=[0, 89])], parameter_constraints=[]).\n",
      "[INFO 10-22 16:57:53] ax.service.ax_client: Generated new trial 0 with parameters {'R': 49, 'G': 50, 'B': 39}.\n",
      "[INFO 10-22 16:57:53] ax.service.ax_client: Generated new trial 1 with parameters {'R': 16, 'G': 89, 'B': 51}.\n",
      "[INFO 10-22 16:57:53] ax.service.ax_client: Generated new trial 2 with parameters {'R': 12, 'G': 41, 'B': 52}.\n",
      "[INFO 10-22 16:57:56] ax.service.ax_client: Completed trial 0 with data: {'frechet': (3304.242122, None)}.\n",
      "[INFO 10-22 16:57:56] ax.service.ax_client: Completed trial 1 with data: {'frechet': (3549.225408, None)}.\n",
      "[INFO 10-22 16:57:56] ax.service.ax_client: Completed trial 2 with data: {'frechet': (530.0, None)}.\n",
      "[INFO 10-22 16:57:56] ax.service.ax_client: Generated new trial 3 with parameters {'R': 66, 'G': 85, 'B': 53}.\n",
      "[INFO 10-22 16:57:56] ax.service.ax_client: Generated new trial 4 with parameters {'R': 45, 'G': 82, 'B': 45}.\n",
      "[INFO 10-22 16:57:56] ax.service.ax_client: Generated new trial 5 with parameters {'R': 7, 'G': 23, 'B': 82}.\n",
      "[INFO 10-22 16:58:03] ax.service.ax_client: Completed trial 3 with data: {'frechet': (4741.2762, None)}.\n",
      "[INFO 10-22 16:58:03] ax.service.ax_client: Completed trial 4 with data: {'frechet': (3611.221538, None)}.\n",
      "[INFO 10-22 16:58:03] ax.service.ax_client: Completed trial 5 with data: {'frechet': (5486.0, None)}.\n",
      "[INFO 10-22 16:58:04] ax.service.ax_client: Generated new trial 6 with parameters {'R': 1, 'G': 39, 'B': 44}.\n",
      "[INFO 10-22 16:58:05] ax.service.ax_client: Generated new trial 7 with parameters {'R': 19, 'G': 25, 'B': 49}.\n",
      "[INFO 10-22 16:58:06] ax.service.ax_client: Generated new trial 8 with parameters {'R': 1, 'G': 52, 'B': 54}.\n",
      "[INFO 10-22 16:58:10] ax.service.ax_client: Completed trial 6 with data: {'frechet': (1752.0, None)}.\n",
      "[INFO 10-22 16:58:10] ax.service.ax_client: Completed trial 7 with data: {'frechet': (1653.483898, None)}.\n",
      "[INFO 10-22 16:58:10] ax.service.ax_client: Completed trial 8 with data: {'frechet': (886.0, None)}.\n"
     ]
    }
   ],
   "source": [
    "from ax.service.ax_client import AxClient\n",
    "from ax.modelbridge.generation_strategy import GenerationStep, GenerationStrategy\n",
    "from ax.modelbridge.registry import Models\n",
    "from ax.service.utils.instantiation import ObjectiveProperties\n",
    "import ray\n",
    "\n",
    "ax_clients = []\n",
    "batch_size = 3\n",
    "num_sobol = 6\n",
    "objectives = {\"frechet\": ObjectiveProperties(minimize=True)}\n",
    "\n",
    "batch_results = []\n",
    "\n",
    "\n",
    "ray.shutdown()\n",
    "ray.init(num_cpus=batch_size)\n",
    "for sdl_batch in sdl_batches:\n",
    "    \n",
    "    # TODO: track the clock time it takes for each campaign to complete\n",
    "\n",
    "    @ray.remote\n",
    "    def evaluate(parameters, sdl_num):\n",
    "        R = parameters[\"R\"]\n",
    "        G = parameters[\"G\"]\n",
    "        B = parameters[\"B\"]\n",
    "        results = sdl_batch[sdl_num].evaluate(R=R, G=G, B=B)\n",
    "        # remove some entries to prevent extra tracking metrics warnings\n",
    "        [results.pop(ch) for ch in sdl.channel_names]\n",
    "        [results.pop(name) for name in [\"mae\", \"rmse\"]]\n",
    "        return results\n",
    "\n",
    "    gs = GenerationStrategy(\n",
    "        steps=[\n",
    "            GenerationStep(model=Models.SOBOL, num_trials=num_sobol),\n",
    "            GenerationStep(model=Models.GPEI, num_trials=num_iter - num_sobol),\n",
    "        ]\n",
    "    )\n",
    "\n",
    "    ax_client = AxClient(generation_strategy=gs)\n",
    "    ax_client.create_experiment(\n",
    "        name=\"sdl-demo-batch\",\n",
    "        parameters=params,\n",
    "        objectives=objectives,\n",
    "        overwrite_existing_experiment=True,\n",
    "    )\n",
    "\n",
    "    optimization_complete = False\n",
    "    while not optimization_complete:\n",
    "        trials_dict, optimization_complete = ax_client.get_next_trials(\n",
    "            max_trials=batch_size\n",
    "        )\n",
    "        # start running the batch of experiments in parallel\n",
    "        futures = [\n",
    "                evaluate.remote(parameters, sdl_num)\n",
    "                for sdl_num, parameters in enumerate(trials_dict.values())\n",
    "            ]\n",
    "        # block until the batch of experiments finishes running\n",
    "        results = ray.get(futures)\n",
    "\n",
    "        # add results to the optimizer\n",
    "        for trial_index, raw_data in zip(trials_dict.keys(), results):\n",
    "            ax_client.complete_trial(trial_index=trial_index, raw_data=raw_data)\n",
    "\n",
    "    ax_clients.append(ax_client)"
   ]
  },
  {
   "cell_type": "code",
   "execution_count": 5,
   "metadata": {},
   "outputs": [
    {
     "name": "stderr",
     "output_type": "stream",
     "text": [
      "[WARNING 10-22 16:37:49] ax.modelbridge.cross_validation: Metric frechet was unable to be reliably fit.\n",
      "[WARNING 10-22 16:37:49] ax.service.utils.best_point: Model fit is poor; falling back on raw data for best point.\n",
      "[WARNING 10-22 16:37:49] ax.service.utils.best_point: Model fit is poor and data on objective metric frechet is noisy; interpret best points results carefully.\n",
      "[WARNING 10-22 16:37:49] ax.modelbridge.cross_validation: Metric frechet was unable to be reliably fit.\n",
      "[WARNING 10-22 16:37:49] ax.service.utils.best_point: Model fit is poor; falling back on raw data for best point.\n",
      "[WARNING 10-22 16:37:49] ax.service.utils.best_point: Model fit is poor and data on objective metric frechet is noisy; interpret best points results carefully.\n"
     ]
    }
   ],
   "source": [
    "results = [ax_client.get_best_parameters() for ax_client in ax_clients]"
   ]
  },
  {
   "cell_type": "code",
   "execution_count": 9,
   "metadata": {},
   "outputs": [
    {
     "name": "stdout",
     "output_type": "stream",
     "text": [
      "[({'R': 89, 'G': 65, 'B': 77}, 1785.4481230212207), ({'R': 81, 'G': 24, 'B': 3}, 3748.416332266201)]\n"
     ]
    }
   ],
   "source": [
    "best_errors = [result[1][0][\"frechet\"] for result in results]\n",
    "best_parameters = [result[0] for result in results]\n",
    "print(list(zip(best_parameters, best_errors)))"
   ]
  },
  {
   "cell_type": "markdown",
   "metadata": {},
   "source": [
    "## Code Graveyard"
   ]
  },
  {
   "cell_type": "markdown",
   "metadata": {},
   "source": [
    "    # for trial_index, parameters in trials_dict.items():\n",
    "    #     ax_client.complete_trial(\n",
    "    #         trial_index=trial_index, raw_data=evaluate(parameters)\n",
    "    #     )"
   ]
  }
 ],
 "metadata": {
  "kernelspec": {
   "display_name": "Python 3.9.13 ('sdl-demo')",
   "language": "python",
   "name": "python3"
  },
  "language_info": {
   "codemirror_mode": {
    "name": "ipython",
    "version": 3
   },
   "file_extension": ".py",
   "mimetype": "text/x-python",
   "name": "python",
   "nbconvert_exporter": "python",
   "pygments_lexer": "ipython3",
   "version": "3.9.13"
  },
  "orig_nbformat": 4,
  "vscode": {
   "interpreter": {
    "hash": "70cb6d4911b67e25d1487ebd620c5d1370239efaaf47f3851af44f5c5a26f988"
   }
  }
 },
 "nbformat": 4,
 "nbformat_minor": 2
}
