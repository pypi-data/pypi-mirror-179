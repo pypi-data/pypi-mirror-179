{
 "cells": [
  {
   "cell_type": "markdown",
   "metadata": {},
   "source": [
    "# Bayesian Optimization\n",
    "\n",
    "We implement a Bayesian optimization for LED configurations that most closely match a target\n",
    "light spectrum. We will work with a helper class, `SelfDrivingLabDemo` for setting up the\n",
    "spectrophotometer sensor, measuring data from the sensor,\n",
    "generating random inputs, and measuring the objective function (i.e. mean absolute\n",
    "error). From there, we perform an experiment with 100 iterations, visualize the\n",
    "results, and compare against random search. See\n",
    "[2.0-random-search.ipynb](2.0-random-search.ipynb) for some links on troubleshooting\n",
    "installation setup and a linear version of running an optimization campaign without the\n",
    "`SelfDrivingLabDemo` class."
   ]
  },
  {
   "cell_type": "markdown",
   "metadata": {},
   "source": [
    "## Setup\n",
    "\n",
    "Package installation and imports\n",
    "\n",
    "### Package Installation"
   ]
  },
  {
   "cell_type": "markdown",
   "metadata": {},
   "source": [
    "Assuming you're running this notebook inside of the GitHub repository, do a local\n",
    "installation (`-e`) in the directory one level about this `notebooks` directory (`../.`)\n",
    "as follows.\n",
    "> Note: This only needs to be run once."
   ]
  },
  {
   "cell_type": "code",
   "execution_count": null,
   "metadata": {},
   "outputs": [],
   "source": [
    "%pip install -e ../."
   ]
  },
  {
   "cell_type": "markdown",
   "metadata": {},
   "source": [
    "### Imports"
   ]
  },
  {
   "cell_type": "code",
   "execution_count": 1,
   "metadata": {},
   "outputs": [],
   "source": [
    "%load_ext autoreload\n",
    "%autoreload 2 # just some IPython magic to recognize changes to installed packages\n",
    "import pandas as pd\n",
    "from self_driving_lab_demo.core import SelfDrivingLabDemo"
   ]
  },
  {
   "cell_type": "markdown",
   "metadata": {},
   "source": [
    "### SelfDrivingLabDemo\n",
    "\n",
    "We'll instantiate the class and verify some of the functionality described in the random\n",
    "search tutorial ([`2.0-random-search.ipynb`](2.0-random-search.ipynb)).\n",
    "\n",
    "#### Instantiation\n",
    "\n",
    "Now, we instantiate the `SelfDrivingLabDemo` class with `autoload=True` so that records\n",
    "a target to optimize against. This involves selecting a set of target measurements as the \"true\" input values (i.e. the input\n",
    "brightness and RGB values that define the target spectrum) based on a random seed,\n",
    "setting the LED to those values, and then recording the spectrum intensities.\n",
    "\n",
    "> Note: Instantiating with autoload=True will light the LED briefly."
   ]
  },
  {
   "cell_type": "code",
   "execution_count": 2,
   "metadata": {},
   "outputs": [],
   "source": [
    "sdl = SelfDrivingLabDemo(autoload=True)"
   ]
  },
  {
   "cell_type": "markdown",
   "metadata": {},
   "source": [
    "#### Functionality\n",
    "\n",
    "We can do similar things to what was done in `2.0-random-search.ipynb`. For example, getting\n",
    "random inputs, observing the sensor data, and evaluating the objective function."
   ]
  },
  {
   "cell_type": "code",
   "execution_count": 3,
   "metadata": {},
   "outputs": [
    {
     "data": {
      "text/plain": [
       "[(0.38697802427798167, 111, 218, 177), (0.047088673943824766, 248, 194, 200)]"
      ]
     },
     "execution_count": 3,
     "metadata": {},
     "output_type": "execute_result"
    }
   ],
   "source": [
    "[sdl.get_random_inputs(), sdl.get_random_inputs()]"
   ]
  },
  {
   "cell_type": "code",
   "execution_count": 4,
   "metadata": {},
   "outputs": [
    {
     "data": {
      "text/plain": [
       "(2675, 637, 670, 0, 941, 378, 670, 697, 607, 0)"
      ]
     },
     "execution_count": 4,
     "metadata": {},
     "output_type": "execute_result"
    }
   ],
   "source": [
    "sdl.observe_sensor_data(*sdl.get_random_inputs())"
   ]
  },
  {
   "cell_type": "code",
   "execution_count": 5,
   "metadata": {},
   "outputs": [
    {
     "data": {
      "text/plain": [
       "{'ch415_violet': 2581,\n",
       " 'ch445_indigo': 5205,\n",
       " 'ch480_blue': 6325,\n",
       " 'ch515_cyan': 56242,\n",
       " 'ch560_green': 2580,\n",
       " 'ch615_yellow': 4863,\n",
       " 'ch670_orange': 6323,\n",
       " 'ch720_red': 0,\n",
       " 'ch_clear': 0,\n",
       " 'ch_nir': 0,\n",
       " 'mae': 19639.4,\n",
       " 'rmse': 32372.39752937678}"
      ]
     },
     "execution_count": 5,
     "metadata": {},
     "output_type": "execute_result"
    }
   ],
   "source": [
    "sdl.evaluate(*sdl.get_random_inputs())"
   ]
  },
  {
   "cell_type": "markdown",
   "metadata": {},
   "source": [
    "## Optimization\n",
    "\n",
    "While there are great numerical tutorials comparing [grid search vs. random search vs.\n",
    "Bayesian optimization](https://towardsdatascience.com/grid-search-vs-random-search-vs-bayesian-optimization-2e68f57c3c46), here, we'll compare these three search methods in a way that perhaps you've never seen before,\n",
    "namely a self-driving laboratory demo!\n",
    "\n",
    "### Setup\n",
    "\n",
    "We define our optimization task parameters and take care of imports."
   ]
  },
  {
   "cell_type": "markdown",
   "metadata": {},
   "source": [
    "### Optimization Task Parameters\n",
    "\n",
    "We'll use 81 iterations repeated 10 times. The use of 81 iterations instead of something\n",
    "\"cleaner\" like 50 or 100 is due to constraints of doing uniform (full-factorial) grid\n",
    "search. $n^d$ number of points are required for uniform grid search, where $n$ and $d$\n",
    "represent number of points per dimension (`n_pts_per_dim`) and number of dimensions\n",
    "(`4`), respectively."
   ]
  },
  {
   "cell_type": "code",
   "execution_count": 6,
   "metadata": {},
   "outputs": [],
   "source": [
    "num_iter = 81\n",
    "num_repeats = 10\n",
    "SEEDS = range(10, 10 + num_repeats)"
   ]
  },
  {
   "cell_type": "markdown",
   "metadata": {},
   "source": [
    "We also instantiate multiple `SelfDrivingLabDemo` instances, each with their own\n",
    "unique target spectrum."
   ]
  },
  {
   "cell_type": "code",
   "execution_count": 7,
   "metadata": {},
   "outputs": [],
   "source": [
    "sdls = [SelfDrivingLabDemo(autoload=True, target_seed=seed) for seed in SEEDS]"
   ]
  },
  {
   "cell_type": "markdown",
   "metadata": {},
   "source": [
    "Notice that the target_data is different for each."
   ]
  },
  {
   "cell_type": "code",
   "execution_count": 8,
   "metadata": {},
   "outputs": [
    {
     "data": {
      "text/html": [
       "<div>\n",
       "<style scoped>\n",
       "    .dataframe tbody tr th:only-of-type {\n",
       "        vertical-align: middle;\n",
       "    }\n",
       "\n",
       "    .dataframe tbody tr th {\n",
       "        vertical-align: top;\n",
       "    }\n",
       "\n",
       "    .dataframe thead th {\n",
       "        text-align: right;\n",
       "    }\n",
       "</style>\n",
       "<table border=\"1\" class=\"dataframe\">\n",
       "  <thead>\n",
       "    <tr style=\"text-align: right;\">\n",
       "      <th></th>\n",
       "      <th>ch415_violet</th>\n",
       "      <th>ch445_indigo</th>\n",
       "      <th>ch480_blue</th>\n",
       "      <th>ch515_cyan</th>\n",
       "      <th>ch560_green</th>\n",
       "      <th>ch615_yellow</th>\n",
       "      <th>ch670_orange</th>\n",
       "      <th>ch720_red</th>\n",
       "      <th>ch_clear</th>\n",
       "      <th>ch_nir</th>\n",
       "    </tr>\n",
       "  </thead>\n",
       "  <tbody>\n",
       "    <tr>\n",
       "      <th>0</th>\n",
       "      <td>8779</td>\n",
       "      <td>4517</td>\n",
       "      <td>26550</td>\n",
       "      <td>59658</td>\n",
       "      <td>6955</td>\n",
       "      <td>4683</td>\n",
       "      <td>17180</td>\n",
       "      <td>0</td>\n",
       "      <td>0</td>\n",
       "      <td>0</td>\n",
       "    </tr>\n",
       "    <tr>\n",
       "      <th>1</th>\n",
       "      <td>1651</td>\n",
       "      <td>390</td>\n",
       "      <td>955</td>\n",
       "      <td>0</td>\n",
       "      <td>203</td>\n",
       "      <td>65535</td>\n",
       "      <td>955</td>\n",
       "      <td>69</td>\n",
       "      <td>0</td>\n",
       "      <td>0</td>\n",
       "    </tr>\n",
       "    <tr>\n",
       "      <th>2</th>\n",
       "      <td>4343</td>\n",
       "      <td>5167</td>\n",
       "      <td>19947</td>\n",
       "      <td>685</td>\n",
       "      <td>14112</td>\n",
       "      <td>4386</td>\n",
       "      <td>956</td>\n",
       "      <td>0</td>\n",
       "      <td>0</td>\n",
       "      <td>0</td>\n",
       "    </tr>\n",
       "    <tr>\n",
       "      <th>3</th>\n",
       "      <td>65535</td>\n",
       "      <td>26162</td>\n",
       "      <td>63043</td>\n",
       "      <td>0</td>\n",
       "      <td>65535</td>\n",
       "      <td>35498</td>\n",
       "      <td>14601</td>\n",
       "      <td>0</td>\n",
       "      <td>0</td>\n",
       "      <td>0</td>\n",
       "    </tr>\n",
       "    <tr>\n",
       "      <th>4</th>\n",
       "      <td>38556</td>\n",
       "      <td>3204</td>\n",
       "      <td>65535</td>\n",
       "      <td>0</td>\n",
       "      <td>36510</td>\n",
       "      <td>3194</td>\n",
       "      <td>16210</td>\n",
       "      <td>65535</td>\n",
       "      <td>0</td>\n",
       "      <td>0</td>\n",
       "    </tr>\n",
       "    <tr>\n",
       "      <th>5</th>\n",
       "      <td>10558</td>\n",
       "      <td>5222</td>\n",
       "      <td>4326</td>\n",
       "      <td>10602</td>\n",
       "      <td>1429</td>\n",
       "      <td>65535</td>\n",
       "      <td>4327</td>\n",
       "      <td>0</td>\n",
       "      <td>0</td>\n",
       "      <td>0</td>\n",
       "    </tr>\n",
       "    <tr>\n",
       "      <th>6</th>\n",
       "      <td>11141</td>\n",
       "      <td>65535</td>\n",
       "      <td>1153</td>\n",
       "      <td>51321</td>\n",
       "      <td>2133</td>\n",
       "      <td>5309</td>\n",
       "      <td>1155</td>\n",
       "      <td>9298</td>\n",
       "      <td>0</td>\n",
       "      <td>0</td>\n",
       "    </tr>\n",
       "    <tr>\n",
       "      <th>7</th>\n",
       "      <td>4872</td>\n",
       "      <td>1713</td>\n",
       "      <td>56165</td>\n",
       "      <td>17209</td>\n",
       "      <td>2474</td>\n",
       "      <td>4685</td>\n",
       "      <td>15326</td>\n",
       "      <td>17195</td>\n",
       "      <td>0</td>\n",
       "      <td>0</td>\n",
       "    </tr>\n",
       "    <tr>\n",
       "      <th>8</th>\n",
       "      <td>908</td>\n",
       "      <td>65535</td>\n",
       "      <td>65535</td>\n",
       "      <td>0</td>\n",
       "      <td>1505</td>\n",
       "      <td>8001</td>\n",
       "      <td>2350</td>\n",
       "      <td>0</td>\n",
       "      <td>0</td>\n",
       "      <td>0</td>\n",
       "    </tr>\n",
       "    <tr>\n",
       "      <th>9</th>\n",
       "      <td>1433</td>\n",
       "      <td>3500</td>\n",
       "      <td>65535</td>\n",
       "      <td>0</td>\n",
       "      <td>2718</td>\n",
       "      <td>4115</td>\n",
       "      <td>2305</td>\n",
       "      <td>0</td>\n",
       "      <td>0</td>\n",
       "      <td>0</td>\n",
       "    </tr>\n",
       "  </tbody>\n",
       "</table>\n",
       "</div>"
      ],
      "text/plain": [
       "   ch415_violet  ch445_indigo  ch480_blue  ch515_cyan  ch560_green  \\\n",
       "0          8779          4517       26550       59658         6955   \n",
       "1          1651           390         955           0          203   \n",
       "2          4343          5167       19947         685        14112   \n",
       "3         65535         26162       63043           0        65535   \n",
       "4         38556          3204       65535           0        36510   \n",
       "5         10558          5222        4326       10602         1429   \n",
       "6         11141         65535        1153       51321         2133   \n",
       "7          4872          1713       56165       17209         2474   \n",
       "8           908         65535       65535           0         1505   \n",
       "9          1433          3500       65535           0         2718   \n",
       "\n",
       "   ch615_yellow  ch670_orange  ch720_red  ch_clear  ch_nir  \n",
       "0          4683         17180          0         0       0  \n",
       "1         65535           955         69         0       0  \n",
       "2          4386           956          0         0       0  \n",
       "3         35498         14601          0         0       0  \n",
       "4          3194         16210      65535         0       0  \n",
       "5         65535          4327          0         0       0  \n",
       "6          5309          1155       9298         0       0  \n",
       "7          4685         15326      17195         0       0  \n",
       "8          8001          2350          0         0       0  \n",
       "9          4115          2305          0         0       0  "
      ]
     },
     "execution_count": 8,
     "metadata": {},
     "output_type": "execute_result"
    }
   ],
   "source": [
    "pd.DataFrame([sdl.target_data for sdl in sdls], columns=sdl.channel_names)"
   ]
  },
  {
   "cell_type": "markdown",
   "metadata": {},
   "source": [
    "\n",
    "\n",
    "### Imports\n",
    "\n",
    "We'll be using `scikit-learn`'s `ParameterGrid` for grid search, `self_driving_lab_demo`'s built-in\n",
    "`get_random_inputs` for random search, and `ax-platform`'s Gaussian Process Expected\n",
    "Improvement (GPEI) model for Bayesian\n",
    "optimization. To help with defining the grid search space, we will also use the\n",
    "`bounds` and `parameters` class property of `SelfDrivingLabDemo` for convenience."
   ]
  },
  {
   "cell_type": "code",
   "execution_count": 9,
   "metadata": {},
   "outputs": [],
   "source": [
    "import numpy as np\n",
    "from tqdm import trange, tqdm\n",
    "from sklearn.model_selection import ParameterGrid\n",
    "from ax import optimize"
   ]
  },
  {
   "cell_type": "code",
   "execution_count": 10,
   "metadata": {},
   "outputs": [
    {
     "data": {
      "text/plain": [
       "{'brightness': [0.0, 0.5], 'R': [0, 255], 'G': [0, 255], 'B': [0, 255]}"
      ]
     },
     "execution_count": 10,
     "metadata": {},
     "output_type": "execute_result"
    }
   ],
   "source": [
    "sdls[0].bounds"
   ]
  },
  {
   "cell_type": "code",
   "execution_count": 11,
   "metadata": {},
   "outputs": [
    {
     "data": {
      "text/plain": [
       "[{'name': 'brightness', 'type': 'range', 'bounds': [0.0, 0.5]},\n",
       " {'name': 'R', 'type': 'range', 'bounds': [0, 255]},\n",
       " {'name': 'G', 'type': 'range', 'bounds': [0, 255]},\n",
       " {'name': 'B', 'type': 'range', 'bounds': [0, 255]}]"
      ]
     },
     "execution_count": 11,
     "metadata": {},
     "output_type": "execute_result"
    }
   ],
   "source": [
    "sdls[0].parameters"
   ]
  },
  {
   "cell_type": "markdown",
   "metadata": {},
   "source": [
    "### Grid Search\n",
    "\n",
    "First, we need to define our parameter grid. We'll divide up the 4-dimensional parameter\n",
    "space as evenly as possible (see `num_pts_per_dim` below)."
   ]
  },
  {
   "cell_type": "code",
   "execution_count": 12,
   "metadata": {},
   "outputs": [
    {
     "name": "stdout",
     "output_type": "stream",
     "text": [
      "num_pts_per_dim: 3\n"
     ]
    }
   ],
   "source": [
    "param_grid = {}\n",
    "num_pts_per_dim = round(num_iter ** (1 / len(sdl.bounds)))\n",
    "for name, bnd in sdl.bounds.items():\n",
    "    param_grid[name] = np.linspace(bnd[0], bnd[1], num=num_pts_per_dim)\n",
    "    if isinstance(bnd[0], int):\n",
    "        param_grid[name] = np.round(param_grid[name]).astype(int)\n",
    "print(f\"num_pts_per_dim: {num_pts_per_dim}\")"
   ]
  },
  {
   "cell_type": "markdown",
   "metadata": {},
   "source": [
    "Notice that there are only 3 distinct values along each dimension."
   ]
  },
  {
   "cell_type": "code",
   "execution_count": 13,
   "metadata": {},
   "outputs": [
    {
     "data": {
      "text/plain": [
       "{'brightness': array([0.  , 0.25, 0.5 ]),\n",
       " 'R': array([  0, 128, 255]),\n",
       " 'G': array([  0, 128, 255]),\n",
       " 'B': array([  0, 128, 255])}"
      ]
     },
     "execution_count": 13,
     "metadata": {},
     "output_type": "execute_result"
    }
   ],
   "source": [
    "param_grid"
   ]
  },
  {
   "cell_type": "markdown",
   "metadata": {},
   "source": [
    "After assembling the full grid, notice that the total number of points is $3^4 = 81$."
   ]
  },
  {
   "cell_type": "code",
   "execution_count": 14,
   "metadata": {},
   "outputs": [
    {
     "name": "stdout",
     "output_type": "stream",
     "text": [
      "grid:\n",
      " [{'B': 0, 'G': 0, 'R': 0, 'brightness': 0.0}, {'B': 0, 'G': 0, 'R': 0, 'brightness': 0.25}, {'B': 0, 'G': 0, 'R': 0, 'brightness': 0.5}, {'B': 0, 'G': 0, 'R': 128, 'brightness': 0.0}] ... [{'B': 255, 'G': 255, 'R': 255, 'brightness': 0.5}]\n",
      "\n",
      "Number of grid points:  81\n"
     ]
    }
   ],
   "source": [
    "grid = list(ParameterGrid(param_grid))\n",
    "print(\"grid:\\n\", grid[0:4], \"...\", grid[-1:])\n",
    "print(\"\\nNumber of grid points: \", len(grid))"
   ]
  },
  {
   "cell_type": "markdown",
   "metadata": {},
   "source": [
    "Now, we can start the actual search. The grid search locations are fixed\n",
    "for each of the repeat optimization campaigns; however the observed sensor data will be\n",
    "stochastic and the target spectrum is different for each repeat run. An alternative approach to setting a\n",
    "fixed budget and varying the target solution would be to see how many iterations it takes to meet a criteria for the\n",
    "objective function similar to [this post](https://towardsdatascience.com/grid-search-vs-random-search-vs-bayesian-optimization-2e68f57c3c46); however, a fixed budget seems more characteristic of a real chemistry\n",
    "or materials optimization campaign due to limits on funding, time, and other resources:\n",
    "(i.e. we'll search until we find what we're looking for, until we run out of\n",
    "resources, or until we decide it's no longer worth the expense, whichever comes first)."
   ]
  },
  {
   "cell_type": "code",
   "execution_count": 15,
   "metadata": {},
   "outputs": [
    {
     "name": "stderr",
     "output_type": "stream",
     "text": [
      "100%|██████████| 10/10 [11:21<00:00, 68.11s/it]\n"
     ]
    }
   ],
   "source": [
    "grid_data = [\n",
    "    [\n",
    "        sdl.evaluate(pt[\"brightness\"], pt[\"R\"], pt[\"G\"], pt[\"B\"])\n",
    "        for pt in grid\n",
    "    ]\n",
    "    for sdl in tqdm(sdls)\n",
    "]"
   ]
  },
  {
   "cell_type": "markdown",
   "metadata": {},
   "source": [
    "### Random Search"
   ]
  },
  {
   "cell_type": "markdown",
   "metadata": {},
   "source": [
    "Now, let's perform random search as we did before in\n",
    "[`2.0-random-search.ipynb`](2.0-random-search.ipynb), storing the inputs and outputs as we go."
   ]
  },
  {
   "cell_type": "code",
   "execution_count": 82,
   "metadata": {},
   "outputs": [
    {
     "name": "stderr",
     "output_type": "stream",
     "text": [
      "100%|██████████| 10/10 [11:20<00:00, 68.06s/it]"
     ]
    },
    {
     "name": "stdout",
     "output_type": "stream",
     "text": [
      "CPU times: user 1min 20s, sys: 49.2 s, total: 2min 9s\n",
      "Wall time: 11min 20s\n"
     ]
    },
    {
     "name": "stderr",
     "output_type": "stream",
     "text": [
      "\n"
     ]
    }
   ],
   "source": [
    "%%time\n",
    "random_inputs = []\n",
    "random_data = []\n",
    "for _ in tqdm(range(num_repeats)):\n",
    "    ri = []\n",
    "    od = []\n",
    "    for i in range(num_iter):\n",
    "        ri.append(sdl.get_random_inputs())\n",
    "        od.append(sdl.evaluate(*ri[i]))\n",
    "    random_inputs.append(ri)\n",
    "    random_data.append(od)"
   ]
  },
  {
   "cell_type": "markdown",
   "metadata": {},
   "source": [
    "### Bayesian Optimization\n",
    "\n",
    "Ax may run out of memory for low-RAM RPi's such as RPi Zero 2. Even on RPi 4B/RPi\n",
    "400, it will be slow* for more than about 50 iterations due to the lack of MKL\n",
    "optimization (a feature of RPi compute hardware).\n",
    "\n",
    "\\*i.e. maybe slower than a demo/tutorial should be"
   ]
  },
  {
   "cell_type": "code",
   "execution_count": 21,
   "metadata": {},
   "outputs": [
    {
     "name": "stderr",
     "output_type": "stream",
     "text": [
      "[INFO 08-19 11:13:40] ax.service.utils.instantiation: Inferred value type of ParameterType.FLOAT for parameter brightness. If that is not the expected value type, you can explicity specify 'value_type' ('int', 'float', 'bool' or 'str') in parameter dict.\n",
      "[INFO 08-19 11:13:40] ax.service.utils.instantiation: Inferred value type of ParameterType.INT for parameter R. If that is not the expected value type, you can explicity specify 'value_type' ('int', 'float', 'bool' or 'str') in parameter dict.\n",
      "[INFO 08-19 11:13:40] ax.service.utils.instantiation: Inferred value type of ParameterType.INT for parameter G. If that is not the expected value type, you can explicity specify 'value_type' ('int', 'float', 'bool' or 'str') in parameter dict.\n",
      "[INFO 08-19 11:13:40] ax.service.utils.instantiation: Inferred value type of ParameterType.INT for parameter B. If that is not the expected value type, you can explicity specify 'value_type' ('int', 'float', 'bool' or 'str') in parameter dict.\n",
      "[INFO 08-19 11:13:40] ax.service.utils.instantiation: Created search space: SearchSpace(parameters=[RangeParameter(name='brightness', parameter_type=FLOAT, range=[0.0, 0.5]), RangeParameter(name='R', parameter_type=INT, range=[0, 255]), RangeParameter(name='G', parameter_type=INT, range=[0, 255]), RangeParameter(name='B', parameter_type=INT, range=[0, 255])], parameter_constraints=[]).\n",
      "[INFO 08-19 11:13:40] ax.modelbridge.dispatch_utils: Using Bayesian optimization since there are more ordered parameters than there are categories for the unordered categorical parameters.\n",
      "[INFO 08-19 11:13:40] ax.modelbridge.dispatch_utils: Using Bayesian Optimization generation strategy: GenerationStrategy(name='Sobol+GPEI', steps=[Sobol for 8 trials, GPEI for subsequent trials]). Iterations after 8 will take longer to generate due to  model-fitting.\n",
      "[INFO 08-19 11:13:40] ax.service.managed_loop: Started full optimization with 81 steps.\n",
      "[INFO 08-19 11:13:40] ax.service.managed_loop: Running optimization trial 1...\n",
      "[INFO 08-19 11:13:41] ax.service.managed_loop: Running optimization trial 2...\n",
      "[INFO 08-19 11:13:42] ax.service.managed_loop: Running optimization trial 3...\n",
      "[INFO 08-19 11:13:43] ax.service.managed_loop: Running optimization trial 4...\n",
      "[INFO 08-19 11:13:44] ax.service.managed_loop: Running optimization trial 5...\n",
      "[INFO 08-19 11:13:45] ax.service.managed_loop: Running optimization trial 6...\n",
      "[INFO 08-19 11:13:46] ax.service.managed_loop: Running optimization trial 7...\n",
      "[INFO 08-19 11:13:47] ax.service.managed_loop: Running optimization trial 8...\n",
      "[INFO 08-19 11:13:48] ax.service.managed_loop: Running optimization trial 9...\n",
      "/home/pi/mambaforge/envs/sdl-demo/lib/python3.9/site-packages/gpytorch/lazy/lazy_tensor.py:1811: UserWarning: torch.triangular_solve is deprecated in favor of torch.linalg.solve_triangularand will be removed in a future PyTorch release.\n",
      "torch.linalg.solve_triangular has its arguments reversed and does not return a copy of one of the inputs.\n",
      "X = torch.triangular_solve(B, A).solution\n",
      "should be replaced with\n",
      "X = torch.linalg.solve_triangular(A, B). (Triggered internally at  /root/pytorch/aten/src/ATen/native/BatchLinearAlgebra.cpp:2183.)\n",
      "  Linv = torch.triangular_solve(Eye, L, upper=False).solution\n",
      "[INFO 08-19 11:13:50] ax.service.managed_loop: Running optimization trial 10...\n",
      "[INFO 08-19 11:13:53] ax.service.managed_loop: Running optimization trial 11...\n",
      "[INFO 08-19 11:13:56] ax.service.managed_loop: Running optimization trial 12...\n",
      "[INFO 08-19 11:13:59] ax.service.managed_loop: Running optimization trial 13...\n",
      "[INFO 08-19 11:14:01] ax.service.managed_loop: Running optimization trial 14...\n",
      "[INFO 08-19 11:14:07] ax.service.managed_loop: Running optimization trial 15...\n",
      "[INFO 08-19 11:14:17] ax.service.managed_loop: Running optimization trial 16...\n",
      "[INFO 08-19 11:14:29] ax.service.managed_loop: Running optimization trial 17...\n",
      "[INFO 08-19 11:14:31] ax.service.managed_loop: Running optimization trial 18...\n",
      "[INFO 08-19 11:14:34] ax.service.managed_loop: Running optimization trial 19...\n",
      "[INFO 08-19 11:14:36] ax.service.managed_loop: Running optimization trial 20...\n",
      "[INFO 08-19 11:14:39] ax.service.managed_loop: Running optimization trial 21...\n",
      "[INFO 08-19 11:14:41] ax.service.managed_loop: Running optimization trial 22...\n",
      "[INFO 08-19 11:14:44] ax.service.managed_loop: Running optimization trial 23...\n",
      "[INFO 08-19 11:14:47] ax.service.managed_loop: Running optimization trial 24...\n",
      "[INFO 08-19 11:14:51] ax.service.managed_loop: Running optimization trial 25...\n",
      "[INFO 08-19 11:14:53] ax.service.managed_loop: Running optimization trial 26...\n",
      "[INFO 08-19 11:14:56] ax.service.managed_loop: Running optimization trial 27...\n",
      "[INFO 08-19 11:15:00] ax.service.managed_loop: Running optimization trial 28...\n",
      "[INFO 08-19 11:15:04] ax.service.managed_loop: Running optimization trial 29...\n",
      "[INFO 08-19 11:15:08] ax.service.managed_loop: Running optimization trial 30...\n",
      "[INFO 08-19 11:15:12] ax.service.managed_loop: Running optimization trial 31...\n",
      "[INFO 08-19 11:15:16] ax.service.managed_loop: Running optimization trial 32...\n",
      "[INFO 08-19 11:15:20] ax.service.managed_loop: Running optimization trial 33...\n",
      "[INFO 08-19 11:15:25] ax.service.managed_loop: Running optimization trial 34...\n",
      "[INFO 08-19 11:15:30] ax.service.managed_loop: Running optimization trial 35...\n",
      "[INFO 08-19 11:15:35] ax.service.managed_loop: Running optimization trial 36...\n",
      "[INFO 08-19 11:15:38] ax.service.managed_loop: Running optimization trial 37...\n",
      "[INFO 08-19 11:15:43] ax.service.managed_loop: Running optimization trial 38...\n",
      "[INFO 08-19 11:15:47] ax.service.managed_loop: Running optimization trial 39...\n",
      "[INFO 08-19 11:15:52] ax.service.managed_loop: Running optimization trial 40...\n",
      "[INFO 08-19 11:15:57] ax.service.managed_loop: Running optimization trial 41...\n",
      "[INFO 08-19 11:16:02] ax.service.managed_loop: Running optimization trial 42...\n",
      "[INFO 08-19 11:16:06] ax.service.managed_loop: Running optimization trial 43...\n",
      "[INFO 08-19 11:16:13] ax.service.managed_loop: Running optimization trial 44...\n",
      "[INFO 08-19 11:16:20] ax.service.managed_loop: Running optimization trial 45...\n",
      "[INFO 08-19 11:16:26] ax.service.managed_loop: Running optimization trial 46...\n",
      "[INFO 08-19 11:16:33] ax.service.managed_loop: Running optimization trial 47...\n",
      "[INFO 08-19 11:16:39] ax.service.managed_loop: Running optimization trial 48...\n",
      "[INFO 08-19 11:16:45] ax.service.managed_loop: Running optimization trial 49...\n",
      "[INFO 08-19 11:16:51] ax.service.managed_loop: Running optimization trial 50...\n",
      "[INFO 08-19 11:16:59] ax.service.managed_loop: Running optimization trial 51...\n",
      "[INFO 08-19 11:17:07] ax.service.managed_loop: Running optimization trial 52...\n",
      "[INFO 08-19 11:17:13] ax.service.managed_loop: Running optimization trial 53...\n",
      "[INFO 08-19 11:17:19] ax.service.managed_loop: Running optimization trial 54...\n",
      "[INFO 08-19 11:17:28] ax.service.managed_loop: Running optimization trial 55...\n",
      "[INFO 08-19 11:17:36] ax.service.managed_loop: Running optimization trial 56...\n",
      "[INFO 08-19 11:17:42] ax.service.managed_loop: Running optimization trial 57...\n",
      "[INFO 08-19 11:17:49] ax.service.managed_loop: Running optimization trial 58...\n",
      "[INFO 08-19 11:17:56] ax.service.managed_loop: Running optimization trial 59...\n",
      "[INFO 08-19 11:18:07] ax.service.managed_loop: Running optimization trial 60...\n",
      "[INFO 08-19 11:18:15] ax.service.managed_loop: Running optimization trial 61...\n",
      "[INFO 08-19 11:18:26] ax.service.managed_loop: Running optimization trial 62...\n",
      "[INFO 08-19 11:18:38] ax.service.managed_loop: Running optimization trial 63...\n",
      "[INFO 08-19 11:18:52] ax.service.managed_loop: Running optimization trial 64...\n",
      "[INFO 08-19 11:18:59] ax.service.managed_loop: Running optimization trial 65...\n",
      "[INFO 08-19 11:19:17] ax.service.managed_loop: Running optimization trial 66...\n",
      "[INFO 08-19 11:19:32] ax.service.managed_loop: Running optimization trial 67...\n",
      "[INFO 08-19 11:19:45] ax.service.managed_loop: Running optimization trial 68...\n",
      "[INFO 08-19 11:19:58] ax.service.managed_loop: Running optimization trial 69...\n",
      "[INFO 08-19 11:20:06] ax.service.managed_loop: Running optimization trial 70...\n",
      "[INFO 08-19 11:20:17] ax.service.managed_loop: Running optimization trial 71...\n",
      "[INFO 08-19 11:20:26] ax.service.managed_loop: Running optimization trial 72...\n",
      "[INFO 08-19 11:20:35] ax.service.managed_loop: Running optimization trial 73...\n",
      "[INFO 08-19 11:20:46] ax.service.managed_loop: Running optimization trial 74...\n",
      "[INFO 08-19 11:20:55] ax.service.managed_loop: Running optimization trial 75...\n",
      "[INFO 08-19 11:21:13] ax.service.managed_loop: Running optimization trial 76...\n",
      "[INFO 08-19 11:21:23] ax.service.managed_loop: Running optimization trial 77...\n",
      "[INFO 08-19 11:21:38] ax.service.managed_loop: Running optimization trial 78...\n",
      "[INFO 08-19 11:21:51] ax.service.managed_loop: Running optimization trial 79...\n",
      "[INFO 08-19 11:22:01] ax.service.managed_loop: Running optimization trial 80...\n",
      "[INFO 08-19 11:22:14] ax.service.managed_loop: Running optimization trial 81...\n",
      "[WARNING 08-19 11:22:36] ax.modelbridge.cross_validation: Metric objective was unable to be reliably fit.\n",
      "[WARNING 08-19 11:22:36] ax.service.utils.best_point: Model fit is poor; falling back on raw data for best point.\n",
      "[WARNING 08-19 11:22:36] ax.service.utils.best_point: Model fit is poor and data on objective metric objective is noisy; interpret best points results carefully.\n",
      "[INFO 08-19 11:22:36] ax.service.utils.instantiation: Inferred value type of ParameterType.FLOAT for parameter brightness. If that is not the expected value type, you can explicity specify 'value_type' ('int', 'float', 'bool' or 'str') in parameter dict.\n",
      "[INFO 08-19 11:22:36] ax.service.utils.instantiation: Inferred value type of ParameterType.INT for parameter R. If that is not the expected value type, you can explicity specify 'value_type' ('int', 'float', 'bool' or 'str') in parameter dict.\n",
      "[INFO 08-19 11:22:36] ax.service.utils.instantiation: Inferred value type of ParameterType.INT for parameter G. If that is not the expected value type, you can explicity specify 'value_type' ('int', 'float', 'bool' or 'str') in parameter dict.\n",
      "[INFO 08-19 11:22:36] ax.service.utils.instantiation: Inferred value type of ParameterType.INT for parameter B. If that is not the expected value type, you can explicity specify 'value_type' ('int', 'float', 'bool' or 'str') in parameter dict.\n",
      "[INFO 08-19 11:22:36] ax.service.utils.instantiation: Created search space: SearchSpace(parameters=[RangeParameter(name='brightness', parameter_type=FLOAT, range=[0.0, 0.5]), RangeParameter(name='R', parameter_type=INT, range=[0, 255]), RangeParameter(name='G', parameter_type=INT, range=[0, 255]), RangeParameter(name='B', parameter_type=INT, range=[0, 255])], parameter_constraints=[]).\n",
      "[INFO 08-19 11:22:36] ax.modelbridge.dispatch_utils: Using Bayesian optimization since there are more ordered parameters than there are categories for the unordered categorical parameters.\n",
      "[INFO 08-19 11:22:36] ax.modelbridge.dispatch_utils: Using Bayesian Optimization generation strategy: GenerationStrategy(name='Sobol+GPEI', steps=[Sobol for 8 trials, GPEI for subsequent trials]). Iterations after 8 will take longer to generate due to  model-fitting.\n",
      "[INFO 08-19 11:22:36] ax.service.managed_loop: Started full optimization with 81 steps.\n",
      "[INFO 08-19 11:22:36] ax.service.managed_loop: Running optimization trial 1...\n",
      "[INFO 08-19 11:22:37] ax.service.managed_loop: Running optimization trial 2...\n",
      "[INFO 08-19 11:22:38] ax.service.managed_loop: Running optimization trial 3...\n",
      "[INFO 08-19 11:22:39] ax.service.managed_loop: Running optimization trial 4...\n",
      "[INFO 08-19 11:22:40] ax.service.managed_loop: Running optimization trial 5...\n",
      "[INFO 08-19 11:22:41] ax.service.managed_loop: Running optimization trial 6...\n",
      "[INFO 08-19 11:22:42] ax.service.managed_loop: Running optimization trial 7...\n",
      "[INFO 08-19 11:22:43] ax.service.managed_loop: Running optimization trial 8...\n",
      "[INFO 08-19 11:22:44] ax.service.managed_loop: Running optimization trial 9...\n",
      "[INFO 08-19 11:22:49] ax.service.managed_loop: Running optimization trial 10...\n",
      "[INFO 08-19 11:22:55] ax.service.managed_loop: Running optimization trial 11...\n",
      "[INFO 08-19 11:23:03] ax.service.managed_loop: Running optimization trial 12...\n",
      "[INFO 08-19 11:23:08] ax.service.managed_loop: Running optimization trial 13...\n",
      "[INFO 08-19 11:23:12] ax.service.managed_loop: Running optimization trial 14...\n",
      "[INFO 08-19 11:23:18] ax.service.managed_loop: Running optimization trial 15...\n",
      "[INFO 08-19 11:23:24] ax.service.managed_loop: Running optimization trial 16...\n",
      "[INFO 08-19 11:23:29] ax.service.managed_loop: Running optimization trial 17...\n",
      "[INFO 08-19 11:23:41] ax.service.managed_loop: Running optimization trial 18...\n",
      "[INFO 08-19 11:23:50] ax.service.managed_loop: Running optimization trial 19...\n",
      "[INFO 08-19 11:23:55] ax.service.managed_loop: Running optimization trial 20...\n",
      "[INFO 08-19 11:24:02] ax.service.managed_loop: Running optimization trial 21...\n",
      "[INFO 08-19 11:24:11] ax.service.managed_loop: Running optimization trial 22...\n",
      "[INFO 08-19 11:24:17] ax.service.managed_loop: Running optimization trial 23...\n",
      "[INFO 08-19 11:24:28] ax.service.managed_loop: Running optimization trial 24...\n",
      "[INFO 08-19 11:24:32] ax.service.managed_loop: Running optimization trial 25...\n",
      "[INFO 08-19 11:24:37] ax.service.managed_loop: Running optimization trial 26...\n",
      "[INFO 08-19 11:24:42] ax.service.managed_loop: Running optimization trial 27...\n",
      "[INFO 08-19 11:24:56] ax.service.managed_loop: Running optimization trial 28...\n",
      "[INFO 08-19 11:25:03] ax.service.managed_loop: Running optimization trial 29...\n",
      "[INFO 08-19 11:25:09] ax.service.managed_loop: Running optimization trial 30...\n",
      "[INFO 08-19 11:25:17] ax.service.managed_loop: Running optimization trial 31...\n",
      "[INFO 08-19 11:25:29] ax.service.managed_loop: Running optimization trial 32...\n",
      "[INFO 08-19 11:25:36] ax.service.managed_loop: Running optimization trial 33...\n",
      "[INFO 08-19 11:25:48] ax.service.managed_loop: Running optimization trial 34...\n",
      "[INFO 08-19 11:25:57] ax.service.managed_loop: Running optimization trial 35...\n",
      "[INFO 08-19 11:26:02] ax.service.managed_loop: Running optimization trial 36...\n",
      "[INFO 08-19 11:26:09] ax.service.managed_loop: Running optimization trial 37...\n",
      "[INFO 08-19 11:26:17] ax.service.managed_loop: Running optimization trial 38...\n",
      "[INFO 08-19 11:26:22] ax.service.managed_loop: Running optimization trial 39...\n",
      "[INFO 08-19 11:26:37] ax.service.managed_loop: Running optimization trial 40...\n",
      "[INFO 08-19 11:26:49] ax.service.managed_loop: Running optimization trial 41...\n",
      "[INFO 08-19 11:26:56] ax.service.managed_loop: Running optimization trial 42...\n",
      "[INFO 08-19 11:27:04] ax.service.managed_loop: Running optimization trial 43...\n",
      "[INFO 08-19 11:27:21] ax.service.managed_loop: Running optimization trial 44...\n",
      "[INFO 08-19 11:27:44] ax.service.managed_loop: Running optimization trial 45...\n",
      "[INFO 08-19 11:27:58] ax.service.managed_loop: Running optimization trial 46...\n",
      "[INFO 08-19 11:28:06] ax.service.managed_loop: Running optimization trial 47...\n",
      "[INFO 08-19 11:28:26] ax.service.managed_loop: Running optimization trial 48...\n",
      "[INFO 08-19 11:28:43] ax.service.managed_loop: Running optimization trial 49...\n",
      "[INFO 08-19 11:28:59] ax.service.managed_loop: Running optimization trial 50...\n",
      "[INFO 08-19 11:29:13] ax.service.managed_loop: Running optimization trial 51...\n",
      "[INFO 08-19 11:29:26] ax.service.managed_loop: Running optimization trial 52...\n",
      "[INFO 08-19 11:29:43] ax.service.managed_loop: Running optimization trial 53...\n",
      "[INFO 08-19 11:29:54] ax.service.managed_loop: Running optimization trial 54...\n",
      "[INFO 08-19 11:30:10] ax.service.managed_loop: Running optimization trial 55...\n",
      "[INFO 08-19 11:30:38] ax.service.managed_loop: Running optimization trial 56...\n",
      "[INFO 08-19 11:31:02] ax.service.managed_loop: Running optimization trial 57...\n",
      "[INFO 08-19 11:31:21] ax.service.managed_loop: Running optimization trial 58...\n",
      "[INFO 08-19 11:31:34] ax.service.managed_loop: Running optimization trial 59...\n",
      "[INFO 08-19 11:31:46] ax.service.managed_loop: Running optimization trial 60...\n",
      "[INFO 08-19 11:32:00] ax.service.managed_loop: Running optimization trial 61...\n",
      "[INFO 08-19 11:32:12] ax.service.managed_loop: Running optimization trial 62...\n",
      "[INFO 08-19 11:32:22] ax.service.managed_loop: Running optimization trial 63...\n",
      "[INFO 08-19 11:32:38] ax.service.managed_loop: Running optimization trial 64...\n",
      "[INFO 08-19 11:33:10] ax.service.managed_loop: Running optimization trial 65...\n",
      "[INFO 08-19 11:33:21] ax.service.managed_loop: Running optimization trial 66...\n",
      "[INFO 08-19 11:33:34] ax.service.managed_loop: Running optimization trial 67...\n",
      "[INFO 08-19 11:33:48] ax.service.managed_loop: Running optimization trial 68...\n",
      "[INFO 08-19 11:34:09] ax.service.managed_loop: Running optimization trial 69...\n",
      "[INFO 08-19 11:34:22] ax.service.managed_loop: Running optimization trial 70...\n",
      "[INFO 08-19 11:34:53] ax.service.managed_loop: Running optimization trial 71...\n",
      "[INFO 08-19 11:35:07] ax.service.managed_loop: Running optimization trial 72...\n",
      "[INFO 08-19 11:35:34] ax.service.managed_loop: Running optimization trial 73...\n",
      "[INFO 08-19 11:35:59] ax.service.managed_loop: Running optimization trial 74...\n",
      "[INFO 08-19 11:36:24] ax.service.managed_loop: Running optimization trial 75...\n",
      "[INFO 08-19 11:36:38] ax.service.managed_loop: Running optimization trial 76...\n",
      "[INFO 08-19 11:37:07] ax.service.managed_loop: Running optimization trial 77...\n",
      "[INFO 08-19 11:37:44] ax.service.managed_loop: Running optimization trial 78...\n",
      "[INFO 08-19 11:38:57] ax.service.managed_loop: Running optimization trial 79...\n",
      "[INFO 08-19 11:40:07] ax.service.managed_loop: Running optimization trial 80...\n",
      "[INFO 08-19 11:40:44] ax.service.managed_loop: Running optimization trial 81...\n",
      "[INFO 08-19 11:41:31] ax.service.utils.instantiation: Inferred value type of ParameterType.FLOAT for parameter brightness. If that is not the expected value type, you can explicity specify 'value_type' ('int', 'float', 'bool' or 'str') in parameter dict.\n",
      "[INFO 08-19 11:41:31] ax.service.utils.instantiation: Inferred value type of ParameterType.INT for parameter R. If that is not the expected value type, you can explicity specify 'value_type' ('int', 'float', 'bool' or 'str') in parameter dict.\n",
      "[INFO 08-19 11:41:31] ax.service.utils.instantiation: Inferred value type of ParameterType.INT for parameter G. If that is not the expected value type, you can explicity specify 'value_type' ('int', 'float', 'bool' or 'str') in parameter dict.\n",
      "[INFO 08-19 11:41:31] ax.service.utils.instantiation: Inferred value type of ParameterType.INT for parameter B. If that is not the expected value type, you can explicity specify 'value_type' ('int', 'float', 'bool' or 'str') in parameter dict.\n",
      "[INFO 08-19 11:41:31] ax.service.utils.instantiation: Created search space: SearchSpace(parameters=[RangeParameter(name='brightness', parameter_type=FLOAT, range=[0.0, 0.5]), RangeParameter(name='R', parameter_type=INT, range=[0, 255]), RangeParameter(name='G', parameter_type=INT, range=[0, 255]), RangeParameter(name='B', parameter_type=INT, range=[0, 255])], parameter_constraints=[]).\n",
      "[INFO 08-19 11:41:31] ax.modelbridge.dispatch_utils: Using Bayesian optimization since there are more ordered parameters than there are categories for the unordered categorical parameters.\n",
      "[INFO 08-19 11:41:31] ax.modelbridge.dispatch_utils: Using Bayesian Optimization generation strategy: GenerationStrategy(name='Sobol+GPEI', steps=[Sobol for 8 trials, GPEI for subsequent trials]). Iterations after 8 will take longer to generate due to  model-fitting.\n",
      "[INFO 08-19 11:41:31] ax.service.managed_loop: Started full optimization with 81 steps.\n",
      "[INFO 08-19 11:41:31] ax.service.managed_loop: Running optimization trial 1...\n",
      "[INFO 08-19 11:41:32] ax.service.managed_loop: Running optimization trial 2...\n",
      "[INFO 08-19 11:41:33] ax.service.managed_loop: Running optimization trial 3...\n",
      "[INFO 08-19 11:41:34] ax.service.managed_loop: Running optimization trial 4...\n",
      "[INFO 08-19 11:41:35] ax.service.managed_loop: Running optimization trial 5...\n",
      "[INFO 08-19 11:41:36] ax.service.managed_loop: Running optimization trial 6...\n",
      "[INFO 08-19 11:41:37] ax.service.managed_loop: Running optimization trial 7...\n",
      "[INFO 08-19 11:41:38] ax.service.managed_loop: Running optimization trial 8...\n",
      "[INFO 08-19 11:41:39] ax.service.managed_loop: Running optimization trial 9...\n",
      "[INFO 08-19 11:41:41] ax.service.managed_loop: Running optimization trial 10...\n",
      "[INFO 08-19 11:41:45] ax.service.managed_loop: Running optimization trial 11...\n",
      "[INFO 08-19 11:41:47] ax.service.managed_loop: Running optimization trial 12...\n",
      "[INFO 08-19 11:41:52] ax.service.managed_loop: Running optimization trial 13...\n",
      "[INFO 08-19 11:41:55] ax.service.managed_loop: Running optimization trial 14...\n",
      "[INFO 08-19 11:41:59] ax.service.managed_loop: Running optimization trial 15...\n",
      "[INFO 08-19 11:42:02] ax.service.managed_loop: Running optimization trial 16...\n",
      "[INFO 08-19 11:42:06] ax.service.managed_loop: Running optimization trial 17...\n",
      "[INFO 08-19 11:42:11] ax.service.managed_loop: Running optimization trial 18...\n",
      "[INFO 08-19 11:42:17] ax.service.managed_loop: Running optimization trial 19...\n",
      "[INFO 08-19 11:42:20] ax.service.managed_loop: Running optimization trial 20...\n",
      "[INFO 08-19 11:42:23] ax.service.managed_loop: Running optimization trial 21...\n",
      "[INFO 08-19 11:42:27] ax.service.managed_loop: Running optimization trial 22...\n",
      "[INFO 08-19 11:42:31] ax.service.managed_loop: Running optimization trial 23...\n",
      "[INFO 08-19 11:42:50] ax.service.managed_loop: Running optimization trial 24...\n",
      "[INFO 08-19 11:42:57] ax.service.managed_loop: Running optimization trial 25...\n",
      "[INFO 08-19 11:43:05] ax.service.managed_loop: Running optimization trial 26...\n",
      "[INFO 08-19 11:43:15] ax.service.managed_loop: Running optimization trial 27...\n",
      "[INFO 08-19 11:43:38] ax.service.managed_loop: Running optimization trial 28...\n",
      "[INFO 08-19 11:43:55] ax.service.managed_loop: Running optimization trial 29...\n",
      "[INFO 08-19 11:44:07] ax.service.managed_loop: Running optimization trial 30...\n",
      "[INFO 08-19 11:44:22] ax.service.managed_loop: Running optimization trial 31...\n",
      "[INFO 08-19 11:44:37] ax.service.managed_loop: Running optimization trial 32...\n",
      "[INFO 08-19 11:44:46] ax.service.managed_loop: Running optimization trial 33...\n",
      "[INFO 08-19 11:44:56] ax.service.managed_loop: Running optimization trial 34...\n",
      "[INFO 08-19 11:45:08] ax.service.managed_loop: Running optimization trial 35...\n",
      "[INFO 08-19 11:45:28] ax.service.managed_loop: Running optimization trial 36...\n",
      "[INFO 08-19 11:45:48] ax.service.managed_loop: Running optimization trial 37...\n",
      "[INFO 08-19 11:46:04] ax.service.managed_loop: Running optimization trial 38...\n",
      "[INFO 08-19 11:46:12] ax.service.managed_loop: Running optimization trial 39...\n",
      "[INFO 08-19 11:46:20] ax.service.managed_loop: Running optimization trial 40...\n",
      "[INFO 08-19 11:46:27] ax.service.managed_loop: Running optimization trial 41...\n",
      "[INFO 08-19 11:46:37] ax.service.managed_loop: Running optimization trial 42...\n",
      "[INFO 08-19 11:46:57] ax.service.managed_loop: Running optimization trial 43...\n",
      "[INFO 08-19 11:47:09] ax.service.managed_loop: Running optimization trial 44...\n",
      "[INFO 08-19 11:47:21] ax.service.managed_loop: Running optimization trial 45...\n",
      "[INFO 08-19 11:47:58] ax.service.managed_loop: Running optimization trial 46...\n",
      "[INFO 08-19 11:48:12] ax.service.managed_loop: Running optimization trial 47...\n",
      "[INFO 08-19 11:48:33] ax.service.managed_loop: Running optimization trial 48...\n",
      "[INFO 08-19 11:48:48] ax.service.managed_loop: Running optimization trial 49...\n",
      "[INFO 08-19 11:49:06] ax.service.managed_loop: Running optimization trial 50...\n",
      "[INFO 08-19 11:49:15] ax.service.managed_loop: Running optimization trial 51...\n",
      "[INFO 08-19 11:49:34] ax.service.managed_loop: Running optimization trial 52...\n",
      "[INFO 08-19 11:50:05] ax.service.managed_loop: Running optimization trial 53...\n",
      "[INFO 08-19 11:52:32] ax.service.managed_loop: Running optimization trial 54...\n",
      "[INFO 08-19 11:53:18] ax.service.managed_loop: Running optimization trial 55...\n",
      "[INFO 08-19 11:54:05] ax.service.managed_loop: Running optimization trial 56...\n",
      "[INFO 08-19 11:54:40] ax.service.managed_loop: Running optimization trial 57...\n",
      "[INFO 08-19 11:55:19] ax.service.managed_loop: Running optimization trial 58...\n",
      "[INFO 08-19 11:55:39] ax.service.managed_loop: Running optimization trial 59...\n",
      "[INFO 08-19 11:57:42] ax.service.managed_loop: Running optimization trial 60...\n",
      "[INFO 08-19 11:58:12] ax.service.managed_loop: Running optimization trial 61...\n",
      "[INFO 08-19 11:59:07] ax.service.managed_loop: Running optimization trial 62...\n",
      "[INFO 08-19 11:59:50] ax.service.managed_loop: Running optimization trial 63...\n",
      "[INFO 08-19 12:00:46] ax.service.managed_loop: Running optimization trial 64...\n",
      "[INFO 08-19 12:01:12] ax.service.managed_loop: Running optimization trial 65...\n",
      "[INFO 08-19 12:01:32] ax.service.managed_loop: Running optimization trial 66...\n",
      "[INFO 08-19 12:01:57] ax.service.managed_loop: Running optimization trial 67...\n",
      "[INFO 08-19 12:02:35] ax.service.managed_loop: Running optimization trial 68...\n",
      "[INFO 08-19 12:03:05] ax.service.managed_loop: Running optimization trial 69...\n",
      "[INFO 08-19 12:04:17] ax.service.managed_loop: Running optimization trial 70...\n",
      "[INFO 08-19 12:04:45] ax.service.managed_loop: Running optimization trial 71...\n",
      "[INFO 08-19 12:06:44] ax.service.managed_loop: Running optimization trial 72...\n",
      "[INFO 08-19 12:07:51] ax.service.managed_loop: Running optimization trial 73...\n",
      "[INFO 08-19 12:09:23] ax.service.managed_loop: Running optimization trial 74...\n",
      "[INFO 08-19 12:09:56] ax.service.managed_loop: Running optimization trial 75...\n",
      "[INFO 08-19 12:10:58] ax.service.managed_loop: Running optimization trial 76...\n",
      "[INFO 08-19 12:11:31] ax.service.managed_loop: Running optimization trial 77...\n",
      "[INFO 08-19 12:12:00] ax.service.managed_loop: Running optimization trial 78...\n",
      "[INFO 08-19 12:12:27] ax.service.managed_loop: Running optimization trial 79...\n",
      "[INFO 08-19 12:12:47] ax.service.managed_loop: Running optimization trial 80...\n",
      "[INFO 08-19 12:13:33] ax.service.managed_loop: Running optimization trial 81...\n",
      "[INFO 08-19 12:14:27] ax.service.utils.instantiation: Inferred value type of ParameterType.FLOAT for parameter brightness. If that is not the expected value type, you can explicity specify 'value_type' ('int', 'float', 'bool' or 'str') in parameter dict.\n",
      "[INFO 08-19 12:14:27] ax.service.utils.instantiation: Inferred value type of ParameterType.INT for parameter R. If that is not the expected value type, you can explicity specify 'value_type' ('int', 'float', 'bool' or 'str') in parameter dict.\n",
      "[INFO 08-19 12:14:27] ax.service.utils.instantiation: Inferred value type of ParameterType.INT for parameter G. If that is not the expected value type, you can explicity specify 'value_type' ('int', 'float', 'bool' or 'str') in parameter dict.\n",
      "[INFO 08-19 12:14:27] ax.service.utils.instantiation: Inferred value type of ParameterType.INT for parameter B. If that is not the expected value type, you can explicity specify 'value_type' ('int', 'float', 'bool' or 'str') in parameter dict.\n",
      "[INFO 08-19 12:14:27] ax.service.utils.instantiation: Created search space: SearchSpace(parameters=[RangeParameter(name='brightness', parameter_type=FLOAT, range=[0.0, 0.5]), RangeParameter(name='R', parameter_type=INT, range=[0, 255]), RangeParameter(name='G', parameter_type=INT, range=[0, 255]), RangeParameter(name='B', parameter_type=INT, range=[0, 255])], parameter_constraints=[]).\n",
      "[INFO 08-19 12:14:27] ax.modelbridge.dispatch_utils: Using Bayesian optimization since there are more ordered parameters than there are categories for the unordered categorical parameters.\n",
      "[INFO 08-19 12:14:27] ax.modelbridge.dispatch_utils: Using Bayesian Optimization generation strategy: GenerationStrategy(name='Sobol+GPEI', steps=[Sobol for 8 trials, GPEI for subsequent trials]). Iterations after 8 will take longer to generate due to  model-fitting.\n",
      "[INFO 08-19 12:14:27] ax.service.managed_loop: Started full optimization with 81 steps.\n",
      "[INFO 08-19 12:14:27] ax.service.managed_loop: Running optimization trial 1...\n",
      "[INFO 08-19 12:14:28] ax.service.managed_loop: Running optimization trial 2...\n",
      "[INFO 08-19 12:14:29] ax.service.managed_loop: Running optimization trial 3...\n",
      "[INFO 08-19 12:14:30] ax.service.managed_loop: Running optimization trial 4...\n",
      "[INFO 08-19 12:14:31] ax.service.managed_loop: Running optimization trial 5...\n",
      "[INFO 08-19 12:14:32] ax.service.managed_loop: Running optimization trial 6...\n",
      "[INFO 08-19 12:14:33] ax.service.managed_loop: Running optimization trial 7...\n",
      "[INFO 08-19 12:14:34] ax.service.managed_loop: Running optimization trial 8...\n",
      "[INFO 08-19 12:14:35] ax.service.managed_loop: Running optimization trial 9...\n",
      "[INFO 08-19 12:14:38] ax.service.managed_loop: Running optimization trial 10...\n",
      "[INFO 08-19 12:14:41] ax.service.managed_loop: Running optimization trial 11...\n",
      "[INFO 08-19 12:14:43] ax.service.managed_loop: Running optimization trial 12...\n",
      "[INFO 08-19 12:14:46] ax.service.managed_loop: Running optimization trial 13...\n",
      "[INFO 08-19 12:14:48] ax.service.managed_loop: Running optimization trial 14...\n",
      "[INFO 08-19 12:14:51] ax.service.managed_loop: Running optimization trial 15...\n",
      "[INFO 08-19 12:14:55] ax.service.managed_loop: Running optimization trial 16...\n",
      "[INFO 08-19 12:15:00] ax.service.managed_loop: Running optimization trial 17...\n",
      "[INFO 08-19 12:15:02] ax.service.managed_loop: Running optimization trial 18...\n",
      "[INFO 08-19 12:15:05] ax.service.managed_loop: Running optimization trial 19...\n",
      "[INFO 08-19 12:15:09] ax.service.managed_loop: Running optimization trial 20...\n",
      "[INFO 08-19 12:15:12] ax.service.managed_loop: Running optimization trial 21...\n",
      "[INFO 08-19 12:15:20] ax.service.managed_loop: Running optimization trial 22...\n",
      "[INFO 08-19 12:15:23] ax.service.managed_loop: Running optimization trial 23...\n",
      "[INFO 08-19 12:15:51] ax.service.managed_loop: Running optimization trial 24...\n",
      "[INFO 08-19 12:15:56] ax.service.managed_loop: Running optimization trial 25...\n",
      "[INFO 08-19 12:16:03] ax.service.managed_loop: Running optimization trial 26...\n",
      "[INFO 08-19 12:16:09] ax.service.managed_loop: Running optimization trial 27...\n",
      "[INFO 08-19 12:16:15] ax.service.managed_loop: Running optimization trial 28...\n",
      "[INFO 08-19 12:16:19] ax.service.managed_loop: Running optimization trial 29...\n",
      "[INFO 08-19 12:16:27] ax.service.managed_loop: Running optimization trial 30...\n",
      "[INFO 08-19 12:16:34] ax.service.managed_loop: Running optimization trial 31...\n",
      "[INFO 08-19 12:16:40] ax.service.managed_loop: Running optimization trial 32...\n",
      "[INFO 08-19 12:16:49] ax.service.managed_loop: Running optimization trial 33...\n",
      "[INFO 08-19 12:16:55] ax.service.managed_loop: Running optimization trial 34...\n",
      "[INFO 08-19 12:17:10] ax.service.managed_loop: Running optimization trial 35...\n",
      "[INFO 08-19 12:17:20] ax.service.managed_loop: Running optimization trial 36...\n",
      "[INFO 08-19 12:17:34] ax.service.managed_loop: Running optimization trial 37...\n",
      "[INFO 08-19 12:17:51] ax.service.managed_loop: Running optimization trial 38...\n",
      "[INFO 08-19 12:18:10] ax.service.managed_loop: Running optimization trial 39...\n",
      "[INFO 08-19 12:18:19] ax.service.managed_loop: Running optimization trial 40...\n",
      "[INFO 08-19 12:18:28] ax.service.managed_loop: Running optimization trial 41...\n",
      "[INFO 08-19 12:18:40] ax.service.managed_loop: Running optimization trial 42...\n",
      "[INFO 08-19 12:18:48] ax.service.managed_loop: Running optimization trial 43...\n",
      "[INFO 08-19 12:18:57] ax.service.managed_loop: Running optimization trial 44...\n",
      "[INFO 08-19 12:19:06] ax.service.managed_loop: Running optimization trial 45...\n",
      "[INFO 08-19 12:19:11] ax.service.managed_loop: Running optimization trial 46...\n",
      "[INFO 08-19 12:19:18] ax.service.managed_loop: Running optimization trial 47...\n",
      "[INFO 08-19 12:19:25] ax.service.managed_loop: Running optimization trial 48...\n",
      "[INFO 08-19 12:19:31] ax.service.managed_loop: Running optimization trial 49...\n",
      "[INFO 08-19 12:19:37] ax.service.managed_loop: Running optimization trial 50...\n",
      "[INFO 08-19 12:19:46] ax.service.managed_loop: Running optimization trial 51...\n",
      "[INFO 08-19 12:19:58] ax.service.managed_loop: Running optimization trial 52...\n",
      "[INFO 08-19 12:20:07] ax.service.managed_loop: Running optimization trial 53...\n",
      "[INFO 08-19 12:20:16] ax.service.managed_loop: Running optimization trial 54...\n",
      "[INFO 08-19 12:20:26] ax.service.managed_loop: Running optimization trial 55...\n",
      "[INFO 08-19 12:20:34] ax.service.managed_loop: Running optimization trial 56...\n",
      "[INFO 08-19 12:20:42] ax.service.managed_loop: Running optimization trial 57...\n",
      "[INFO 08-19 12:20:49] ax.service.managed_loop: Running optimization trial 58...\n",
      "[INFO 08-19 12:20:57] ax.service.managed_loop: Running optimization trial 59...\n",
      "[INFO 08-19 12:21:07] ax.service.managed_loop: Running optimization trial 60...\n",
      "[INFO 08-19 12:21:15] ax.service.managed_loop: Running optimization trial 61...\n",
      "[INFO 08-19 12:21:25] ax.service.managed_loop: Running optimization trial 62...\n",
      "[INFO 08-19 12:22:00] ax.service.managed_loop: Running optimization trial 63...\n",
      "[INFO 08-19 12:22:16] ax.service.managed_loop: Running optimization trial 64...\n",
      "[INFO 08-19 12:22:32] ax.service.managed_loop: Running optimization trial 65...\n",
      "[INFO 08-19 12:22:45] ax.service.managed_loop: Running optimization trial 66...\n",
      "[INFO 08-19 12:22:59] ax.service.managed_loop: Running optimization trial 67...\n",
      "[INFO 08-19 12:23:20] ax.service.managed_loop: Running optimization trial 68...\n",
      "[INFO 08-19 12:23:35] ax.service.managed_loop: Running optimization trial 69...\n",
      "[INFO 08-19 12:23:48] ax.service.managed_loop: Running optimization trial 70...\n",
      "[INFO 08-19 12:24:09] ax.service.managed_loop: Running optimization trial 71...\n",
      "[INFO 08-19 12:24:26] ax.service.managed_loop: Running optimization trial 72...\n",
      "[INFO 08-19 12:24:54] ax.service.managed_loop: Running optimization trial 73...\n",
      "[INFO 08-19 12:25:10] ax.service.managed_loop: Running optimization trial 74...\n",
      "[INFO 08-19 12:25:24] ax.service.managed_loop: Running optimization trial 75...\n",
      "[INFO 08-19 12:25:47] ax.service.managed_loop: Running optimization trial 76...\n",
      "[INFO 08-19 12:25:53] ax.service.managed_loop: Running optimization trial 77...\n",
      "[INFO 08-19 12:26:33] ax.service.managed_loop: Running optimization trial 78...\n",
      "[INFO 08-19 12:26:54] ax.service.managed_loop: Running optimization trial 79...\n",
      "[INFO 08-19 12:27:08] ax.service.managed_loop: Running optimization trial 80...\n",
      "[INFO 08-19 12:27:29] ax.service.managed_loop: Running optimization trial 81...\n",
      "[WARNING 08-19 12:27:48] ax.modelbridge.cross_validation: Metric objective was unable to be reliably fit.\n",
      "[WARNING 08-19 12:27:48] ax.service.utils.best_point: Model fit is poor; falling back on raw data for best point.\n",
      "[WARNING 08-19 12:27:48] ax.service.utils.best_point: Model fit is poor and data on objective metric objective is noisy; interpret best points results carefully.\n",
      "[INFO 08-19 12:27:48] ax.service.utils.instantiation: Inferred value type of ParameterType.FLOAT for parameter brightness. If that is not the expected value type, you can explicity specify 'value_type' ('int', 'float', 'bool' or 'str') in parameter dict.\n",
      "[INFO 08-19 12:27:48] ax.service.utils.instantiation: Inferred value type of ParameterType.INT for parameter R. If that is not the expected value type, you can explicity specify 'value_type' ('int', 'float', 'bool' or 'str') in parameter dict.\n",
      "[INFO 08-19 12:27:48] ax.service.utils.instantiation: Inferred value type of ParameterType.INT for parameter G. If that is not the expected value type, you can explicity specify 'value_type' ('int', 'float', 'bool' or 'str') in parameter dict.\n",
      "[INFO 08-19 12:27:48] ax.service.utils.instantiation: Inferred value type of ParameterType.INT for parameter B. If that is not the expected value type, you can explicity specify 'value_type' ('int', 'float', 'bool' or 'str') in parameter dict.\n",
      "[INFO 08-19 12:27:48] ax.service.utils.instantiation: Created search space: SearchSpace(parameters=[RangeParameter(name='brightness', parameter_type=FLOAT, range=[0.0, 0.5]), RangeParameter(name='R', parameter_type=INT, range=[0, 255]), RangeParameter(name='G', parameter_type=INT, range=[0, 255]), RangeParameter(name='B', parameter_type=INT, range=[0, 255])], parameter_constraints=[]).\n",
      "[INFO 08-19 12:27:48] ax.modelbridge.dispatch_utils: Using Bayesian optimization since there are more ordered parameters than there are categories for the unordered categorical parameters.\n",
      "[INFO 08-19 12:27:48] ax.modelbridge.dispatch_utils: Using Bayesian Optimization generation strategy: GenerationStrategy(name='Sobol+GPEI', steps=[Sobol for 8 trials, GPEI for subsequent trials]). Iterations after 8 will take longer to generate due to  model-fitting.\n",
      "[INFO 08-19 12:27:48] ax.service.managed_loop: Started full optimization with 81 steps.\n",
      "[INFO 08-19 12:27:48] ax.service.managed_loop: Running optimization trial 1...\n",
      "[INFO 08-19 12:27:49] ax.service.managed_loop: Running optimization trial 2...\n",
      "[INFO 08-19 12:27:50] ax.service.managed_loop: Running optimization trial 3...\n",
      "[INFO 08-19 12:27:51] ax.service.managed_loop: Running optimization trial 4...\n",
      "[INFO 08-19 12:27:52] ax.service.managed_loop: Running optimization trial 5...\n",
      "[INFO 08-19 12:27:53] ax.service.managed_loop: Running optimization trial 6...\n",
      "[INFO 08-19 12:27:54] ax.service.managed_loop: Running optimization trial 7...\n",
      "[INFO 08-19 12:27:54] ax.service.managed_loop: Running optimization trial 8...\n",
      "[INFO 08-19 12:27:55] ax.service.managed_loop: Running optimization trial 9...\n",
      "[INFO 08-19 12:27:58] ax.service.managed_loop: Running optimization trial 10...\n",
      "[INFO 08-19 12:28:02] ax.service.managed_loop: Running optimization trial 11...\n",
      "[INFO 08-19 12:28:06] ax.service.managed_loop: Running optimization trial 12...\n",
      "[INFO 08-19 12:28:08] ax.service.managed_loop: Running optimization trial 13...\n",
      "[INFO 08-19 12:28:11] ax.service.managed_loop: Running optimization trial 14...\n",
      "[INFO 08-19 12:28:13] ax.service.managed_loop: Running optimization trial 15...\n",
      "[INFO 08-19 12:28:15] ax.service.managed_loop: Running optimization trial 16...\n",
      "[INFO 08-19 12:28:19] ax.service.managed_loop: Running optimization trial 17...\n",
      "[INFO 08-19 12:28:21] ax.service.managed_loop: Running optimization trial 18...\n",
      "[INFO 08-19 12:28:24] ax.service.managed_loop: Running optimization trial 19...\n",
      "[INFO 08-19 12:28:26] ax.service.managed_loop: Running optimization trial 20...\n",
      "[INFO 08-19 12:28:29] ax.service.managed_loop: Running optimization trial 21...\n",
      "[INFO 08-19 12:28:33] ax.service.managed_loop: Running optimization trial 22...\n",
      "[INFO 08-19 12:28:36] ax.service.managed_loop: Running optimization trial 23...\n",
      "[INFO 08-19 12:28:39] ax.service.managed_loop: Running optimization trial 24...\n",
      "[INFO 08-19 12:28:42] ax.service.managed_loop: Running optimization trial 25...\n",
      "[INFO 08-19 12:28:46] ax.service.managed_loop: Running optimization trial 26...\n",
      "[INFO 08-19 12:28:53] ax.service.managed_loop: Running optimization trial 27...\n",
      "[INFO 08-19 12:28:58] ax.service.managed_loop: Running optimization trial 28...\n",
      "[INFO 08-19 12:29:02] ax.service.managed_loop: Running optimization trial 29...\n",
      "[INFO 08-19 12:29:15] ax.service.managed_loop: Running optimization trial 30...\n",
      "[INFO 08-19 12:29:30] ax.service.managed_loop: Running optimization trial 31...\n",
      "[INFO 08-19 12:29:40] ax.service.managed_loop: Running optimization trial 32...\n",
      "[INFO 08-19 12:30:00] ax.service.managed_loop: Running optimization trial 33...\n",
      "[INFO 08-19 12:30:16] ax.service.managed_loop: Running optimization trial 34...\n",
      "[INFO 08-19 12:30:29] ax.service.managed_loop: Running optimization trial 35...\n",
      "[INFO 08-19 12:30:37] ax.service.managed_loop: Running optimization trial 36...\n",
      "[INFO 08-19 12:30:51] ax.service.managed_loop: Running optimization trial 37...\n",
      "[INFO 08-19 12:31:00] ax.service.managed_loop: Running optimization trial 38...\n",
      "[INFO 08-19 12:31:26] ax.service.managed_loop: Running optimization trial 39...\n",
      "[INFO 08-19 12:31:41] ax.service.managed_loop: Running optimization trial 40...\n",
      "[INFO 08-19 12:31:57] ax.service.managed_loop: Running optimization trial 41...\n",
      "[INFO 08-19 12:32:05] ax.service.managed_loop: Running optimization trial 42...\n",
      "[INFO 08-19 12:32:20] ax.service.managed_loop: Running optimization trial 43...\n",
      "[INFO 08-19 12:32:32] ax.service.managed_loop: Running optimization trial 44...\n",
      "[INFO 08-19 12:32:45] ax.service.managed_loop: Running optimization trial 45...\n",
      "[INFO 08-19 12:33:05] ax.service.managed_loop: Running optimization trial 46...\n",
      "[INFO 08-19 12:33:20] ax.service.managed_loop: Running optimization trial 47...\n",
      "[INFO 08-19 12:34:17] ax.service.managed_loop: Running optimization trial 48...\n",
      "[INFO 08-19 12:35:29] ax.service.managed_loop: Running optimization trial 49...\n",
      "[INFO 08-19 12:35:46] ax.service.managed_loop: Running optimization trial 50...\n",
      "[INFO 08-19 12:36:25] ax.service.managed_loop: Running optimization trial 51...\n",
      "[INFO 08-19 12:36:45] ax.service.managed_loop: Running optimization trial 52...\n",
      "[INFO 08-19 12:37:09] ax.service.managed_loop: Running optimization trial 53...\n",
      "[INFO 08-19 12:37:49] ax.service.managed_loop: Running optimization trial 54...\n",
      "[INFO 08-19 12:38:47] ax.service.managed_loop: Running optimization trial 55...\n",
      "[INFO 08-19 12:39:35] ax.service.managed_loop: Running optimization trial 56...\n",
      "[INFO 08-19 12:39:55] ax.service.managed_loop: Running optimization trial 57...\n",
      "[INFO 08-19 12:40:49] ax.service.managed_loop: Running optimization trial 58...\n",
      "[INFO 08-19 12:41:12] ax.service.managed_loop: Running optimization trial 59...\n",
      "[INFO 08-19 12:42:13] ax.service.managed_loop: Running optimization trial 60...\n",
      "[INFO 08-19 12:44:01] ax.service.managed_loop: Running optimization trial 61...\n",
      "[INFO 08-19 12:44:52] ax.service.managed_loop: Running optimization trial 62...\n",
      "[INFO 08-19 12:46:09] ax.service.managed_loop: Running optimization trial 63...\n",
      "[INFO 08-19 12:47:16] ax.service.managed_loop: Running optimization trial 64...\n",
      "[INFO 08-19 12:48:04] ax.service.managed_loop: Running optimization trial 65...\n",
      "[INFO 08-19 12:48:59] ax.service.managed_loop: Running optimization trial 66...\n",
      "[INFO 08-19 12:50:06] ax.service.managed_loop: Running optimization trial 67...\n",
      "[INFO 08-19 12:51:33] ax.service.managed_loop: Running optimization trial 68...\n",
      "[INFO 08-19 12:51:57] ax.service.managed_loop: Running optimization trial 69...\n",
      "[INFO 08-19 12:52:42] ax.service.managed_loop: Running optimization trial 70...\n",
      "[INFO 08-19 12:54:07] ax.service.managed_loop: Running optimization trial 71...\n",
      "[INFO 08-19 12:54:48] ax.service.managed_loop: Running optimization trial 72...\n",
      "[INFO 08-19 12:55:10] ax.service.managed_loop: Running optimization trial 73...\n",
      "[INFO 08-19 12:55:37] ax.service.managed_loop: Running optimization trial 74...\n",
      "[INFO 08-19 12:56:06] ax.service.managed_loop: Running optimization trial 75...\n",
      "[INFO 08-19 12:56:27] ax.service.managed_loop: Running optimization trial 76...\n",
      "[INFO 08-19 12:56:38] ax.service.managed_loop: Running optimization trial 77...\n",
      "[INFO 08-19 12:56:54] ax.service.managed_loop: Running optimization trial 78...\n",
      "[INFO 08-19 12:57:10] ax.service.managed_loop: Running optimization trial 79...\n",
      "[INFO 08-19 12:57:27] ax.service.managed_loop: Running optimization trial 80...\n",
      "[INFO 08-19 12:57:44] ax.service.managed_loop: Running optimization trial 81...\n",
      "[WARNING 08-19 12:58:14] ax.modelbridge.cross_validation: Metric objective was unable to be reliably fit.\n",
      "[WARNING 08-19 12:58:14] ax.service.utils.best_point: Model fit is poor; falling back on raw data for best point.\n",
      "[WARNING 08-19 12:58:14] ax.service.utils.best_point: Model fit is poor and data on objective metric objective is noisy; interpret best points results carefully.\n",
      "[INFO 08-19 12:58:14] ax.service.utils.instantiation: Inferred value type of ParameterType.FLOAT for parameter brightness. If that is not the expected value type, you can explicity specify 'value_type' ('int', 'float', 'bool' or 'str') in parameter dict.\n",
      "[INFO 08-19 12:58:14] ax.service.utils.instantiation: Inferred value type of ParameterType.INT for parameter R. If that is not the expected value type, you can explicity specify 'value_type' ('int', 'float', 'bool' or 'str') in parameter dict.\n",
      "[INFO 08-19 12:58:14] ax.service.utils.instantiation: Inferred value type of ParameterType.INT for parameter G. If that is not the expected value type, you can explicity specify 'value_type' ('int', 'float', 'bool' or 'str') in parameter dict.\n",
      "[INFO 08-19 12:58:14] ax.service.utils.instantiation: Inferred value type of ParameterType.INT for parameter B. If that is not the expected value type, you can explicity specify 'value_type' ('int', 'float', 'bool' or 'str') in parameter dict.\n",
      "[INFO 08-19 12:58:14] ax.service.utils.instantiation: Created search space: SearchSpace(parameters=[RangeParameter(name='brightness', parameter_type=FLOAT, range=[0.0, 0.5]), RangeParameter(name='R', parameter_type=INT, range=[0, 255]), RangeParameter(name='G', parameter_type=INT, range=[0, 255]), RangeParameter(name='B', parameter_type=INT, range=[0, 255])], parameter_constraints=[]).\n",
      "[INFO 08-19 12:58:14] ax.modelbridge.dispatch_utils: Using Bayesian optimization since there are more ordered parameters than there are categories for the unordered categorical parameters.\n",
      "[INFO 08-19 12:58:14] ax.modelbridge.dispatch_utils: Using Bayesian Optimization generation strategy: GenerationStrategy(name='Sobol+GPEI', steps=[Sobol for 8 trials, GPEI for subsequent trials]). Iterations after 8 will take longer to generate due to  model-fitting.\n",
      "[INFO 08-19 12:58:14] ax.service.managed_loop: Started full optimization with 81 steps.\n",
      "[INFO 08-19 12:58:14] ax.service.managed_loop: Running optimization trial 1...\n",
      "[INFO 08-19 12:58:15] ax.service.managed_loop: Running optimization trial 2...\n",
      "[INFO 08-19 12:58:15] ax.service.managed_loop: Running optimization trial 3...\n",
      "[INFO 08-19 12:58:16] ax.service.managed_loop: Running optimization trial 4...\n",
      "[INFO 08-19 12:58:17] ax.service.managed_loop: Running optimization trial 5...\n",
      "[INFO 08-19 12:58:18] ax.service.managed_loop: Running optimization trial 6...\n",
      "[INFO 08-19 12:58:19] ax.service.managed_loop: Running optimization trial 7...\n",
      "[INFO 08-19 12:58:20] ax.service.managed_loop: Running optimization trial 8...\n",
      "[INFO 08-19 12:58:21] ax.service.managed_loop: Running optimization trial 9...\n",
      "[INFO 08-19 12:58:25] ax.service.managed_loop: Running optimization trial 10...\n",
      "[INFO 08-19 12:58:27] ax.service.managed_loop: Running optimization trial 11...\n",
      "[INFO 08-19 12:58:30] ax.service.managed_loop: Running optimization trial 12...\n",
      "[INFO 08-19 12:58:40] ax.service.managed_loop: Running optimization trial 13...\n",
      "[INFO 08-19 12:58:48] ax.service.managed_loop: Running optimization trial 14...\n",
      "[INFO 08-19 12:58:55] ax.service.managed_loop: Running optimization trial 15...\n",
      "[INFO 08-19 12:59:00] ax.service.managed_loop: Running optimization trial 16...\n",
      "[INFO 08-19 12:59:12] ax.service.managed_loop: Running optimization trial 17...\n",
      "[INFO 08-19 12:59:21] ax.service.managed_loop: Running optimization trial 18...\n",
      "[INFO 08-19 12:59:26] ax.service.managed_loop: Running optimization trial 19...\n",
      "[INFO 08-19 12:59:35] ax.service.managed_loop: Running optimization trial 20...\n",
      "[INFO 08-19 12:59:45] ax.service.managed_loop: Running optimization trial 21...\n",
      "[INFO 08-19 12:59:52] ax.service.managed_loop: Running optimization trial 22...\n",
      "[INFO 08-19 12:59:59] ax.service.managed_loop: Running optimization trial 23...\n",
      "[INFO 08-19 13:00:05] ax.service.managed_loop: Running optimization trial 24...\n",
      "[INFO 08-19 13:00:13] ax.service.managed_loop: Running optimization trial 25...\n",
      "[INFO 08-19 13:00:32] ax.service.managed_loop: Running optimization trial 26...\n",
      "[INFO 08-19 13:00:47] ax.service.managed_loop: Running optimization trial 27...\n",
      "[INFO 08-19 13:00:57] ax.service.managed_loop: Running optimization trial 28...\n",
      "[INFO 08-19 13:01:08] ax.service.managed_loop: Running optimization trial 29...\n",
      "[INFO 08-19 13:01:42] ax.service.managed_loop: Running optimization trial 30...\n",
      "[INFO 08-19 13:01:49] ax.service.managed_loop: Running optimization trial 31...\n",
      "[INFO 08-19 13:02:01] ax.service.managed_loop: Running optimization trial 32...\n",
      "[INFO 08-19 13:02:06] ax.service.managed_loop: Running optimization trial 33...\n",
      "[INFO 08-19 13:02:12] ax.service.managed_loop: Running optimization trial 34...\n",
      "[INFO 08-19 13:02:19] ax.service.managed_loop: Running optimization trial 35...\n",
      "[INFO 08-19 13:02:33] ax.service.managed_loop: Running optimization trial 36...\n",
      "[INFO 08-19 13:02:45] ax.service.managed_loop: Running optimization trial 37...\n",
      "[INFO 08-19 13:02:54] ax.service.managed_loop: Running optimization trial 38...\n",
      "[INFO 08-19 13:03:06] ax.service.managed_loop: Running optimization trial 39...\n",
      "[INFO 08-19 13:03:16] ax.service.managed_loop: Running optimization trial 40...\n",
      "[INFO 08-19 13:03:24] ax.service.managed_loop: Running optimization trial 41...\n",
      "[INFO 08-19 13:03:39] ax.service.managed_loop: Running optimization trial 42...\n",
      "[INFO 08-19 13:04:16] ax.service.managed_loop: Running optimization trial 43...\n",
      "[INFO 08-19 13:04:36] ax.service.managed_loop: Running optimization trial 44...\n",
      "[INFO 08-19 13:05:05] ax.service.managed_loop: Running optimization trial 45...\n",
      "[INFO 08-19 13:05:29] ax.service.managed_loop: Running optimization trial 46...\n",
      "[INFO 08-19 13:06:01] ax.service.managed_loop: Running optimization trial 47...\n",
      "[INFO 08-19 13:06:25] ax.service.managed_loop: Running optimization trial 48...\n",
      "[INFO 08-19 13:06:37] ax.service.managed_loop: Running optimization trial 49...\n",
      "[INFO 08-19 13:06:55] ax.service.managed_loop: Running optimization trial 50...\n",
      "[INFO 08-19 13:07:13] ax.service.managed_loop: Running optimization trial 51...\n",
      "[INFO 08-19 13:07:26] ax.service.managed_loop: Running optimization trial 52...\n",
      "[INFO 08-19 13:07:41] ax.service.managed_loop: Running optimization trial 53...\n",
      "[INFO 08-19 13:08:18] ax.service.managed_loop: Running optimization trial 54...\n",
      "[INFO 08-19 13:08:55] ax.service.managed_loop: Running optimization trial 55...\n",
      "[INFO 08-19 13:09:27] ax.service.managed_loop: Running optimization trial 56...\n",
      "[INFO 08-19 13:09:52] ax.service.managed_loop: Running optimization trial 57...\n",
      "[INFO 08-19 13:10:29] ax.service.managed_loop: Running optimization trial 58...\n",
      "[INFO 08-19 13:10:42] ax.service.managed_loop: Running optimization trial 59...\n",
      "[INFO 08-19 13:10:52] ax.service.managed_loop: Running optimization trial 60...\n",
      "[INFO 08-19 13:11:04] ax.service.managed_loop: Running optimization trial 61...\n",
      "[INFO 08-19 13:11:19] ax.service.managed_loop: Running optimization trial 62...\n",
      "[INFO 08-19 13:11:32] ax.service.managed_loop: Running optimization trial 63...\n",
      "[INFO 08-19 13:11:47] ax.service.managed_loop: Running optimization trial 64...\n",
      "[INFO 08-19 13:11:57] ax.service.managed_loop: Running optimization trial 65...\n",
      "[INFO 08-19 13:12:11] ax.service.managed_loop: Running optimization trial 66...\n",
      "[INFO 08-19 13:12:24] ax.service.managed_loop: Running optimization trial 67...\n",
      "[INFO 08-19 13:12:44] ax.service.managed_loop: Running optimization trial 68...\n",
      "[INFO 08-19 13:13:06] ax.service.managed_loop: Running optimization trial 69...\n",
      "[INFO 08-19 13:13:33] ax.service.managed_loop: Running optimization trial 70...\n",
      "[INFO 08-19 13:13:54] ax.service.managed_loop: Running optimization trial 71...\n",
      "[INFO 08-19 13:14:20] ax.service.managed_loop: Running optimization trial 72...\n",
      "[INFO 08-19 13:14:49] ax.service.managed_loop: Running optimization trial 73...\n",
      "[INFO 08-19 13:15:21] ax.service.managed_loop: Running optimization trial 74...\n",
      "[INFO 08-19 13:16:00] ax.service.managed_loop: Running optimization trial 75...\n",
      "[INFO 08-19 13:16:41] ax.service.managed_loop: Running optimization trial 76...\n",
      "[INFO 08-19 13:17:31] ax.service.managed_loop: Running optimization trial 77...\n",
      "[INFO 08-19 13:17:57] ax.service.managed_loop: Running optimization trial 78...\n",
      "[INFO 08-19 13:18:19] ax.service.managed_loop: Running optimization trial 79...\n",
      "[INFO 08-19 13:18:53] ax.service.managed_loop: Running optimization trial 80...\n",
      "[INFO 08-19 13:19:10] ax.service.managed_loop: Running optimization trial 81...\n",
      "[WARNING 08-19 13:19:41] ax.modelbridge.cross_validation: Metric objective was unable to be reliably fit.\n",
      "[WARNING 08-19 13:19:41] ax.service.utils.best_point: Model fit is poor; falling back on raw data for best point.\n",
      "[WARNING 08-19 13:19:41] ax.service.utils.best_point: Model fit is poor and data on objective metric objective is noisy; interpret best points results carefully.\n",
      "[INFO 08-19 13:19:41] ax.service.utils.instantiation: Inferred value type of ParameterType.FLOAT for parameter brightness. If that is not the expected value type, you can explicity specify 'value_type' ('int', 'float', 'bool' or 'str') in parameter dict.\n",
      "[INFO 08-19 13:19:41] ax.service.utils.instantiation: Inferred value type of ParameterType.INT for parameter R. If that is not the expected value type, you can explicity specify 'value_type' ('int', 'float', 'bool' or 'str') in parameter dict.\n",
      "[INFO 08-19 13:19:41] ax.service.utils.instantiation: Inferred value type of ParameterType.INT for parameter G. If that is not the expected value type, you can explicity specify 'value_type' ('int', 'float', 'bool' or 'str') in parameter dict.\n",
      "[INFO 08-19 13:19:41] ax.service.utils.instantiation: Inferred value type of ParameterType.INT for parameter B. If that is not the expected value type, you can explicity specify 'value_type' ('int', 'float', 'bool' or 'str') in parameter dict.\n",
      "[INFO 08-19 13:19:41] ax.service.utils.instantiation: Created search space: SearchSpace(parameters=[RangeParameter(name='brightness', parameter_type=FLOAT, range=[0.0, 0.5]), RangeParameter(name='R', parameter_type=INT, range=[0, 255]), RangeParameter(name='G', parameter_type=INT, range=[0, 255]), RangeParameter(name='B', parameter_type=INT, range=[0, 255])], parameter_constraints=[]).\n",
      "[INFO 08-19 13:19:41] ax.modelbridge.dispatch_utils: Using Bayesian optimization since there are more ordered parameters than there are categories for the unordered categorical parameters.\n",
      "[INFO 08-19 13:19:41] ax.modelbridge.dispatch_utils: Using Bayesian Optimization generation strategy: GenerationStrategy(name='Sobol+GPEI', steps=[Sobol for 8 trials, GPEI for subsequent trials]). Iterations after 8 will take longer to generate due to  model-fitting.\n",
      "[INFO 08-19 13:19:41] ax.service.managed_loop: Started full optimization with 81 steps.\n",
      "[INFO 08-19 13:19:41] ax.service.managed_loop: Running optimization trial 1...\n",
      "[INFO 08-19 13:19:42] ax.service.managed_loop: Running optimization trial 2...\n",
      "[INFO 08-19 13:19:43] ax.service.managed_loop: Running optimization trial 3...\n",
      "[INFO 08-19 13:19:44] ax.service.managed_loop: Running optimization trial 4...\n",
      "[INFO 08-19 13:19:45] ax.service.managed_loop: Running optimization trial 5...\n",
      "[INFO 08-19 13:19:46] ax.service.managed_loop: Running optimization trial 6...\n",
      "[INFO 08-19 13:19:47] ax.service.managed_loop: Running optimization trial 7...\n",
      "[INFO 08-19 13:19:48] ax.service.managed_loop: Running optimization trial 8...\n",
      "[INFO 08-19 13:19:49] ax.service.managed_loop: Running optimization trial 9...\n",
      "[INFO 08-19 13:19:52] ax.service.managed_loop: Running optimization trial 10...\n",
      "[INFO 08-19 13:19:55] ax.service.managed_loop: Running optimization trial 11...\n",
      "[INFO 08-19 13:19:58] ax.service.managed_loop: Running optimization trial 12...\n",
      "[INFO 08-19 13:20:01] ax.service.managed_loop: Running optimization trial 13...\n",
      "[INFO 08-19 13:20:04] ax.service.managed_loop: Running optimization trial 14...\n",
      "[INFO 08-19 13:20:07] ax.service.managed_loop: Running optimization trial 15...\n",
      "[INFO 08-19 13:20:09] ax.service.managed_loop: Running optimization trial 16...\n",
      "[INFO 08-19 13:20:15] ax.service.managed_loop: Running optimization trial 17...\n",
      "[INFO 08-19 13:20:18] ax.service.managed_loop: Running optimization trial 18...\n",
      "[INFO 08-19 13:20:22] ax.service.managed_loop: Running optimization trial 19...\n",
      "[INFO 08-19 13:20:27] ax.service.managed_loop: Running optimization trial 20...\n",
      "[INFO 08-19 13:20:31] ax.service.managed_loop: Running optimization trial 21...\n",
      "[INFO 08-19 13:20:35] ax.service.managed_loop: Running optimization trial 22...\n",
      "[INFO 08-19 13:20:39] ax.service.managed_loop: Running optimization trial 23...\n",
      "[INFO 08-19 13:20:44] ax.service.managed_loop: Running optimization trial 24...\n",
      "[INFO 08-19 13:20:49] ax.service.managed_loop: Running optimization trial 25...\n",
      "[INFO 08-19 13:20:53] ax.service.managed_loop: Running optimization trial 26...\n",
      "[INFO 08-19 13:20:59] ax.service.managed_loop: Running optimization trial 27...\n",
      "[INFO 08-19 13:21:03] ax.service.managed_loop: Running optimization trial 28...\n",
      "[INFO 08-19 13:21:07] ax.service.managed_loop: Running optimization trial 29...\n",
      "[INFO 08-19 13:21:13] ax.service.managed_loop: Running optimization trial 30...\n",
      "[INFO 08-19 13:21:17] ax.service.managed_loop: Running optimization trial 31...\n",
      "[INFO 08-19 13:21:21] ax.service.managed_loop: Running optimization trial 32...\n",
      "[INFO 08-19 13:21:27] ax.service.managed_loop: Running optimization trial 33...\n",
      "[INFO 08-19 13:21:30] ax.service.managed_loop: Running optimization trial 34...\n",
      "[INFO 08-19 13:21:34] ax.service.managed_loop: Running optimization trial 35...\n",
      "[INFO 08-19 13:21:39] ax.service.managed_loop: Running optimization trial 36...\n",
      "[INFO 08-19 13:21:47] ax.service.managed_loop: Running optimization trial 37...\n",
      "[INFO 08-19 13:21:53] ax.service.managed_loop: Running optimization trial 38...\n",
      "[INFO 08-19 13:21:57] ax.service.managed_loop: Running optimization trial 39...\n",
      "[INFO 08-19 13:22:03] ax.service.managed_loop: Running optimization trial 40...\n",
      "[INFO 08-19 13:22:07] ax.service.managed_loop: Running optimization trial 41...\n",
      "[INFO 08-19 13:22:12] ax.service.managed_loop: Running optimization trial 42...\n",
      "[INFO 08-19 13:22:17] ax.service.managed_loop: Running optimization trial 43...\n",
      "[INFO 08-19 13:22:22] ax.service.managed_loop: Running optimization trial 44...\n",
      "[INFO 08-19 13:22:28] ax.service.managed_loop: Running optimization trial 45...\n",
      "[INFO 08-19 13:22:33] ax.service.managed_loop: Running optimization trial 46...\n",
      "[INFO 08-19 13:22:39] ax.service.managed_loop: Running optimization trial 47...\n",
      "[INFO 08-19 13:22:45] ax.service.managed_loop: Running optimization trial 48...\n",
      "[INFO 08-19 13:22:50] ax.service.managed_loop: Running optimization trial 49...\n",
      "[INFO 08-19 13:22:57] ax.service.managed_loop: Running optimization trial 50...\n",
      "[INFO 08-19 13:23:05] ax.service.managed_loop: Running optimization trial 51...\n",
      "[INFO 08-19 13:23:12] ax.service.managed_loop: Running optimization trial 52...\n",
      "[INFO 08-19 13:23:16] ax.service.managed_loop: Running optimization trial 53...\n",
      "[INFO 08-19 13:23:23] ax.service.managed_loop: Running optimization trial 54...\n",
      "[INFO 08-19 13:23:32] ax.service.managed_loop: Running optimization trial 55...\n",
      "[INFO 08-19 13:23:38] ax.service.managed_loop: Running optimization trial 56...\n",
      "[INFO 08-19 13:23:45] ax.service.managed_loop: Running optimization trial 57...\n",
      "[INFO 08-19 13:23:54] ax.service.managed_loop: Running optimization trial 58...\n",
      "[INFO 08-19 13:24:01] ax.service.managed_loop: Running optimization trial 59...\n",
      "[INFO 08-19 13:24:11] ax.service.managed_loop: Running optimization trial 60...\n",
      "[INFO 08-19 13:24:22] ax.service.managed_loop: Running optimization trial 61...\n",
      "[INFO 08-19 13:24:29] ax.service.managed_loop: Running optimization trial 62...\n",
      "[INFO 08-19 13:24:36] ax.service.managed_loop: Running optimization trial 63...\n",
      "[INFO 08-19 13:24:44] ax.service.managed_loop: Running optimization trial 64...\n",
      "[INFO 08-19 13:24:54] ax.service.managed_loop: Running optimization trial 65...\n",
      "[INFO 08-19 13:25:03] ax.service.managed_loop: Running optimization trial 66...\n",
      "[INFO 08-19 13:25:11] ax.service.managed_loop: Running optimization trial 67...\n",
      "[INFO 08-19 13:25:22] ax.service.managed_loop: Running optimization trial 68...\n",
      "[INFO 08-19 13:25:31] ax.service.managed_loop: Running optimization trial 69...\n",
      "[INFO 08-19 13:25:40] ax.service.managed_loop: Running optimization trial 70...\n",
      "[INFO 08-19 13:25:48] ax.service.managed_loop: Running optimization trial 71...\n",
      "[INFO 08-19 13:25:58] ax.service.managed_loop: Running optimization trial 72...\n",
      "[INFO 08-19 13:26:09] ax.service.managed_loop: Running optimization trial 73...\n",
      "[INFO 08-19 13:26:20] ax.service.managed_loop: Running optimization trial 74...\n",
      "[INFO 08-19 13:26:33] ax.service.managed_loop: Running optimization trial 75...\n",
      "[INFO 08-19 13:26:47] ax.service.managed_loop: Running optimization trial 76...\n",
      "[INFO 08-19 13:27:05] ax.service.managed_loop: Running optimization trial 77...\n",
      "[INFO 08-19 13:27:17] ax.service.managed_loop: Running optimization trial 78...\n",
      "[INFO 08-19 13:27:31] ax.service.managed_loop: Running optimization trial 79...\n",
      "[INFO 08-19 13:27:44] ax.service.managed_loop: Running optimization trial 80...\n",
      "[INFO 08-19 13:28:02] ax.service.managed_loop: Running optimization trial 81...\n",
      "[WARNING 08-19 13:28:24] ax.modelbridge.cross_validation: Metric objective was unable to be reliably fit.\n",
      "[WARNING 08-19 13:28:24] ax.service.utils.best_point: Model fit is poor; falling back on raw data for best point.\n",
      "[WARNING 08-19 13:28:24] ax.service.utils.best_point: Model fit is poor and data on objective metric objective is noisy; interpret best points results carefully.\n",
      "[INFO 08-19 13:28:24] ax.service.utils.instantiation: Inferred value type of ParameterType.FLOAT for parameter brightness. If that is not the expected value type, you can explicity specify 'value_type' ('int', 'float', 'bool' or 'str') in parameter dict.\n",
      "[INFO 08-19 13:28:24] ax.service.utils.instantiation: Inferred value type of ParameterType.INT for parameter R. If that is not the expected value type, you can explicity specify 'value_type' ('int', 'float', 'bool' or 'str') in parameter dict.\n",
      "[INFO 08-19 13:28:24] ax.service.utils.instantiation: Inferred value type of ParameterType.INT for parameter G. If that is not the expected value type, you can explicity specify 'value_type' ('int', 'float', 'bool' or 'str') in parameter dict.\n",
      "[INFO 08-19 13:28:24] ax.service.utils.instantiation: Inferred value type of ParameterType.INT for parameter B. If that is not the expected value type, you can explicity specify 'value_type' ('int', 'float', 'bool' or 'str') in parameter dict.\n",
      "[INFO 08-19 13:28:24] ax.service.utils.instantiation: Created search space: SearchSpace(parameters=[RangeParameter(name='brightness', parameter_type=FLOAT, range=[0.0, 0.5]), RangeParameter(name='R', parameter_type=INT, range=[0, 255]), RangeParameter(name='G', parameter_type=INT, range=[0, 255]), RangeParameter(name='B', parameter_type=INT, range=[0, 255])], parameter_constraints=[]).\n",
      "[INFO 08-19 13:28:24] ax.modelbridge.dispatch_utils: Using Bayesian optimization since there are more ordered parameters than there are categories for the unordered categorical parameters.\n",
      "[INFO 08-19 13:28:24] ax.modelbridge.dispatch_utils: Using Bayesian Optimization generation strategy: GenerationStrategy(name='Sobol+GPEI', steps=[Sobol for 8 trials, GPEI for subsequent trials]). Iterations after 8 will take longer to generate due to  model-fitting.\n",
      "[INFO 08-19 13:28:24] ax.service.managed_loop: Started full optimization with 81 steps.\n",
      "[INFO 08-19 13:28:24] ax.service.managed_loop: Running optimization trial 1...\n",
      "[INFO 08-19 13:28:25] ax.service.managed_loop: Running optimization trial 2...\n",
      "[INFO 08-19 13:28:26] ax.service.managed_loop: Running optimization trial 3...\n",
      "[INFO 08-19 13:28:26] ax.service.managed_loop: Running optimization trial 4...\n",
      "[INFO 08-19 13:28:27] ax.service.managed_loop: Running optimization trial 5...\n",
      "[INFO 08-19 13:28:28] ax.service.managed_loop: Running optimization trial 6...\n",
      "[INFO 08-19 13:28:29] ax.service.managed_loop: Running optimization trial 7...\n",
      "[INFO 08-19 13:28:30] ax.service.managed_loop: Running optimization trial 8...\n",
      "[INFO 08-19 13:28:31] ax.service.managed_loop: Running optimization trial 9...\n",
      "[INFO 08-19 13:28:37] ax.service.managed_loop: Running optimization trial 10...\n",
      "[INFO 08-19 13:28:40] ax.service.managed_loop: Running optimization trial 11...\n",
      "[INFO 08-19 13:28:44] ax.service.managed_loop: Running optimization trial 12...\n",
      "[INFO 08-19 13:28:46] ax.service.managed_loop: Running optimization trial 13...\n",
      "[INFO 08-19 13:28:49] ax.service.managed_loop: Running optimization trial 14...\n",
      "[INFO 08-19 13:28:51] ax.service.managed_loop: Running optimization trial 15...\n",
      "[INFO 08-19 13:28:54] ax.service.managed_loop: Running optimization trial 16...\n",
      "[INFO 08-19 13:28:57] ax.service.managed_loop: Running optimization trial 17...\n",
      "[INFO 08-19 13:29:02] ax.service.managed_loop: Running optimization trial 18...\n",
      "[INFO 08-19 13:29:08] ax.service.managed_loop: Running optimization trial 19...\n",
      "[INFO 08-19 13:29:12] ax.service.managed_loop: Running optimization trial 20...\n",
      "[INFO 08-19 13:29:16] ax.service.managed_loop: Running optimization trial 21...\n",
      "[INFO 08-19 13:29:21] ax.service.managed_loop: Running optimization trial 22...\n",
      "[INFO 08-19 13:29:25] ax.service.managed_loop: Running optimization trial 23...\n",
      "[INFO 08-19 13:29:30] ax.service.managed_loop: Running optimization trial 24...\n",
      "[INFO 08-19 13:29:33] ax.service.managed_loop: Running optimization trial 25...\n",
      "[INFO 08-19 13:29:37] ax.service.managed_loop: Running optimization trial 26...\n",
      "[INFO 08-19 13:29:41] ax.service.managed_loop: Running optimization trial 27...\n",
      "[INFO 08-19 13:29:45] ax.service.managed_loop: Running optimization trial 28...\n",
      "[INFO 08-19 13:29:49] ax.service.managed_loop: Running optimization trial 29...\n",
      "[INFO 08-19 13:29:59] ax.service.managed_loop: Running optimization trial 30...\n",
      "[INFO 08-19 13:30:09] ax.service.managed_loop: Running optimization trial 31...\n",
      "[INFO 08-19 13:30:18] ax.service.managed_loop: Running optimization trial 32...\n",
      "[INFO 08-19 13:30:23] ax.service.managed_loop: Running optimization trial 33...\n",
      "[INFO 08-19 13:30:33] ax.service.managed_loop: Running optimization trial 34...\n",
      "[INFO 08-19 13:30:41] ax.service.managed_loop: Running optimization trial 35...\n",
      "[INFO 08-19 13:30:50] ax.service.managed_loop: Running optimization trial 36...\n",
      "[INFO 08-19 13:30:56] ax.service.managed_loop: Running optimization trial 37...\n",
      "[INFO 08-19 13:31:03] ax.service.managed_loop: Running optimization trial 38...\n",
      "[INFO 08-19 13:31:10] ax.service.managed_loop: Running optimization trial 39...\n",
      "[INFO 08-19 13:31:50] ax.service.managed_loop: Running optimization trial 40...\n",
      "[INFO 08-19 13:32:11] ax.service.managed_loop: Running optimization trial 41...\n",
      "[INFO 08-19 13:32:37] ax.service.managed_loop: Running optimization trial 42...\n",
      "[INFO 08-19 13:32:56] ax.service.managed_loop: Running optimization trial 43...\n",
      "[INFO 08-19 13:33:13] ax.service.managed_loop: Running optimization trial 44...\n",
      "[INFO 08-19 13:33:39] ax.service.managed_loop: Running optimization trial 45...\n",
      "[INFO 08-19 13:34:02] ax.service.managed_loop: Running optimization trial 46...\n",
      "[INFO 08-19 13:34:25] ax.service.managed_loop: Running optimization trial 47...\n",
      "[INFO 08-19 13:34:44] ax.service.managed_loop: Running optimization trial 48...\n",
      "[INFO 08-19 13:34:56] ax.service.managed_loop: Running optimization trial 49...\n",
      "[INFO 08-19 13:35:11] ax.service.managed_loop: Running optimization trial 50...\n",
      "[INFO 08-19 13:35:26] ax.service.managed_loop: Running optimization trial 51...\n",
      "[INFO 08-19 13:35:45] ax.service.managed_loop: Running optimization trial 52...\n",
      "[INFO 08-19 13:36:18] ax.service.managed_loop: Running optimization trial 53...\n",
      "[INFO 08-19 13:36:37] ax.service.managed_loop: Running optimization trial 54...\n",
      "[INFO 08-19 13:37:01] ax.service.managed_loop: Running optimization trial 55...\n",
      "[INFO 08-19 13:37:26] ax.service.managed_loop: Running optimization trial 56...\n",
      "[INFO 08-19 13:37:41] ax.service.managed_loop: Running optimization trial 57...\n",
      "[INFO 08-19 13:38:04] ax.service.managed_loop: Running optimization trial 58...\n",
      "[INFO 08-19 13:39:24] ax.service.managed_loop: Running optimization trial 59...\n",
      "[INFO 08-19 13:40:00] ax.service.managed_loop: Running optimization trial 60...\n",
      "[INFO 08-19 13:40:44] ax.service.managed_loop: Running optimization trial 61...\n",
      "[INFO 08-19 13:41:06] ax.service.managed_loop: Running optimization trial 62...\n",
      "[INFO 08-19 13:41:16] ax.service.managed_loop: Running optimization trial 63...\n",
      "[INFO 08-19 13:41:35] ax.service.managed_loop: Running optimization trial 64...\n",
      "[INFO 08-19 13:42:02] ax.service.managed_loop: Running optimization trial 65...\n",
      "[INFO 08-19 13:42:37] ax.service.managed_loop: Running optimization trial 66...\n",
      "[INFO 08-19 13:42:59] ax.service.managed_loop: Running optimization trial 67...\n",
      "[INFO 08-19 13:43:20] ax.service.managed_loop: Running optimization trial 68...\n",
      "[INFO 08-19 13:43:38] ax.service.managed_loop: Running optimization trial 69...\n",
      "[INFO 08-19 13:43:51] ax.service.managed_loop: Running optimization trial 70...\n",
      "[INFO 08-19 13:44:10] ax.service.managed_loop: Running optimization trial 71...\n",
      "[INFO 08-19 13:44:25] ax.service.managed_loop: Running optimization trial 72...\n",
      "[INFO 08-19 13:44:52] ax.service.managed_loop: Running optimization trial 73...\n",
      "[INFO 08-19 13:45:30] ax.service.managed_loop: Running optimization trial 74...\n",
      "[INFO 08-19 13:46:01] ax.service.managed_loop: Running optimization trial 75...\n",
      "[INFO 08-19 13:46:17] ax.service.managed_loop: Running optimization trial 76...\n",
      "[INFO 08-19 13:46:43] ax.service.managed_loop: Running optimization trial 77...\n",
      "[INFO 08-19 13:47:06] ax.service.managed_loop: Running optimization trial 78...\n",
      "[INFO 08-19 13:47:40] ax.service.managed_loop: Running optimization trial 79...\n",
      "[INFO 08-19 13:48:24] ax.service.managed_loop: Running optimization trial 80...\n",
      "[INFO 08-19 13:49:14] ax.service.managed_loop: Running optimization trial 81...\n",
      "[WARNING 08-19 13:50:35] ax.modelbridge.cross_validation: Metric objective was unable to be reliably fit.\n",
      "[WARNING 08-19 13:50:35] ax.service.utils.best_point: Model fit is poor; falling back on raw data for best point.\n",
      "[WARNING 08-19 13:50:35] ax.service.utils.best_point: Model fit is poor and data on objective metric objective is noisy; interpret best points results carefully.\n",
      "[INFO 08-19 13:50:35] ax.service.utils.instantiation: Inferred value type of ParameterType.FLOAT for parameter brightness. If that is not the expected value type, you can explicity specify 'value_type' ('int', 'float', 'bool' or 'str') in parameter dict.\n",
      "[INFO 08-19 13:50:35] ax.service.utils.instantiation: Inferred value type of ParameterType.INT for parameter R. If that is not the expected value type, you can explicity specify 'value_type' ('int', 'float', 'bool' or 'str') in parameter dict.\n",
      "[INFO 08-19 13:50:35] ax.service.utils.instantiation: Inferred value type of ParameterType.INT for parameter G. If that is not the expected value type, you can explicity specify 'value_type' ('int', 'float', 'bool' or 'str') in parameter dict.\n",
      "[INFO 08-19 13:50:35] ax.service.utils.instantiation: Inferred value type of ParameterType.INT for parameter B. If that is not the expected value type, you can explicity specify 'value_type' ('int', 'float', 'bool' or 'str') in parameter dict.\n",
      "[INFO 08-19 13:50:35] ax.service.utils.instantiation: Created search space: SearchSpace(parameters=[RangeParameter(name='brightness', parameter_type=FLOAT, range=[0.0, 0.5]), RangeParameter(name='R', parameter_type=INT, range=[0, 255]), RangeParameter(name='G', parameter_type=INT, range=[0, 255]), RangeParameter(name='B', parameter_type=INT, range=[0, 255])], parameter_constraints=[]).\n",
      "[INFO 08-19 13:50:35] ax.modelbridge.dispatch_utils: Using Bayesian optimization since there are more ordered parameters than there are categories for the unordered categorical parameters.\n",
      "[INFO 08-19 13:50:35] ax.modelbridge.dispatch_utils: Using Bayesian Optimization generation strategy: GenerationStrategy(name='Sobol+GPEI', steps=[Sobol for 8 trials, GPEI for subsequent trials]). Iterations after 8 will take longer to generate due to  model-fitting.\n",
      "[INFO 08-19 13:50:35] ax.service.managed_loop: Started full optimization with 81 steps.\n",
      "[INFO 08-19 13:50:35] ax.service.managed_loop: Running optimization trial 1...\n",
      "[INFO 08-19 13:50:36] ax.service.managed_loop: Running optimization trial 2...\n",
      "[INFO 08-19 13:50:37] ax.service.managed_loop: Running optimization trial 3...\n",
      "[INFO 08-19 13:50:37] ax.service.managed_loop: Running optimization trial 4...\n",
      "[INFO 08-19 13:50:38] ax.service.managed_loop: Running optimization trial 5...\n",
      "[INFO 08-19 13:50:39] ax.service.managed_loop: Running optimization trial 6...\n",
      "[INFO 08-19 13:50:40] ax.service.managed_loop: Running optimization trial 7...\n",
      "[INFO 08-19 13:50:41] ax.service.managed_loop: Running optimization trial 8...\n",
      "[INFO 08-19 13:50:42] ax.service.managed_loop: Running optimization trial 9...\n",
      "[INFO 08-19 13:50:45] ax.service.managed_loop: Running optimization trial 10...\n",
      "[INFO 08-19 13:50:48] ax.service.managed_loop: Running optimization trial 11...\n",
      "[INFO 08-19 13:50:52] ax.service.managed_loop: Running optimization trial 12...\n",
      "[INFO 08-19 13:50:57] ax.service.managed_loop: Running optimization trial 13...\n",
      "[INFO 08-19 13:51:03] ax.service.managed_loop: Running optimization trial 14...\n",
      "[INFO 08-19 13:51:10] ax.service.managed_loop: Running optimization trial 15...\n",
      "[INFO 08-19 13:51:15] ax.service.managed_loop: Running optimization trial 16...\n",
      "[INFO 08-19 13:51:19] ax.service.managed_loop: Running optimization trial 17...\n",
      "[INFO 08-19 13:51:32] ax.service.managed_loop: Running optimization trial 18...\n",
      "[INFO 08-19 13:52:02] ax.service.managed_loop: Running optimization trial 19...\n",
      "[INFO 08-19 13:52:29] ax.service.managed_loop: Running optimization trial 20...\n",
      "[INFO 08-19 13:52:44] ax.service.managed_loop: Running optimization trial 21...\n",
      "[INFO 08-19 13:53:06] ax.service.managed_loop: Running optimization trial 22...\n",
      "[INFO 08-19 13:53:17] ax.service.managed_loop: Running optimization trial 23...\n",
      "[INFO 08-19 13:53:27] ax.service.managed_loop: Running optimization trial 24...\n",
      "[INFO 08-19 13:53:31] ax.service.managed_loop: Running optimization trial 25...\n",
      "[INFO 08-19 13:53:39] ax.service.managed_loop: Running optimization trial 26...\n",
      "[INFO 08-19 13:53:53] ax.service.managed_loop: Running optimization trial 27...\n",
      "[INFO 08-19 13:54:08] ax.service.managed_loop: Running optimization trial 28...\n",
      "[INFO 08-19 13:54:23] ax.service.managed_loop: Running optimization trial 29...\n",
      "[INFO 08-19 13:54:48] ax.service.managed_loop: Running optimization trial 30...\n",
      "[INFO 08-19 13:55:05] ax.service.managed_loop: Running optimization trial 31...\n",
      "[INFO 08-19 13:55:43] ax.service.managed_loop: Running optimization trial 32...\n",
      "[INFO 08-19 13:56:12] ax.service.managed_loop: Running optimization trial 33...\n",
      "[INFO 08-19 13:56:37] ax.service.managed_loop: Running optimization trial 34...\n",
      "[INFO 08-19 13:56:56] ax.service.managed_loop: Running optimization trial 35...\n",
      "[INFO 08-19 13:57:31] ax.service.managed_loop: Running optimization trial 36...\n",
      "[INFO 08-19 13:57:48] ax.service.managed_loop: Running optimization trial 37...\n",
      "[INFO 08-19 13:58:18] ax.service.managed_loop: Running optimization trial 38...\n",
      "[INFO 08-19 13:58:26] ax.service.managed_loop: Running optimization trial 39...\n",
      "[INFO 08-19 13:58:35] ax.service.managed_loop: Running optimization trial 40...\n",
      "[INFO 08-19 13:58:44] ax.service.managed_loop: Running optimization trial 41...\n",
      "[INFO 08-19 13:58:53] ax.service.managed_loop: Running optimization trial 42...\n",
      "[INFO 08-19 13:59:14] ax.service.managed_loop: Running optimization trial 43...\n",
      "[INFO 08-19 13:59:22] ax.service.managed_loop: Running optimization trial 44...\n",
      "[INFO 08-19 13:59:31] ax.service.managed_loop: Running optimization trial 45...\n",
      "[INFO 08-19 13:59:44] ax.service.managed_loop: Running optimization trial 46...\n",
      "[INFO 08-19 13:59:53] ax.service.managed_loop: Running optimization trial 47...\n",
      "[INFO 08-19 14:00:06] ax.service.managed_loop: Running optimization trial 48...\n",
      "[INFO 08-19 14:00:19] ax.service.managed_loop: Running optimization trial 49...\n",
      "[INFO 08-19 14:00:30] ax.service.managed_loop: Running optimization trial 50...\n",
      "[INFO 08-19 14:00:42] ax.service.managed_loop: Running optimization trial 51...\n",
      "[INFO 08-19 14:00:53] ax.service.managed_loop: Running optimization trial 52...\n",
      "[INFO 08-19 14:01:06] ax.service.managed_loop: Running optimization trial 53...\n",
      "[INFO 08-19 14:01:21] ax.service.managed_loop: Running optimization trial 54...\n",
      "[INFO 08-19 14:01:28] ax.service.managed_loop: Running optimization trial 55...\n",
      "[INFO 08-19 14:01:39] ax.service.managed_loop: Running optimization trial 56...\n",
      "[INFO 08-19 14:01:49] ax.service.managed_loop: Running optimization trial 57...\n",
      "[INFO 08-19 14:02:09] ax.service.managed_loop: Running optimization trial 58...\n",
      "[INFO 08-19 14:02:24] ax.service.managed_loop: Running optimization trial 59...\n",
      "[INFO 08-19 14:02:39] ax.service.managed_loop: Running optimization trial 60...\n",
      "[INFO 08-19 14:02:51] ax.service.managed_loop: Running optimization trial 61...\n",
      "[INFO 08-19 14:02:58] ax.service.managed_loop: Running optimization trial 62...\n",
      "[INFO 08-19 14:03:04] ax.service.managed_loop: Running optimization trial 63...\n",
      "[INFO 08-19 14:03:14] ax.service.managed_loop: Running optimization trial 64...\n",
      "[INFO 08-19 14:03:25] ax.service.managed_loop: Running optimization trial 65...\n",
      "[INFO 08-19 14:03:39] ax.service.managed_loop: Running optimization trial 66...\n",
      "[INFO 08-19 14:03:51] ax.service.managed_loop: Running optimization trial 67...\n",
      "[INFO 08-19 14:04:02] ax.service.managed_loop: Running optimization trial 68...\n",
      "[INFO 08-19 14:04:15] ax.service.managed_loop: Running optimization trial 69...\n",
      "[INFO 08-19 14:04:27] ax.service.managed_loop: Running optimization trial 70...\n",
      "[INFO 08-19 14:04:44] ax.service.managed_loop: Running optimization trial 71...\n",
      "[INFO 08-19 14:04:55] ax.service.managed_loop: Running optimization trial 72...\n",
      "[INFO 08-19 14:05:09] ax.service.managed_loop: Running optimization trial 73...\n",
      "[INFO 08-19 14:05:22] ax.service.managed_loop: Running optimization trial 74...\n",
      "[INFO 08-19 14:05:32] ax.service.managed_loop: Running optimization trial 75...\n",
      "[INFO 08-19 14:05:45] ax.service.managed_loop: Running optimization trial 76...\n",
      "[INFO 08-19 14:06:10] ax.service.managed_loop: Running optimization trial 77...\n",
      "[INFO 08-19 14:06:18] ax.service.managed_loop: Running optimization trial 78...\n",
      "[INFO 08-19 14:06:34] ax.service.managed_loop: Running optimization trial 79...\n",
      "[INFO 08-19 14:06:46] ax.service.managed_loop: Running optimization trial 80...\n",
      "[INFO 08-19 14:06:59] ax.service.managed_loop: Running optimization trial 81...\n",
      "[INFO 08-19 14:07:17] ax.service.utils.instantiation: Inferred value type of ParameterType.FLOAT for parameter brightness. If that is not the expected value type, you can explicity specify 'value_type' ('int', 'float', 'bool' or 'str') in parameter dict.\n",
      "[INFO 08-19 14:07:17] ax.service.utils.instantiation: Inferred value type of ParameterType.INT for parameter R. If that is not the expected value type, you can explicity specify 'value_type' ('int', 'float', 'bool' or 'str') in parameter dict.\n",
      "[INFO 08-19 14:07:17] ax.service.utils.instantiation: Inferred value type of ParameterType.INT for parameter G. If that is not the expected value type, you can explicity specify 'value_type' ('int', 'float', 'bool' or 'str') in parameter dict.\n",
      "[INFO 08-19 14:07:17] ax.service.utils.instantiation: Inferred value type of ParameterType.INT for parameter B. If that is not the expected value type, you can explicity specify 'value_type' ('int', 'float', 'bool' or 'str') in parameter dict.\n",
      "[INFO 08-19 14:07:17] ax.service.utils.instantiation: Created search space: SearchSpace(parameters=[RangeParameter(name='brightness', parameter_type=FLOAT, range=[0.0, 0.5]), RangeParameter(name='R', parameter_type=INT, range=[0, 255]), RangeParameter(name='G', parameter_type=INT, range=[0, 255]), RangeParameter(name='B', parameter_type=INT, range=[0, 255])], parameter_constraints=[]).\n",
      "[INFO 08-19 14:07:17] ax.modelbridge.dispatch_utils: Using Bayesian optimization since there are more ordered parameters than there are categories for the unordered categorical parameters.\n",
      "[INFO 08-19 14:07:17] ax.modelbridge.dispatch_utils: Using Bayesian Optimization generation strategy: GenerationStrategy(name='Sobol+GPEI', steps=[Sobol for 8 trials, GPEI for subsequent trials]). Iterations after 8 will take longer to generate due to  model-fitting.\n",
      "[INFO 08-19 14:07:17] ax.service.managed_loop: Started full optimization with 81 steps.\n",
      "[INFO 08-19 14:07:17] ax.service.managed_loop: Running optimization trial 1...\n",
      "[INFO 08-19 14:07:18] ax.service.managed_loop: Running optimization trial 2...\n",
      "[INFO 08-19 14:07:18] ax.service.managed_loop: Running optimization trial 3...\n",
      "[INFO 08-19 14:07:19] ax.service.managed_loop: Running optimization trial 4...\n",
      "[INFO 08-19 14:07:20] ax.service.managed_loop: Running optimization trial 5...\n",
      "[INFO 08-19 14:07:21] ax.service.managed_loop: Running optimization trial 6...\n",
      "[INFO 08-19 14:07:22] ax.service.managed_loop: Running optimization trial 7...\n",
      "[INFO 08-19 14:07:23] ax.service.managed_loop: Running optimization trial 8...\n",
      "[INFO 08-19 14:07:24] ax.service.managed_loop: Running optimization trial 9...\n",
      "[INFO 08-19 14:07:26] ax.service.managed_loop: Running optimization trial 10...\n",
      "[INFO 08-19 14:07:30] ax.service.managed_loop: Running optimization trial 11...\n",
      "[INFO 08-19 14:07:32] ax.service.managed_loop: Running optimization trial 12...\n",
      "[INFO 08-19 14:07:36] ax.service.managed_loop: Running optimization trial 13...\n",
      "[INFO 08-19 14:07:40] ax.service.managed_loop: Running optimization trial 14...\n",
      "[INFO 08-19 14:07:43] ax.service.managed_loop: Running optimization trial 15...\n",
      "[INFO 08-19 14:07:46] ax.service.managed_loop: Running optimization trial 16...\n",
      "[INFO 08-19 14:07:51] ax.service.managed_loop: Running optimization trial 17...\n",
      "[INFO 08-19 14:07:54] ax.service.managed_loop: Running optimization trial 18...\n",
      "[INFO 08-19 14:07:58] ax.service.managed_loop: Running optimization trial 19...\n",
      "[INFO 08-19 14:08:05] ax.service.managed_loop: Running optimization trial 20...\n",
      "[INFO 08-19 14:08:10] ax.service.managed_loop: Running optimization trial 21...\n",
      "[INFO 08-19 14:08:17] ax.service.managed_loop: Running optimization trial 22...\n",
      "[INFO 08-19 14:08:22] ax.service.managed_loop: Running optimization trial 23...\n",
      "[INFO 08-19 14:08:27] ax.service.managed_loop: Running optimization trial 24...\n",
      "[INFO 08-19 14:08:48] ax.service.managed_loop: Running optimization trial 25...\n",
      "[INFO 08-19 14:08:59] ax.service.managed_loop: Running optimization trial 26...\n",
      "[INFO 08-19 14:09:14] ax.service.managed_loop: Running optimization trial 27...\n",
      "[INFO 08-19 14:09:21] ax.service.managed_loop: Running optimization trial 28...\n",
      "[INFO 08-19 14:09:30] ax.service.managed_loop: Running optimization trial 29...\n",
      "[INFO 08-19 14:09:35] ax.service.managed_loop: Running optimization trial 30...\n",
      "[INFO 08-19 14:09:40] ax.service.managed_loop: Running optimization trial 31...\n",
      "[INFO 08-19 14:09:45] ax.service.managed_loop: Running optimization trial 32...\n",
      "[INFO 08-19 14:09:50] ax.service.managed_loop: Running optimization trial 33...\n",
      "[INFO 08-19 14:09:58] ax.service.managed_loop: Running optimization trial 34...\n",
      "[INFO 08-19 14:10:06] ax.service.managed_loop: Running optimization trial 35...\n",
      "[INFO 08-19 14:10:15] ax.service.managed_loop: Running optimization trial 36...\n",
      "[INFO 08-19 14:10:25] ax.service.managed_loop: Running optimization trial 37...\n",
      "[INFO 08-19 14:10:36] ax.service.managed_loop: Running optimization trial 38...\n",
      "[INFO 08-19 14:10:46] ax.service.managed_loop: Running optimization trial 39...\n",
      "[INFO 08-19 14:10:54] ax.service.managed_loop: Running optimization trial 40...\n",
      "[INFO 08-19 14:11:06] ax.service.managed_loop: Running optimization trial 41...\n",
      "[INFO 08-19 14:11:23] ax.service.managed_loop: Running optimization trial 42...\n",
      "[INFO 08-19 14:11:38] ax.service.managed_loop: Running optimization trial 43...\n",
      "[INFO 08-19 14:12:05] ax.service.managed_loop: Running optimization trial 44...\n",
      "[INFO 08-19 14:12:19] ax.service.managed_loop: Running optimization trial 45...\n",
      "[INFO 08-19 14:12:46] ax.service.managed_loop: Running optimization trial 46...\n",
      "[INFO 08-19 14:13:03] ax.service.managed_loop: Running optimization trial 47...\n",
      "[INFO 08-19 14:13:31] ax.service.managed_loop: Running optimization trial 48...\n",
      "[INFO 08-19 14:13:59] ax.service.managed_loop: Running optimization trial 49...\n",
      "[INFO 08-19 14:14:28] ax.service.managed_loop: Running optimization trial 50...\n",
      "[INFO 08-19 14:14:57] ax.service.managed_loop: Running optimization trial 51...\n",
      "[INFO 08-19 14:15:24] ax.service.managed_loop: Running optimization trial 52...\n",
      "[INFO 08-19 14:15:54] ax.service.managed_loop: Running optimization trial 53...\n",
      "[INFO 08-19 14:16:22] ax.service.managed_loop: Running optimization trial 54...\n",
      "[INFO 08-19 14:16:44] ax.service.managed_loop: Running optimization trial 55...\n",
      "[INFO 08-19 14:16:59] ax.service.managed_loop: Running optimization trial 56...\n",
      "[INFO 08-19 14:17:14] ax.service.managed_loop: Running optimization trial 57...\n",
      "[INFO 08-19 14:17:34] ax.service.managed_loop: Running optimization trial 58...\n",
      "[INFO 08-19 14:18:11] ax.service.managed_loop: Running optimization trial 59...\n",
      "[INFO 08-19 14:18:26] ax.service.managed_loop: Running optimization trial 60...\n",
      "[INFO 08-19 14:19:00] ax.service.managed_loop: Running optimization trial 61...\n",
      "[INFO 08-19 14:19:13] ax.service.managed_loop: Running optimization trial 62...\n",
      "[INFO 08-19 14:19:27] ax.service.managed_loop: Running optimization trial 63...\n",
      "[INFO 08-19 14:19:42] ax.service.managed_loop: Running optimization trial 64...\n",
      "[INFO 08-19 14:19:56] ax.service.managed_loop: Running optimization trial 65...\n",
      "[INFO 08-19 14:20:13] ax.service.managed_loop: Running optimization trial 66...\n",
      "[INFO 08-19 14:20:33] ax.service.managed_loop: Running optimization trial 67...\n",
      "[INFO 08-19 14:21:01] ax.service.managed_loop: Running optimization trial 68...\n",
      "[INFO 08-19 14:21:20] ax.service.managed_loop: Running optimization trial 69...\n",
      "[INFO 08-19 14:21:37] ax.service.managed_loop: Running optimization trial 70...\n",
      "[INFO 08-19 14:21:57] ax.service.managed_loop: Running optimization trial 71...\n",
      "[INFO 08-19 14:22:15] ax.service.managed_loop: Running optimization trial 72...\n",
      "[INFO 08-19 14:22:41] ax.service.managed_loop: Running optimization trial 73...\n",
      "[INFO 08-19 14:23:07] ax.service.managed_loop: Running optimization trial 74...\n",
      "[INFO 08-19 14:23:34] ax.service.managed_loop: Running optimization trial 75...\n",
      "[INFO 08-19 14:23:49] ax.service.managed_loop: Running optimization trial 76...\n",
      "[INFO 08-19 14:26:11] ax.service.managed_loop: Running optimization trial 77...\n",
      "[INFO 08-19 14:29:11] ax.service.managed_loop: Running optimization trial 78...\n",
      "[INFO 08-19 14:31:28] ax.service.managed_loop: Running optimization trial 79...\n",
      "[INFO 08-19 14:33:18] ax.service.managed_loop: Running optimization trial 80...\n",
      "[INFO 08-19 14:35:46] ax.service.managed_loop: Running optimization trial 81...\n"
     ]
    },
    {
     "name": "stdout",
     "output_type": "stream",
     "text": [
      "CPU times: user 8h 13min 36s, sys: 18min 47s, total: 8h 32min 24s\n",
      "Wall time: 3h 23min 24s\n"
     ]
    }
   ],
   "source": [
    "%%time\n",
    "best_parameters = []\n",
    "values = []\n",
    "experiment = []\n",
    "model = []\n",
    "\n",
    "for sdl in tqdm(sdls):\n",
    "    def evaluation_function(parameters):\n",
    "        data = sdl.evaluate(\n",
    "            brightness=parameters[\"brightness\"],\n",
    "            R=parameters[\"R\"],\n",
    "            G=parameters[\"G\"],\n",
    "            B=parameters[\"B\"],\n",
    "        )\n",
    "        return data[\"mae\"]\n",
    "\n",
    "    bp, v, exp, m = optimize(\n",
    "        parameters=sdl.parameters,\n",
    "        evaluation_function=evaluation_function,\n",
    "        minimize=True,\n",
    "        total_trials = num_iter,\n",
    "    )\n",
    "\n",
    "    best_parameters.append(bp)\n",
    "    values.append(v)\n",
    "    experiment.append(exp)\n",
    "    model.append(m)"
   ]
  },
  {
   "cell_type": "markdown",
   "metadata": {},
   "source": [
    "### Visualization\n",
    "\n",
    "Now that we've run our three optimizations, let's compare the performance in tabular\n",
    "form and visually."
   ]
  },
  {
   "cell_type": "markdown",
   "metadata": {},
   "source": [
    "### Preparing the data"
   ]
  },
  {
   "cell_type": "code",
   "execution_count": 91,
   "metadata": {},
   "outputs": [],
   "source": [
    "grid_mae = [[g[\"mae\"] for g in gd] for gd in grid_data]\n",
    "random_mae = [[r[\"mae\"] for r in rd] for rd in random_data]\n",
    "bayesian_mae = [\n",
    "    [trial.objective_mean for trial in exp.trials.values()]\n",
    "    for exp in experiment\n",
    "]"
   ]
  },
  {
   "cell_type": "code",
   "execution_count": 97,
   "metadata": {},
   "outputs": [
    {
     "data": {
      "text/plain": [
       "(3, 10, 81)"
      ]
     },
     "execution_count": 97,
     "metadata": {},
     "output_type": "execute_result"
    }
   ],
   "source": [
    "mae = np.array([grid_mae, random_mae, bayesian_mae])\n",
    "mae.shape"
   ]
  },
  {
   "cell_type": "markdown",
   "metadata": {},
   "source": [
    "### Tabular"
   ]
  },
  {
   "cell_type": "markdown",
   "metadata": {},
   "source": [
    "> SPOILER: the following cell contains the bug!"
   ]
  },
  {
   "cell_type": "code",
   "execution_count": 158,
   "metadata": {},
   "outputs": [
    {
     "data": {
      "text/plain": [
       "(3, 81)"
      ]
     },
     "execution_count": 158,
     "metadata": {},
     "output_type": "execute_result"
    }
   ],
   "source": [
    "avg_mae = np.minimum.accumulate(np.mean(mae, axis=1), axis=1)\n",
    "std_mae = np.std(mae, axis=1)\n",
    "avg_mae.shape"
   ]
  },
  {
   "cell_type": "code",
   "execution_count": 184,
   "metadata": {},
   "outputs": [
    {
     "data": {
      "text/plain": [
       "14430.651851851851"
      ]
     },
     "execution_count": 184,
     "metadata": {},
     "output_type": "execute_result"
    }
   ],
   "source": [
    "np.mean(random_mae)"
   ]
  },
  {
   "cell_type": "code",
   "execution_count": 159,
   "metadata": {},
   "outputs": [
    {
     "data": {
      "text/plain": [
       "array([11818.8 , 10281.38, 11805.9 ])"
      ]
     },
     "execution_count": 159,
     "metadata": {},
     "output_type": "execute_result"
    }
   ],
   "source": [
    "best_avg_mae = np.min(avg_mae, axis=1)\n",
    "best_avg_mae"
   ]
  },
  {
   "cell_type": "markdown",
   "metadata": {},
   "source": [
    "### Best Objective vs. Iteration"
   ]
  },
  {
   "cell_type": "code",
   "execution_count": 160,
   "metadata": {},
   "outputs": [],
   "source": [
    "names = [\"grid\", \"random\", \"bayesian\"]\n",
    "df = pd.DataFrame({\n",
    "    **{f\"{n}_mae\": m for n, m in zip(names, avg_mae)},\n",
    "    **{f\"{n}_std\": s for n, s in zip(names, std_mae)},\n",
    "})\n"
   ]
  },
  {
   "cell_type": "code",
   "execution_count": 161,
   "metadata": {},
   "outputs": [],
   "source": [
    "mae_df = pd.melt(df.reset_index(), id_vars=[\"index\"], value_vars = [\"grid_mae\", \"random_mae\", \"bayesian_mae\"], var_name=\"method\", value_name=\"mae\")\n",
    "\n",
    "std_df = pd.melt(df.reset_index(), id_vars=[\"index\"], value_vars = [\"grid_std\", \"random_std\", \"bayesian_std\"], var_name=\"method\", value_name=\"std\")\n",
    "\n",
    "mae_df.loc[:, \"method\"] = mae_df.loc[:, \"method\"].apply(lambda x: x.replace(\"_mae\", \"\"))\n",
    "std_df.loc[:, \"method\"] = std_df.loc[:, \"method\"].apply(lambda x: x.replace(\"_std\", \"\"))"
   ]
  },
  {
   "cell_type": "code",
   "execution_count": 162,
   "metadata": {},
   "outputs": [
    {
     "data": {
      "text/html": [
       "<div>\n",
       "<style scoped>\n",
       "    .dataframe tbody tr th:only-of-type {\n",
       "        vertical-align: middle;\n",
       "    }\n",
       "\n",
       "    .dataframe tbody tr th {\n",
       "        vertical-align: top;\n",
       "    }\n",
       "\n",
       "    .dataframe thead th {\n",
       "        text-align: right;\n",
       "    }\n",
       "</style>\n",
       "<table border=\"1\" class=\"dataframe\">\n",
       "  <thead>\n",
       "    <tr style=\"text-align: right;\">\n",
       "      <th></th>\n",
       "      <th>iteration</th>\n",
       "      <th>method</th>\n",
       "      <th>mae</th>\n",
       "      <th>std</th>\n",
       "    </tr>\n",
       "  </thead>\n",
       "  <tbody>\n",
       "    <tr>\n",
       "      <th>0</th>\n",
       "      <td>0</td>\n",
       "      <td>grid</td>\n",
       "      <td>16398.42</td>\n",
       "      <td>6658.779231</td>\n",
       "    </tr>\n",
       "    <tr>\n",
       "      <th>1</th>\n",
       "      <td>1</td>\n",
       "      <td>grid</td>\n",
       "      <td>13822.91</td>\n",
       "      <td>6191.477818</td>\n",
       "    </tr>\n",
       "    <tr>\n",
       "      <th>2</th>\n",
       "      <td>2</td>\n",
       "      <td>grid</td>\n",
       "      <td>13822.91</td>\n",
       "      <td>5918.128604</td>\n",
       "    </tr>\n",
       "    <tr>\n",
       "      <th>3</th>\n",
       "      <td>3</td>\n",
       "      <td>grid</td>\n",
       "      <td>13413.53</td>\n",
       "      <td>6162.685097</td>\n",
       "    </tr>\n",
       "    <tr>\n",
       "      <th>4</th>\n",
       "      <td>4</td>\n",
       "      <td>grid</td>\n",
       "      <td>13413.53</td>\n",
       "      <td>9426.585838</td>\n",
       "    </tr>\n",
       "    <tr>\n",
       "      <th>...</th>\n",
       "      <td>...</td>\n",
       "      <td>...</td>\n",
       "      <td>...</td>\n",
       "      <td>...</td>\n",
       "    </tr>\n",
       "    <tr>\n",
       "      <th>238</th>\n",
       "      <td>76</td>\n",
       "      <td>bayesian</td>\n",
       "      <td>11805.90</td>\n",
       "      <td>8111.040048</td>\n",
       "    </tr>\n",
       "    <tr>\n",
       "      <th>239</th>\n",
       "      <td>77</td>\n",
       "      <td>bayesian</td>\n",
       "      <td>11805.90</td>\n",
       "      <td>6233.286459</td>\n",
       "    </tr>\n",
       "    <tr>\n",
       "      <th>240</th>\n",
       "      <td>78</td>\n",
       "      <td>bayesian</td>\n",
       "      <td>11805.90</td>\n",
       "      <td>6054.450131</td>\n",
       "    </tr>\n",
       "    <tr>\n",
       "      <th>241</th>\n",
       "      <td>79</td>\n",
       "      <td>bayesian</td>\n",
       "      <td>11805.90</td>\n",
       "      <td>7748.289149</td>\n",
       "    </tr>\n",
       "    <tr>\n",
       "      <th>242</th>\n",
       "      <td>80</td>\n",
       "      <td>bayesian</td>\n",
       "      <td>11805.90</td>\n",
       "      <td>7567.606603</td>\n",
       "    </tr>\n",
       "  </tbody>\n",
       "</table>\n",
       "<p>243 rows × 4 columns</p>\n",
       "</div>"
      ],
      "text/plain": [
       "     iteration    method       mae          std\n",
       "0            0      grid  16398.42  6658.779231\n",
       "1            1      grid  13822.91  6191.477818\n",
       "2            2      grid  13822.91  5918.128604\n",
       "3            3      grid  13413.53  6162.685097\n",
       "4            4      grid  13413.53  9426.585838\n",
       "..         ...       ...       ...          ...\n",
       "238         76  bayesian  11805.90  8111.040048\n",
       "239         77  bayesian  11805.90  6233.286459\n",
       "240         78  bayesian  11805.90  6054.450131\n",
       "241         79  bayesian  11805.90  7748.289149\n",
       "242         80  bayesian  11805.90  7567.606603\n",
       "\n",
       "[243 rows x 4 columns]"
      ]
     },
     "execution_count": 162,
     "metadata": {},
     "output_type": "execute_result"
    }
   ],
   "source": [
    "results_df = mae_df.merge(std_df, on=[\"method\", \"index\"]).rename(columns=dict(index=\"iteration\"))\n",
    "results_df"
   ]
  },
  {
   "cell_type": "code",
   "execution_count": 164,
   "metadata": {},
   "outputs": [
    {
     "ename": "ValueError",
     "evalue": "Mime type rendering requires nbformat>=4.2.0 but it is not installed",
     "output_type": "error",
     "traceback": [
      "\u001b[0;31m---------------------------------------------------------------------------\u001b[0m",
      "\u001b[0;31mValueError\u001b[0m                                Traceback (most recent call last)",
      "File \u001b[0;32m~/mambaforge/envs/sdl-demo/lib/python3.9/site-packages/IPython/core/formatters.py:921\u001b[0m, in \u001b[0;36mIPythonDisplayFormatter.__call__\u001b[0;34m(self, obj)\u001b[0m\n\u001b[1;32m    919\u001b[0m method \u001b[39m=\u001b[39m get_real_method(obj, \u001b[39mself\u001b[39m\u001b[39m.\u001b[39mprint_method)\n\u001b[1;32m    920\u001b[0m \u001b[39mif\u001b[39;00m method \u001b[39mis\u001b[39;00m \u001b[39mnot\u001b[39;00m \u001b[39mNone\u001b[39;00m:\n\u001b[0;32m--> 921\u001b[0m     method()\n\u001b[1;32m    922\u001b[0m     \u001b[39mreturn\u001b[39;00m \u001b[39mTrue\u001b[39;00m\n",
      "File \u001b[0;32m~/mambaforge/envs/sdl-demo/lib/python3.9/site-packages/plotly/basedatatypes.py:842\u001b[0m, in \u001b[0;36mBaseFigure._ipython_display_\u001b[0;34m(self)\u001b[0m\n\u001b[1;32m    839\u001b[0m \u001b[39mimport\u001b[39;00m \u001b[39mplotly\u001b[39;00m\u001b[39m.\u001b[39;00m\u001b[39mio\u001b[39;00m \u001b[39mas\u001b[39;00m \u001b[39mpio\u001b[39;00m\n\u001b[1;32m    841\u001b[0m \u001b[39mif\u001b[39;00m pio\u001b[39m.\u001b[39mrenderers\u001b[39m.\u001b[39mrender_on_display \u001b[39mand\u001b[39;00m pio\u001b[39m.\u001b[39mrenderers\u001b[39m.\u001b[39mdefault:\n\u001b[0;32m--> 842\u001b[0m     pio\u001b[39m.\u001b[39;49mshow(\u001b[39mself\u001b[39;49m)\n\u001b[1;32m    843\u001b[0m \u001b[39melse\u001b[39;00m:\n\u001b[1;32m    844\u001b[0m     \u001b[39mprint\u001b[39m(\u001b[39mrepr\u001b[39m(\u001b[39mself\u001b[39m))\n",
      "File \u001b[0;32m~/mambaforge/envs/sdl-demo/lib/python3.9/site-packages/plotly/io/_renderers.py:396\u001b[0m, in \u001b[0;36mshow\u001b[0;34m(fig, renderer, validate, **kwargs)\u001b[0m\n\u001b[1;32m    391\u001b[0m         \u001b[39mraise\u001b[39;00m \u001b[39mValueError\u001b[39;00m(\n\u001b[1;32m    392\u001b[0m             \u001b[39m\"\u001b[39m\u001b[39mMime type rendering requires ipython but it is not installed\u001b[39m\u001b[39m\"\u001b[39m\n\u001b[1;32m    393\u001b[0m         )\n\u001b[1;32m    395\u001b[0m     \u001b[39mif\u001b[39;00m \u001b[39mnot\u001b[39;00m nbformat \u001b[39mor\u001b[39;00m LooseVersion(nbformat\u001b[39m.\u001b[39m__version__) \u001b[39m<\u001b[39m LooseVersion(\u001b[39m\"\u001b[39m\u001b[39m4.2.0\u001b[39m\u001b[39m\"\u001b[39m):\n\u001b[0;32m--> 396\u001b[0m         \u001b[39mraise\u001b[39;00m \u001b[39mValueError\u001b[39;00m(\n\u001b[1;32m    397\u001b[0m             \u001b[39m\"\u001b[39m\u001b[39mMime type rendering requires nbformat>=4.2.0 but it is not installed\u001b[39m\u001b[39m\"\u001b[39m\n\u001b[1;32m    398\u001b[0m         )\n\u001b[1;32m    400\u001b[0m     ipython_display\u001b[39m.\u001b[39mdisplay(bundle, raw\u001b[39m=\u001b[39m\u001b[39mTrue\u001b[39;00m)\n\u001b[1;32m    402\u001b[0m \u001b[39m# external renderers\u001b[39;00m\n",
      "\u001b[0;31mValueError\u001b[0m: Mime type rendering requires nbformat>=4.2.0 but it is not installed"
     ]
    },
    {
     "data": {
      "application/vnd.plotly.v1+json": {
       "config": {
        "plotlyServerURL": "https://plot.ly"
       },
       "data": [
        {
         "hovertemplate": "method=grid<br>iteration=%{x}<br>mae=%{y}<extra></extra>",
         "legendgroup": "grid",
         "line": {
          "color": "#636efa",
          "dash": "solid"
         },
         "marker": {
          "symbol": "circle"
         },
         "mode": "lines",
         "name": "grid",
         "orientation": "v",
         "showlegend": true,
         "type": "scatter",
         "x": [
          0,
          1,
          2,
          3,
          4,
          5,
          6,
          7,
          8,
          9,
          10,
          11,
          12,
          13,
          14,
          15,
          16,
          17,
          18,
          19,
          20,
          21,
          22,
          23,
          24,
          25,
          26,
          27,
          28,
          29,
          30,
          31,
          32,
          33,
          34,
          35,
          36,
          37,
          38,
          39,
          40,
          41,
          42,
          43,
          44,
          45,
          46,
          47,
          48,
          49,
          50,
          51,
          52,
          53,
          54,
          55,
          56,
          57,
          58,
          59,
          60,
          61,
          62,
          63,
          64,
          65,
          66,
          67,
          68,
          69,
          70,
          71,
          72,
          73,
          74,
          75,
          76,
          77,
          78,
          79,
          80
         ],
         "xaxis": "x",
         "y": [
          16398.420000000002,
          13822.909999999998,
          13822.909999999998,
          13413.529999999999,
          13413.529999999999,
          13413.529999999999,
          13413.529999999999,
          13413.529999999999,
          13413.529999999999,
          13413.529999999999,
          13413.529999999999,
          13413.529999999999,
          13413.529999999999,
          13413.529999999999,
          13413.529999999999,
          13413.529999999999,
          12856.92,
          12856.92,
          12856.92,
          12856.92,
          12856.92,
          12856.92,
          12856.92,
          12856.92,
          12856.92,
          12824.560000000001,
          12824.560000000001,
          12824.560000000001,
          12824.560000000001,
          12824.560000000001,
          12824.560000000001,
          12824.560000000001,
          12824.560000000001,
          12824.560000000001,
          12824.560000000001,
          12824.560000000001,
          12824.560000000001,
          12824.560000000001,
          12824.560000000001,
          12824.560000000001,
          12824.560000000001,
          12824.560000000001,
          12824.560000000001,
          12824.560000000001,
          12824.560000000001,
          12824.560000000001,
          12824.560000000001,
          12824.560000000001,
          12824.560000000001,
          12824.560000000001,
          12824.560000000001,
          12824.560000000001,
          12824.560000000001,
          12824.560000000001,
          12824.560000000001,
          12824.560000000001,
          12824.560000000001,
          12582.52,
          12582.52,
          12582.52,
          12582.52,
          12582.52,
          12582.52,
          12582.52,
          12582.52,
          12582.52,
          12582.52,
          12582.52,
          12582.52,
          12582.52,
          11818.800000000001,
          11818.800000000001,
          11818.800000000001,
          11818.800000000001,
          11818.800000000001,
          11818.800000000001,
          11818.800000000001,
          11818.800000000001,
          11818.800000000001,
          11818.800000000001,
          11818.800000000001
         ],
         "yaxis": "y"
        },
        {
         "hovertemplate": "method=random<br>iteration=%{x}<br>mae=%{y}<extra></extra>",
         "legendgroup": "random",
         "line": {
          "color": "#EF553B",
          "dash": "solid"
         },
         "marker": {
          "symbol": "circle"
         },
         "mode": "lines",
         "name": "random",
         "orientation": "v",
         "showlegend": true,
         "type": "scatter",
         "x": [
          0,
          1,
          2,
          3,
          4,
          5,
          6,
          7,
          8,
          9,
          10,
          11,
          12,
          13,
          14,
          15,
          16,
          17,
          18,
          19,
          20,
          21,
          22,
          23,
          24,
          25,
          26,
          27,
          28,
          29,
          30,
          31,
          32,
          33,
          34,
          35,
          36,
          37,
          38,
          39,
          40,
          41,
          42,
          43,
          44,
          45,
          46,
          47,
          48,
          49,
          50,
          51,
          52,
          53,
          54,
          55,
          56,
          57,
          58,
          59,
          60,
          61,
          62,
          63,
          64,
          65,
          66,
          67,
          68,
          69,
          70,
          71,
          72,
          73,
          74,
          75,
          76,
          77,
          78,
          79,
          80
         ],
         "xaxis": "x",
         "y": [
          13632.98,
          13632.98,
          13632.98,
          13632.98,
          13246.11,
          13246.11,
          13246.11,
          13246.11,
          13246.11,
          13246.11,
          12310.14,
          12310.14,
          12310.14,
          12310.14,
          12270.210000000001,
          12270.210000000001,
          12270.210000000001,
          12270.210000000001,
          11705.600000000002,
          11705.600000000002,
          11705.600000000002,
          11705.600000000002,
          11705.600000000002,
          11705.600000000002,
          11705.600000000002,
          11705.600000000002,
          11705.600000000002,
          11705.600000000002,
          11705.600000000002,
          11705.600000000002,
          11705.600000000002,
          11705.600000000002,
          11705.600000000002,
          11705.600000000002,
          11705.600000000002,
          11705.600000000002,
          11705.600000000002,
          11705.600000000002,
          11705.600000000002,
          11705.600000000002,
          11705.600000000002,
          10281.380000000001,
          10281.380000000001,
          10281.380000000001,
          10281.380000000001,
          10281.380000000001,
          10281.380000000001,
          10281.380000000001,
          10281.380000000001,
          10281.380000000001,
          10281.380000000001,
          10281.380000000001,
          10281.380000000001,
          10281.380000000001,
          10281.380000000001,
          10281.380000000001,
          10281.380000000001,
          10281.380000000001,
          10281.380000000001,
          10281.380000000001,
          10281.380000000001,
          10281.380000000001,
          10281.380000000001,
          10281.380000000001,
          10281.380000000001,
          10281.380000000001,
          10281.380000000001,
          10281.380000000001,
          10281.380000000001,
          10281.380000000001,
          10281.380000000001,
          10281.380000000001,
          10281.380000000001,
          10281.380000000001,
          10281.380000000001,
          10281.380000000001,
          10281.380000000001,
          10281.380000000001,
          10281.380000000001,
          10281.380000000001,
          10281.380000000001
         ],
         "yaxis": "y"
        },
        {
         "hovertemplate": "method=bayesian<br>iteration=%{x}<br>mae=%{y}<extra></extra>",
         "legendgroup": "bayesian",
         "line": {
          "color": "#00cc96",
          "dash": "solid"
         },
         "marker": {
          "symbol": "circle"
         },
         "mode": "lines",
         "name": "bayesian",
         "orientation": "v",
         "showlegend": true,
         "type": "scatter",
         "x": [
          0,
          1,
          2,
          3,
          4,
          5,
          6,
          7,
          8,
          9,
          10,
          11,
          12,
          13,
          14,
          15,
          16,
          17,
          18,
          19,
          20,
          21,
          22,
          23,
          24,
          25,
          26,
          27,
          28,
          29,
          30,
          31,
          32,
          33,
          34,
          35,
          36,
          37,
          38,
          39,
          40,
          41,
          42,
          43,
          44,
          45,
          46,
          47,
          48,
          49,
          50,
          51,
          52,
          53,
          54,
          55,
          56,
          57,
          58,
          59,
          60,
          61,
          62,
          63,
          64,
          65,
          66,
          67,
          68,
          69,
          70,
          71,
          72,
          73,
          74,
          75,
          76,
          77,
          78,
          79,
          80
         ],
         "xaxis": "x",
         "y": [
          17006.06,
          13660.02,
          13660.02,
          13660.02,
          13660.02,
          13660.02,
          13660.02,
          13660.02,
          13660.02,
          13660.02,
          13660.02,
          13543.209999999997,
          13543.209999999997,
          13543.209999999997,
          13543.209999999997,
          13543.209999999997,
          13543.209999999997,
          13543.209999999997,
          13543.209999999997,
          13543.209999999997,
          13543.209999999997,
          13543.209999999997,
          13543.209999999997,
          13543.209999999997,
          13543.209999999997,
          13543.209999999997,
          13543.209999999997,
          13543.209999999997,
          13543.209999999997,
          13543.209999999997,
          13543.209999999997,
          13543.209999999997,
          12535.65,
          12535.65,
          12535.65,
          12535.65,
          12535.65,
          12535.65,
          12535.65,
          12535.65,
          12535.65,
          12535.65,
          12535.65,
          12535.65,
          12535.65,
          12535.65,
          12535.65,
          12535.65,
          12535.65,
          12535.65,
          12535.65,
          12535.65,
          12535.65,
          12535.65,
          12535.65,
          12535.65,
          12535.65,
          12535.65,
          12535.65,
          12535.65,
          12535.65,
          12535.65,
          12535.65,
          12535.65,
          12535.65,
          12535.65,
          12096.510000000002,
          12096.510000000002,
          12096.510000000002,
          12096.510000000002,
          12096.510000000002,
          12096.510000000002,
          12096.510000000002,
          12096.510000000002,
          11805.900000000001,
          11805.900000000001,
          11805.900000000001,
          11805.900000000001,
          11805.900000000001,
          11805.900000000001,
          11805.900000000001
         ],
         "yaxis": "y"
        }
       ],
       "layout": {
        "legend": {
         "title": {
          "text": "method"
         },
         "tracegroupgap": 0
        },
        "margin": {
         "t": 60
        },
        "template": {
         "data": {
          "bar": [
           {
            "error_x": {
             "color": "#2a3f5f"
            },
            "error_y": {
             "color": "#2a3f5f"
            },
            "marker": {
             "line": {
              "color": "#E5ECF6",
              "width": 0.5
             },
             "pattern": {
              "fillmode": "overlay",
              "size": 10,
              "solidity": 0.2
             }
            },
            "type": "bar"
           }
          ],
          "barpolar": [
           {
            "marker": {
             "line": {
              "color": "#E5ECF6",
              "width": 0.5
             },
             "pattern": {
              "fillmode": "overlay",
              "size": 10,
              "solidity": 0.2
             }
            },
            "type": "barpolar"
           }
          ],
          "carpet": [
           {
            "aaxis": {
             "endlinecolor": "#2a3f5f",
             "gridcolor": "white",
             "linecolor": "white",
             "minorgridcolor": "white",
             "startlinecolor": "#2a3f5f"
            },
            "baxis": {
             "endlinecolor": "#2a3f5f",
             "gridcolor": "white",
             "linecolor": "white",
             "minorgridcolor": "white",
             "startlinecolor": "#2a3f5f"
            },
            "type": "carpet"
           }
          ],
          "choropleth": [
           {
            "colorbar": {
             "outlinewidth": 0,
             "ticks": ""
            },
            "type": "choropleth"
           }
          ],
          "contour": [
           {
            "colorbar": {
             "outlinewidth": 0,
             "ticks": ""
            },
            "colorscale": [
             [
              0,
              "#0d0887"
             ],
             [
              0.1111111111111111,
              "#46039f"
             ],
             [
              0.2222222222222222,
              "#7201a8"
             ],
             [
              0.3333333333333333,
              "#9c179e"
             ],
             [
              0.4444444444444444,
              "#bd3786"
             ],
             [
              0.5555555555555556,
              "#d8576b"
             ],
             [
              0.6666666666666666,
              "#ed7953"
             ],
             [
              0.7777777777777778,
              "#fb9f3a"
             ],
             [
              0.8888888888888888,
              "#fdca26"
             ],
             [
              1,
              "#f0f921"
             ]
            ],
            "type": "contour"
           }
          ],
          "contourcarpet": [
           {
            "colorbar": {
             "outlinewidth": 0,
             "ticks": ""
            },
            "type": "contourcarpet"
           }
          ],
          "heatmap": [
           {
            "colorbar": {
             "outlinewidth": 0,
             "ticks": ""
            },
            "colorscale": [
             [
              0,
              "#0d0887"
             ],
             [
              0.1111111111111111,
              "#46039f"
             ],
             [
              0.2222222222222222,
              "#7201a8"
             ],
             [
              0.3333333333333333,
              "#9c179e"
             ],
             [
              0.4444444444444444,
              "#bd3786"
             ],
             [
              0.5555555555555556,
              "#d8576b"
             ],
             [
              0.6666666666666666,
              "#ed7953"
             ],
             [
              0.7777777777777778,
              "#fb9f3a"
             ],
             [
              0.8888888888888888,
              "#fdca26"
             ],
             [
              1,
              "#f0f921"
             ]
            ],
            "type": "heatmap"
           }
          ],
          "heatmapgl": [
           {
            "colorbar": {
             "outlinewidth": 0,
             "ticks": ""
            },
            "colorscale": [
             [
              0,
              "#0d0887"
             ],
             [
              0.1111111111111111,
              "#46039f"
             ],
             [
              0.2222222222222222,
              "#7201a8"
             ],
             [
              0.3333333333333333,
              "#9c179e"
             ],
             [
              0.4444444444444444,
              "#bd3786"
             ],
             [
              0.5555555555555556,
              "#d8576b"
             ],
             [
              0.6666666666666666,
              "#ed7953"
             ],
             [
              0.7777777777777778,
              "#fb9f3a"
             ],
             [
              0.8888888888888888,
              "#fdca26"
             ],
             [
              1,
              "#f0f921"
             ]
            ],
            "type": "heatmapgl"
           }
          ],
          "histogram": [
           {
            "marker": {
             "pattern": {
              "fillmode": "overlay",
              "size": 10,
              "solidity": 0.2
             }
            },
            "type": "histogram"
           }
          ],
          "histogram2d": [
           {
            "colorbar": {
             "outlinewidth": 0,
             "ticks": ""
            },
            "colorscale": [
             [
              0,
              "#0d0887"
             ],
             [
              0.1111111111111111,
              "#46039f"
             ],
             [
              0.2222222222222222,
              "#7201a8"
             ],
             [
              0.3333333333333333,
              "#9c179e"
             ],
             [
              0.4444444444444444,
              "#bd3786"
             ],
             [
              0.5555555555555556,
              "#d8576b"
             ],
             [
              0.6666666666666666,
              "#ed7953"
             ],
             [
              0.7777777777777778,
              "#fb9f3a"
             ],
             [
              0.8888888888888888,
              "#fdca26"
             ],
             [
              1,
              "#f0f921"
             ]
            ],
            "type": "histogram2d"
           }
          ],
          "histogram2dcontour": [
           {
            "colorbar": {
             "outlinewidth": 0,
             "ticks": ""
            },
            "colorscale": [
             [
              0,
              "#0d0887"
             ],
             [
              0.1111111111111111,
              "#46039f"
             ],
             [
              0.2222222222222222,
              "#7201a8"
             ],
             [
              0.3333333333333333,
              "#9c179e"
             ],
             [
              0.4444444444444444,
              "#bd3786"
             ],
             [
              0.5555555555555556,
              "#d8576b"
             ],
             [
              0.6666666666666666,
              "#ed7953"
             ],
             [
              0.7777777777777778,
              "#fb9f3a"
             ],
             [
              0.8888888888888888,
              "#fdca26"
             ],
             [
              1,
              "#f0f921"
             ]
            ],
            "type": "histogram2dcontour"
           }
          ],
          "mesh3d": [
           {
            "colorbar": {
             "outlinewidth": 0,
             "ticks": ""
            },
            "type": "mesh3d"
           }
          ],
          "parcoords": [
           {
            "line": {
             "colorbar": {
              "outlinewidth": 0,
              "ticks": ""
             }
            },
            "type": "parcoords"
           }
          ],
          "pie": [
           {
            "automargin": true,
            "type": "pie"
           }
          ],
          "scatter": [
           {
            "fillpattern": {
             "fillmode": "overlay",
             "size": 10,
             "solidity": 0.2
            },
            "type": "scatter"
           }
          ],
          "scatter3d": [
           {
            "line": {
             "colorbar": {
              "outlinewidth": 0,
              "ticks": ""
             }
            },
            "marker": {
             "colorbar": {
              "outlinewidth": 0,
              "ticks": ""
             }
            },
            "type": "scatter3d"
           }
          ],
          "scattercarpet": [
           {
            "marker": {
             "colorbar": {
              "outlinewidth": 0,
              "ticks": ""
             }
            },
            "type": "scattercarpet"
           }
          ],
          "scattergeo": [
           {
            "marker": {
             "colorbar": {
              "outlinewidth": 0,
              "ticks": ""
             }
            },
            "type": "scattergeo"
           }
          ],
          "scattergl": [
           {
            "marker": {
             "colorbar": {
              "outlinewidth": 0,
              "ticks": ""
             }
            },
            "type": "scattergl"
           }
          ],
          "scattermapbox": [
           {
            "marker": {
             "colorbar": {
              "outlinewidth": 0,
              "ticks": ""
             }
            },
            "type": "scattermapbox"
           }
          ],
          "scatterpolar": [
           {
            "marker": {
             "colorbar": {
              "outlinewidth": 0,
              "ticks": ""
             }
            },
            "type": "scatterpolar"
           }
          ],
          "scatterpolargl": [
           {
            "marker": {
             "colorbar": {
              "outlinewidth": 0,
              "ticks": ""
             }
            },
            "type": "scatterpolargl"
           }
          ],
          "scatterternary": [
           {
            "marker": {
             "colorbar": {
              "outlinewidth": 0,
              "ticks": ""
             }
            },
            "type": "scatterternary"
           }
          ],
          "surface": [
           {
            "colorbar": {
             "outlinewidth": 0,
             "ticks": ""
            },
            "colorscale": [
             [
              0,
              "#0d0887"
             ],
             [
              0.1111111111111111,
              "#46039f"
             ],
             [
              0.2222222222222222,
              "#7201a8"
             ],
             [
              0.3333333333333333,
              "#9c179e"
             ],
             [
              0.4444444444444444,
              "#bd3786"
             ],
             [
              0.5555555555555556,
              "#d8576b"
             ],
             [
              0.6666666666666666,
              "#ed7953"
             ],
             [
              0.7777777777777778,
              "#fb9f3a"
             ],
             [
              0.8888888888888888,
              "#fdca26"
             ],
             [
              1,
              "#f0f921"
             ]
            ],
            "type": "surface"
           }
          ],
          "table": [
           {
            "cells": {
             "fill": {
              "color": "#EBF0F8"
             },
             "line": {
              "color": "white"
             }
            },
            "header": {
             "fill": {
              "color": "#C8D4E3"
             },
             "line": {
              "color": "white"
             }
            },
            "type": "table"
           }
          ]
         },
         "layout": {
          "annotationdefaults": {
           "arrowcolor": "#2a3f5f",
           "arrowhead": 0,
           "arrowwidth": 1
          },
          "autotypenumbers": "strict",
          "coloraxis": {
           "colorbar": {
            "outlinewidth": 0,
            "ticks": ""
           }
          },
          "colorscale": {
           "diverging": [
            [
             0,
             "#8e0152"
            ],
            [
             0.1,
             "#c51b7d"
            ],
            [
             0.2,
             "#de77ae"
            ],
            [
             0.3,
             "#f1b6da"
            ],
            [
             0.4,
             "#fde0ef"
            ],
            [
             0.5,
             "#f7f7f7"
            ],
            [
             0.6,
             "#e6f5d0"
            ],
            [
             0.7,
             "#b8e186"
            ],
            [
             0.8,
             "#7fbc41"
            ],
            [
             0.9,
             "#4d9221"
            ],
            [
             1,
             "#276419"
            ]
           ],
           "sequential": [
            [
             0,
             "#0d0887"
            ],
            [
             0.1111111111111111,
             "#46039f"
            ],
            [
             0.2222222222222222,
             "#7201a8"
            ],
            [
             0.3333333333333333,
             "#9c179e"
            ],
            [
             0.4444444444444444,
             "#bd3786"
            ],
            [
             0.5555555555555556,
             "#d8576b"
            ],
            [
             0.6666666666666666,
             "#ed7953"
            ],
            [
             0.7777777777777778,
             "#fb9f3a"
            ],
            [
             0.8888888888888888,
             "#fdca26"
            ],
            [
             1,
             "#f0f921"
            ]
           ],
           "sequentialminus": [
            [
             0,
             "#0d0887"
            ],
            [
             0.1111111111111111,
             "#46039f"
            ],
            [
             0.2222222222222222,
             "#7201a8"
            ],
            [
             0.3333333333333333,
             "#9c179e"
            ],
            [
             0.4444444444444444,
             "#bd3786"
            ],
            [
             0.5555555555555556,
             "#d8576b"
            ],
            [
             0.6666666666666666,
             "#ed7953"
            ],
            [
             0.7777777777777778,
             "#fb9f3a"
            ],
            [
             0.8888888888888888,
             "#fdca26"
            ],
            [
             1,
             "#f0f921"
            ]
           ]
          },
          "colorway": [
           "#636efa",
           "#EF553B",
           "#00cc96",
           "#ab63fa",
           "#FFA15A",
           "#19d3f3",
           "#FF6692",
           "#B6E880",
           "#FF97FF",
           "#FECB52"
          ],
          "font": {
           "color": "#2a3f5f"
          },
          "geo": {
           "bgcolor": "white",
           "lakecolor": "white",
           "landcolor": "#E5ECF6",
           "showlakes": true,
           "showland": true,
           "subunitcolor": "white"
          },
          "hoverlabel": {
           "align": "left"
          },
          "hovermode": "closest",
          "mapbox": {
           "style": "light"
          },
          "paper_bgcolor": "white",
          "plot_bgcolor": "#E5ECF6",
          "polar": {
           "angularaxis": {
            "gridcolor": "white",
            "linecolor": "white",
            "ticks": ""
           },
           "bgcolor": "#E5ECF6",
           "radialaxis": {
            "gridcolor": "white",
            "linecolor": "white",
            "ticks": ""
           }
          },
          "scene": {
           "xaxis": {
            "backgroundcolor": "#E5ECF6",
            "gridcolor": "white",
            "gridwidth": 2,
            "linecolor": "white",
            "showbackground": true,
            "ticks": "",
            "zerolinecolor": "white"
           },
           "yaxis": {
            "backgroundcolor": "#E5ECF6",
            "gridcolor": "white",
            "gridwidth": 2,
            "linecolor": "white",
            "showbackground": true,
            "ticks": "",
            "zerolinecolor": "white"
           },
           "zaxis": {
            "backgroundcolor": "#E5ECF6",
            "gridcolor": "white",
            "gridwidth": 2,
            "linecolor": "white",
            "showbackground": true,
            "ticks": "",
            "zerolinecolor": "white"
           }
          },
          "shapedefaults": {
           "line": {
            "color": "#2a3f5f"
           }
          },
          "ternary": {
           "aaxis": {
            "gridcolor": "white",
            "linecolor": "white",
            "ticks": ""
           },
           "baxis": {
            "gridcolor": "white",
            "linecolor": "white",
            "ticks": ""
           },
           "bgcolor": "#E5ECF6",
           "caxis": {
            "gridcolor": "white",
            "linecolor": "white",
            "ticks": ""
           }
          },
          "title": {
           "x": 0.05
          },
          "xaxis": {
           "automargin": true,
           "gridcolor": "white",
           "linecolor": "white",
           "ticks": "",
           "title": {
            "standoff": 15
           },
           "zerolinecolor": "white",
           "zerolinewidth": 2
          },
          "yaxis": {
           "automargin": true,
           "gridcolor": "white",
           "linecolor": "white",
           "ticks": "",
           "title": {
            "standoff": 15
           },
           "zerolinecolor": "white",
           "zerolinewidth": 2
          }
         }
        },
        "xaxis": {
         "anchor": "y",
         "domain": [
          0,
          1
         ],
         "title": {
          "text": "iteration"
         }
        },
        "yaxis": {
         "anchor": "x",
         "domain": [
          0,
          1
         ],
         "title": {
          "text": "mae"
         }
        }
       }
      },
      "text/html": [
       "<div>                            <div id=\"1386ac95-6bae-426c-a96c-91346d923447\" class=\"plotly-graph-div\" style=\"height:525px; width:100%;\"></div>            <script type=\"text/javascript\">                require([\"plotly\"], function(Plotly) {                    window.PLOTLYENV=window.PLOTLYENV || {};                                    if (document.getElementById(\"1386ac95-6bae-426c-a96c-91346d923447\")) {                    Plotly.newPlot(                        \"1386ac95-6bae-426c-a96c-91346d923447\",                        [{\"hovertemplate\":\"method=grid<br>iteration=%{x}<br>mae=%{y}<extra></extra>\",\"legendgroup\":\"grid\",\"line\":{\"color\":\"#636efa\",\"dash\":\"solid\"},\"marker\":{\"symbol\":\"circle\"},\"mode\":\"lines\",\"name\":\"grid\",\"orientation\":\"v\",\"showlegend\":true,\"x\":[0,1,2,3,4,5,6,7,8,9,10,11,12,13,14,15,16,17,18,19,20,21,22,23,24,25,26,27,28,29,30,31,32,33,34,35,36,37,38,39,40,41,42,43,44,45,46,47,48,49,50,51,52,53,54,55,56,57,58,59,60,61,62,63,64,65,66,67,68,69,70,71,72,73,74,75,76,77,78,79,80],\"xaxis\":\"x\",\"y\":[16398.420000000002,13822.909999999998,13822.909999999998,13413.529999999999,13413.529999999999,13413.529999999999,13413.529999999999,13413.529999999999,13413.529999999999,13413.529999999999,13413.529999999999,13413.529999999999,13413.529999999999,13413.529999999999,13413.529999999999,13413.529999999999,12856.92,12856.92,12856.92,12856.92,12856.92,12856.92,12856.92,12856.92,12856.92,12824.560000000001,12824.560000000001,12824.560000000001,12824.560000000001,12824.560000000001,12824.560000000001,12824.560000000001,12824.560000000001,12824.560000000001,12824.560000000001,12824.560000000001,12824.560000000001,12824.560000000001,12824.560000000001,12824.560000000001,12824.560000000001,12824.560000000001,12824.560000000001,12824.560000000001,12824.560000000001,12824.560000000001,12824.560000000001,12824.560000000001,12824.560000000001,12824.560000000001,12824.560000000001,12824.560000000001,12824.560000000001,12824.560000000001,12824.560000000001,12824.560000000001,12824.560000000001,12582.52,12582.52,12582.52,12582.52,12582.52,12582.52,12582.52,12582.52,12582.52,12582.52,12582.52,12582.52,12582.52,11818.800000000001,11818.800000000001,11818.800000000001,11818.800000000001,11818.800000000001,11818.800000000001,11818.800000000001,11818.800000000001,11818.800000000001,11818.800000000001,11818.800000000001],\"yaxis\":\"y\",\"type\":\"scatter\"},{\"hovertemplate\":\"method=random<br>iteration=%{x}<br>mae=%{y}<extra></extra>\",\"legendgroup\":\"random\",\"line\":{\"color\":\"#EF553B\",\"dash\":\"solid\"},\"marker\":{\"symbol\":\"circle\"},\"mode\":\"lines\",\"name\":\"random\",\"orientation\":\"v\",\"showlegend\":true,\"x\":[0,1,2,3,4,5,6,7,8,9,10,11,12,13,14,15,16,17,18,19,20,21,22,23,24,25,26,27,28,29,30,31,32,33,34,35,36,37,38,39,40,41,42,43,44,45,46,47,48,49,50,51,52,53,54,55,56,57,58,59,60,61,62,63,64,65,66,67,68,69,70,71,72,73,74,75,76,77,78,79,80],\"xaxis\":\"x\",\"y\":[13632.98,13632.98,13632.98,13632.98,13246.11,13246.11,13246.11,13246.11,13246.11,13246.11,12310.14,12310.14,12310.14,12310.14,12270.210000000001,12270.210000000001,12270.210000000001,12270.210000000001,11705.600000000002,11705.600000000002,11705.600000000002,11705.600000000002,11705.600000000002,11705.600000000002,11705.600000000002,11705.600000000002,11705.600000000002,11705.600000000002,11705.600000000002,11705.600000000002,11705.600000000002,11705.600000000002,11705.600000000002,11705.600000000002,11705.600000000002,11705.600000000002,11705.600000000002,11705.600000000002,11705.600000000002,11705.600000000002,11705.600000000002,10281.380000000001,10281.380000000001,10281.380000000001,10281.380000000001,10281.380000000001,10281.380000000001,10281.380000000001,10281.380000000001,10281.380000000001,10281.380000000001,10281.380000000001,10281.380000000001,10281.380000000001,10281.380000000001,10281.380000000001,10281.380000000001,10281.380000000001,10281.380000000001,10281.380000000001,10281.380000000001,10281.380000000001,10281.380000000001,10281.380000000001,10281.380000000001,10281.380000000001,10281.380000000001,10281.380000000001,10281.380000000001,10281.380000000001,10281.380000000001,10281.380000000001,10281.380000000001,10281.380000000001,10281.380000000001,10281.380000000001,10281.380000000001,10281.380000000001,10281.380000000001,10281.380000000001,10281.380000000001],\"yaxis\":\"y\",\"type\":\"scatter\"},{\"hovertemplate\":\"method=bayesian<br>iteration=%{x}<br>mae=%{y}<extra></extra>\",\"legendgroup\":\"bayesian\",\"line\":{\"color\":\"#00cc96\",\"dash\":\"solid\"},\"marker\":{\"symbol\":\"circle\"},\"mode\":\"lines\",\"name\":\"bayesian\",\"orientation\":\"v\",\"showlegend\":true,\"x\":[0,1,2,3,4,5,6,7,8,9,10,11,12,13,14,15,16,17,18,19,20,21,22,23,24,25,26,27,28,29,30,31,32,33,34,35,36,37,38,39,40,41,42,43,44,45,46,47,48,49,50,51,52,53,54,55,56,57,58,59,60,61,62,63,64,65,66,67,68,69,70,71,72,73,74,75,76,77,78,79,80],\"xaxis\":\"x\",\"y\":[17006.06,13660.02,13660.02,13660.02,13660.02,13660.02,13660.02,13660.02,13660.02,13660.02,13660.02,13543.209999999997,13543.209999999997,13543.209999999997,13543.209999999997,13543.209999999997,13543.209999999997,13543.209999999997,13543.209999999997,13543.209999999997,13543.209999999997,13543.209999999997,13543.209999999997,13543.209999999997,13543.209999999997,13543.209999999997,13543.209999999997,13543.209999999997,13543.209999999997,13543.209999999997,13543.209999999997,13543.209999999997,12535.65,12535.65,12535.65,12535.65,12535.65,12535.65,12535.65,12535.65,12535.65,12535.65,12535.65,12535.65,12535.65,12535.65,12535.65,12535.65,12535.65,12535.65,12535.65,12535.65,12535.65,12535.65,12535.65,12535.65,12535.65,12535.65,12535.65,12535.65,12535.65,12535.65,12535.65,12535.65,12535.65,12535.65,12096.510000000002,12096.510000000002,12096.510000000002,12096.510000000002,12096.510000000002,12096.510000000002,12096.510000000002,12096.510000000002,11805.900000000001,11805.900000000001,11805.900000000001,11805.900000000001,11805.900000000001,11805.900000000001,11805.900000000001],\"yaxis\":\"y\",\"type\":\"scatter\"}],                        {\"template\":{\"data\":{\"histogram2dcontour\":[{\"type\":\"histogram2dcontour\",\"colorbar\":{\"outlinewidth\":0,\"ticks\":\"\"},\"colorscale\":[[0.0,\"#0d0887\"],[0.1111111111111111,\"#46039f\"],[0.2222222222222222,\"#7201a8\"],[0.3333333333333333,\"#9c179e\"],[0.4444444444444444,\"#bd3786\"],[0.5555555555555556,\"#d8576b\"],[0.6666666666666666,\"#ed7953\"],[0.7777777777777778,\"#fb9f3a\"],[0.8888888888888888,\"#fdca26\"],[1.0,\"#f0f921\"]]}],\"choropleth\":[{\"type\":\"choropleth\",\"colorbar\":{\"outlinewidth\":0,\"ticks\":\"\"}}],\"histogram2d\":[{\"type\":\"histogram2d\",\"colorbar\":{\"outlinewidth\":0,\"ticks\":\"\"},\"colorscale\":[[0.0,\"#0d0887\"],[0.1111111111111111,\"#46039f\"],[0.2222222222222222,\"#7201a8\"],[0.3333333333333333,\"#9c179e\"],[0.4444444444444444,\"#bd3786\"],[0.5555555555555556,\"#d8576b\"],[0.6666666666666666,\"#ed7953\"],[0.7777777777777778,\"#fb9f3a\"],[0.8888888888888888,\"#fdca26\"],[1.0,\"#f0f921\"]]}],\"heatmap\":[{\"type\":\"heatmap\",\"colorbar\":{\"outlinewidth\":0,\"ticks\":\"\"},\"colorscale\":[[0.0,\"#0d0887\"],[0.1111111111111111,\"#46039f\"],[0.2222222222222222,\"#7201a8\"],[0.3333333333333333,\"#9c179e\"],[0.4444444444444444,\"#bd3786\"],[0.5555555555555556,\"#d8576b\"],[0.6666666666666666,\"#ed7953\"],[0.7777777777777778,\"#fb9f3a\"],[0.8888888888888888,\"#fdca26\"],[1.0,\"#f0f921\"]]}],\"heatmapgl\":[{\"type\":\"heatmapgl\",\"colorbar\":{\"outlinewidth\":0,\"ticks\":\"\"},\"colorscale\":[[0.0,\"#0d0887\"],[0.1111111111111111,\"#46039f\"],[0.2222222222222222,\"#7201a8\"],[0.3333333333333333,\"#9c179e\"],[0.4444444444444444,\"#bd3786\"],[0.5555555555555556,\"#d8576b\"],[0.6666666666666666,\"#ed7953\"],[0.7777777777777778,\"#fb9f3a\"],[0.8888888888888888,\"#fdca26\"],[1.0,\"#f0f921\"]]}],\"contourcarpet\":[{\"type\":\"contourcarpet\",\"colorbar\":{\"outlinewidth\":0,\"ticks\":\"\"}}],\"contour\":[{\"type\":\"contour\",\"colorbar\":{\"outlinewidth\":0,\"ticks\":\"\"},\"colorscale\":[[0.0,\"#0d0887\"],[0.1111111111111111,\"#46039f\"],[0.2222222222222222,\"#7201a8\"],[0.3333333333333333,\"#9c179e\"],[0.4444444444444444,\"#bd3786\"],[0.5555555555555556,\"#d8576b\"],[0.6666666666666666,\"#ed7953\"],[0.7777777777777778,\"#fb9f3a\"],[0.8888888888888888,\"#fdca26\"],[1.0,\"#f0f921\"]]}],\"surface\":[{\"type\":\"surface\",\"colorbar\":{\"outlinewidth\":0,\"ticks\":\"\"},\"colorscale\":[[0.0,\"#0d0887\"],[0.1111111111111111,\"#46039f\"],[0.2222222222222222,\"#7201a8\"],[0.3333333333333333,\"#9c179e\"],[0.4444444444444444,\"#bd3786\"],[0.5555555555555556,\"#d8576b\"],[0.6666666666666666,\"#ed7953\"],[0.7777777777777778,\"#fb9f3a\"],[0.8888888888888888,\"#fdca26\"],[1.0,\"#f0f921\"]]}],\"mesh3d\":[{\"type\":\"mesh3d\",\"colorbar\":{\"outlinewidth\":0,\"ticks\":\"\"}}],\"scatter\":[{\"fillpattern\":{\"fillmode\":\"overlay\",\"size\":10,\"solidity\":0.2},\"type\":\"scatter\"}],\"parcoords\":[{\"type\":\"parcoords\",\"line\":{\"colorbar\":{\"outlinewidth\":0,\"ticks\":\"\"}}}],\"scatterpolargl\":[{\"type\":\"scatterpolargl\",\"marker\":{\"colorbar\":{\"outlinewidth\":0,\"ticks\":\"\"}}}],\"bar\":[{\"error_x\":{\"color\":\"#2a3f5f\"},\"error_y\":{\"color\":\"#2a3f5f\"},\"marker\":{\"line\":{\"color\":\"#E5ECF6\",\"width\":0.5},\"pattern\":{\"fillmode\":\"overlay\",\"size\":10,\"solidity\":0.2}},\"type\":\"bar\"}],\"scattergeo\":[{\"type\":\"scattergeo\",\"marker\":{\"colorbar\":{\"outlinewidth\":0,\"ticks\":\"\"}}}],\"scatterpolar\":[{\"type\":\"scatterpolar\",\"marker\":{\"colorbar\":{\"outlinewidth\":0,\"ticks\":\"\"}}}],\"histogram\":[{\"marker\":{\"pattern\":{\"fillmode\":\"overlay\",\"size\":10,\"solidity\":0.2}},\"type\":\"histogram\"}],\"scattergl\":[{\"type\":\"scattergl\",\"marker\":{\"colorbar\":{\"outlinewidth\":0,\"ticks\":\"\"}}}],\"scatter3d\":[{\"type\":\"scatter3d\",\"line\":{\"colorbar\":{\"outlinewidth\":0,\"ticks\":\"\"}},\"marker\":{\"colorbar\":{\"outlinewidth\":0,\"ticks\":\"\"}}}],\"scattermapbox\":[{\"type\":\"scattermapbox\",\"marker\":{\"colorbar\":{\"outlinewidth\":0,\"ticks\":\"\"}}}],\"scatterternary\":[{\"type\":\"scatterternary\",\"marker\":{\"colorbar\":{\"outlinewidth\":0,\"ticks\":\"\"}}}],\"scattercarpet\":[{\"type\":\"scattercarpet\",\"marker\":{\"colorbar\":{\"outlinewidth\":0,\"ticks\":\"\"}}}],\"carpet\":[{\"aaxis\":{\"endlinecolor\":\"#2a3f5f\",\"gridcolor\":\"white\",\"linecolor\":\"white\",\"minorgridcolor\":\"white\",\"startlinecolor\":\"#2a3f5f\"},\"baxis\":{\"endlinecolor\":\"#2a3f5f\",\"gridcolor\":\"white\",\"linecolor\":\"white\",\"minorgridcolor\":\"white\",\"startlinecolor\":\"#2a3f5f\"},\"type\":\"carpet\"}],\"table\":[{\"cells\":{\"fill\":{\"color\":\"#EBF0F8\"},\"line\":{\"color\":\"white\"}},\"header\":{\"fill\":{\"color\":\"#C8D4E3\"},\"line\":{\"color\":\"white\"}},\"type\":\"table\"}],\"barpolar\":[{\"marker\":{\"line\":{\"color\":\"#E5ECF6\",\"width\":0.5},\"pattern\":{\"fillmode\":\"overlay\",\"size\":10,\"solidity\":0.2}},\"type\":\"barpolar\"}],\"pie\":[{\"automargin\":true,\"type\":\"pie\"}]},\"layout\":{\"autotypenumbers\":\"strict\",\"colorway\":[\"#636efa\",\"#EF553B\",\"#00cc96\",\"#ab63fa\",\"#FFA15A\",\"#19d3f3\",\"#FF6692\",\"#B6E880\",\"#FF97FF\",\"#FECB52\"],\"font\":{\"color\":\"#2a3f5f\"},\"hovermode\":\"closest\",\"hoverlabel\":{\"align\":\"left\"},\"paper_bgcolor\":\"white\",\"plot_bgcolor\":\"#E5ECF6\",\"polar\":{\"bgcolor\":\"#E5ECF6\",\"angularaxis\":{\"gridcolor\":\"white\",\"linecolor\":\"white\",\"ticks\":\"\"},\"radialaxis\":{\"gridcolor\":\"white\",\"linecolor\":\"white\",\"ticks\":\"\"}},\"ternary\":{\"bgcolor\":\"#E5ECF6\",\"aaxis\":{\"gridcolor\":\"white\",\"linecolor\":\"white\",\"ticks\":\"\"},\"baxis\":{\"gridcolor\":\"white\",\"linecolor\":\"white\",\"ticks\":\"\"},\"caxis\":{\"gridcolor\":\"white\",\"linecolor\":\"white\",\"ticks\":\"\"}},\"coloraxis\":{\"colorbar\":{\"outlinewidth\":0,\"ticks\":\"\"}},\"colorscale\":{\"sequential\":[[0.0,\"#0d0887\"],[0.1111111111111111,\"#46039f\"],[0.2222222222222222,\"#7201a8\"],[0.3333333333333333,\"#9c179e\"],[0.4444444444444444,\"#bd3786\"],[0.5555555555555556,\"#d8576b\"],[0.6666666666666666,\"#ed7953\"],[0.7777777777777778,\"#fb9f3a\"],[0.8888888888888888,\"#fdca26\"],[1.0,\"#f0f921\"]],\"sequentialminus\":[[0.0,\"#0d0887\"],[0.1111111111111111,\"#46039f\"],[0.2222222222222222,\"#7201a8\"],[0.3333333333333333,\"#9c179e\"],[0.4444444444444444,\"#bd3786\"],[0.5555555555555556,\"#d8576b\"],[0.6666666666666666,\"#ed7953\"],[0.7777777777777778,\"#fb9f3a\"],[0.8888888888888888,\"#fdca26\"],[1.0,\"#f0f921\"]],\"diverging\":[[0,\"#8e0152\"],[0.1,\"#c51b7d\"],[0.2,\"#de77ae\"],[0.3,\"#f1b6da\"],[0.4,\"#fde0ef\"],[0.5,\"#f7f7f7\"],[0.6,\"#e6f5d0\"],[0.7,\"#b8e186\"],[0.8,\"#7fbc41\"],[0.9,\"#4d9221\"],[1,\"#276419\"]]},\"xaxis\":{\"gridcolor\":\"white\",\"linecolor\":\"white\",\"ticks\":\"\",\"title\":{\"standoff\":15},\"zerolinecolor\":\"white\",\"automargin\":true,\"zerolinewidth\":2},\"yaxis\":{\"gridcolor\":\"white\",\"linecolor\":\"white\",\"ticks\":\"\",\"title\":{\"standoff\":15},\"zerolinecolor\":\"white\",\"automargin\":true,\"zerolinewidth\":2},\"scene\":{\"xaxis\":{\"backgroundcolor\":\"#E5ECF6\",\"gridcolor\":\"white\",\"linecolor\":\"white\",\"showbackground\":true,\"ticks\":\"\",\"zerolinecolor\":\"white\",\"gridwidth\":2},\"yaxis\":{\"backgroundcolor\":\"#E5ECF6\",\"gridcolor\":\"white\",\"linecolor\":\"white\",\"showbackground\":true,\"ticks\":\"\",\"zerolinecolor\":\"white\",\"gridwidth\":2},\"zaxis\":{\"backgroundcolor\":\"#E5ECF6\",\"gridcolor\":\"white\",\"linecolor\":\"white\",\"showbackground\":true,\"ticks\":\"\",\"zerolinecolor\":\"white\",\"gridwidth\":2}},\"shapedefaults\":{\"line\":{\"color\":\"#2a3f5f\"}},\"annotationdefaults\":{\"arrowcolor\":\"#2a3f5f\",\"arrowhead\":0,\"arrowwidth\":1},\"geo\":{\"bgcolor\":\"white\",\"landcolor\":\"#E5ECF6\",\"subunitcolor\":\"white\",\"showland\":true,\"showlakes\":true,\"lakecolor\":\"white\"},\"title\":{\"x\":0.05},\"mapbox\":{\"style\":\"light\"}}},\"xaxis\":{\"anchor\":\"y\",\"domain\":[0.0,1.0],\"title\":{\"text\":\"iteration\"}},\"yaxis\":{\"anchor\":\"x\",\"domain\":[0.0,1.0],\"title\":{\"text\":\"mae\"}},\"legend\":{\"title\":{\"text\":\"method\"},\"tracegroupgap\":0},\"margin\":{\"t\":60}},                        {\"responsive\": true}                    ).then(function(){\n",
       "                            \n",
       "var gd = document.getElementById('1386ac95-6bae-426c-a96c-91346d923447');\n",
       "var x = new MutationObserver(function (mutations, observer) {{\n",
       "        var display = window.getComputedStyle(gd).display;\n",
       "        if (!display || display === 'none') {{\n",
       "            console.log([gd, 'removed!']);\n",
       "            Plotly.purge(gd);\n",
       "            observer.disconnect();\n",
       "        }}\n",
       "}});\n",
       "\n",
       "// Listen for the removal of the full notebook cells\n",
       "var notebookContainer = gd.closest('#notebook-container');\n",
       "if (notebookContainer) {{\n",
       "    x.observe(notebookContainer, {childList: true});\n",
       "}}\n",
       "\n",
       "// Listen for the clearing of the current output cell\n",
       "var outputEl = gd.closest('.output');\n",
       "if (outputEl) {{\n",
       "    x.observe(outputEl, {childList: true});\n",
       "}}\n",
       "\n",
       "                        })                };                });            </script>        </div>"
      ],
      "text/plain": [
       "Figure({\n",
       "    'data': [{'hovertemplate': 'method=grid<br>iteration=%{x}<br>mae=%{y}<extra></extra>',\n",
       "              'legendgroup': 'grid',\n",
       "              'line': {'color': '#636efa', 'dash': 'solid'},\n",
       "              'marker': {'symbol': 'circle'},\n",
       "              'mode': 'lines',\n",
       "              'name': 'grid',\n",
       "              'orientation': 'v',\n",
       "              'showlegend': True,\n",
       "              'type': 'scatter',\n",
       "              'x': array([ 0,  1,  2,  3,  4,  5,  6,  7,  8,  9, 10, 11, 12, 13, 14, 15, 16, 17,\n",
       "                          18, 19, 20, 21, 22, 23, 24, 25, 26, 27, 28, 29, 30, 31, 32, 33, 34, 35,\n",
       "                          36, 37, 38, 39, 40, 41, 42, 43, 44, 45, 46, 47, 48, 49, 50, 51, 52, 53,\n",
       "                          54, 55, 56, 57, 58, 59, 60, 61, 62, 63, 64, 65, 66, 67, 68, 69, 70, 71,\n",
       "                          72, 73, 74, 75, 76, 77, 78, 79, 80]),\n",
       "              'xaxis': 'x',\n",
       "              'y': array([16398.42, 13822.91, 13822.91, 13413.53, 13413.53, 13413.53, 13413.53,\n",
       "                          13413.53, 13413.53, 13413.53, 13413.53, 13413.53, 13413.53, 13413.53,\n",
       "                          13413.53, 13413.53, 12856.92, 12856.92, 12856.92, 12856.92, 12856.92,\n",
       "                          12856.92, 12856.92, 12856.92, 12856.92, 12824.56, 12824.56, 12824.56,\n",
       "                          12824.56, 12824.56, 12824.56, 12824.56, 12824.56, 12824.56, 12824.56,\n",
       "                          12824.56, 12824.56, 12824.56, 12824.56, 12824.56, 12824.56, 12824.56,\n",
       "                          12824.56, 12824.56, 12824.56, 12824.56, 12824.56, 12824.56, 12824.56,\n",
       "                          12824.56, 12824.56, 12824.56, 12824.56, 12824.56, 12824.56, 12824.56,\n",
       "                          12824.56, 12582.52, 12582.52, 12582.52, 12582.52, 12582.52, 12582.52,\n",
       "                          12582.52, 12582.52, 12582.52, 12582.52, 12582.52, 12582.52, 12582.52,\n",
       "                          11818.8 , 11818.8 , 11818.8 , 11818.8 , 11818.8 , 11818.8 , 11818.8 ,\n",
       "                          11818.8 , 11818.8 , 11818.8 , 11818.8 ]),\n",
       "              'yaxis': 'y'},\n",
       "             {'hovertemplate': 'method=random<br>iteration=%{x}<br>mae=%{y}<extra></extra>',\n",
       "              'legendgroup': 'random',\n",
       "              'line': {'color': '#EF553B', 'dash': 'solid'},\n",
       "              'marker': {'symbol': 'circle'},\n",
       "              'mode': 'lines',\n",
       "              'name': 'random',\n",
       "              'orientation': 'v',\n",
       "              'showlegend': True,\n",
       "              'type': 'scatter',\n",
       "              'x': array([ 0,  1,  2,  3,  4,  5,  6,  7,  8,  9, 10, 11, 12, 13, 14, 15, 16, 17,\n",
       "                          18, 19, 20, 21, 22, 23, 24, 25, 26, 27, 28, 29, 30, 31, 32, 33, 34, 35,\n",
       "                          36, 37, 38, 39, 40, 41, 42, 43, 44, 45, 46, 47, 48, 49, 50, 51, 52, 53,\n",
       "                          54, 55, 56, 57, 58, 59, 60, 61, 62, 63, 64, 65, 66, 67, 68, 69, 70, 71,\n",
       "                          72, 73, 74, 75, 76, 77, 78, 79, 80]),\n",
       "              'xaxis': 'x',\n",
       "              'y': array([13632.98, 13632.98, 13632.98, 13632.98, 13246.11, 13246.11, 13246.11,\n",
       "                          13246.11, 13246.11, 13246.11, 12310.14, 12310.14, 12310.14, 12310.14,\n",
       "                          12270.21, 12270.21, 12270.21, 12270.21, 11705.6 , 11705.6 , 11705.6 ,\n",
       "                          11705.6 , 11705.6 , 11705.6 , 11705.6 , 11705.6 , 11705.6 , 11705.6 ,\n",
       "                          11705.6 , 11705.6 , 11705.6 , 11705.6 , 11705.6 , 11705.6 , 11705.6 ,\n",
       "                          11705.6 , 11705.6 , 11705.6 , 11705.6 , 11705.6 , 11705.6 , 10281.38,\n",
       "                          10281.38, 10281.38, 10281.38, 10281.38, 10281.38, 10281.38, 10281.38,\n",
       "                          10281.38, 10281.38, 10281.38, 10281.38, 10281.38, 10281.38, 10281.38,\n",
       "                          10281.38, 10281.38, 10281.38, 10281.38, 10281.38, 10281.38, 10281.38,\n",
       "                          10281.38, 10281.38, 10281.38, 10281.38, 10281.38, 10281.38, 10281.38,\n",
       "                          10281.38, 10281.38, 10281.38, 10281.38, 10281.38, 10281.38, 10281.38,\n",
       "                          10281.38, 10281.38, 10281.38, 10281.38]),\n",
       "              'yaxis': 'y'},\n",
       "             {'hovertemplate': 'method=bayesian<br>iteration=%{x}<br>mae=%{y}<extra></extra>',\n",
       "              'legendgroup': 'bayesian',\n",
       "              'line': {'color': '#00cc96', 'dash': 'solid'},\n",
       "              'marker': {'symbol': 'circle'},\n",
       "              'mode': 'lines',\n",
       "              'name': 'bayesian',\n",
       "              'orientation': 'v',\n",
       "              'showlegend': True,\n",
       "              'type': 'scatter',\n",
       "              'x': array([ 0,  1,  2,  3,  4,  5,  6,  7,  8,  9, 10, 11, 12, 13, 14, 15, 16, 17,\n",
       "                          18, 19, 20, 21, 22, 23, 24, 25, 26, 27, 28, 29, 30, 31, 32, 33, 34, 35,\n",
       "                          36, 37, 38, 39, 40, 41, 42, 43, 44, 45, 46, 47, 48, 49, 50, 51, 52, 53,\n",
       "                          54, 55, 56, 57, 58, 59, 60, 61, 62, 63, 64, 65, 66, 67, 68, 69, 70, 71,\n",
       "                          72, 73, 74, 75, 76, 77, 78, 79, 80]),\n",
       "              'xaxis': 'x',\n",
       "              'y': array([17006.06, 13660.02, 13660.02, 13660.02, 13660.02, 13660.02, 13660.02,\n",
       "                          13660.02, 13660.02, 13660.02, 13660.02, 13543.21, 13543.21, 13543.21,\n",
       "                          13543.21, 13543.21, 13543.21, 13543.21, 13543.21, 13543.21, 13543.21,\n",
       "                          13543.21, 13543.21, 13543.21, 13543.21, 13543.21, 13543.21, 13543.21,\n",
       "                          13543.21, 13543.21, 13543.21, 13543.21, 12535.65, 12535.65, 12535.65,\n",
       "                          12535.65, 12535.65, 12535.65, 12535.65, 12535.65, 12535.65, 12535.65,\n",
       "                          12535.65, 12535.65, 12535.65, 12535.65, 12535.65, 12535.65, 12535.65,\n",
       "                          12535.65, 12535.65, 12535.65, 12535.65, 12535.65, 12535.65, 12535.65,\n",
       "                          12535.65, 12535.65, 12535.65, 12535.65, 12535.65, 12535.65, 12535.65,\n",
       "                          12535.65, 12535.65, 12535.65, 12096.51, 12096.51, 12096.51, 12096.51,\n",
       "                          12096.51, 12096.51, 12096.51, 12096.51, 11805.9 , 11805.9 , 11805.9 ,\n",
       "                          11805.9 , 11805.9 , 11805.9 , 11805.9 ]),\n",
       "              'yaxis': 'y'}],\n",
       "    'layout': {'legend': {'title': {'text': 'method'}, 'tracegroupgap': 0},\n",
       "               'margin': {'t': 60},\n",
       "               'template': '...',\n",
       "               'xaxis': {'anchor': 'y', 'domain': [0.0, 1.0], 'title': {'text': 'iteration'}},\n",
       "               'yaxis': {'anchor': 'x', 'domain': [0.0, 1.0], 'title': {'text': 'mae'}}}\n",
       "})"
      ]
     },
     "execution_count": 164,
     "metadata": {},
     "output_type": "execute_result"
    }
   ],
   "source": [
    "import plotly.express as px\n",
    "fig = px.line(results_df,\n",
    "        x=\"iteration\",\n",
    "        y=\"mae\",\n",
    "        # error_y=\"std\",\n",
    "        color=\"method\"\n",
    "        )\n",
    "fig"
   ]
  },
  {
   "cell_type": "markdown",
   "metadata": {},
   "source": [
    "### Example Output\n",
    "\n",
    "![blooper](bayesian-optimization-blooper.png)"
   ]
  },
  {
   "cell_type": "code",
   "execution_count": 172,
   "metadata": {},
   "outputs": [
    {
     "data": {
      "text/plain": [
       "(0.4780008548144877, 52, 211, 38)"
      ]
     },
     "execution_count": 172,
     "metadata": {},
     "output_type": "execute_result"
    }
   ],
   "source": [
    "sdls[0].get_target_inputs()"
   ]
  },
  {
   "cell_type": "code",
   "execution_count": 176,
   "metadata": {},
   "outputs": [
    {
     "data": {
      "text/plain": [
       "(8779, 4517, 26550, 59658, 6955, 4683, 17180, 0, 0, 0)"
      ]
     },
     "execution_count": 176,
     "metadata": {},
     "output_type": "execute_result"
    }
   ],
   "source": [
    "sdls[0].target_data"
   ]
  },
  {
   "cell_type": "code",
   "execution_count": 188,
   "metadata": {},
   "outputs": [],
   "source": [
    "check_data = []\n",
    "from time import sleep\n",
    "for _ in range(10):\n",
    "    sleep(1.0)\n",
    "    check_data.append(sdls[0].evaluate(*sdls[0].get_target_inputs()))"
   ]
  },
  {
   "cell_type": "code",
   "execution_count": 190,
   "metadata": {},
   "outputs": [
    {
     "data": {
      "text/html": [
       "<div>\n",
       "<style scoped>\n",
       "    .dataframe tbody tr th:only-of-type {\n",
       "        vertical-align: middle;\n",
       "    }\n",
       "\n",
       "    .dataframe tbody tr th {\n",
       "        vertical-align: top;\n",
       "    }\n",
       "\n",
       "    .dataframe thead th {\n",
       "        text-align: right;\n",
       "    }\n",
       "</style>\n",
       "<table border=\"1\" class=\"dataframe\">\n",
       "  <thead>\n",
       "    <tr style=\"text-align: right;\">\n",
       "      <th></th>\n",
       "      <th>mean</th>\n",
       "      <th>std</th>\n",
       "    </tr>\n",
       "  </thead>\n",
       "  <tbody>\n",
       "    <tr>\n",
       "      <th>ch415_violet</th>\n",
       "      <td>17928.500000</td>\n",
       "      <td>25288.711738</td>\n",
       "    </tr>\n",
       "    <tr>\n",
       "      <th>ch445_indigo</th>\n",
       "      <td>8746.200000</td>\n",
       "      <td>9379.586248</td>\n",
       "    </tr>\n",
       "    <tr>\n",
       "      <th>ch480_blue</th>\n",
       "      <td>19396.100000</td>\n",
       "      <td>17832.023101</td>\n",
       "    </tr>\n",
       "    <tr>\n",
       "      <th>ch515_cyan</th>\n",
       "      <td>4870.900000</td>\n",
       "      <td>12126.813252</td>\n",
       "    </tr>\n",
       "    <tr>\n",
       "      <th>ch560_green</th>\n",
       "      <td>11908.300000</td>\n",
       "      <td>18944.797128</td>\n",
       "    </tr>\n",
       "    <tr>\n",
       "      <th>ch615_yellow</th>\n",
       "      <td>18406.400000</td>\n",
       "      <td>19626.981147</td>\n",
       "    </tr>\n",
       "    <tr>\n",
       "      <th>ch670_orange</th>\n",
       "      <td>30584.100000</td>\n",
       "      <td>20868.707815</td>\n",
       "    </tr>\n",
       "    <tr>\n",
       "      <th>ch720_red</th>\n",
       "      <td>5776.100000</td>\n",
       "      <td>9066.354228</td>\n",
       "    </tr>\n",
       "    <tr>\n",
       "      <th>ch_clear</th>\n",
       "      <td>1294.100000</td>\n",
       "      <td>2017.116669</td>\n",
       "    </tr>\n",
       "    <tr>\n",
       "      <th>ch_nir</th>\n",
       "      <td>0.000000</td>\n",
       "      <td>0.000000</td>\n",
       "    </tr>\n",
       "    <tr>\n",
       "      <th>mae</th>\n",
       "      <td>13798.390000</td>\n",
       "      <td>2959.743242</td>\n",
       "    </tr>\n",
       "    <tr>\n",
       "      <th>rmse</th>\n",
       "      <td>23851.888103</td>\n",
       "      <td>3422.810056</td>\n",
       "    </tr>\n",
       "  </tbody>\n",
       "</table>\n",
       "</div>"
      ],
      "text/plain": [
       "                      mean           std\n",
       "ch415_violet  17928.500000  25288.711738\n",
       "ch445_indigo   8746.200000   9379.586248\n",
       "ch480_blue    19396.100000  17832.023101\n",
       "ch515_cyan     4870.900000  12126.813252\n",
       "ch560_green   11908.300000  18944.797128\n",
       "ch615_yellow  18406.400000  19626.981147\n",
       "ch670_orange  30584.100000  20868.707815\n",
       "ch720_red      5776.100000   9066.354228\n",
       "ch_clear       1294.100000   2017.116669\n",
       "ch_nir            0.000000      0.000000\n",
       "mae           13798.390000   2959.743242\n",
       "rmse          23851.888103   3422.810056"
      ]
     },
     "execution_count": 190,
     "metadata": {},
     "output_type": "execute_result"
    }
   ],
   "source": [
    "pd.DataFrame(check_data).agg([np.mean, np.std]).T"
   ]
  },
  {
   "cell_type": "code",
   "execution_count": 196,
   "metadata": {},
   "outputs": [],
   "source": [
    "sdl = SelfDrivingLabDemo(autoload=True, target_seed=15)\n",
    "\n",
    "single_check_data = []\n",
    "from time import sleep\n",
    "for _ in range(10):\n",
    "    sleep(1.0)\n",
    "    single_check_data.append(sdl.evaluate(*sdl.get_target_inputs()))"
   ]
  },
  {
   "cell_type": "code",
   "execution_count": 197,
   "metadata": {},
   "outputs": [
    {
     "data": {
      "text/html": [
       "<div>\n",
       "<style scoped>\n",
       "    .dataframe tbody tr th:only-of-type {\n",
       "        vertical-align: middle;\n",
       "    }\n",
       "\n",
       "    .dataframe tbody tr th {\n",
       "        vertical-align: top;\n",
       "    }\n",
       "\n",
       "    .dataframe thead th {\n",
       "        text-align: right;\n",
       "    }\n",
       "</style>\n",
       "<table border=\"1\" class=\"dataframe\">\n",
       "  <thead>\n",
       "    <tr style=\"text-align: right;\">\n",
       "      <th></th>\n",
       "      <th>mean</th>\n",
       "      <th>std</th>\n",
       "    </tr>\n",
       "  </thead>\n",
       "  <tbody>\n",
       "    <tr>\n",
       "      <th>ch415_violet</th>\n",
       "      <td>17007.200000</td>\n",
       "      <td>25480.302226</td>\n",
       "    </tr>\n",
       "    <tr>\n",
       "      <th>ch445_indigo</th>\n",
       "      <td>19130.100000</td>\n",
       "      <td>25168.441154</td>\n",
       "    </tr>\n",
       "    <tr>\n",
       "      <th>ch480_blue</th>\n",
       "      <td>8367.500000</td>\n",
       "      <td>6743.886042</td>\n",
       "    </tr>\n",
       "    <tr>\n",
       "      <th>ch515_cyan</th>\n",
       "      <td>4314.800000</td>\n",
       "      <td>6810.185734</td>\n",
       "    </tr>\n",
       "    <tr>\n",
       "      <th>ch560_green</th>\n",
       "      <td>5255.300000</td>\n",
       "      <td>5366.718034</td>\n",
       "    </tr>\n",
       "    <tr>\n",
       "      <th>ch615_yellow</th>\n",
       "      <td>8263.600000</td>\n",
       "      <td>8783.939956</td>\n",
       "    </tr>\n",
       "    <tr>\n",
       "      <th>ch670_orange</th>\n",
       "      <td>9396.500000</td>\n",
       "      <td>12130.862214</td>\n",
       "    </tr>\n",
       "    <tr>\n",
       "      <th>ch720_red</th>\n",
       "      <td>8446.000000</td>\n",
       "      <td>20422.496588</td>\n",
       "    </tr>\n",
       "    <tr>\n",
       "      <th>ch_clear</th>\n",
       "      <td>12985.800000</td>\n",
       "      <td>27127.159317</td>\n",
       "    </tr>\n",
       "    <tr>\n",
       "      <th>ch_nir</th>\n",
       "      <td>0.000000</td>\n",
       "      <td>0.000000</td>\n",
       "    </tr>\n",
       "    <tr>\n",
       "      <th>mae</th>\n",
       "      <td>12756.300000</td>\n",
       "      <td>5114.081547</td>\n",
       "    </tr>\n",
       "    <tr>\n",
       "      <th>rmse</th>\n",
       "      <td>23840.485359</td>\n",
       "      <td>7790.536174</td>\n",
       "    </tr>\n",
       "  </tbody>\n",
       "</table>\n",
       "</div>"
      ],
      "text/plain": [
       "                      mean           std\n",
       "ch415_violet  17007.200000  25480.302226\n",
       "ch445_indigo  19130.100000  25168.441154\n",
       "ch480_blue     8367.500000   6743.886042\n",
       "ch515_cyan     4314.800000   6810.185734\n",
       "ch560_green    5255.300000   5366.718034\n",
       "ch615_yellow   8263.600000   8783.939956\n",
       "ch670_orange   9396.500000  12130.862214\n",
       "ch720_red      8446.000000  20422.496588\n",
       "ch_clear      12985.800000  27127.159317\n",
       "ch_nir            0.000000      0.000000\n",
       "mae           12756.300000   5114.081547\n",
       "rmse          23840.485359   7790.536174"
      ]
     },
     "execution_count": 197,
     "metadata": {},
     "output_type": "execute_result"
    }
   ],
   "source": [
    "pd.DataFrame(single_check_data).agg([np.mean, np.std]).T"
   ]
  },
  {
   "cell_type": "markdown",
   "metadata": {},
   "source": [
    "## Up Next\n",
    "\n",
    "[`2.2-sensor-simulator.ipynb`](2.2-sensor-simulator.ipynb)\n",
    "> 🕵️ Time to troubleshoot! Running simulations can help us to troubleshoot the source\n",
    "> of the discrepancy. SPOILER: Oh! It was an issue with data processing 🤦 (but was that\n",
    "> all? 🤨)"
   ]
  },
  {
   "cell_type": "markdown",
   "metadata": {},
   "source": [
    "## Code Graveyard"
   ]
  },
  {
   "cell_type": "code",
   "execution_count": null,
   "metadata": {},
   "outputs": [],
   "source": [
    "# for _ in trange(num_repeats):\n",
    "#     for params in tqdm(grid):\n",
    "#         sdl.evaluate(*params)\n",
    "\n",
    "# pd.concat((mae_df, std_df), axis=1, join=\"inner\")"
   ]
  }
 ],
 "metadata": {
  "kernelspec": {
   "display_name": "Python 3.9.13 64-bit ('sdl-demo')",
   "language": "python",
   "name": "python3"
  },
  "language_info": {
   "codemirror_mode": {
    "name": "ipython",
    "version": 3
   },
   "file_extension": ".py",
   "mimetype": "text/x-python",
   "name": "python",
   "nbconvert_exporter": "python",
   "pygments_lexer": "ipython3",
   "version": "3.9.13"
  },
  "orig_nbformat": 4,
  "vscode": {
   "interpreter": {
    "hash": "b5c3f3d11f10387e18d251eb902c90d66624c3f38140e2cc8c3a7a1864ed0fae"
   }
  }
 },
 "nbformat": 4,
 "nbformat_minor": 2
}
