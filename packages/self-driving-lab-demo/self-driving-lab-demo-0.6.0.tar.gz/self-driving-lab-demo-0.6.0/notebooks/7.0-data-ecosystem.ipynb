{
 "cells": [
  {
   "cell_type": "markdown",
   "metadata": {},
   "source": [
    "# Database backend\n",
    "\n",
    "In the previous section, we covered a variety of advanced optimization topics. In this\n",
    "next section, we'll cover topics related to recording data in a database backend for a self-driving\n",
    "laboratory. In the first tutorial,  In the second tutorial, we'll set up\n",
    "data logging from multiple devices to a single database cluster in a secure and robust\n",
    "way. It's important to be able to distinguish which device a datapoint originated from\n",
    "and ensure that only those with proper credentials can upload data to a particular\n",
    "device's database.\n",
    "\n",
    "1. Simple MongoDB Database setup (read and write)\n",
    "   1. > We'll demonstrate how to set up a free-tier MongoDB\n",
    "database cluster, retrieve a data API key, post data via the device-side code, and\n",
    "retrieve it via an external client.\n",
    "2. Distinguishable, secure, and robust data logging from multiple devices\n",
    "3. "
   ]
  },
  {
   "cell_type": "code",
   "execution_count": null,
   "metadata": {},
   "outputs": [],
   "source": []
  }
 ],
 "metadata": {
  "kernelspec": {
   "display_name": "Python 3.9.13 ('sdl-demo')",
   "language": "python",
   "name": "python3"
  },
  "language_info": {
   "name": "python",
   "version": "3.9.13"
  },
  "orig_nbformat": 4,
  "vscode": {
   "interpreter": {
    "hash": "70cb6d4911b67e25d1487ebd620c5d1370239efaaf47f3851af44f5c5a26f988"
   }
  }
 },
 "nbformat": 4,
 "nbformat_minor": 2
}
