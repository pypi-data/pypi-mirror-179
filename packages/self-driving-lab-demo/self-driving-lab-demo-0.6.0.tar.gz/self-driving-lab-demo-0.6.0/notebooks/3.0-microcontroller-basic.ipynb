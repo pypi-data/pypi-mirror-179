{
 "cells": [
  {
   "cell_type": "markdown",
   "metadata": {},
   "source": [
    "# Pico W Microcontroller Basic Usage\n",
    "\n",
    "Here, we assume that the Pico W is already set up and running a web server on the same\n",
    "network as this computer (i.e. the one you're running this notebook on). We're going to\n",
    "interact with our web server using the `requests` library."
   ]
  },
  {
   "cell_type": "markdown",
   "metadata": {},
   "source": [
    "We need to know what data to send via POST to our web server. We can find this out by\n",
    "opening up dev tools (e.g. `F12` or `Ctrl+Shift+I` on Google Chrome) and navigating to the network tab. From\n",
    "there, we can enter RGB values and click the \"Send command to LED\" button, at which\n",
    "point the POST and GET requests will be shown as follows.\n",
    "\n",
    "Open dev tools:\n",
    "![Dev tools](pico-w-server-dev-tools.png)\n",
    "\n",
    "Click button:\n",
    "![Dev tools click](pico-w-server-dev-tools-click.png)\n",
    "\n",
    "Payload:\n",
    "![Dev tools click, payload](pico-w-server-dev-tools-click-post.png)"
   ]
  },
  {
   "cell_type": "markdown",
   "metadata": {},
   "source": [
    "Now, we use the payload information and pass that in via a `post` method as a `data` kwarg."
   ]
  },
  {
   "cell_type": "code",
   "execution_count": 1,
   "metadata": {},
   "outputs": [
    {
     "data": {
      "text/plain": [
       "<Response [200]>"
      ]
     },
     "execution_count": 1,
     "metadata": {},
     "output_type": "execute_result"
    }
   ],
   "source": [
    "import requests\n",
    "\n",
    "# cookies = {'rgb': \"{'blue': 22, 'red': 20, 'green': 21}\"}\n",
    "# r = requests.post('http://192.168.0.111/', cookies=cookies)\n",
    "payload = {\n",
    "    \"control_led\": \"Send+command+to+LED\",\n",
    "    \"blue\": \"22\",\n",
    "    \"red\": \"20\",\n",
    "    \"green\": \"21\",\n",
    "}\n",
    "r = requests.post(\"http://192.168.0.111/\", data=payload)\n",
    "r"
   ]
  },
  {
   "cell_type": "markdown",
   "metadata": {},
   "source": [
    "We can also access the sensor data via one of the cookies that gets set via the web server."
   ]
  },
  {
   "cell_type": "code",
   "execution_count": 2,
   "metadata": {},
   "outputs": [
    {
     "data": {
      "text/plain": [
       "\"{'ch670': 11, 'ch720': 2, 'ch480': 29, 'ch445': 17, 'ch615': 5, 'ch560': 4, 'ch415': 1, 'ch515': 10}\""
      ]
     },
     "execution_count": 2,
     "metadata": {},
     "output_type": "execute_result"
    }
   ],
   "source": [
    "r.cookies[\"sensor_data\"]"
   ]
  },
  {
   "cell_type": "markdown",
   "metadata": {},
   "source": [
    "To read this as a dictionary, we can use the (safe) `literal_eval` function."
   ]
  },
  {
   "cell_type": "code",
   "execution_count": 3,
   "metadata": {},
   "outputs": [
    {
     "data": {
      "text/plain": [
       "{'ch670': 11,\n",
       " 'ch720': 2,\n",
       " 'ch480': 29,\n",
       " 'ch445': 17,\n",
       " 'ch615': 5,\n",
       " 'ch560': 4,\n",
       " 'ch415': 1,\n",
       " 'ch515': 10}"
      ]
     },
     "execution_count": 3,
     "metadata": {},
     "output_type": "execute_result"
    }
   ],
   "source": [
    "import ast\n",
    "ast.literal_eval(r.cookies[\"sensor_data\"])"
   ]
  },
  {
   "cell_type": "markdown",
   "metadata": {},
   "source": [
    "Now that we can send commands to the LED and read the sensor data, let's define some\n",
    "helper functions. Also note that with the MicroPython NeoPixel interface, there is no overall\n",
    "\"brightness\" parameter, just the individual brightnesses for red, green, and blue."
   ]
  },
  {
   "cell_type": "code",
   "execution_count": 4,
   "metadata": {},
   "outputs": [],
   "source": [
    "import requests\n",
    "import ast\n",
    "def observe_sensor_data(R, G, B, url=\"http://192.168.0.111/\"):\n",
    "    payload = {\n",
    "        \"control_led\": \"Send+command+to+LED\",\n",
    "        \"red\": str(R),\n",
    "        \"green\": str(G),\n",
    "        \"blue\": str(B),\n",
    "    }\n",
    "    r = requests.post(url, data=payload)\n",
    "    sensor_data_cookie = r.cookies[\"sensor_data\"]\n",
    "    return ast.literal_eval(sensor_data_cookie)"
   ]
  },
  {
   "cell_type": "code",
   "execution_count": 5,
   "metadata": {},
   "outputs": [
    {
     "data": {
      "text/plain": [
       "{'ch670': 4,\n",
       " 'ch720': 1,\n",
       " 'ch480': 21,\n",
       " 'ch445': 8,\n",
       " 'ch615': 2,\n",
       " 'ch560': 3,\n",
       " 'ch415': 0,\n",
       " 'ch515': 4}"
      ]
     },
     "execution_count": 5,
     "metadata": {},
     "output_type": "execute_result"
    }
   ],
   "source": [
    "sensor_data = observe_sensor_data(10, 10, 10)\n",
    "sensor_data"
   ]
  },
  {
   "cell_type": "code",
   "execution_count": 6,
   "metadata": {},
   "outputs": [
    {
     "data": {
      "text/plain": [
       "{'ch670': 0,\n",
       " 'ch720': 1,\n",
       " 'ch480': 18,\n",
       " 'ch445': 4,\n",
       " 'ch615': 1,\n",
       " 'ch560': 3,\n",
       " 'ch415': 0,\n",
       " 'ch515': 2}"
      ]
     },
     "execution_count": 6,
     "metadata": {},
     "output_type": "execute_result"
    }
   ],
   "source": [
    "observe_sensor_data(0, 0, 0)"
   ]
  },
  {
   "cell_type": "markdown",
   "metadata": {},
   "source": [
    "The observation function has been exposed as a parameter for `SelfDrivingLabDemo`."
   ]
  },
  {
   "cell_type": "code",
   "execution_count": 7,
   "metadata": {},
   "outputs": [],
   "source": [
    "%load_ext autoreload\n",
    "%autoreload 2 # just some IPython magic to recognize changes to installed packages\n",
    "import pandas as pd\n",
    "from self_driving_lab_demo.core import SelfDrivingLabDemo"
   ]
  },
  {
   "cell_type": "code",
   "execution_count": 8,
   "metadata": {},
   "outputs": [],
   "source": [
    "sdl = SelfDrivingLabDemo(\n",
    "    simulation=False,\n",
    "    autoload=True,\n",
    "    observe_sensor_data_fn=observe_sensor_data,\n",
    "    observe_sensor_data_kwargs=dict(url=\"http://192.168.0.111/\"),\n",
    ")\n"
   ]
  },
  {
   "cell_type": "code",
   "execution_count": 9,
   "metadata": {},
   "outputs": [
    {
     "data": {
      "text/plain": [
       "{'ch670': 5,\n",
       " 'ch720': 2,\n",
       " 'ch480': 35,\n",
       " 'ch445': 28,\n",
       " 'ch615': 3,\n",
       " 'ch560': 4,\n",
       " 'ch415': 1,\n",
       " 'ch515': 9,\n",
       " 'mae': 7.375,\n",
       " 'rmse': 13.024016277631105,\n",
       " 'frechet': 33.0}"
      ]
     },
     "execution_count": 9,
     "metadata": {},
     "output_type": "execute_result"
    }
   ],
   "source": [
    "sdl.evaluate(10, 20, 30)"
   ]
  },
  {
   "cell_type": "code",
   "execution_count": 10,
   "metadata": {},
   "outputs": [
    {
     "data": {
      "text/plain": [
       "{'ch410': 0.015574136996242369,\n",
       " 'ch440': 0.4130776771289992,\n",
       " 'ch470': 1.853812225451396,\n",
       " 'ch510': 0.4671727581176467,\n",
       " 'ch550': 0.13300714858610418,\n",
       " 'ch583': 0.018261464102564014,\n",
       " 'ch620': 0.18066150431255917,\n",
       " 'ch670': 0.0027292799607842966,\n",
       " 'mae': 0.1357450410986569,\n",
       " 'rmse': 0.2349491005585053,\n",
       " 'frechet': 0.4523043231158368}"
      ]
     },
     "execution_count": 10,
     "metadata": {},
     "output_type": "execute_result"
    }
   ],
   "source": [
    "sim = SelfDrivingLabDemo(simulation=True, autoload=True)\n",
    "sim.evaluate(10, 20, 30)"
   ]
  },
  {
   "cell_type": "code",
   "execution_count": null,
   "metadata": {},
   "outputs": [],
   "source": []
  }
 ],
 "metadata": {
  "kernelspec": {
   "display_name": "Python 3.9.12 ('sdl-demo')",
   "language": "python",
   "name": "python3"
  },
  "language_info": {
   "codemirror_mode": {
    "name": "ipython",
    "version": 3
   },
   "file_extension": ".py",
   "mimetype": "text/x-python",
   "name": "python",
   "nbconvert_exporter": "python",
   "pygments_lexer": "ipython3",
   "version": "3.9.13"
  },
  "orig_nbformat": 4,
  "vscode": {
   "interpreter": {
    "hash": "70cb6d4911b67e25d1487ebd620c5d1370239efaaf47f3851af44f5c5a26f988"
   }
  }
 },
 "nbformat": 4,
 "nbformat_minor": 2
}
