{
 "cells": [
  {
   "cell_type": "code",
   "execution_count": 4,
   "metadata": {},
   "outputs": [],
   "source": [
    "import wandb\n",
    "import time"
   ]
  },
  {
   "cell_type": "code",
   "execution_count": 5,
   "metadata": {},
   "outputs": [
    {
     "data": {
      "text/html": [
       "wandb version 0.13.5 is available!  To upgrade, please run:\n",
       " $ pip install wandb --upgrade"
      ],
      "text/plain": [
       "<IPython.core.display.HTML object>"
      ]
     },
     "metadata": {},
     "output_type": "display_data"
    },
    {
     "data": {
      "text/html": [
       "Tracking run with wandb version 0.13.3"
      ],
      "text/plain": [
       "<IPython.core.display.HTML object>"
      ]
     },
     "metadata": {},
     "output_type": "display_data"
    },
    {
     "data": {
      "text/html": [
       "Run data is saved locally in <code>/home/dimweb/Desktop/deeppavlov/persona_bot/wandb/run-20221119_205757-rwroq7du</code>"
      ],
      "text/plain": [
       "<IPython.core.display.HTML object>"
      ]
     },
     "metadata": {},
     "output_type": "display_data"
    },
    {
     "data": {
      "text/html": [
       "Syncing run <strong><a href=\"https://wandb.ai/dimweb/wandb-sandbox/runs/rwroq7du\" target=\"_blank\">simple-table</a></strong> to <a href=\"https://wandb.ai/dimweb/wandb-sandbox\" target=\"_blank\">Weights & Biases</a> (<a href=\"https://wandb.me/run\" target=\"_blank\">docs</a>)<br/>"
      ],
      "text/plain": [
       "<IPython.core.display.HTML object>"
      ]
     },
     "metadata": {},
     "output_type": "display_data"
    },
    {
     "data": {
      "text/html": [
       "Waiting for W&B process to finish... <strong style=\"color:green\">(success).</strong>"
      ],
      "text/plain": [
       "<IPython.core.display.HTML object>"
      ]
     },
     "metadata": {},
     "output_type": "display_data"
    },
    {
     "data": {
      "text/html": [
       "Synced <strong style=\"color:#cdcd00\">simple-table</strong>: <a href=\"https://wandb.ai/dimweb/wandb-sandbox/runs/rwroq7du\" target=\"_blank\">https://wandb.ai/dimweb/wandb-sandbox/runs/rwroq7du</a><br/>Synced 4 W&B file(s), 1 media file(s), 1 artifact file(s) and 0 other file(s)"
      ],
      "text/plain": [
       "<IPython.core.display.HTML object>"
      ]
     },
     "metadata": {},
     "output_type": "display_data"
    },
    {
     "data": {
      "text/html": [
       "Find logs at: <code>./wandb/run-20221119_205757-rwroq7du/logs</code>"
      ],
      "text/plain": [
       "<IPython.core.display.HTML object>"
      ]
     },
     "metadata": {},
     "output_type": "display_data"
    }
   ],
   "source": [
    "run = wandb.init(\n",
    "    project=\"wandb-sandbox\",\n",
    "    notes=\"This is a test run\",\n",
    "    tags=[\"test\", \"test2\"],\n",
    "    name=\"simple-table\",\n",
    ")\n",
    "text_table = wandb.Table(columns=[\"epoch\", \"loss\", \"text\"])\n",
    "\n",
    "text_table.add_data(0, 0.9, \"This is a test\")\n",
    "\n",
    "run.log({\"training_samples\" : text_table})\n",
    "run.finish()\n"
   ]
  },
  {
   "cell_type": "code",
   "execution_count": 16,
   "metadata": {},
   "outputs": [
    {
     "data": {
      "text/html": [
       "wandb version 0.13.5 is available!  To upgrade, please run:\n",
       " $ pip install wandb --upgrade"
      ],
      "text/plain": [
       "<IPython.core.display.HTML object>"
      ]
     },
     "metadata": {},
     "output_type": "display_data"
    },
    {
     "data": {
      "text/html": [
       "Tracking run with wandb version 0.13.3"
      ],
      "text/plain": [
       "<IPython.core.display.HTML object>"
      ]
     },
     "metadata": {},
     "output_type": "display_data"
    },
    {
     "data": {
      "text/html": [
       "Run data is saved locally in <code>/home/dimweb/Desktop/deeppavlov/persona_bot/wandb/run-20221119_220932-tzroofpp</code>"
      ],
      "text/plain": [
       "<IPython.core.display.HTML object>"
      ]
     },
     "metadata": {},
     "output_type": "display_data"
    },
    {
     "data": {
      "text/html": [
       "Syncing run <strong><a href=\"https://wandb.ai/dimweb/wandb-sandbox/runs/tzroofpp\" target=\"_blank\">uptating-table-3</a></strong> to <a href=\"https://wandb.ai/dimweb/wandb-sandbox\" target=\"_blank\">Weights & Biases</a> (<a href=\"https://wandb.me/run\" target=\"_blank\">docs</a>)<br/>"
      ],
      "text/plain": [
       "<IPython.core.display.HTML object>"
      ]
     },
     "metadata": {},
     "output_type": "display_data"
    },
    {
     "data": {
      "text/html": [
       "Waiting for W&B process to finish... <strong style=\"color:green\">(success).</strong>"
      ],
      "text/plain": [
       "<IPython.core.display.HTML object>"
      ]
     },
     "metadata": {},
     "output_type": "display_data"
    },
    {
     "data": {
      "text/html": [
       "Synced <strong style=\"color:#cdcd00\">uptating-table-3</strong>: <a href=\"https://wandb.ai/dimweb/wandb-sandbox/runs/tzroofpp\" target=\"_blank\">https://wandb.ai/dimweb/wandb-sandbox/runs/tzroofpp</a><br/>Synced 4 W&B file(s), 1 media file(s), 1 artifact file(s) and 0 other file(s)"
      ],
      "text/plain": [
       "<IPython.core.display.HTML object>"
      ]
     },
     "metadata": {},
     "output_type": "display_data"
    },
    {
     "data": {
      "text/html": [
       "Find logs at: <code>./wandb/run-20221119_220932-tzroofpp/logs</code>"
      ],
      "text/plain": [
       "<IPython.core.display.HTML object>"
      ]
     },
     "metadata": {},
     "output_type": "display_data"
    }
   ],
   "source": [
    "run = wandb.init(\n",
    "    project=\"wandb-sandbox\",\n",
    "    notes=\"This is a test run\",\n",
    "    tags=[\"test\", \"test2\"],\n",
    "    name=\"uptating-table-3\",\n",
    ")\n",
    "text_table = wandb.Table(columns=[\n",
    "    \"prediction_id\",\n",
    "    \"epoch\", \n",
    "    \"loss\", \n",
    "    \"text\", \n",
    "    \"model_name\", \n",
    "    \"architecture\",\n",
    "    \"run_id\",\n",
    "])\n",
    "\n",
    "samples = [\n",
    "    \"Sample text 1\",\n",
    "    \"Sample text 2\",\n",
    "    \"Sample text 3\",\n",
    "    \"Sample text 4\",\n",
    "    \"Sample text 5\",\n",
    "]\n",
    "\n",
    "architecture = [\n",
    "    \"causal_models\",\n",
    "    \"seq2seq\",\n",
    "    \"my_own_architecture\",\n",
    "]\n",
    "\n",
    "model_name = [\n",
    "    \"gpt2\",\n",
    "    \"roberta\",\n",
    "    \"t5\",\n",
    "    \"gpt3\",\n",
    "    \"my-super-model\",\n",
    "    \"bart\",\n",
    "    \"bart-base\",\n",
    "]\n",
    "run_id = wandb.run.id\n",
    "\n",
    "for epoch in range(4):\n",
    "    for id, text_sample in enumerate(samples):\n",
    "        text_table.add_data(\n",
    "            id,\n",
    "            epoch,\n",
    "            0.9*epoch,\n",
    "            text_sample,\n",
    "            model_name[-1],\n",
    "            architecture[0],\n",
    "            run_id,\n",
    "        )\n",
    "        \n",
    "    \n",
    "run.log({\"training_samples\" : text_table})\n",
    "run.finish()\n"
   ]
  },
  {
   "cell_type": "code",
   "execution_count": 1,
   "metadata": {},
   "outputs": [
    {
     "name": "stdout",
     "output_type": "stream",
     "text": [
      "/home/dimweb/Desktop/deeppavlov/persona_bot\n"
     ]
    }
   ],
   "source": [
    "!pwd"
   ]
  }
 ],
 "metadata": {
  "kernelspec": {
   "display_name": "Python 3.10.6 ('d_env')",
   "language": "python",
   "name": "python3"
  },
  "language_info": {
   "codemirror_mode": {
    "name": "ipython",
    "version": 3
   },
   "file_extension": ".py",
   "mimetype": "text/x-python",
   "name": "python",
   "nbconvert_exporter": "python",
   "pygments_lexer": "ipython3",
   "version": "3.10.6"
  },
  "orig_nbformat": 4,
  "vscode": {
   "interpreter": {
    "hash": "c47eeeae5f0593d6ff7164e36f6d45daaa118b41372aa3e9757d1f066e1c76d7"
   }
  }
 },
 "nbformat": 4,
 "nbformat_minor": 2
}
