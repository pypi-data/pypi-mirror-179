{
 "cells": [
  {
   "cell_type": "markdown",
   "metadata": {},
   "source": [
    "### explore data"
   ]
  },
  {
   "cell_type": "code",
   "execution_count": 7,
   "metadata": {},
   "outputs": [
    {
     "name": "stdout",
     "output_type": "stream",
     "text": [
      "dict_keys(['train', 'valid'])\n",
      "train 17878\n",
      "dict_keys(['personality', 'utterances'])\n",
      "valid 1000\n",
      "dict_keys(['personality', 'utterances'])\n"
     ]
    }
   ],
   "source": [
    "import json\n",
    "\n",
    "# read the json file \n",
    "with open('./datasets/persona_chat.json') as f:\n",
    "    data = json.load(f)\n",
    "    print(data.keys())\n",
    "    for key in data.keys():\n",
    "        print(key, len(data[key]))\n",
    "        print(data[key][0].keys())"
   ]
  },
  {
   "cell_type": "code",
   "execution_count": 17,
   "metadata": {},
   "outputs": [
    {
     "data": {
      "text/plain": [
       "['i watch basketball .',\n",
       " 'i go to a local college .',\n",
       " 'i work at a smoothie shop .',\n",
       " 'i listen to classic rock .']"
      ]
     },
     "execution_count": 17,
     "metadata": {},
     "output_type": "execute_result"
    }
   ],
   "source": [
    "data['train'][12]['personality']"
   ]
  },
  {
   "cell_type": "code",
   "execution_count": 1,
   "metadata": {},
   "outputs": [
    {
     "name": "stdout",
     "output_type": "stream",
     "text": [
      "Dataset lengths: train 17878, valid 500, test 500\n",
      "Datasets saved.\n"
     ]
    }
   ],
   "source": [
    "from dimweb_persona_bot.datasets_transformers.persona_chat_dataset_transformer import persona_chat_dataset_tranformer_v1\n",
    "\n",
    "persona_chat_dataset_tranformer_v1(\n",
    "    initial_dataset_path=\"./datasets/persona_chat/persona_chat.json\",\n",
    "    output_folder=\"./datasets/persona_chat\",\n",
    ")"
   ]
  },
  {
   "cell_type": "code",
   "execution_count": 27,
   "metadata": {},
   "outputs": [
    {
     "data": {
      "text/plain": [
       "['hey how are you today ?',\n",
       " 'great ! just go off work at the smoothie shop . you ?',\n",
       " 'i have been eating tacos and getting ready to move to school .',\n",
       " 'are you going to college ? i go to a local one .',\n",
       " 'yes , i am going to university of michigan . what year are you ?',\n",
       " 'first yr ! do you have any hobbies ?',\n",
       " 'i love doing anything outdoors . especially in summer . you ?',\n",
       " 'i love watching college basketball and rocking out to classic rock .',\n",
       " 'fun . have you decided on your major for school ?',\n",
       " 'not yet . have you decided ?',\n",
       " \"pre med . i'd love to be a doctor\"]"
      ]
     },
     "execution_count": 27,
     "metadata": {},
     "output_type": "execute_result"
    }
   ],
   "source": [
    "# четный ответ в history содержит персону\n",
    "data['train'][12]['utterances'][-1]['history']"
   ]
  },
  {
   "cell_type": "markdown",
   "metadata": {},
   "source": [
    "### default dataset"
   ]
  },
  {
   "cell_type": "code",
   "execution_count": 32,
   "metadata": {},
   "outputs": [
    {
     "data": {
      "text/plain": [
       "{'persona': ['my mom is my best friend .',\n",
       "  'i have four sisters .',\n",
       "  'i believe that mermaids are real .',\n",
       "  'i love iced tea .'],\n",
       " 'history': ['hi , how are you doing today ?',\n",
       "  'i am spending time with my 4 sisters what are you up to',\n",
       "  'wow , four sisters . just watching game of thrones .',\n",
       "  'that is a good show i watch that while drinking iced tea',\n",
       "  'i agree . what do you do for a living ?',\n",
       "  \"i'm a researcher i'm researching the fact that mermaids are real\",\n",
       "  \"interesting . i'm a website designer . pretty much spend all my time on the computer .\",\n",
       "  \"that's cool my mom does the same thing\",\n",
       "  \"that's awesome . i have always had a love for technology .\",\n",
       "  'tell me more about yourself',\n",
       "  'i really enjoy free diving , how about you , have any hobbies ?']}"
      ]
     },
     "execution_count": 32,
     "metadata": {},
     "output_type": "execute_result"
    }
   ],
   "source": [
    "from dimweb_persona_bot.dataloaders.persona_chat_dataloaders import PersonaChatDatasetV1\n",
    "dataset = PersonaChatDatasetV1(\n",
    "    input_dataset_path=\"./datasets/persona_chat/train.json\",\n",
    ")\n",
    "dataset[12]"
   ]
  },
  {
   "cell_type": "markdown",
   "metadata": {},
   "source": [
    "### Causal datasets"
   ]
  },
  {
   "cell_type": "code",
   "execution_count": 4,
   "metadata": {},
   "outputs": [
    {
     "data": {
      "text/plain": [
       "{'input_ids': tensor([[50256, 15332,   287,  ...,  -100,  -100,  -100],\n",
       "         [50256,  1820,  4004,  ...,  -100,  -100,  -100],\n",
       "         [50256,    72,   588,  ...,  -100,  -100,  -100],\n",
       "         ...,\n",
       "         [50256,    72,  1842,  ...,  -100,  -100,  -100],\n",
       "         [50256,    72,  1842,  ...,  -100,  -100,  -100],\n",
       "         [50256,    72,   588,  ...,  -100,  -100,  -100]]),\n",
       " 'labels': tensor([[50256, 15332,   287,  ...,  -100,  -100,  -100],\n",
       "         [50256,  1820,  4004,  ...,  -100,  -100,  -100],\n",
       "         [50256,    72,   588,  ...,  -100,  -100,  -100],\n",
       "         ...,\n",
       "         [50256,    72,  1842,  ...,  -100,  -100,  -100],\n",
       "         [50256,    72,  1842,  ...,  -100,  -100,  -100],\n",
       "         [50256,    72,   588,  ...,  -100,  -100,  -100]]),\n",
       " 'attention_mask': tensor([[1, 1, 1,  ..., 0, 0, 0],\n",
       "         [1, 1, 1,  ..., 0, 0, 0],\n",
       "         [1, 1, 1,  ..., 0, 0, 0],\n",
       "         ...,\n",
       "         [1, 1, 1,  ..., 0, 0, 0],\n",
       "         [1, 1, 1,  ..., 0, 0, 0],\n",
       "         [1, 1, 1,  ..., 0, 0, 0]])}"
      ]
     },
     "execution_count": 4,
     "metadata": {},
     "output_type": "execute_result"
    }
   ],
   "source": [
    "from dimweb_persona_bot.dataloaders.persona_chat_dataloaders import PersonaChatDatasetV1\n",
    "from dimweb_persona_bot.dataloaders.causal_samplers import CausalTrainPersonaSampleV1, CausalValidPersonaSampleV1\n",
    "from dimweb_persona_bot.dataloaders.lighting import LightningDataModuleV1\n",
    "from dimweb_persona_bot.hyperparameters.causal_modeling_hyperparameters import (\n",
    "    PersonaChatHyperparametersV1,\n",
    ")\n",
    "\n",
    "from transformers import AutoTokenizer\n",
    "\n",
    "hyperparameters = PersonaChatHyperparametersV1()\n",
    "tokenizer = AutoTokenizer.from_pretrained(hyperparameters.model_name)\n",
    "\n",
    "lighting_data = LightningDataModuleV1(\n",
    "\ttrain_path_dataset=\"./datasets/persona_chat/train.json\",\n",
    "\tvalid_path_dataset=\"./datasets/persona_chat/valid.json\",\n",
    "\thyperparameters=hyperparameters,\n",
    "\ttokenizer=tokenizer,\n",
    "\tbase_train_dataset_class=PersonaChatDatasetV1,\n",
    "\tbase_valid_dataset_class=PersonaChatDatasetV1,\n",
    "\tbase_train_sample_class=CausalTrainPersonaSampleV1,\n",
    "\tbase_valid_sample_class=CausalValidPersonaSampleV1,\n",
    ")\n",
    "lighting_data.setup()\n",
    "next(iter(lighting_data.train_dataloader()))"
   ]
  },
  {
   "cell_type": "code",
   "execution_count": 2,
   "metadata": {},
   "outputs": [],
   "source": [
    "from dimweb_persona_bot.dataloaders.persona_chat_dataloaders import PersonaChatDatasetV1\n",
    "\n",
    "\n",
    "train_dataset = PersonaChatDatasetV1(\n",
    "    input_dataset_path=\"./datasets/persona_chat/train.json\",\n",
    ")"
   ]
  },
  {
   "cell_type": "code",
   "execution_count": 6,
   "metadata": {},
   "outputs": [
    {
     "data": {
      "text/plain": [
       "{'persona': ['i like to snowboard .',\n",
       "  'my favorite food is popcorn .',\n",
       "  'i like to ride horses .',\n",
       "  'i live in rural wisconsin .'],\n",
       " 'history': ['i am frank . nice to meet you . what is your name ?',\n",
       "  'my name is gary . great to meet you too .',\n",
       "  'i work as a general manager at a grocery store . what about you ?',\n",
       "  \"i'm an insurance salesman\"],\n",
       " 'sample_id': '15_2'}"
      ]
     },
     "execution_count": 6,
     "metadata": {},
     "output_type": "execute_result"
    }
   ],
   "source": [
    "train_dataset[96]"
   ]
  },
  {
   "cell_type": "code",
   "execution_count": 7,
   "metadata": {},
   "outputs": [],
   "source": [
    "valid_dataset = PersonaChatDatasetV1(\n",
    "    input_dataset_path=\"./datasets/persona_chat/valid.json\",\n",
    ")"
   ]
  },
  {
   "cell_type": "code",
   "execution_count": 8,
   "metadata": {},
   "outputs": [
    {
     "data": {
      "text/plain": [
       "{'persona': ['i read twenty books a year .',\n",
       "  \"i'm a stunt double as my second job .\",\n",
       "  'i only eat kosher .',\n",
       "  'i was raised in a single parent household .'],\n",
       " 'history': ['hello what are doing today ?',\n",
       "  'i am good , i just got off work and tired , i have two jobs .'],\n",
       " 'sample_id': '0_1'}"
      ]
     },
     "execution_count": 8,
     "metadata": {},
     "output_type": "execute_result"
    }
   ],
   "source": [
    "valid_dataset[0]"
   ]
  },
  {
   "cell_type": "code",
   "execution_count": 12,
   "metadata": {},
   "outputs": [
    {
     "data": {
      "text/plain": [
       "['hello what are doing today ?',\n",
       " 'i am good , i just got off work and tired , i have two jobs .',\n",
       " 'i just got done watching a horror movie',\n",
       " \"i rather read , i've read about 20 books this year .\",\n",
       " 'wow ! i do love a good horror movie . loving this cooler weather',\n",
       " 'but a good movie is always good .']"
      ]
     },
     "execution_count": 12,
     "metadata": {},
     "output_type": "execute_result"
    }
   ],
   "source": [
    "valid_dataset[2]['history']"
   ]
  },
  {
   "cell_type": "code",
   "execution_count": 17,
   "metadata": {},
   "outputs": [
    {
     "data": {
      "text/plain": [
       "['wow ! i do love a good horror movie . loving this cooler weather',\n",
       " 'but a good movie is always good .']"
      ]
     },
     "execution_count": 17,
     "metadata": {},
     "output_type": "execute_result"
    }
   ],
   "source": [
    "valid_dataset[2]['history'][-2:]"
   ]
  }
 ],
 "metadata": {
  "kernelspec": {
   "display_name": "Python 3.10.6 ('d_env')",
   "language": "python",
   "name": "python3"
  },
  "language_info": {
   "codemirror_mode": {
    "name": "ipython",
    "version": 3
   },
   "file_extension": ".py",
   "mimetype": "text/x-python",
   "name": "python",
   "nbconvert_exporter": "python",
   "pygments_lexer": "ipython3",
   "version": "3.10.6"
  },
  "orig_nbformat": 4,
  "vscode": {
   "interpreter": {
    "hash": "c47eeeae5f0593d6ff7164e36f6d45daaa118b41372aa3e9757d1f066e1c76d7"
   }
  }
 },
 "nbformat": 4,
 "nbformat_minor": 2
}
