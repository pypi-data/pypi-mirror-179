{
 "cells": [
  {
   "cell_type": "code",
   "execution_count": null,
   "id": "020c49b3",
   "metadata": {},
   "outputs": [],
   "source": [
    "import yaml\n",
    "import pandas as pd\n",
    "import numpy as np\n",
    "from IPython.core.display import display, Markdown"
   ]
  },
  {
   "cell_type": "code",
   "execution_count": null,
   "id": "88352d45-4397-483a-8da7-c1f34478406e",
   "metadata": {
    "tags": [
     "parameters"
    ]
   },
   "outputs": [],
   "source": [
    "nm_info_path = 'output/details/nm_info.yaml'"
   ]
  },
  {
   "cell_type": "code",
   "execution_count": null,
   "id": "6664086a",
   "metadata": {},
   "outputs": [],
   "source": [
    "info = yaml.load(\n",
    "    open(nm_info_path),\n",
    "    Loader=yaml.SafeLoader\n",
    ")\n",
    "metadata = info['metadata']\n",
    "stats = info['stats']"
   ]
  },
  {
   "cell_type": "code",
   "execution_count": null,
   "id": "1a859c93",
   "metadata": {},
   "outputs": [],
   "source": [
    "if not metadata['params']['incremental']:\n",
    "    prediction_stats = stats['FitModel']['model_stats__match']['basic']['all pairs']\n",
    "    key_stats = {\n",
    "        'Blocking: pair completeness': stats['Block']['pc_eq_cosed'],\n",
    "        'Blocking: pair completeness (excluding exact matches)': stats['Block']['pc_neq_cosed'],\n",
    "        'Prediction: baserate, or P(match) in ground truth data': prediction_stats['baserate'],\n",
    "        'Prediction: precision': prediction_stats['precision'],\n",
    "        'Prediction: recall': prediction_stats['recall'],\n",
    "        'Prediction: AUC': prediction_stats['auc'],\n",
    "        'Prediction: false positive rate': prediction_stats['fp_rate'],\n",
    "        'Prediction: false negative rate': prediction_stats['fn_rate']\n",
    "    }\n",
    "\n",
    "n_valid = stats['ProcessInputData']['n_valid_an']\n",
    "key_ns = {\n",
    "    'Number of records': stats['ProcessInputData']['n_an'],\n",
    "    'Number of records with required values': n_valid,\n",
    "    'Number of possible record pairs': (n_valid * (n_valid-1)) / 2,\n",
    "    'Number of candidate record pairs (record pairs considered post blocking)': stats['Block'].get('n_cand_pairs', np.NaN),\n",
    "    'Number of potential links (candidate record pairs predicted to match)': stats['Cluster']['n_potential_edges'],\n",
    "    'Number of potential links deemed invalid by pair-level constraints': stats['Cluster']['n_invalid_links'],\n",
    "    'Number of potential links deemed invalid by cluster-level constraints': stats['Cluster']['n_invalid_clusters'],\n",
    "    'Number of final clusters': stats['Cluster']['n_clusters'],\n",
    "    'Number of final clusters with no links (i.e. one-record clusters)': stats['Cluster']['n_singleton_clusters']\n",
    "}\n",
    "if metadata['params']['incremental']:\n",
    "    _ = key_ns.pop('Number of candidate record pairs (record pairs considered post blocking)')"
   ]
  },
  {
   "cell_type": "markdown",
   "id": "ce54e2ce",
   "metadata": {},
   "source": [
    "# Key performance metrics"
   ]
  },
  {
   "cell_type": "markdown",
   "id": "e1cd5b18",
   "metadata": {},
   "source": [
    "Note: Prediction performance metrics (precision, recall, AUC, false positive rate, and false negative rate) are reported out of sample. That is, they are computed on *heldout* ground truth data not used in model training.  "
   ]
  },
  {
   "cell_type": "code",
   "execution_count": null,
   "id": "0417a341",
   "metadata": {},
   "outputs": [],
   "source": [
    "if not metadata['params']['incremental']:\n",
    "    display(pd.DataFrame(pd.Series(key_stats).rename(\"\")).style.format('{:.1%}'))\n",
    "else:\n",
    "    display(Markdown(\"<font color='red'>Key performance metrics are not yet supported for incremental Name Match runs.</font>\"))"
   ]
  },
  {
   "cell_type": "markdown",
   "id": "360249e6",
   "metadata": {},
   "source": [
    "# Important counts: understanding how final links are made"
   ]
  },
  {
   "cell_type": "code",
   "execution_count": null,
   "id": "bda1e3d3",
   "metadata": {
    "hide_input": false
   },
   "outputs": [],
   "source": [
    "pd.DataFrame(pd.Series(key_ns).rename(\"\")).style.format('{:,.0f}')"
   ]
  }
 ],
 "metadata": {
  "hide_input": false,
  "kernelspec": {
   "display_name": "nm_dev_3.8",
   "language": "python",
   "name": "nm_dev_3.8"
  },
  "language_info": {
   "codemirror_mode": {
    "name": "ipython",
    "version": 3
   },
   "file_extension": ".py",
   "mimetype": "text/x-python",
   "name": "python",
   "nbconvert_exporter": "python",
   "pygments_lexer": "ipython3",
   "version": "3.8.12"
  },
  "toc": {
   "base_numbering": 1,
   "nav_menu": {},
   "number_sections": false,
   "sideBar": true,
   "skip_h1_title": false,
   "title_cell": "Table of Contents",
   "title_sidebar": "Contents",
   "toc_cell": false,
   "toc_position": {
    "height": "calc(100% - 180px)",
    "left": "10px",
    "top": "150px",
    "width": "349.091px"
   },
   "toc_section_display": true,
   "toc_window_display": false
  }
 },
 "nbformat": 4,
 "nbformat_minor": 5
}
