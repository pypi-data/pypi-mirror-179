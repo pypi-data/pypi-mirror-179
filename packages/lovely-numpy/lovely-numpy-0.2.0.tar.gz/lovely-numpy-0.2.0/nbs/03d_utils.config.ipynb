{
 "cells": [
  {
   "cell_type": "markdown",
   "metadata": {},
   "source": [
    "## 🤔 Config"
   ]
  },
  {
   "cell_type": "code",
   "execution_count": null,
   "metadata": {},
   "outputs": [],
   "source": [
    "#|default_exp utils.config"
   ]
  },
  {
   "cell_type": "code",
   "execution_count": null,
   "metadata": {},
   "outputs": [],
   "source": [
    "# |hide\n",
    "from nbdev.showdoc import *"
   ]
  },
  {
   "cell_type": "code",
   "execution_count": null,
   "metadata": {},
   "outputs": [],
   "source": [
    "# |hide\n",
    "# |export\n",
    "from copy import copy\n",
    "from types import SimpleNamespace\n",
    "from contextlib import contextmanager\n",
    "\n",
    "import numpy as np"
   ]
  },
  {
   "cell_type": "code",
   "execution_count": null,
   "metadata": {},
   "outputs": [],
   "source": [
    "# |exporti\n",
    "_config = SimpleNamespace(\n",
    "    precision     = 3,    # Digits after `.`\n",
    "    threshold_max = 3,    # .abs() larger than 1e3 -> Sci mode\n",
    "    threshold_min = -4,    # .abs() smaller that 1e-4 -> Sci mode\n",
    "    sci_mode      = None, # None = auto. Otherwise, force sci mode (2.3e4) on/off.\n",
    "    indent        = 2,    # Indent for .deeper()\n",
    "    color         = True, # ANSI colors in text\n",
    ")"
   ]
  },
  {
   "cell_type": "code",
   "execution_count": null,
   "metadata": {},
   "outputs": [],
   "source": [
    "# |export\n",
    "def set_config( precision       :int =None,     # Digits after `.`\n",
    "                threshold_min   :int =None,     # .abs() larger than 1e3 -> Sci mode\n",
    "                threshold_max   :int =None,     # .abs() smaller that 1e-4 -> Sci mode\n",
    "                sci_mode        :bool=None,     # None = auto. Otherwise, force sci mode (2.3e4) on/off.\n",
    "                indent          :bool=None,     # Indent for .deeper()\n",
    "                color           :bool=None):    # ANSI colors in text\n",
    "\n",
    "    \"Set config variables\"\n",
    "    for k,v in locals().items():\n",
    "        if v is not None: setattr(_config, k, v)"
   ]
  },
  {
   "cell_type": "code",
   "execution_count": null,
   "metadata": {},
   "outputs": [],
   "source": [
    "# |export\n",
    "def get_config():\n",
    "    \"Get a copy of config variables\"\n",
    "    return copy(_config)"
   ]
  },
  {
   "cell_type": "code",
   "execution_count": null,
   "metadata": {},
   "outputs": [],
   "source": [
    "# |export\n",
    "@contextmanager\n",
    "def config( precision       :int =None,     # Digits after `.`\n",
    "            threshold_min   :int =None,     # .abs() larger than 1e3 -> Sci mode\n",
    "            threshold_max   :int =None,     # .abs() smaller that 1e-4 -> Sci mode\n",
    "            sci_mode        :bool=None,     # None = auto. Otherwise, force sci mode (2.3e4) on/off.\n",
    "            indent          :bool=None,     # Indent for .deeper()\n",
    "            color           :bool=None):    # ANSI colors in text\n",
    "    \"Context manager for temporarily setting printting options.\"\n",
    "    global _config\n",
    "    new_opts = locals()\n",
    "    opts = get_config()\n",
    "\n",
    "    try:\n",
    "        set_config(**new_opts)\n",
    "        yield\n",
    "    finally:\n",
    "        _config = opts"
   ]
  },
  {
   "cell_type": "code",
   "execution_count": null,
   "metadata": {},
   "outputs": [
    {
     "data": {
      "text/markdown": [
       "---\n",
       "\n",
       "[source](https://github.com/xl0/lovely-numpy/blob/master/lovely_numpy/utils/config.py#L24){target=\"_blank\" style=\"float:right; font-size:smaller\"}\n",
       "\n",
       "### set_config\n",
       "\n",
       ">      set_config (precision:int=None, threshold_min:int=None,\n",
       ">                  threshold_max:int=None, sci_mode:bool=None, indent:bool=None,\n",
       ">                  color:bool=None)\n",
       "\n",
       "Set config variables\n",
       "\n",
       "|    | **Type** | **Default** | **Details** |\n",
       "| -- | -------- | ----------- | ----------- |\n",
       "| precision | int | None | Digits after `.` |\n",
       "| threshold_min | int | None | .abs() larger than 1e3 -> Sci mode |\n",
       "| threshold_max | int | None | .abs() smaller that 1e-4 -> Sci mode |\n",
       "| sci_mode | bool | None | None = auto. Otherwise, force sci mode (2.3e4) on/off. |\n",
       "| indent | bool | None | Indent for .deeper() |\n",
       "| color | bool | None | ANSI colors in text |"
      ],
      "text/plain": [
       "---\n",
       "\n",
       "[source](https://github.com/xl0/lovely-numpy/blob/master/lovely_numpy/utils/config.py#L24){target=\"_blank\" style=\"float:right; font-size:smaller\"}\n",
       "\n",
       "### set_config\n",
       "\n",
       ">      set_config (precision:int=None, threshold_min:int=None,\n",
       ">                  threshold_max:int=None, sci_mode:bool=None, indent:bool=None,\n",
       ">                  color:bool=None)\n",
       "\n",
       "Set config variables\n",
       "\n",
       "|    | **Type** | **Default** | **Details** |\n",
       "| -- | -------- | ----------- | ----------- |\n",
       "| precision | int | None | Digits after `.` |\n",
       "| threshold_min | int | None | .abs() larger than 1e3 -> Sci mode |\n",
       "| threshold_max | int | None | .abs() smaller that 1e-4 -> Sci mode |\n",
       "| sci_mode | bool | None | None = auto. Otherwise, force sci mode (2.3e4) on/off. |\n",
       "| indent | bool | None | Indent for .deeper() |\n",
       "| color | bool | None | ANSI colors in text |"
      ]
     },
     "execution_count": null,
     "metadata": {},
     "output_type": "execute_result"
    }
   ],
   "source": [
    "show_doc(set_config)"
   ]
  },
  {
   "cell_type": "code",
   "execution_count": null,
   "metadata": {},
   "outputs": [
    {
     "data": {
      "text/markdown": [
       "---\n",
       "\n",
       "[source](https://github.com/xl0/lovely-numpy/blob/master/lovely_numpy/utils/config.py#L36){target=\"_blank\" style=\"float:right; font-size:smaller\"}\n",
       "\n",
       "### get_config\n",
       "\n",
       ">      get_config ()\n",
       "\n",
       "Get a copy of config variables"
      ],
      "text/plain": [
       "---\n",
       "\n",
       "[source](https://github.com/xl0/lovely-numpy/blob/master/lovely_numpy/utils/config.py#L36){target=\"_blank\" style=\"float:right; font-size:smaller\"}\n",
       "\n",
       "### get_config\n",
       "\n",
       ">      get_config ()\n",
       "\n",
       "Get a copy of config variables"
      ]
     },
     "execution_count": null,
     "metadata": {},
     "output_type": "execute_result"
    }
   ],
   "source": [
    "show_doc(get_config)"
   ]
  },
  {
   "cell_type": "code",
   "execution_count": null,
   "metadata": {},
   "outputs": [
    {
     "data": {
      "text/markdown": [
       "---\n",
       "\n",
       "[source](https://github.com/xl0/lovely-numpy/blob/master/lovely_numpy/utils/config.py#L42){target=\"_blank\" style=\"float:right; font-size:smaller\"}\n",
       "\n",
       "### config\n",
       "\n",
       ">      config (precision:int=None, threshold_min:int=None,\n",
       ">              threshold_max:int=None, sci_mode:bool=None, indent:bool=None,\n",
       ">              color:bool=None)\n",
       "\n",
       "Context manager for temporarily setting printting options.\n",
       "\n",
       "|    | **Type** | **Default** | **Details** |\n",
       "| -- | -------- | ----------- | ----------- |\n",
       "| precision | int | None | Digits after `.` |\n",
       "| threshold_min | int | None | .abs() larger than 1e3 -> Sci mode |\n",
       "| threshold_max | int | None | .abs() smaller that 1e-4 -> Sci mode |\n",
       "| sci_mode | bool | None | None = auto. Otherwise, force sci mode (2.3e4) on/off. |\n",
       "| indent | bool | None | Indent for .deeper() |\n",
       "| color | bool | None | ANSI colors in text |"
      ],
      "text/plain": [
       "---\n",
       "\n",
       "[source](https://github.com/xl0/lovely-numpy/blob/master/lovely_numpy/utils/config.py#L42){target=\"_blank\" style=\"float:right; font-size:smaller\"}\n",
       "\n",
       "### config\n",
       "\n",
       ">      config (precision:int=None, threshold_min:int=None,\n",
       ">              threshold_max:int=None, sci_mode:bool=None, indent:bool=None,\n",
       ">              color:bool=None)\n",
       "\n",
       "Context manager for temporarily setting printting options.\n",
       "\n",
       "|    | **Type** | **Default** | **Details** |\n",
       "| -- | -------- | ----------- | ----------- |\n",
       "| precision | int | None | Digits after `.` |\n",
       "| threshold_min | int | None | .abs() larger than 1e3 -> Sci mode |\n",
       "| threshold_max | int | None | .abs() smaller that 1e-4 -> Sci mode |\n",
       "| sci_mode | bool | None | None = auto. Otherwise, force sci mode (2.3e4) on/off. |\n",
       "| indent | bool | None | Indent for .deeper() |\n",
       "| color | bool | None | ANSI colors in text |"
      ]
     },
     "execution_count": null,
     "metadata": {},
     "output_type": "execute_result"
    }
   ],
   "source": [
    "show_doc(config)"
   ]
  },
  {
   "cell_type": "markdown",
   "metadata": {},
   "source": [
    "### Examples"
   ]
  },
  {
   "cell_type": "code",
   "execution_count": null,
   "metadata": {},
   "outputs": [],
   "source": [
    "from lovely_numpy import Lo, set_config, get_config, config"
   ]
  },
  {
   "cell_type": "code",
   "execution_count": null,
   "metadata": {},
   "outputs": [
    {
     "data": {
      "text/plain": [
       "array[3] x∈[1.00000, 3.00000] μ=2.00000 σ=0.81650 [1.00000, 2.00000, 3.00000]"
      ]
     },
     "execution_count": null,
     "metadata": {},
     "output_type": "execute_result"
    }
   ],
   "source": [
    "set_config(precision=5)\n",
    "\n",
    "Lo(np.array([1., 2, 3]))"
   ]
  },
  {
   "cell_type": "code",
   "execution_count": null,
   "metadata": {},
   "outputs": [
    {
     "name": "stdout",
     "output_type": "stream",
     "text": [
      "array[3] x∈[1.00000e+00, 3.00000e+00] μ=2.00000e+00 σ=8.16497e-01 [1.00000e+00, 2.00000e+00, 3.00000e+00]\n"
     ]
    }
   ],
   "source": [
    "with config(sci_mode=True):    \n",
    "    print(Lo(np.array([1., 2, 3])))"
   ]
  },
  {
   "cell_type": "code",
   "execution_count": null,
   "metadata": {},
   "outputs": [
    {
     "data": {
      "text/plain": [
       "array[3] x∈[1.000, 3.000] μ=2.000 σ=0.816 [1.000, 2.000, 3.000]"
      ]
     },
     "execution_count": null,
     "metadata": {},
     "output_type": "execute_result"
    }
   ],
   "source": [
    "set_config(precision=3)\n",
    "Lo(np.array([1., 2, 3]))"
   ]
  },
  {
   "cell_type": "code",
   "execution_count": null,
   "metadata": {},
   "outputs": [],
   "source": [
    "# |hide\n",
    "import nbdev; nbdev.nbdev_export()"
   ]
  }
 ],
 "metadata": {
  "kernelspec": {
   "display_name": "Python 3.10.6 ('torch')",
   "language": "python",
   "name": "python3"
  }
 },
 "nbformat": 4,
 "nbformat_minor": 2
}
