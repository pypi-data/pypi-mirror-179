{
 "cells": [
  {
   "cell_type": "markdown",
   "metadata": {},
   "source": [
    "## 🤔 Config"
   ]
  },
  {
   "cell_type": "code",
   "execution_count": null,
   "metadata": {},
   "outputs": [],
   "source": [
    "#| default_exp utils.config"
   ]
  },
  {
   "cell_type": "code",
   "execution_count": null,
   "metadata": {},
   "outputs": [],
   "source": [
    "# |hide\n",
    "from nbdev.showdoc import *\n",
    "from fastcore.test import test_eq"
   ]
  },
  {
   "cell_type": "code",
   "execution_count": null,
   "metadata": {},
   "outputs": [],
   "source": [
    "# |hide\n",
    "# |export\n",
    "from copy import copy\n",
    "from types import SimpleNamespace\n",
    "from contextlib import contextmanager\n",
    "from lovely_numpy import config as np_config"
   ]
  },
  {
   "cell_type": "code",
   "execution_count": null,
   "metadata": {},
   "outputs": [],
   "source": [
    "# |exporti\n",
    "\n",
    "_config = SimpleNamespace(\n",
    "    precision     = 3,    # Digits after `.`\n",
    "    threshold_max = 3,    # .abs() larger than 1e3 -> Sci mode\n",
    "    threshold_min = -4,   # .abs() smaller that 1e-4 -> Sci mode\n",
    "    sci_mode      = None, # sci mode (2.3e4), None=auto\n",
    "    indent        = 2,    # Indent for .deeper()\n",
    "    color         = True, # ANSI colors in text\n",
    ")"
   ]
  },
  {
   "cell_type": "code",
   "execution_count": null,
   "metadata": {},
   "outputs": [],
   "source": [
    "# |export\n",
    "def set_config( precision       :int =None,     # Digits after `.`\n",
    "                threshold_min   :int =None,     # .abs() larger than 1e3 -> Sci mode\n",
    "                threshold_max   :int =None,     # .abs() smaller that 1e-4 -> Sci mode\n",
    "                sci_mode        :bool=None,     # Sci mode (2.3e4) on/off. None=auto\n",
    "                indent          :bool=None,     # Indent for .deeper()\n",
    "                color           :bool=None):    # ANSI colors in text\n",
    "\n",
    "    \"Set config variables\"\n",
    "    for k,v in locals().items():\n",
    "        if v is not None: setattr(_config, k, v)"
   ]
  },
  {
   "cell_type": "code",
   "execution_count": null,
   "metadata": {},
   "outputs": [],
   "source": [
    "# |export\n",
    "def get_config():\n",
    "    \"Get a copy of config variables\"\n",
    "    return copy(_config)"
   ]
  },
  {
   "cell_type": "code",
   "execution_count": null,
   "metadata": {},
   "outputs": [],
   "source": [
    "# |export\n",
    "@contextmanager\n",
    "def config( precision       :int =None,     # Digits after `.`\n",
    "            threshold_min   :int =None,     # .abs() larger than 1e3 -> Sci mode\n",
    "            threshold_max   :int =None,     # .abs() smaller that 1e-4 -> Sci mode\n",
    "            sci_mode        :bool=None,     # Sci mode (2.3e4) on/off. None=auto\n",
    "            indent          :bool=None,     # Indent for .deeper()\n",
    "            color           :bool=None):    # ANSI colors in text\n",
    "    \"Context manager for temporarily setting printting options.\"\n",
    "    global _config\n",
    "    new_opts = locals()\n",
    "    opts = get_config()\n",
    "\n",
    "    try:\n",
    "        set_config(**new_opts)\n",
    "        yield\n",
    "    finally:\n",
    "        _config = opts"
   ]
  },
  {
   "cell_type": "markdown",
   "metadata": {},
   "source": [
    "### Examples"
   ]
  },
  {
   "cell_type": "code",
   "execution_count": null,
   "metadata": {},
   "outputs": [],
   "source": [
    "import torch\n",
    "from lovely_tensors import set_config, get_config, config, lovely"
   ]
  },
  {
   "cell_type": "code",
   "execution_count": null,
   "metadata": {},
   "outputs": [
    {
     "data": {
      "text/plain": [
       "tensor[3] μ=1.50000 σ=0.70711 \u001b[31mNaN!\u001b[0m [1.00000, 2.00000, nan]"
      ]
     },
     "execution_count": null,
     "metadata": {},
     "output_type": "execute_result"
    }
   ],
   "source": [
    "set_config(precision=5, )\n",
    "\n",
    "lovely(torch.tensor([1., 2, float(\"nan\")]))"
   ]
  },
  {
   "cell_type": "code",
   "execution_count": null,
   "metadata": {},
   "outputs": [
    {
     "name": "stdout",
     "output_type": "stream",
     "text": [
      "tensor[3] μ=1.50000e+00 σ=7.07107e-01 NaN! [1.00000e+00, 2.00000e+00, nan]\n"
     ]
    }
   ],
   "source": [
    "with config(sci_mode=True, color=False):\n",
    "    print(lovely(torch.tensor([1., 2, float(\"nan\")])))\n",
    "    test_eq(str(lovely(torch.tensor([1, float(\"nan\")]))), \"tensor[2] NaN! [1.00000e+00, nan]\")"
   ]
  },
  {
   "cell_type": "code",
   "execution_count": null,
   "metadata": {},
   "outputs": [
    {
     "data": {
      "text/plain": [
       "tensor[3] μ=1.50 σ=0.71 \u001b[31mNaN!\u001b[0m [1.00, 2.00, nan]"
      ]
     },
     "execution_count": null,
     "metadata": {},
     "output_type": "execute_result"
    }
   ],
   "source": [
    "set_config(precision=2)\n",
    "lovely( torch.tensor( [1., 2, float(\"nan\")] ))"
   ]
  },
  {
   "cell_type": "code",
   "execution_count": null,
   "metadata": {},
   "outputs": [],
   "source": [
    "# |hide\n",
    "import nbdev; nbdev.nbdev_export()"
   ]
  }
 ],
 "metadata": {
  "kernelspec": {
   "display_name": "Python 3.10.6 ('torch')",
   "language": "python",
   "name": "python3"
  }
 },
 "nbformat": 4,
 "nbformat_minor": 2
}
