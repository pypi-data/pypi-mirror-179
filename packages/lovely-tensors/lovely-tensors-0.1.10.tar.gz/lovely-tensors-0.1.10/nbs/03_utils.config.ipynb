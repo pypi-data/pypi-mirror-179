{
 "cells": [
  {
   "cell_type": "markdown",
   "metadata": {},
   "source": [
    "# 🤔 Config"
   ]
  },
  {
   "cell_type": "code",
   "execution_count": null,
   "metadata": {},
   "outputs": [],
   "source": [
    "#| default_exp utils.config"
   ]
  },
  {
   "cell_type": "code",
   "execution_count": null,
   "metadata": {},
   "outputs": [],
   "source": [
    "# |hide\n",
    "from nbdev.showdoc import *\n",
    "from fastcore.test import test_eq"
   ]
  },
  {
   "cell_type": "code",
   "execution_count": null,
   "metadata": {},
   "outputs": [],
   "source": [
    "# |hide\n",
    "# |export\n",
    "from copy import copy\n",
    "from types import SimpleNamespace\n",
    "from typing import Optional, Union, Callable, TypeVar\n",
    "from contextlib import contextmanager\n",
    "from lovely_numpy import config as np_config"
   ]
  },
  {
   "cell_type": "code",
   "execution_count": null,
   "metadata": {},
   "outputs": [],
   "source": [
    "# |exporti\n",
    "\n",
    "# |exporti\n",
    "_defaults = SimpleNamespace(\n",
    "    precision     = 3,    # Digits after `.`\n",
    "    threshold_max = 3,    # .abs() larger than 1e3 -> Sci mode\n",
    "    threshold_min = -4,   # .abs() smaller that 1e-4 -> Sci mode\n",
    "    sci_mode      = None, # Sci mode (2.3e4). \n",
    "    indent        = 2,    # Indent for .deeper()\n",
    "    color         = True, # ANSI colors in text\n",
    "    deeper_width  = 9,    # For .deeper, width per level\n",
    ")\n",
    "\n",
    "_config = copy(_defaults)"
   ]
  },
  {
   "cell_type": "code",
   "execution_count": null,
   "metadata": {},
   "outputs": [],
   "source": [
    "# |exporti\n",
    "\n",
    "# Allows passing None as an argument to reset to defaults\n",
    "class _Default():\n",
    "    def __repr__(self):\n",
    "        return \"Ignore\"\n",
    "Default = _Default()\n",
    "D = TypeVar(\"Default\")"
   ]
  },
  {
   "cell_type": "code",
   "execution_count": null,
   "metadata": {},
   "outputs": [],
   "source": [
    "# |export\n",
    "\n",
    "def set_config( precision       :Optional[Union[D, int]] =Default,  # Digits after `.`\n",
    "                threshold_min   :Optional[Union[D,int]]  =Default,  # .abs() larger than 1e3 -> Sci mode\n",
    "                threshold_max   :Optional[Union[D,int]]  =Default,  # .abs() smaller that 1e-4 -> Sci mode\n",
    "                sci_mode        :Optional[Union[D,bool]] =Default,  # Sci mode (1.2e3), True, False, None=auto.\n",
    "                indent          :Optional[Union[D,bool]] =Default,  # Indent for .deeper()\n",
    "                color           :Optional[Union[D,bool]] =Default,  # ANSI colors in text\n",
    "                deeper_width     :Optional[Union[D,int]] =Default): # For .deeper, width per level\n",
    "\n",
    "    \"Set config variables\"\n",
    "    args = locals().copy()\n",
    "    for k,v in args.items():\n",
    "        if v != Default:\n",
    "            if v is None:\n",
    "                setattr(_config, k, getattr(_defaults, k))\n",
    "            else:\n",
    "                setattr(_config, k, v)"
   ]
  },
  {
   "cell_type": "code",
   "execution_count": null,
   "metadata": {},
   "outputs": [],
   "source": [
    "# |export\n",
    "def get_config():\n",
    "    \"Get a copy of config variables\"\n",
    "    return copy(_config)"
   ]
  },
  {
   "cell_type": "code",
   "execution_count": null,
   "metadata": {},
   "outputs": [],
   "source": [
    "# |export\n",
    "@contextmanager\n",
    "def config( precision       :Optional[Union[D,int]]  =Default,  # Digits after `.`\n",
    "            threshold_min   :Optional[Union[D,int]]  =Default,  # .abs() larger than 1e3 -> Sci mode\n",
    "            threshold_max   :Optional[Union[D,int]]  =Default,  # .abs() smaller that 1e-4 -> Sci mode\n",
    "            sci_mode        :Optional[Union[D,bool]] =Default,  # Sci mode (1.2e3), True, False, None=auto.\n",
    "            indent          :Optional[Union[D,bool]] =Default,  # Indent for .deeper()\n",
    "            color           :Optional[Union[D,bool]] =Default,  # ANSI colors in text\n",
    "            deeper_width     :Optional[Union[D,int]] =Default): # For .deeper, width per level\n",
    "\n",
    "    \"Context manager for temporarily setting printting options.\"\n",
    "    global _config\n",
    "    new_opts = { k:v for k, v in locals().items() if v != Default }\n",
    "    old_opts = copy(get_config().__dict__)\n",
    "\n",
    "    try:\n",
    "        set_config(**new_opts)\n",
    "        yield\n",
    "    finally:\n",
    "        set_config(**old_opts)"
   ]
  },
  {
   "cell_type": "code",
   "execution_count": null,
   "metadata": {},
   "outputs": [
    {
     "data": {
      "text/markdown": [
       "---\n",
       "\n",
       "[source](https://github.com/xl0/lovely-tensors/blob/master/lovely_tensors/utils/config.py#L35){target=\"_blank\" style=\"float:right; font-size:smaller\"}\n",
       "\n",
       "### set_config\n",
       "\n",
       ">      set_config (precision:Union[~Default,int,NoneType]=Ignore,\n",
       ">                  threshold_min:Union[~Default,int,NoneType]=Ignore,\n",
       ">                  threshold_max:Union[~Default,int,NoneType]=Ignore,\n",
       ">                  sci_mode:Union[~Default,bool,NoneType]=Ignore,\n",
       ">                  indent:Union[~Default,bool,NoneType]=Ignore,\n",
       ">                  color:Union[~Default,bool,NoneType]=Ignore,\n",
       ">                  deeper_width:Union[~Default,int,NoneType]=Ignore)\n",
       "\n",
       "Set config variables\n",
       "\n",
       "|    | **Type** | **Default** | **Details** |\n",
       "| -- | -------- | ----------- | ----------- |\n",
       "| precision | Union | Ignore | Digits after `.` |\n",
       "| threshold_min | Union | Ignore | .abs() larger than 1e3 -> Sci mode |\n",
       "| threshold_max | Union | Ignore | .abs() smaller that 1e-4 -> Sci mode |\n",
       "| sci_mode | Union | Ignore | Sci mode (1.2e3), True, False, None=auto. |\n",
       "| indent | Union | Ignore | Indent for .deeper() |\n",
       "| color | Union | Ignore | ANSI colors in text |\n",
       "| deeper_width | Union | Ignore | For .deeper, width per level |"
      ],
      "text/plain": [
       "---\n",
       "\n",
       "[source](https://github.com/xl0/lovely-tensors/blob/master/lovely_tensors/utils/config.py#L35){target=\"_blank\" style=\"float:right; font-size:smaller\"}\n",
       "\n",
       "### set_config\n",
       "\n",
       ">      set_config (precision:Union[~Default,int,NoneType]=Ignore,\n",
       ">                  threshold_min:Union[~Default,int,NoneType]=Ignore,\n",
       ">                  threshold_max:Union[~Default,int,NoneType]=Ignore,\n",
       ">                  sci_mode:Union[~Default,bool,NoneType]=Ignore,\n",
       ">                  indent:Union[~Default,bool,NoneType]=Ignore,\n",
       ">                  color:Union[~Default,bool,NoneType]=Ignore,\n",
       ">                  deeper_width:Union[~Default,int,NoneType]=Ignore)\n",
       "\n",
       "Set config variables\n",
       "\n",
       "|    | **Type** | **Default** | **Details** |\n",
       "| -- | -------- | ----------- | ----------- |\n",
       "| precision | Union | Ignore | Digits after `.` |\n",
       "| threshold_min | Union | Ignore | .abs() larger than 1e3 -> Sci mode |\n",
       "| threshold_max | Union | Ignore | .abs() smaller that 1e-4 -> Sci mode |\n",
       "| sci_mode | Union | Ignore | Sci mode (1.2e3), True, False, None=auto. |\n",
       "| indent | Union | Ignore | Indent for .deeper() |\n",
       "| color | Union | Ignore | ANSI colors in text |\n",
       "| deeper_width | Union | Ignore | For .deeper, width per level |"
      ]
     },
     "execution_count": null,
     "metadata": {},
     "output_type": "execute_result"
    }
   ],
   "source": [
    "show_doc(set_config)"
   ]
  },
  {
   "cell_type": "code",
   "execution_count": null,
   "metadata": {},
   "outputs": [
    {
     "data": {
      "text/markdown": [
       "---\n",
       "\n",
       "[source](https://github.com/xl0/lovely-tensors/blob/master/lovely_tensors/utils/config.py#L53){target=\"_blank\" style=\"float:right; font-size:smaller\"}\n",
       "\n",
       "### get_config\n",
       "\n",
       ">      get_config ()\n",
       "\n",
       "Get a copy of config variables"
      ],
      "text/plain": [
       "---\n",
       "\n",
       "[source](https://github.com/xl0/lovely-tensors/blob/master/lovely_tensors/utils/config.py#L53){target=\"_blank\" style=\"float:right; font-size:smaller\"}\n",
       "\n",
       "### get_config\n",
       "\n",
       ">      get_config ()\n",
       "\n",
       "Get a copy of config variables"
      ]
     },
     "execution_count": null,
     "metadata": {},
     "output_type": "execute_result"
    }
   ],
   "source": [
    "show_doc(get_config)"
   ]
  },
  {
   "cell_type": "code",
   "execution_count": null,
   "metadata": {},
   "outputs": [
    {
     "data": {
      "text/markdown": [
       "---\n",
       "\n",
       "[source](https://github.com/xl0/lovely-tensors/blob/master/lovely_tensors/utils/config.py#L59){target=\"_blank\" style=\"float:right; font-size:smaller\"}\n",
       "\n",
       "### config\n",
       "\n",
       ">      config (precision:Union[~Default,int,NoneType]=Ignore,\n",
       ">              threshold_min:Union[~Default,int,NoneType]=Ignore,\n",
       ">              threshold_max:Union[~Default,int,NoneType]=Ignore,\n",
       ">              sci_mode:Union[~Default,bool,NoneType]=Ignore,\n",
       ">              indent:Union[~Default,bool,NoneType]=Ignore,\n",
       ">              color:Union[~Default,bool,NoneType]=Ignore,\n",
       ">              deeper_width:Union[~Default,int,NoneType]=Ignore)\n",
       "\n",
       "Context manager for temporarily setting printting options.\n",
       "\n",
       "|    | **Type** | **Default** | **Details** |\n",
       "| -- | -------- | ----------- | ----------- |\n",
       "| precision | Union | Ignore | Digits after `.` |\n",
       "| threshold_min | Union | Ignore | .abs() larger than 1e3 -> Sci mode |\n",
       "| threshold_max | Union | Ignore | .abs() smaller that 1e-4 -> Sci mode |\n",
       "| sci_mode | Union | Ignore | Sci mode (1.2e3), True, False, None=auto. |\n",
       "| indent | Union | Ignore | Indent for .deeper() |\n",
       "| color | Union | Ignore | ANSI colors in text |\n",
       "| deeper_width | Union | Ignore | For .deeper, width per level |"
      ],
      "text/plain": [
       "---\n",
       "\n",
       "[source](https://github.com/xl0/lovely-tensors/blob/master/lovely_tensors/utils/config.py#L59){target=\"_blank\" style=\"float:right; font-size:smaller\"}\n",
       "\n",
       "### config\n",
       "\n",
       ">      config (precision:Union[~Default,int,NoneType]=Ignore,\n",
       ">              threshold_min:Union[~Default,int,NoneType]=Ignore,\n",
       ">              threshold_max:Union[~Default,int,NoneType]=Ignore,\n",
       ">              sci_mode:Union[~Default,bool,NoneType]=Ignore,\n",
       ">              indent:Union[~Default,bool,NoneType]=Ignore,\n",
       ">              color:Union[~Default,bool,NoneType]=Ignore,\n",
       ">              deeper_width:Union[~Default,int,NoneType]=Ignore)\n",
       "\n",
       "Context manager for temporarily setting printting options.\n",
       "\n",
       "|    | **Type** | **Default** | **Details** |\n",
       "| -- | -------- | ----------- | ----------- |\n",
       "| precision | Union | Ignore | Digits after `.` |\n",
       "| threshold_min | Union | Ignore | .abs() larger than 1e3 -> Sci mode |\n",
       "| threshold_max | Union | Ignore | .abs() smaller that 1e-4 -> Sci mode |\n",
       "| sci_mode | Union | Ignore | Sci mode (1.2e3), True, False, None=auto. |\n",
       "| indent | Union | Ignore | Indent for .deeper() |\n",
       "| color | Union | Ignore | ANSI colors in text |\n",
       "| deeper_width | Union | Ignore | For .deeper, width per level |"
      ]
     },
     "execution_count": null,
     "metadata": {},
     "output_type": "execute_result"
    }
   ],
   "source": [
    "show_doc(config)"
   ]
  },
  {
   "cell_type": "markdown",
   "metadata": {},
   "source": [
    "## Examples"
   ]
  },
  {
   "cell_type": "code",
   "execution_count": null,
   "metadata": {},
   "outputs": [],
   "source": [
    "import torch\n",
    "from lovely_tensors import set_config, get_config, config, lovely"
   ]
  },
  {
   "cell_type": "markdown",
   "metadata": {},
   "source": [
    "### Precision"
   ]
  },
  {
   "cell_type": "code",
   "execution_count": null,
   "metadata": {},
   "outputs": [
    {
     "data": {
      "text/plain": [
       "tensor[3] μ=1.50000 σ=0.70711 \u001b[31mNaN!\u001b[0m [1.00000, 2.00000, nan]"
      ]
     },
     "execution_count": null,
     "metadata": {},
     "output_type": "execute_result"
    }
   ],
   "source": [
    "set_config(precision=5, )\n",
    "lovely(torch.tensor([1., 2, float(\"nan\")]))"
   ]
  },
  {
   "cell_type": "code",
   "execution_count": null,
   "metadata": {},
   "outputs": [],
   "source": [
    "# |hide\n",
    "test_eq(str(lovely(torch.tensor([1., 2, float(\"nan\")]))),\n",
    "        'tensor[3] μ=1.50000 σ=0.70711 \\x1b[31mNaN!\\x1b[0m [1.00000, 2.00000, nan]')"
   ]
  },
  {
   "cell_type": "markdown",
   "metadata": {},
   "source": [
    "### Scientific mode"
   ]
  },
  {
   "cell_type": "code",
   "execution_count": null,
   "metadata": {},
   "outputs": [
    {
     "data": {
      "text/plain": [
       "tensor[3] μ=1.50000e+00 σ=7.07107e-01 \u001b[31mNaN!\u001b[0m [1.00000e+00, 2.00000e+00, nan]"
      ]
     },
     "execution_count": null,
     "metadata": {},
     "output_type": "execute_result"
    }
   ],
   "source": [
    "set_config(sci_mode=True) # Force always on\n",
    "lovely(torch.tensor([1., 2, float(\"nan\")]))"
   ]
  },
  {
   "cell_type": "code",
   "execution_count": null,
   "metadata": {},
   "outputs": [],
   "source": [
    "#| hide\n",
    "test_eq(str(lovely(torch.tensor([1., 2, float(\"nan\")]))),\n",
    "        'tensor[3] μ=1.50000e+00 σ=7.07107e-01 \\x1b[31mNaN!\\x1b[0m [1.00000e+00, 2.00000e+00, nan]')"
   ]
  },
  {
   "cell_type": "markdown",
   "metadata": {},
   "source": [
    "### Color on/off"
   ]
  },
  {
   "cell_type": "code",
   "execution_count": null,
   "metadata": {},
   "outputs": [
    {
     "data": {
      "text/plain": [
       "tensor[3] μ=1.50000e+00 σ=7.07107e-01 NaN! [1.00000e+00, 2.00000e+00, nan]"
      ]
     },
     "execution_count": null,
     "metadata": {},
     "output_type": "execute_result"
    }
   ],
   "source": [
    "set_config(color=False) # Force always off\n",
    "lovely(torch.tensor([1., 2, float(\"nan\")]))"
   ]
  },
  {
   "cell_type": "code",
   "execution_count": null,
   "metadata": {},
   "outputs": [],
   "source": [
    "test_eq(str(lovely(torch.tensor([1., 2, float(\"nan\")]))),\n",
    "        'tensor[3] μ=1.50000e+00 σ=7.07107e-01 NaN! [1.00000e+00, 2.00000e+00, nan]')"
   ]
  },
  {
   "cell_type": "markdown",
   "metadata": {},
   "source": [
    "### Control .deeper"
   ]
  },
  {
   "cell_type": "code",
   "execution_count": null,
   "metadata": {},
   "outputs": [
    {
     "data": {
      "text/plain": [
       "tensor[3, 196, 196] n=115248 x∈[-2.11790e+00, 2.64000e+00] μ=-3.88310e-01 σ=1.07319e+00 NaN!\n",
       "  tensor[196, 196] n=38416 x∈[-2.11790e+00, 2.24891e+00] μ=-3.24352e-01 σ=1.03588e+00\n",
       "    tensor[196] x∈[-1.91241e+00, 2.24891e+00] μ=-6.73483e-01 σ=5.21962e-01\n",
       "    tensor[196] x∈[-1.86103e+00, 2.16328e+00] μ=-7.38488e-01 σ=4.18080e-01\n",
       "    ...\n",
       "  tensor[196, 196] n=38416 x∈[-1.96569e+00, 2.42857e+00] μ=-2.73903e-01 σ=9.72665e-01 NaN!\n",
       "    tensor[196] x∈[-1.86064e+00, 2.41106e+00] μ=-5.28772e-01 σ=5.55960e-01\n",
       "    tensor[196] x∈[-1.82563e+00, 2.35854e+00] μ=-5.61732e-01 σ=4.72772e-01\n",
       "    ...\n",
       "  ..."
      ]
     },
     "execution_count": null,
     "metadata": {},
     "output_type": "execute_result"
    }
   ],
   "source": [
    "set_config(deeper_width=2) \n",
    "image = torch.load(\"mysteryman.pt\")\n",
    "image[1,100,100] = float('nan')\n",
    "\n",
    "lovely(image, depth=2)"
   ]
  },
  {
   "cell_type": "code",
   "execution_count": null,
   "metadata": {},
   "outputs": [],
   "source": [
    "test_eq(len(str(lovely(image, depth=2))), 591)"
   ]
  },
  {
   "cell_type": "markdown",
   "metadata": {},
   "source": [
    "### Reser to defaults"
   ]
  },
  {
   "cell_type": "code",
   "execution_count": null,
   "metadata": {},
   "outputs": [
    {
     "data": {
      "text/plain": [
       "tensor[3] μ=1.500 σ=0.707 \u001b[31mNaN!\u001b[0m [1.000, 2.000, nan]"
      ]
     },
     "execution_count": null,
     "metadata": {},
     "output_type": "execute_result"
    }
   ],
   "source": [
    "set_config(precision=None, sci_mode=None, color=None, deeper_width=None)\n",
    "lovely(torch.tensor([1., 2, float(\"nan\")]))"
   ]
  },
  {
   "cell_type": "code",
   "execution_count": null,
   "metadata": {},
   "outputs": [],
   "source": [
    "test_eq(str(lovely(torch.tensor([1., 2, float(\"nan\")]))),\n",
    "    'tensor[3] μ=1.500 σ=0.707 \\x1b[31mNaN!\\x1b[0m [1.000, 2.000, nan]')"
   ]
  },
  {
   "cell_type": "markdown",
   "metadata": {},
   "source": [
    "### Context manager"
   ]
  },
  {
   "cell_type": "code",
   "execution_count": null,
   "metadata": {},
   "outputs": [
    {
     "data": {
      "text/plain": [
       "tensor[3] μ=1.500 σ=0.707 \u001b[31mNaN!\u001b[0m [1.000, 2.000, nan]"
      ]
     },
     "metadata": {},
     "output_type": "display_data"
    },
    {
     "data": {
      "text/plain": [
       "tensor[3] μ=1.500e+00 σ=7.071e-01 NaN! [1.000e+00, 2.000e+00, nan]"
      ]
     },
     "metadata": {},
     "output_type": "display_data"
    },
    {
     "data": {
      "text/plain": [
       "tensor[3] μ=1.500 σ=0.707 \u001b[31mNaN!\u001b[0m [1.000, 2.000, nan]"
      ]
     },
     "metadata": {},
     "output_type": "display_data"
    }
   ],
   "source": [
    "display(lovely(torch.tensor([1., 2, torch.nan])))\n",
    "with config(sci_mode=True, color=False):\n",
    "    display(lovely(torch.tensor([1., 2, torch.nan])))\n",
    "display(lovely(torch.tensor([1., 2, torch.nan])))"
   ]
  },
  {
   "cell_type": "code",
   "execution_count": null,
   "metadata": {},
   "outputs": [],
   "source": [
    "# |hide\n",
    "import nbdev; nbdev.nbdev_export()"
   ]
  }
 ],
 "metadata": {
  "kernelspec": {
   "display_name": "Python 3.10.6 ('torch')",
   "language": "python",
   "name": "python3"
  }
 },
 "nbformat": 4,
 "nbformat_minor": 2
}
